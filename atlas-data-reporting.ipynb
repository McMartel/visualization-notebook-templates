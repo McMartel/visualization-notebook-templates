{
 "cells": [
  {
   "cell_type": "markdown",
   "metadata": {},
   "source": [
    "# Atlas of Economic Complexity: 2015 data updates\n",
    "\n",
    "Related links\n",
    "* [U.N. Comtrade](http://comtrade.un.org) source of trade data\n",
    "* [Atlas Data](https://github.com/cid-harvard/atlas-data) processing scripts for trade data"
   ]
  },
  {
   "cell_type": "markdown",
   "metadata": {},
   "source": [
    "# How many countries report their data every year?\n",
    "The data used in The Atlas use a sample of countries that has been restricted to countries with average exports of US$200 million (if reported) between 2005-2014."
   ]
  },
  {
   "cell_type": "code",
   "execution_count": 180,
   "metadata": {
    "collapsed": false
   },
   "outputs": [
    {
     "data": {
      "text/html": [
       "\n",
       "        <iframe\n",
       "            width=\"900\"\n",
       "            height=\"550\"\n",
       "            src=\"https://cid-harvard.github.io/vis-toolkit/examples/barchart_histogram.html\"\n",
       "            frameborder=\"0\"\n",
       "            allowfullscreen\n",
       "        ></iframe>\n",
       "        "
      ],
      "text/plain": [
       "<IPython.lib.display.IFrame at 0x10fe4ea58>"
      ]
     },
     "execution_count": 180,
     "metadata": {},
     "output_type": "execute_result"
    }
   ],
   "source": [
    "IFrame('https://cid-harvard.github.io/vis-toolkit/examples/barchart_histogram.html', width=900, height=550)"
   ]
  },
  {
   "cell_type": "markdown",
   "metadata": {},
   "source": [
    "# Load countries metadata"
   ]
  },
  {
   "cell_type": "code",
   "execution_count": 130,
   "metadata": {
    "collapsed": false
   },
   "outputs": [],
   "source": [
    "import json\n",
    "import urllib\n",
    "\n",
    "r = urllib.request.urlopen(url_countries)\n",
    "data = json.loads(r.read().decode(r.info().get_param('charset') or 'utf-8'))"
   ]
  },
  {
   "cell_type": "code",
   "execution_count": 131,
   "metadata": {
    "collapsed": false
   },
   "outputs": [],
   "source": [
    "# Flatten the countries dataset\n",
    "from pandas.io.json import json_normalize\n",
    "result = json_normalize(data)"
   ]
  },
  {
   "cell_type": "code",
   "execution_count": 132,
   "metadata": {
    "collapsed": false
   },
   "outputs": [
    {
     "data": {
      "text/html": [
       "<div>\n",
       "<table border=\"1\" class=\"dataframe\">\n",
       "  <thead>\n",
       "    <tr style=\"text-align: right;\">\n",
       "      <th></th>\n",
       "      <th>altSpellings</th>\n",
       "      <th>area</th>\n",
       "      <th>borders</th>\n",
       "      <th>callingCode</th>\n",
       "      <th>capital</th>\n",
       "      <th>cca2</th>\n",
       "      <th>cca3</th>\n",
       "      <th>ccn3</th>\n",
       "      <th>cioc</th>\n",
       "      <th>currency</th>\n",
       "      <th>...</th>\n",
       "      <th>translations.jpn.common</th>\n",
       "      <th>translations.jpn.official</th>\n",
       "      <th>translations.nld.common</th>\n",
       "      <th>translations.nld.official</th>\n",
       "      <th>translations.por.common</th>\n",
       "      <th>translations.por.official</th>\n",
       "      <th>translations.rus.common</th>\n",
       "      <th>translations.rus.official</th>\n",
       "      <th>translations.spa.common</th>\n",
       "      <th>translations.spa.official</th>\n",
       "    </tr>\n",
       "  </thead>\n",
       "  <tbody>\n",
       "    <tr>\n",
       "      <th>0</th>\n",
       "      <td>[AW]</td>\n",
       "      <td>180</td>\n",
       "      <td>[]</td>\n",
       "      <td>[297]</td>\n",
       "      <td>Oranjestad</td>\n",
       "      <td>AW</td>\n",
       "      <td>ABW</td>\n",
       "      <td>533</td>\n",
       "      <td>ARU</td>\n",
       "      <td>[AWG]</td>\n",
       "      <td>...</td>\n",
       "      <td>アルバ</td>\n",
       "      <td>アルバ</td>\n",
       "      <td>Aruba</td>\n",
       "      <td>Aruba</td>\n",
       "      <td>Aruba</td>\n",
       "      <td>Aruba</td>\n",
       "      <td>Аруба</td>\n",
       "      <td>Аруба</td>\n",
       "      <td>Aruba</td>\n",
       "      <td>Aruba</td>\n",
       "    </tr>\n",
       "    <tr>\n",
       "      <th>1</th>\n",
       "      <td>[AF, Afġānistān]</td>\n",
       "      <td>652230</td>\n",
       "      <td>[IRN, PAK, TKM, UZB, TJK, CHN]</td>\n",
       "      <td>[93]</td>\n",
       "      <td>Kabul</td>\n",
       "      <td>AF</td>\n",
       "      <td>AFG</td>\n",
       "      <td>004</td>\n",
       "      <td>AFG</td>\n",
       "      <td>[AFN]</td>\n",
       "      <td>...</td>\n",
       "      <td>アフガニスタン</td>\n",
       "      <td>アフガニスタン·イスラム共和国</td>\n",
       "      <td>Afghanistan</td>\n",
       "      <td>Islamitische Republiek Afghanistan</td>\n",
       "      <td>Afeganistão</td>\n",
       "      <td>República Islâmica do Afeganistão</td>\n",
       "      <td>Афганистан</td>\n",
       "      <td>Исламская Республика Афганистан</td>\n",
       "      <td>Afganistán</td>\n",
       "      <td>República Islámica de Afganistán</td>\n",
       "    </tr>\n",
       "    <tr>\n",
       "      <th>2</th>\n",
       "      <td>[AO, República de Angola, ʁɛpublika de an'ɡɔla]</td>\n",
       "      <td>1246700</td>\n",
       "      <td>[COG, COD, ZMB, NAM]</td>\n",
       "      <td>[244]</td>\n",
       "      <td>Luanda</td>\n",
       "      <td>AO</td>\n",
       "      <td>AGO</td>\n",
       "      <td>024</td>\n",
       "      <td>ANG</td>\n",
       "      <td>[AOA]</td>\n",
       "      <td>...</td>\n",
       "      <td>アンゴラ</td>\n",
       "      <td>アンゴラ共和国</td>\n",
       "      <td>Angola</td>\n",
       "      <td>Republiek Angola</td>\n",
       "      <td>Angola</td>\n",
       "      <td>República de Angola</td>\n",
       "      <td>Ангола</td>\n",
       "      <td>Республика Ангола</td>\n",
       "      <td>Angola</td>\n",
       "      <td>República de Angola</td>\n",
       "    </tr>\n",
       "    <tr>\n",
       "      <th>3</th>\n",
       "      <td>[AI]</td>\n",
       "      <td>91</td>\n",
       "      <td>[]</td>\n",
       "      <td>[1264]</td>\n",
       "      <td>The Valley</td>\n",
       "      <td>AI</td>\n",
       "      <td>AIA</td>\n",
       "      <td>660</td>\n",
       "      <td></td>\n",
       "      <td>[XCD]</td>\n",
       "      <td>...</td>\n",
       "      <td>アンギラ</td>\n",
       "      <td>アングィラ</td>\n",
       "      <td>Anguilla</td>\n",
       "      <td>Anguilla</td>\n",
       "      <td>Anguilla</td>\n",
       "      <td>Anguilla</td>\n",
       "      <td>Ангилья</td>\n",
       "      <td>Ангилья</td>\n",
       "      <td>Anguilla</td>\n",
       "      <td>Anguila</td>\n",
       "    </tr>\n",
       "    <tr>\n",
       "      <th>4</th>\n",
       "      <td>[AX, Aaland, Aland, Ahvenanmaa]</td>\n",
       "      <td>1580</td>\n",
       "      <td>[]</td>\n",
       "      <td>[358]</td>\n",
       "      <td>Mariehamn</td>\n",
       "      <td>AX</td>\n",
       "      <td>ALA</td>\n",
       "      <td>248</td>\n",
       "      <td></td>\n",
       "      <td>[EUR]</td>\n",
       "      <td>...</td>\n",
       "      <td>オーランド諸島</td>\n",
       "      <td>オーランド諸島</td>\n",
       "      <td>Ålandeilanden</td>\n",
       "      <td>Åland eilanden</td>\n",
       "      <td>Alândia</td>\n",
       "      <td>Ilhas Åland</td>\n",
       "      <td>Аландские острова</td>\n",
       "      <td>Аландские острова</td>\n",
       "      <td>Alandia</td>\n",
       "      <td>Islas Åland</td>\n",
       "    </tr>\n",
       "  </tbody>\n",
       "</table>\n",
       "<p>5 rows × 509 columns</p>\n",
       "</div>"
      ],
      "text/plain": [
       "                                      altSpellings     area  \\\n",
       "0                                             [AW]      180   \n",
       "1                                 [AF, Afġānistān]   652230   \n",
       "2  [AO, República de Angola, ʁɛpublika de an'ɡɔla]  1246700   \n",
       "3                                             [AI]       91   \n",
       "4                  [AX, Aaland, Aland, Ahvenanmaa]     1580   \n",
       "\n",
       "                          borders callingCode     capital cca2 cca3 ccn3 cioc  \\\n",
       "0                              []       [297]  Oranjestad   AW  ABW  533  ARU   \n",
       "1  [IRN, PAK, TKM, UZB, TJK, CHN]        [93]       Kabul   AF  AFG  004  AFG   \n",
       "2            [COG, COD, ZMB, NAM]       [244]      Luanda   AO  AGO  024  ANG   \n",
       "3                              []      [1264]  The Valley   AI  AIA  660        \n",
       "4                              []       [358]   Mariehamn   AX  ALA  248        \n",
       "\n",
       "  currency                ...                translations.jpn.common  \\\n",
       "0    [AWG]                ...                                    アルバ   \n",
       "1    [AFN]                ...                                アフガニスタン   \n",
       "2    [AOA]                ...                                   アンゴラ   \n",
       "3    [XCD]                ...                                   アンギラ   \n",
       "4    [EUR]                ...                                オーランド諸島   \n",
       "\n",
       "  translations.jpn.official translations.nld.common  \\\n",
       "0                       アルバ                   Aruba   \n",
       "1           アフガニスタン·イスラム共和国             Afghanistan   \n",
       "2                   アンゴラ共和国                  Angola   \n",
       "3                     アングィラ                Anguilla   \n",
       "4                   オーランド諸島           Ålandeilanden   \n",
       "\n",
       "            translations.nld.official translations.por.common  \\\n",
       "0                               Aruba                   Aruba   \n",
       "1  Islamitische Republiek Afghanistan             Afeganistão   \n",
       "2                    Republiek Angola                  Angola   \n",
       "3                            Anguilla                Anguilla   \n",
       "4                      Åland eilanden                 Alândia   \n",
       "\n",
       "           translations.por.official translations.rus.common  \\\n",
       "0                              Aruba                   Аруба   \n",
       "1  República Islâmica do Afeganistão              Афганистан   \n",
       "2                República de Angola                  Ангола   \n",
       "3                           Anguilla                 Ангилья   \n",
       "4                        Ilhas Åland       Аландские острова   \n",
       "\n",
       "         translations.rus.official translations.spa.common  \\\n",
       "0                            Аруба                   Aruba   \n",
       "1  Исламская Республика Афганистан              Afganistán   \n",
       "2                Республика Ангола                  Angola   \n",
       "3                          Ангилья                Anguilla   \n",
       "4                Аландские острова                 Alandia   \n",
       "\n",
       "          translations.spa.official  \n",
       "0                             Aruba  \n",
       "1  República Islámica de Afganistán  \n",
       "2               República de Angola  \n",
       "3                           Anguila  \n",
       "4                       Islas Åland  \n",
       "\n",
       "[5 rows x 509 columns]"
      ]
     },
     "execution_count": 132,
     "metadata": {},
     "output_type": "execute_result"
    }
   ],
   "source": [
    "df_countries = pd.DataFrame(result)\n",
    "df_countries.head()"
   ]
  }
 ],
 "metadata": {
  "kernelspec": {
   "display_name": "Python 3",
   "language": "python",
   "name": "python3"
  },
  "language_info": {
   "codemirror_mode": {
    "name": "ipython",
    "version": 3
   },
   "file_extension": ".py",
   "mimetype": "text/x-python",
   "name": "python",
   "nbconvert_exporter": "python",
   "pygments_lexer": "ipython3",
   "version": "3.4.3"
  }
 },
 "nbformat": 4,
 "nbformat_minor": 0
}
