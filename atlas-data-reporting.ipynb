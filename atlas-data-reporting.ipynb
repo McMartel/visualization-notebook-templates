{
 "cells": [
  {
   "cell_type": "markdown",
   "metadata": {},
   "source": [
    "# Atlas Data Reporting / Growth Projection\n",
    "\n",
    "Methodological notes, data sources and interactive visualization from http://atlas.cid.harvard.edu/rankings/growth-predictions/\n",
    "\n",
    "\n",
    "Important links\n",
    "* [U.N. Comtrade](http://comtrade.un.org) website\n",
    "* [Atlas Data](https://github.com/cid-harvard/atlas-data) processing\n",
    "\n",
    "Visualizations\n",
    "* Table with ranking values\n",
    "* Slopegraph of growth projections\n",
    "* Geo-map with growth projection ranking\n",
    "* Line chart with rankings\n"
   ]
  },
  {
   "cell_type": "code",
   "execution_count": 18,
   "metadata": {
    "collapsed": true
   },
   "outputs": [],
   "source": [
    "from IPython.display import IFrame\n",
    "import pandas as pd\n",
    "\n",
    "min_year = 1965\n",
    "max_year = 2013"
   ]
  },
  {
   "cell_type": "code",
   "execution_count": 19,
   "metadata": {
    "collapsed": true
   },
   "outputs": [],
   "source": [
    "file_projections = 'sourceData/atlas_growth_projections_2023.csv'"
   ]
  },
  {
   "cell_type": "code",
   "execution_count": 20,
   "metadata": {
    "collapsed": false
   },
   "outputs": [
    {
     "data": {
      "text/html": [
       "<div>\n",
       "<table border=\"1\" class=\"dataframe\">\n",
       "  <thead>\n",
       "    <tr style=\"text-align: right;\">\n",
       "      <th></th>\n",
       "      <th>iso</th>\n",
       "      <th>tg2003</th>\n",
       "      <th>tg2004</th>\n",
       "      <th>tg2005</th>\n",
       "      <th>tg2006</th>\n",
       "      <th>tg2007</th>\n",
       "      <th>tg2008</th>\n",
       "      <th>tg2009</th>\n",
       "      <th>tg2010</th>\n",
       "      <th>tg2011</th>\n",
       "      <th>tg2012</th>\n",
       "      <th>tg2013</th>\n",
       "    </tr>\n",
       "  </thead>\n",
       "  <tbody>\n",
       "    <tr>\n",
       "      <th>0</th>\n",
       "      <td>IND</td>\n",
       "      <td>7.92</td>\n",
       "      <td>7.68</td>\n",
       "      <td>7.61</td>\n",
       "      <td>8.00</td>\n",
       "      <td>8.13</td>\n",
       "      <td>7.99</td>\n",
       "      <td>7.67</td>\n",
       "      <td>7.69</td>\n",
       "      <td>7.79</td>\n",
       "      <td>7.73</td>\n",
       "      <td>7.89</td>\n",
       "    </tr>\n",
       "    <tr>\n",
       "      <th>1</th>\n",
       "      <td>UGA</td>\n",
       "      <td>6.04</td>\n",
       "      <td>6.32</td>\n",
       "      <td>6.15</td>\n",
       "      <td>6.56</td>\n",
       "      <td>6.72</td>\n",
       "      <td>6.74</td>\n",
       "      <td>6.84</td>\n",
       "      <td>6.87</td>\n",
       "      <td>7.06</td>\n",
       "      <td>7.29</td>\n",
       "      <td>7.00</td>\n",
       "    </tr>\n",
       "    <tr>\n",
       "      <th>2</th>\n",
       "      <td>KEN</td>\n",
       "      <td>6.46</td>\n",
       "      <td>6.48</td>\n",
       "      <td>6.95</td>\n",
       "      <td>7.03</td>\n",
       "      <td>6.62</td>\n",
       "      <td>6.70</td>\n",
       "      <td>6.89</td>\n",
       "      <td>6.77</td>\n",
       "      <td>6.33</td>\n",
       "      <td>6.43</td>\n",
       "      <td>6.74</td>\n",
       "    </tr>\n",
       "    <tr>\n",
       "      <th>3</th>\n",
       "      <td>MWI</td>\n",
       "      <td>5.32</td>\n",
       "      <td>5.83</td>\n",
       "      <td>5.79</td>\n",
       "      <td>6.09</td>\n",
       "      <td>5.76</td>\n",
       "      <td>6.08</td>\n",
       "      <td>5.55</td>\n",
       "      <td>5.71</td>\n",
       "      <td>5.99</td>\n",
       "      <td>5.90</td>\n",
       "      <td>6.54</td>\n",
       "    </tr>\n",
       "    <tr>\n",
       "      <th>4</th>\n",
       "      <td>TZA</td>\n",
       "      <td>5.98</td>\n",
       "      <td>6.45</td>\n",
       "      <td>6.24</td>\n",
       "      <td>6.75</td>\n",
       "      <td>6.87</td>\n",
       "      <td>6.97</td>\n",
       "      <td>6.86</td>\n",
       "      <td>6.48</td>\n",
       "      <td>6.42</td>\n",
       "      <td>6.82</td>\n",
       "      <td>6.54</td>\n",
       "    </tr>\n",
       "  </tbody>\n",
       "</table>\n",
       "</div>"
      ],
      "text/plain": [
       "   iso  tg2003  tg2004  tg2005  tg2006  tg2007  tg2008  tg2009  tg2010  \\\n",
       "0  IND    7.92    7.68    7.61    8.00    8.13    7.99    7.67    7.69   \n",
       "1  UGA    6.04    6.32    6.15    6.56    6.72    6.74    6.84    6.87   \n",
       "2  KEN    6.46    6.48    6.95    7.03    6.62    6.70    6.89    6.77   \n",
       "3  MWI    5.32    5.83    5.79    6.09    5.76    6.08    5.55    5.71   \n",
       "4  TZA    5.98    6.45    6.24    6.75    6.87    6.97    6.86    6.48   \n",
       "\n",
       "   tg2011  tg2012  tg2013  \n",
       "0    7.79    7.73    7.89  \n",
       "1    7.06    7.29    7.00  \n",
       "2    6.33    6.43    6.74  \n",
       "3    5.99    5.90    6.54  \n",
       "4    6.42    6.82    6.54  "
      ]
     },
     "execution_count": 20,
     "metadata": {},
     "output_type": "execute_result"
    }
   ],
   "source": [
    "df = pd.read_csv(file_projections)\n",
    "df.pop('rank2013')\n",
    "df.head()"
   ]
  },
  {
   "cell_type": "code",
   "execution_count": 21,
   "metadata": {
    "collapsed": false
   },
   "outputs": [
    {
     "data": {
      "text/html": [
       "<div>\n",
       "<table border=\"1\" class=\"dataframe\">\n",
       "  <thead>\n",
       "    <tr style=\"text-align: right;\">\n",
       "      <th></th>\n",
       "      <th>iso</th>\n",
       "      <th>year</th>\n",
       "      <th>value</th>\n",
       "    </tr>\n",
       "  </thead>\n",
       "  <tbody>\n",
       "    <tr>\n",
       "      <th>0</th>\n",
       "      <td>IND</td>\n",
       "      <td>tg2003</td>\n",
       "      <td>7.92</td>\n",
       "    </tr>\n",
       "    <tr>\n",
       "      <th>1</th>\n",
       "      <td>UGA</td>\n",
       "      <td>tg2003</td>\n",
       "      <td>6.04</td>\n",
       "    </tr>\n",
       "    <tr>\n",
       "      <th>2</th>\n",
       "      <td>KEN</td>\n",
       "      <td>tg2003</td>\n",
       "      <td>6.46</td>\n",
       "    </tr>\n",
       "    <tr>\n",
       "      <th>3</th>\n",
       "      <td>MWI</td>\n",
       "      <td>tg2003</td>\n",
       "      <td>5.32</td>\n",
       "    </tr>\n",
       "    <tr>\n",
       "      <th>4</th>\n",
       "      <td>TZA</td>\n",
       "      <td>tg2003</td>\n",
       "      <td>5.98</td>\n",
       "    </tr>\n",
       "  </tbody>\n",
       "</table>\n",
       "</div>"
      ],
      "text/plain": [
       "   iso    year  value\n",
       "0  IND  tg2003   7.92\n",
       "1  UGA  tg2003   6.04\n",
       "2  KEN  tg2003   6.46\n",
       "3  MWI  tg2003   5.32\n",
       "4  TZA  tg2003   5.98"
      ]
     },
     "execution_count": 21,
     "metadata": {},
     "output_type": "execute_result"
    }
   ],
   "source": [
    "# Turning some columns into rows\n",
    "df = pd.melt(df, id_vars=[\"iso\"], var_name=\"year\", value_name=\"value\")\n",
    "df.head()"
   ]
  },
  {
   "cell_type": "code",
   "execution_count": 22,
   "metadata": {
    "collapsed": false
   },
   "outputs": [
    {
     "data": {
      "text/html": [
       "<div>\n",
       "<table border=\"1\" class=\"dataframe\">\n",
       "  <thead>\n",
       "    <tr style=\"text-align: right;\">\n",
       "      <th></th>\n",
       "      <th>iso</th>\n",
       "      <th>year</th>\n",
       "      <th>value</th>\n",
       "    </tr>\n",
       "  </thead>\n",
       "  <tbody>\n",
       "    <tr>\n",
       "      <th>0</th>\n",
       "      <td>IND</td>\n",
       "      <td>2003</td>\n",
       "      <td>7.92</td>\n",
       "    </tr>\n",
       "    <tr>\n",
       "      <th>1</th>\n",
       "      <td>UGA</td>\n",
       "      <td>2003</td>\n",
       "      <td>6.04</td>\n",
       "    </tr>\n",
       "    <tr>\n",
       "      <th>2</th>\n",
       "      <td>KEN</td>\n",
       "      <td>2003</td>\n",
       "      <td>6.46</td>\n",
       "    </tr>\n",
       "    <tr>\n",
       "      <th>3</th>\n",
       "      <td>MWI</td>\n",
       "      <td>2003</td>\n",
       "      <td>5.32</td>\n",
       "    </tr>\n",
       "    <tr>\n",
       "      <th>4</th>\n",
       "      <td>TZA</td>\n",
       "      <td>2003</td>\n",
       "      <td>5.98</td>\n",
       "    </tr>\n",
       "  </tbody>\n",
       "</table>\n",
       "</div>"
      ],
      "text/plain": [
       "   iso  year  value\n",
       "0  IND  2003   7.92\n",
       "1  UGA  2003   6.04\n",
       "2  KEN  2003   6.46\n",
       "3  MWI  2003   5.32\n",
       "4  TZA  2003   5.98"
      ]
     },
     "execution_count": 22,
     "metadata": {},
     "output_type": "execute_result"
    }
   ],
   "source": [
    "# Formatting year (time) column\n",
    "for index, row in df.iterrows():\n",
    "    df.loc[index, \"year\"] = df.loc[index, \"year\"][2:]\n",
    "df.head()"
   ]
  },
  {
   "cell_type": "code",
   "execution_count": 23,
   "metadata": {
    "collapsed": false
   },
   "outputs": [],
   "source": [
    "df['rank'] = df.groupby('year')['value'].rank(ascending=False, method='first')"
   ]
  },
  {
   "cell_type": "code",
   "execution_count": 24,
   "metadata": {
    "collapsed": false
   },
   "outputs": [
    {
     "data": {
      "text/html": [
       "<div>\n",
       "<table border=\"1\" class=\"dataframe\">\n",
       "  <thead>\n",
       "    <tr style=\"text-align: right;\">\n",
       "      <th></th>\n",
       "      <th>iso</th>\n",
       "      <th>year</th>\n",
       "      <th>value</th>\n",
       "      <th>rank</th>\n",
       "    </tr>\n",
       "  </thead>\n",
       "  <tbody>\n",
       "    <tr>\n",
       "      <th>0</th>\n",
       "      <td>IND</td>\n",
       "      <td>2003</td>\n",
       "      <td>7.92</td>\n",
       "      <td>1</td>\n",
       "    </tr>\n",
       "    <tr>\n",
       "      <th>1240</th>\n",
       "      <td>IND</td>\n",
       "      <td>2008</td>\n",
       "      <td>7.99</td>\n",
       "      <td>1</td>\n",
       "    </tr>\n",
       "    <tr>\n",
       "      <th>1488</th>\n",
       "      <td>IND</td>\n",
       "      <td>2009</td>\n",
       "      <td>7.67</td>\n",
       "      <td>1</td>\n",
       "    </tr>\n",
       "    <tr>\n",
       "      <th>496</th>\n",
       "      <td>IND</td>\n",
       "      <td>2005</td>\n",
       "      <td>7.61</td>\n",
       "      <td>1</td>\n",
       "    </tr>\n",
       "    <tr>\n",
       "      <th>248</th>\n",
       "      <td>IND</td>\n",
       "      <td>2004</td>\n",
       "      <td>7.68</td>\n",
       "      <td>1</td>\n",
       "    </tr>\n",
       "    <tr>\n",
       "      <th>992</th>\n",
       "      <td>IND</td>\n",
       "      <td>2007</td>\n",
       "      <td>8.13</td>\n",
       "      <td>1</td>\n",
       "    </tr>\n",
       "    <tr>\n",
       "      <th>744</th>\n",
       "      <td>IND</td>\n",
       "      <td>2006</td>\n",
       "      <td>8.00</td>\n",
       "      <td>1</td>\n",
       "    </tr>\n",
       "    <tr>\n",
       "      <th>1984</th>\n",
       "      <td>IND</td>\n",
       "      <td>2011</td>\n",
       "      <td>7.79</td>\n",
       "      <td>1</td>\n",
       "    </tr>\n",
       "    <tr>\n",
       "      <th>1736</th>\n",
       "      <td>IND</td>\n",
       "      <td>2010</td>\n",
       "      <td>7.69</td>\n",
       "      <td>1</td>\n",
       "    </tr>\n",
       "    <tr>\n",
       "      <th>2232</th>\n",
       "      <td>IND</td>\n",
       "      <td>2012</td>\n",
       "      <td>7.73</td>\n",
       "      <td>1</td>\n",
       "    </tr>\n",
       "    <tr>\n",
       "      <th>2480</th>\n",
       "      <td>IND</td>\n",
       "      <td>2013</td>\n",
       "      <td>7.89</td>\n",
       "      <td>1</td>\n",
       "    </tr>\n",
       "    <tr>\n",
       "      <th>746</th>\n",
       "      <td>KEN</td>\n",
       "      <td>2006</td>\n",
       "      <td>7.03</td>\n",
       "      <td>2</td>\n",
       "    </tr>\n",
       "    <tr>\n",
       "      <th>498</th>\n",
       "      <td>KEN</td>\n",
       "      <td>2005</td>\n",
       "      <td>6.95</td>\n",
       "      <td>2</td>\n",
       "    </tr>\n",
       "    <tr>\n",
       "      <th>57</th>\n",
       "      <td>MRT</td>\n",
       "      <td>2003</td>\n",
       "      <td>7.47</td>\n",
       "      <td>2</td>\n",
       "    </tr>\n",
       "    <tr>\n",
       "      <th>1490</th>\n",
       "      <td>KEN</td>\n",
       "      <td>2009</td>\n",
       "      <td>6.89</td>\n",
       "      <td>2</td>\n",
       "    </tr>\n",
       "  </tbody>\n",
       "</table>\n",
       "</div>"
      ],
      "text/plain": [
       "      iso  year  value  rank\n",
       "0     IND  2003   7.92     1\n",
       "1240  IND  2008   7.99     1\n",
       "1488  IND  2009   7.67     1\n",
       "496   IND  2005   7.61     1\n",
       "248   IND  2004   7.68     1\n",
       "992   IND  2007   8.13     1\n",
       "744   IND  2006   8.00     1\n",
       "1984  IND  2011   7.79     1\n",
       "1736  IND  2010   7.69     1\n",
       "2232  IND  2012   7.73     1\n",
       "2480  IND  2013   7.89     1\n",
       "746   KEN  2006   7.03     2\n",
       "498   KEN  2005   6.95     2\n",
       "57    MRT  2003   7.47     2\n",
       "1490  KEN  2009   6.89     2"
      ]
     },
     "execution_count": 24,
     "metadata": {},
     "output_type": "execute_result"
    }
   ],
   "source": [
    "df.sort(['rank'], ascending=True).head(15)"
   ]
  },
  {
   "cell_type": "markdown",
   "metadata": {},
   "source": [
    "# Projections of GDP Growth to 2023 Rankings: Selected Top Countries"
   ]
  },
  {
   "cell_type": "code",
   "execution_count": 25,
   "metadata": {
    "collapsed": false
   },
   "outputs": [],
   "source": [
    "# from IPython.display import display, HTML\n",
    "# HTML(df.head().to_html())\n",
    "df.to_csv('/Users/rvuillemot/Dev/vis-toolkit-datasets/data/atlas_growth_projections_2023.csv')"
   ]
  },
  {
   "cell_type": "code",
   "execution_count": 26,
   "metadata": {
    "collapsed": false
   },
   "outputs": [
    {
     "data": {
      "text/html": [
       "<table border=\"1\" cellpadding=\"3\" cellspacing=\"0\"  style=\"border:1px solid black;border-collapse:collapse;\"><tr><td  style=\"background-color:LightGray;\"><b>Index</b></td><td  style=\"background-color:LightGray;\"><b>Country</b></td><td  style=\"background-color:LightGray;\"><b>year</b></td><td  style=\"background-color:LightGray;\"><b>value</b></td><td  style=\"background-color:LightGray;\"><b>rank</b></td></tr><tr><td  style=\"background-color:yellow;\">0</td><td  style=\"background-color:yellow;\">IND</td><td  style=\"background-color:yellow;\">2003</td><td  style=\"background-color:yellow;\">7.92</td><td  style=\"background-color:yellow;\">1.0</td></tr><tr><td  style=\"background-color:AliceBlue;\">1</td><td  style=\"background-color:AliceBlue;\">UGA</td><td  style=\"background-color:AliceBlue;\">2003</td><td  style=\"background-color:AliceBlue;\">6.04</td><td  style=\"background-color:AliceBlue;\">7.0</td></tr><tr><td  style=\"background-color:Ivory;\">2</td><td  style=\"background-color:Ivory;\">KEN</td><td  style=\"background-color:Ivory;\">2003</td><td  style=\"background-color:Ivory;\">6.46</td><td  style=\"background-color:Ivory;\">5.0</td></tr><tr><td  style=\"background-color:AliceBlue;\">3</td><td  style=\"background-color:AliceBlue;\">MWI</td><td  style=\"background-color:AliceBlue;\">2003</td><td  style=\"background-color:AliceBlue;\">5.32</td><td  style=\"background-color:AliceBlue;\">19.0</td></tr><tr><td  style=\"background-color:Ivory;\">4</td><td  style=\"background-color:Ivory;\">TZA</td><td  style=\"background-color:Ivory;\">2003</td><td  style=\"background-color:Ivory;\">5.98</td><td  style=\"background-color:Ivory;\">8.0</td></tr><tr><td  style=\"background-color:AliceBlue;\">5</td><td  style=\"background-color:AliceBlue;\">EGY</td><td  style=\"background-color:AliceBlue;\">2003</td><td  style=\"background-color:AliceBlue;\">5.61</td><td  style=\"background-color:AliceBlue;\">12.0</td></tr><tr><td  style=\"background-color:Ivory;\">6</td><td  style=\"background-color:Ivory;\">MDG</td><td  style=\"background-color:Ivory;\">2003</td><td  style=\"background-color:Ivory;\">5.69</td><td  style=\"background-color:Ivory;\">10.0</td></tr><tr><td  style=\"background-color:AliceBlue;\">7</td><td  style=\"background-color:AliceBlue;\">ZMB</td><td  style=\"background-color:AliceBlue;\">2003</td><td  style=\"background-color:AliceBlue;\">7.22</td><td  style=\"background-color:AliceBlue;\">3.0</td></tr><tr><td  style=\"background-color:Ivory;\">8</td><td  style=\"background-color:Ivory;\">SEN</td><td  style=\"background-color:Ivory;\">2003</td><td  style=\"background-color:Ivory;\">6.11</td><td  style=\"background-color:Ivory;\">6.0</td></tr><tr><td  style=\"background-color:AliceBlue;\">9</td><td  style=\"background-color:AliceBlue;\">PHL</td><td  style=\"background-color:AliceBlue;\">2003</td><td  style=\"background-color:AliceBlue;\">4.67</td><td  style=\"background-color:AliceBlue;\">30.0</td></tr></table>"
      ],
      "text/plain": [
       "<ipy_table.IpyTable at 0x10cf29128>"
      ]
     },
     "execution_count": 26,
     "metadata": {},
     "output_type": "execute_result"
    }
   ],
   "source": [
    "from ipy_table import *\n",
    "import numpy as np\n",
    "\n",
    "df_table = df[(df['year'] == '2003')].head(10).reset_index(drop=True).reset_index()\n",
    "table = df_table.as_matrix()\n",
    "\n",
    "header = np.asarray(df_table.columns)\n",
    "header[0] = 'Index'\n",
    "header[1] = 'Country'\n",
    "table_with_header = np.concatenate(([header], table))\n",
    "\n",
    "# Basic themes\n",
    "# Detais http://nbviewer.ipython.org/github/epmoyer/ipy_table/blob/master/ipy_table-Introduction.ipynb\n",
    "make_table(table_with_header)\n",
    "apply_theme('basic')\n",
    "# Only show the top-10\n",
    "set_row_style(1, color='yellow')"
   ]
  },
  {
   "cell_type": "markdown",
   "metadata": {},
   "source": [
    "# Economic Complexity Index: Rank of Expected GDP Growth to 2023\n"
   ]
  },
  {
   "cell_type": "code",
   "execution_count": 10,
   "metadata": {
    "collapsed": true
   },
   "outputs": [],
   "source": [
    "# Map"
   ]
  },
  {
   "cell_type": "code",
   "execution_count": null,
   "metadata": {
    "collapsed": true
   },
   "outputs": [],
   "source": []
  },
  {
   "cell_type": "code",
   "execution_count": null,
   "metadata": {
    "collapsed": true
   },
   "outputs": [],
   "source": []
  },
  {
   "cell_type": "markdown",
   "metadata": {},
   "source": [
    "# Biggest Winners and Losers in Economic Complexity: 2004-2014\n"
   ]
  },
  {
   "cell_type": "code",
   "execution_count": 11,
   "metadata": {
    "collapsed": true
   },
   "outputs": [],
   "source": [
    "# Slope grah"
   ]
  },
  {
   "cell_type": "code",
   "execution_count": 12,
   "metadata": {
    "collapsed": false
   },
   "outputs": [
    {
     "data": {
      "text/html": [
       "\n",
       "        <iframe\n",
       "            width=\"900\"\n",
       "            height=\"350\"\n",
       "            src=\"https://cid-harvard.github.io/vis-toolkit/examples/slopegraph_projections.html\"\n",
       "            frameborder=\"0\"\n",
       "            allowfullscreen\n",
       "        ></iframe>\n",
       "        "
      ],
      "text/plain": [
       "<IPython.lib.display.IFrame at 0x10cf142e8>"
      ]
     },
     "execution_count": 12,
     "metadata": {},
     "output_type": "execute_result"
    }
   ],
   "source": [
    "IFrame('https://cid-harvard.github.io/vis-toolkit/examples/slopegraph_projections.html', width=900, height=350)"
   ]
  },
  {
   "cell_type": "markdown",
   "metadata": {},
   "source": [
    "# Economic Complexity Index: 2004-2014 Country Rankings – Top 25 Countries"
   ]
  },
  {
   "cell_type": "code",
   "execution_count": 13,
   "metadata": {
    "collapsed": false
   },
   "outputs": [
    {
     "data": {
      "text/html": [
       "\n",
       "        <iframe\n",
       "            width=\"900\"\n",
       "            height=\"350\"\n",
       "            src=\"https://cid-harvard.github.io/vis-toolkit/examples/linechart_projections.html\"\n",
       "            frameborder=\"0\"\n",
       "            allowfullscreen\n",
       "        ></iframe>\n",
       "        "
      ],
      "text/plain": [
       "<IPython.lib.display.IFrame at 0x10cf142b0>"
      ]
     },
     "execution_count": 13,
     "metadata": {},
     "output_type": "execute_result"
    }
   ],
   "source": [
    "title = 'Distribution of years by total exports (%s %s)' % (min_year, max_year)\n",
    "\n",
    "IFrame('https://cid-harvard.github.io/vis-toolkit/examples/linechart_projections.html', width=900, height=350)"
   ]
  },
  {
   "cell_type": "code",
   "execution_count": 14,
   "metadata": {
    "collapsed": false
   },
   "outputs": [
    {
     "ename": "NameError",
     "evalue": "name 'vistk' is not defined",
     "output_type": "error",
     "traceback": [
      "\u001b[0;31m---------------------------------------------------------------------------\u001b[0m",
      "\u001b[0;31mNameError\u001b[0m                                 Traceback (most recent call last)",
      "\u001b[0;32m<ipython-input-14-d7753b2ef615>\u001b[0m in \u001b[0;36m<module>\u001b[0;34m()\u001b[0m\n\u001b[0;32m----> 1\u001b[0;31m \u001b[0mgeomap\u001b[0m \u001b[0;34m=\u001b[0m \u001b[0mvistk\u001b[0m\u001b[0;34m.\u001b[0m\u001b[0mGeomap\u001b[0m\u001b[0;34m(\u001b[0m\u001b[0mid\u001b[0m\u001b[0;34m=\u001b[0m\u001b[0;34m'name'\u001b[0m\u001b[0;34m,\u001b[0m \u001b[0mcolor\u001b[0m\u001b[0;34m=\u001b[0m\u001b[0;34m'eci'\u001b[0m\u001b[0;34m,\u001b[0m \u001b[0mname\u001b[0m\u001b[0;34m=\u001b[0m\u001b[0;34m'name'\u001b[0m\u001b[0;34m,\u001b[0m \u001b[0myear\u001b[0m\u001b[0;34m=\u001b[0m\u001b[0;36m1995\u001b[0m\u001b[0;34m)\u001b[0m\u001b[0;34m\u001b[0m\u001b[0m\n\u001b[0m\u001b[1;32m      2\u001b[0m \u001b[0mgeomap\u001b[0m\u001b[0;34m.\u001b[0m\u001b[0mdraw\u001b[0m\u001b[0;34m(\u001b[0m\u001b[0mdf\u001b[0m\u001b[0;34m)\u001b[0m\u001b[0;34m\u001b[0m\u001b[0m\n",
      "\u001b[0;31mNameError\u001b[0m: name 'vistk' is not defined"
     ]
    }
   ],
   "source": [
    "geomap = vistk.Geomap(id='name', color='eci', name='name', year=1995)\n",
    "geomap.draw(df)"
   ]
  },
  {
   "cell_type": "code",
   "execution_count": 17,
   "metadata": {
    "collapsed": false
   },
   "outputs": [
    {
     "data": {
      "text/html": [
       "\n",
       "        <iframe\n",
       "            width=\"900\"\n",
       "            height=\"450\"\n",
       "            src=\"https://cid-harvard.github.io/vis-toolkit/examples/geomap_and_tick.html\"\n",
       "            frameborder=\"0\"\n",
       "            allowfullscreen\n",
       "        ></iframe>\n",
       "        "
      ],
      "text/plain": [
       "<IPython.lib.display.IFrame at 0x10cf29b00>"
      ]
     },
     "execution_count": 17,
     "metadata": {},
     "output_type": "execute_result"
    }
   ],
   "source": [
    "title = 'Countries ranking by ECI (%s)' % (max_year)\n",
    "IFrame('https://cid-harvard.github.io/vis-toolkit/examples/geomap_and_tick.html', width=900, height=450)"
   ]
  },
  {
   "cell_type": "code",
   "execution_count": 16,
   "metadata": {
    "collapsed": false
   },
   "outputs": [
    {
     "data": {
      "text/html": [
       "\n",
       "        <iframe\n",
       "            width=\"900\"\n",
       "            height=\"550\"\n",
       "            src=\"https://cid-harvard.github.io/vis-toolkit/examples/barchart_vertical_projections.html\"\n",
       "            frameborder=\"0\"\n",
       "            allowfullscreen\n",
       "        ></iframe>\n",
       "        "
      ],
      "text/plain": [
       "<IPython.lib.display.IFrame at 0x10cf29908>"
      ]
     },
     "execution_count": 16,
     "metadata": {},
     "output_type": "execute_result"
    }
   ],
   "source": [
    "# Geomap of ECI by country and grid of countries\n",
    "IFrame('https://cid-harvard.github.io/vis-toolkit/examples/barchart_vertical_projections.html', width=900, height=550)"
   ]
  },
  {
   "cell_type": "code",
   "execution_count": null,
   "metadata": {
    "collapsed": true
   },
   "outputs": [],
   "source": []
  },
  {
   "cell_type": "code",
   "execution_count": 24,
   "metadata": {
    "collapsed": true
   },
   "outputs": [],
   "source": [
    "# Rankings as a table"
   ]
  },
  {
   "cell_type": "code",
   "execution_count": null,
   "metadata": {
    "collapsed": true
   },
   "outputs": [],
   "source": []
  },
  {
   "cell_type": "code",
   "execution_count": null,
   "metadata": {
    "collapsed": true
   },
   "outputs": [],
   "source": []
  }
 ],
 "metadata": {
  "kernelspec": {
   "display_name": "Python 3",
   "language": "python",
   "name": "python3"
  },
  "language_info": {
   "codemirror_mode": {
    "name": "ipython",
    "version": 3
   },
   "file_extension": ".py",
   "mimetype": "text/x-python",
   "name": "python",
   "nbconvert_exporter": "python",
   "pygments_lexer": "ipython3",
   "version": "3.4.3"
  }
 },
 "nbformat": 4,
 "nbformat_minor": 0
}
