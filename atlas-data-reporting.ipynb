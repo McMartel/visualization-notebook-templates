{
 "cells": [
  {
   "cell_type": "markdown",
   "metadata": {},
   "source": [
    "# Atlas data updates and growth projection notes\n",
    "\n",
    "Methodological notes, data sources and interactive visualization from http://atlas.cid.harvard.edu/rankings/growth-predictions/\n",
    "\n",
    "Important links\n",
    "* [U.N. Comtrade](http://comtrade.un.org) website\n",
    "* [Atlas Data](https://github.com/cid-harvard/atlas-data) processing\n",
    "\n",
    "Visualizations\n",
    "* Table with ranking values\n",
    "* Slopegraph of growth projections\n",
    "* Geo-map with growth projection ranking\n",
    "* Line chart with rankings"
   ]
  },
  {
   "cell_type": "code",
   "execution_count": 51,
   "metadata": {
    "collapsed": true
   },
   "outputs": [],
   "source": [
    "# Required modules to run this notebook\n",
    "from IPython.display import IFrame\n",
    "import pandas as pd\n",
    "import numexpr"
   ]
  },
  {
   "cell_type": "markdown",
   "metadata": {},
   "source": [
    "# Updated growth predictions data files by CID"
   ]
  },
  {
   "cell_type": "code",
   "execution_count": 52,
   "metadata": {
    "collapsed": true
   },
   "outputs": [],
   "source": [
    "#file_projections = 'sourceData/atlas_growth_projections_2023.csv'\n",
    "file_projections = 'sourceData/Growth_proj_rankings_2014.csv'\n",
    "file_rankings = 'sourceData/ECI_rankings_2014.csv'"
   ]
  },
  {
   "cell_type": "code",
   "execution_count": 53,
   "metadata": {
    "collapsed": false
   },
   "outputs": [
    {
     "data": {
      "text/html": [
       "<div>\n",
       "<table border=\"1\" class=\"dataframe\">\n",
       "  <thead>\n",
       "    <tr style=\"text-align: right;\">\n",
       "      <th></th>\n",
       "      <th>countryname</th>\n",
       "      <th>tg2004</th>\n",
       "      <th>tg2005</th>\n",
       "      <th>tg2006</th>\n",
       "      <th>tg2007</th>\n",
       "      <th>tg2008</th>\n",
       "      <th>tg2009</th>\n",
       "      <th>tg2010</th>\n",
       "      <th>tg2011</th>\n",
       "      <th>tg2012</th>\n",
       "      <th>tg2013</th>\n",
       "      <th>tg2014</th>\n",
       "      <th>iso</th>\n",
       "    </tr>\n",
       "  </thead>\n",
       "  <tbody>\n",
       "    <tr>\n",
       "      <th>0</th>\n",
       "      <td>India</td>\n",
       "      <td>7.15</td>\n",
       "      <td>6.99</td>\n",
       "      <td>7.26</td>\n",
       "      <td>7.26</td>\n",
       "      <td>7.24</td>\n",
       "      <td>6.92</td>\n",
       "      <td>7.01</td>\n",
       "      <td>7.05</td>\n",
       "      <td>7.02</td>\n",
       "      <td>6.93</td>\n",
       "      <td>6.98</td>\n",
       "      <td>IND</td>\n",
       "    </tr>\n",
       "    <tr>\n",
       "      <th>1</th>\n",
       "      <td>Uganda</td>\n",
       "      <td>6.11</td>\n",
       "      <td>6.01</td>\n",
       "      <td>6.35</td>\n",
       "      <td>6.56</td>\n",
       "      <td>6.53</td>\n",
       "      <td>6.70</td>\n",
       "      <td>6.76</td>\n",
       "      <td>6.83</td>\n",
       "      <td>7.15</td>\n",
       "      <td>7.06</td>\n",
       "      <td>6.04</td>\n",
       "      <td>UGA</td>\n",
       "    </tr>\n",
       "    <tr>\n",
       "      <th>2</th>\n",
       "      <td>Kenya</td>\n",
       "      <td>6.32</td>\n",
       "      <td>6.51</td>\n",
       "      <td>6.67</td>\n",
       "      <td>6.36</td>\n",
       "      <td>6.50</td>\n",
       "      <td>6.71</td>\n",
       "      <td>6.52</td>\n",
       "      <td>6.20</td>\n",
       "      <td>6.25</td>\n",
       "      <td>6.50</td>\n",
       "      <td>6.00</td>\n",
       "      <td>KEN</td>\n",
       "    </tr>\n",
       "    <tr>\n",
       "      <th>3</th>\n",
       "      <td>Tanzania</td>\n",
       "      <td>6.11</td>\n",
       "      <td>5.98</td>\n",
       "      <td>6.34</td>\n",
       "      <td>6.65</td>\n",
       "      <td>6.52</td>\n",
       "      <td>6.47</td>\n",
       "      <td>6.19</td>\n",
       "      <td>6.29</td>\n",
       "      <td>6.74</td>\n",
       "      <td>6.30</td>\n",
       "      <td>5.96</td>\n",
       "      <td>TZA</td>\n",
       "    </tr>\n",
       "    <tr>\n",
       "      <th>4</th>\n",
       "      <td>Egypt, Arab Rep.</td>\n",
       "      <td>5.00</td>\n",
       "      <td>5.18</td>\n",
       "      <td>4.89</td>\n",
       "      <td>5.03</td>\n",
       "      <td>5.16</td>\n",
       "      <td>5.36</td>\n",
       "      <td>5.15</td>\n",
       "      <td>5.29</td>\n",
       "      <td>5.39</td>\n",
       "      <td>5.85</td>\n",
       "      <td>5.83</td>\n",
       "      <td>EGY</td>\n",
       "    </tr>\n",
       "  </tbody>\n",
       "</table>\n",
       "</div>"
      ],
      "text/plain": [
       "        countryname  tg2004  tg2005  tg2006  tg2007  tg2008  tg2009  tg2010  \\\n",
       "0             India    7.15    6.99    7.26    7.26    7.24    6.92    7.01   \n",
       "1            Uganda    6.11    6.01    6.35    6.56    6.53    6.70    6.76   \n",
       "2             Kenya    6.32    6.51    6.67    6.36    6.50    6.71    6.52   \n",
       "3          Tanzania    6.11    5.98    6.34    6.65    6.52    6.47    6.19   \n",
       "4  Egypt, Arab Rep.    5.00    5.18    4.89    5.03    5.16    5.36    5.15   \n",
       "\n",
       "   tg2011  tg2012  tg2013  tg2014  iso  \n",
       "0    7.05    7.02    6.93    6.98  IND  \n",
       "1    6.83    7.15    7.06    6.04  UGA  \n",
       "2    6.20    6.25    6.50    6.00  KEN  \n",
       "3    6.29    6.74    6.30    5.96  TZA  \n",
       "4    5.29    5.39    5.85    5.83  EGY  "
      ]
     },
     "execution_count": 53,
     "metadata": {},
     "output_type": "execute_result"
    }
   ],
   "source": [
    "df = pd.read_csv(file_projections)\n",
    "df.pop('rank2014')\n",
    "df.head()"
   ]
  },
  {
   "cell_type": "code",
   "execution_count": 54,
   "metadata": {
    "collapsed": false
   },
   "outputs": [
    {
     "data": {
      "text/html": [
       "<div>\n",
       "<table border=\"1\" class=\"dataframe\">\n",
       "  <thead>\n",
       "    <tr style=\"text-align: right;\">\n",
       "      <th></th>\n",
       "      <th>iso</th>\n",
       "      <th>countryname</th>\n",
       "      <th>year</th>\n",
       "      <th>value</th>\n",
       "    </tr>\n",
       "  </thead>\n",
       "  <tbody>\n",
       "    <tr>\n",
       "      <th>0</th>\n",
       "      <td>IND</td>\n",
       "      <td>India</td>\n",
       "      <td>tg2004</td>\n",
       "      <td>7.15</td>\n",
       "    </tr>\n",
       "    <tr>\n",
       "      <th>1</th>\n",
       "      <td>UGA</td>\n",
       "      <td>Uganda</td>\n",
       "      <td>tg2004</td>\n",
       "      <td>6.11</td>\n",
       "    </tr>\n",
       "    <tr>\n",
       "      <th>2</th>\n",
       "      <td>KEN</td>\n",
       "      <td>Kenya</td>\n",
       "      <td>tg2004</td>\n",
       "      <td>6.32</td>\n",
       "    </tr>\n",
       "    <tr>\n",
       "      <th>3</th>\n",
       "      <td>TZA</td>\n",
       "      <td>Tanzania</td>\n",
       "      <td>tg2004</td>\n",
       "      <td>6.11</td>\n",
       "    </tr>\n",
       "    <tr>\n",
       "      <th>4</th>\n",
       "      <td>EGY</td>\n",
       "      <td>Egypt, Arab Rep.</td>\n",
       "      <td>tg2004</td>\n",
       "      <td>5.00</td>\n",
       "    </tr>\n",
       "  </tbody>\n",
       "</table>\n",
       "</div>"
      ],
      "text/plain": [
       "   iso       countryname    year  value\n",
       "0  IND             India  tg2004   7.15\n",
       "1  UGA            Uganda  tg2004   6.11\n",
       "2  KEN             Kenya  tg2004   6.32\n",
       "3  TZA          Tanzania  tg2004   6.11\n",
       "4  EGY  Egypt, Arab Rep.  tg2004   5.00"
      ]
     },
     "execution_count": 54,
     "metadata": {},
     "output_type": "execute_result"
    }
   ],
   "source": [
    "# Turning some columns into rows\n",
    "df = pd.melt(df, id_vars=[\"iso\", \"countryname\"], var_name=\"year\", value_name=\"value\")\n",
    "df.head()"
   ]
  },
  {
   "cell_type": "code",
   "execution_count": 55,
   "metadata": {
    "collapsed": false
   },
   "outputs": [
    {
     "data": {
      "text/html": [
       "<div>\n",
       "<table border=\"1\" class=\"dataframe\">\n",
       "  <thead>\n",
       "    <tr style=\"text-align: right;\">\n",
       "      <th></th>\n",
       "      <th>iso</th>\n",
       "      <th>countryname</th>\n",
       "      <th>year</th>\n",
       "      <th>value</th>\n",
       "    </tr>\n",
       "  </thead>\n",
       "  <tbody>\n",
       "    <tr>\n",
       "      <th>0</th>\n",
       "      <td>IND</td>\n",
       "      <td>India</td>\n",
       "      <td>2004</td>\n",
       "      <td>7.15</td>\n",
       "    </tr>\n",
       "    <tr>\n",
       "      <th>1</th>\n",
       "      <td>UGA</td>\n",
       "      <td>Uganda</td>\n",
       "      <td>2004</td>\n",
       "      <td>6.11</td>\n",
       "    </tr>\n",
       "    <tr>\n",
       "      <th>2</th>\n",
       "      <td>KEN</td>\n",
       "      <td>Kenya</td>\n",
       "      <td>2004</td>\n",
       "      <td>6.32</td>\n",
       "    </tr>\n",
       "    <tr>\n",
       "      <th>3</th>\n",
       "      <td>TZA</td>\n",
       "      <td>Tanzania</td>\n",
       "      <td>2004</td>\n",
       "      <td>6.11</td>\n",
       "    </tr>\n",
       "    <tr>\n",
       "      <th>4</th>\n",
       "      <td>EGY</td>\n",
       "      <td>Egypt, Arab Rep.</td>\n",
       "      <td>2004</td>\n",
       "      <td>5.00</td>\n",
       "    </tr>\n",
       "  </tbody>\n",
       "</table>\n",
       "</div>"
      ],
      "text/plain": [
       "   iso       countryname  year  value\n",
       "0  IND             India  2004   7.15\n",
       "1  UGA            Uganda  2004   6.11\n",
       "2  KEN             Kenya  2004   6.32\n",
       "3  TZA          Tanzania  2004   6.11\n",
       "4  EGY  Egypt, Arab Rep.  2004   5.00"
      ]
     },
     "execution_count": 55,
     "metadata": {},
     "output_type": "execute_result"
    }
   ],
   "source": [
    "# Formatting year (time) column\n",
    "for index, row in df.iterrows():\n",
    "    df.loc[index, \"year\"] = df.loc[index, \"year\"][2:]\n",
    "df.head()"
   ]
  },
  {
   "cell_type": "code",
   "execution_count": 56,
   "metadata": {
    "collapsed": false
   },
   "outputs": [],
   "source": [
    "df['rank'] = df.groupby('year')['value'].rank(ascending=False, method='first')"
   ]
  },
  {
   "cell_type": "code",
   "execution_count": 57,
   "metadata": {
    "collapsed": false
   },
   "outputs": [
    {
     "data": {
      "text/html": [
       "<div>\n",
       "<table border=\"1\" class=\"dataframe\">\n",
       "  <thead>\n",
       "    <tr style=\"text-align: right;\">\n",
       "      <th></th>\n",
       "      <th>iso</th>\n",
       "      <th>countryname</th>\n",
       "      <th>year</th>\n",
       "      <th>value</th>\n",
       "      <th>rank</th>\n",
       "    </tr>\n",
       "  </thead>\n",
       "  <tbody>\n",
       "    <tr>\n",
       "      <th>0</th>\n",
       "      <td>IND</td>\n",
       "      <td>India</td>\n",
       "      <td>2004</td>\n",
       "      <td>7.15</td>\n",
       "      <td>1</td>\n",
       "    </tr>\n",
       "    <tr>\n",
       "      <th>369</th>\n",
       "      <td>IND</td>\n",
       "      <td>India</td>\n",
       "      <td>2007</td>\n",
       "      <td>7.26</td>\n",
       "      <td>1</td>\n",
       "    </tr>\n",
       "    <tr>\n",
       "      <th>1230</th>\n",
       "      <td>IND</td>\n",
       "      <td>India</td>\n",
       "      <td>2014</td>\n",
       "      <td>6.98</td>\n",
       "      <td>1</td>\n",
       "    </tr>\n",
       "    <tr>\n",
       "      <th>246</th>\n",
       "      <td>IND</td>\n",
       "      <td>India</td>\n",
       "      <td>2006</td>\n",
       "      <td>7.26</td>\n",
       "      <td>1</td>\n",
       "    </tr>\n",
       "    <tr>\n",
       "      <th>738</th>\n",
       "      <td>IND</td>\n",
       "      <td>India</td>\n",
       "      <td>2010</td>\n",
       "      <td>7.01</td>\n",
       "      <td>1</td>\n",
       "    </tr>\n",
       "    <tr>\n",
       "      <th>985</th>\n",
       "      <td>UGA</td>\n",
       "      <td>Uganda</td>\n",
       "      <td>2012</td>\n",
       "      <td>7.15</td>\n",
       "      <td>1</td>\n",
       "    </tr>\n",
       "    <tr>\n",
       "      <th>861</th>\n",
       "      <td>IND</td>\n",
       "      <td>India</td>\n",
       "      <td>2011</td>\n",
       "      <td>7.05</td>\n",
       "      <td>1</td>\n",
       "    </tr>\n",
       "    <tr>\n",
       "      <th>492</th>\n",
       "      <td>IND</td>\n",
       "      <td>India</td>\n",
       "      <td>2008</td>\n",
       "      <td>7.24</td>\n",
       "      <td>1</td>\n",
       "    </tr>\n",
       "    <tr>\n",
       "      <th>123</th>\n",
       "      <td>IND</td>\n",
       "      <td>India</td>\n",
       "      <td>2005</td>\n",
       "      <td>6.99</td>\n",
       "      <td>1</td>\n",
       "    </tr>\n",
       "    <tr>\n",
       "      <th>615</th>\n",
       "      <td>IND</td>\n",
       "      <td>India</td>\n",
       "      <td>2009</td>\n",
       "      <td>6.92</td>\n",
       "      <td>1</td>\n",
       "    </tr>\n",
       "    <tr>\n",
       "      <th>1108</th>\n",
       "      <td>UGA</td>\n",
       "      <td>Uganda</td>\n",
       "      <td>2013</td>\n",
       "      <td>7.06</td>\n",
       "      <td>1</td>\n",
       "    </tr>\n",
       "    <tr>\n",
       "      <th>862</th>\n",
       "      <td>UGA</td>\n",
       "      <td>Uganda</td>\n",
       "      <td>2011</td>\n",
       "      <td>6.83</td>\n",
       "      <td>2</td>\n",
       "    </tr>\n",
       "    <tr>\n",
       "      <th>1107</th>\n",
       "      <td>IND</td>\n",
       "      <td>India</td>\n",
       "      <td>2013</td>\n",
       "      <td>6.93</td>\n",
       "      <td>2</td>\n",
       "    </tr>\n",
       "    <tr>\n",
       "      <th>493</th>\n",
       "      <td>UGA</td>\n",
       "      <td>Uganda</td>\n",
       "      <td>2008</td>\n",
       "      <td>6.53</td>\n",
       "      <td>2</td>\n",
       "    </tr>\n",
       "    <tr>\n",
       "      <th>739</th>\n",
       "      <td>UGA</td>\n",
       "      <td>Uganda</td>\n",
       "      <td>2010</td>\n",
       "      <td>6.76</td>\n",
       "      <td>2</td>\n",
       "    </tr>\n",
       "  </tbody>\n",
       "</table>\n",
       "</div>"
      ],
      "text/plain": [
       "      iso countryname  year  value  rank\n",
       "0     IND       India  2004   7.15     1\n",
       "369   IND       India  2007   7.26     1\n",
       "1230  IND       India  2014   6.98     1\n",
       "246   IND       India  2006   7.26     1\n",
       "738   IND       India  2010   7.01     1\n",
       "985   UGA      Uganda  2012   7.15     1\n",
       "861   IND       India  2011   7.05     1\n",
       "492   IND       India  2008   7.24     1\n",
       "123   IND       India  2005   6.99     1\n",
       "615   IND       India  2009   6.92     1\n",
       "1108  UGA      Uganda  2013   7.06     1\n",
       "862   UGA      Uganda  2011   6.83     2\n",
       "1107  IND       India  2013   6.93     2\n",
       "493   UGA      Uganda  2008   6.53     2\n",
       "739   UGA      Uganda  2010   6.76     2"
      ]
     },
     "execution_count": 57,
     "metadata": {},
     "output_type": "execute_result"
    }
   ],
   "source": [
    "df.sort(['rank'], ascending=True).head(15)"
   ]
  },
  {
   "cell_type": "code",
   "execution_count": 58,
   "metadata": {
    "collapsed": false
   },
   "outputs": [
    {
     "data": {
      "text/html": [
       "<div>\n",
       "<table border=\"1\" class=\"dataframe\">\n",
       "  <thead>\n",
       "    <tr style=\"text-align: right;\">\n",
       "      <th></th>\n",
       "      <th>iso</th>\n",
       "      <th>countryname</th>\n",
       "      <th>year</th>\n",
       "      <th>value</th>\n",
       "      <th>rank</th>\n",
       "    </tr>\n",
       "  </thead>\n",
       "  <tbody>\n",
       "    <tr>\n",
       "      <th>38</th>\n",
       "      <td>SRB</td>\n",
       "      <td>Serbia</td>\n",
       "      <td>2004</td>\n",
       "      <td>NaN</td>\n",
       "      <td>NaN</td>\n",
       "    </tr>\n",
       "    <tr>\n",
       "      <th>614</th>\n",
       "      <td>SYR</td>\n",
       "      <td>Syrian Arab Republic</td>\n",
       "      <td>2008</td>\n",
       "      <td>NaN</td>\n",
       "      <td>NaN</td>\n",
       "    </tr>\n",
       "    <tr>\n",
       "      <th>737</th>\n",
       "      <td>SYR</td>\n",
       "      <td>Syrian Arab Republic</td>\n",
       "      <td>2009</td>\n",
       "      <td>NaN</td>\n",
       "      <td>NaN</td>\n",
       "    </tr>\n",
       "    <tr>\n",
       "      <th>860</th>\n",
       "      <td>SYR</td>\n",
       "      <td>Syrian Arab Republic</td>\n",
       "      <td>2010</td>\n",
       "      <td>NaN</td>\n",
       "      <td>NaN</td>\n",
       "    </tr>\n",
       "    <tr>\n",
       "      <th>983</th>\n",
       "      <td>SYR</td>\n",
       "      <td>Syrian Arab Republic</td>\n",
       "      <td>2011</td>\n",
       "      <td>NaN</td>\n",
       "      <td>NaN</td>\n",
       "    </tr>\n",
       "    <tr>\n",
       "      <th>1106</th>\n",
       "      <td>SYR</td>\n",
       "      <td>Syrian Arab Republic</td>\n",
       "      <td>2012</td>\n",
       "      <td>NaN</td>\n",
       "      <td>NaN</td>\n",
       "    </tr>\n",
       "    <tr>\n",
       "      <th>1229</th>\n",
       "      <td>SYR</td>\n",
       "      <td>Syrian Arab Republic</td>\n",
       "      <td>2013</td>\n",
       "      <td>NaN</td>\n",
       "      <td>NaN</td>\n",
       "    </tr>\n",
       "    <tr>\n",
       "      <th>1352</th>\n",
       "      <td>SYR</td>\n",
       "      <td>Syrian Arab Republic</td>\n",
       "      <td>2014</td>\n",
       "      <td>NaN</td>\n",
       "      <td>NaN</td>\n",
       "    </tr>\n",
       "  </tbody>\n",
       "</table>\n",
       "</div>"
      ],
      "text/plain": [
       "      iso           countryname  year  value  rank\n",
       "38    SRB                Serbia  2004    NaN   NaN\n",
       "614   SYR  Syrian Arab Republic  2008    NaN   NaN\n",
       "737   SYR  Syrian Arab Republic  2009    NaN   NaN\n",
       "860   SYR  Syrian Arab Republic  2010    NaN   NaN\n",
       "983   SYR  Syrian Arab Republic  2011    NaN   NaN\n",
       "1106  SYR  Syrian Arab Republic  2012    NaN   NaN\n",
       "1229  SYR  Syrian Arab Republic  2013    NaN   NaN\n",
       "1352  SYR  Syrian Arab Republic  2014    NaN   NaN"
      ]
     },
     "execution_count": 58,
     "metadata": {},
     "output_type": "execute_result"
    }
   ],
   "source": [
    "df[df['rank'].isnull()]"
   ]
  },
  {
   "cell_type": "code",
   "execution_count": 59,
   "metadata": {
    "collapsed": false
   },
   "outputs": [
    {
     "data": {
      "text/plain": [
       "['SYR', 'SRB']"
      ]
     },
     "execution_count": 59,
     "metadata": {},
     "output_type": "execute_result"
    }
   ],
   "source": [
    "# Discard countries that don't have data for every time point between 2004 and 2014\n",
    "countries_null = list(set(df[df['rank'].isnull()]['iso']))\n",
    "countries_null"
   ]
  },
  {
   "cell_type": "code",
   "execution_count": 64,
   "metadata": {
    "collapsed": false
   },
   "outputs": [],
   "source": [
    "# TODO: use the countries_null variable\n",
    "df = df.query(\"iso not in ['SRB', 'SYR']\")"
   ]
  },
  {
   "cell_type": "code",
   "execution_count": 65,
   "metadata": {
    "collapsed": false
   },
   "outputs": [],
   "source": [
    "# Convert rank to integer\n",
    "df['rank'] = df['rank'].apply(lambda x: int(x))"
   ]
  },
  {
   "cell_type": "code",
   "execution_count": 66,
   "metadata": {
    "collapsed": false
   },
   "outputs": [
    {
     "data": {
      "text/html": [
       "<div>\n",
       "<table border=\"1\" class=\"dataframe\">\n",
       "  <thead>\n",
       "    <tr style=\"text-align: right;\">\n",
       "      <th></th>\n",
       "      <th>iso</th>\n",
       "      <th>countryname</th>\n",
       "      <th>year</th>\n",
       "      <th>value</th>\n",
       "      <th>rank</th>\n",
       "    </tr>\n",
       "  </thead>\n",
       "  <tbody>\n",
       "    <tr>\n",
       "      <th>0</th>\n",
       "      <td>IND</td>\n",
       "      <td>India</td>\n",
       "      <td>2004</td>\n",
       "      <td>7.15</td>\n",
       "      <td>1</td>\n",
       "    </tr>\n",
       "    <tr>\n",
       "      <th>1</th>\n",
       "      <td>UGA</td>\n",
       "      <td>Uganda</td>\n",
       "      <td>2004</td>\n",
       "      <td>6.11</td>\n",
       "      <td>3</td>\n",
       "    </tr>\n",
       "    <tr>\n",
       "      <th>2</th>\n",
       "      <td>KEN</td>\n",
       "      <td>Kenya</td>\n",
       "      <td>2004</td>\n",
       "      <td>6.32</td>\n",
       "      <td>2</td>\n",
       "    </tr>\n",
       "    <tr>\n",
       "      <th>3</th>\n",
       "      <td>TZA</td>\n",
       "      <td>Tanzania</td>\n",
       "      <td>2004</td>\n",
       "      <td>6.11</td>\n",
       "      <td>4</td>\n",
       "    </tr>\n",
       "    <tr>\n",
       "      <th>4</th>\n",
       "      <td>EGY</td>\n",
       "      <td>Egypt, Arab Rep.</td>\n",
       "      <td>2004</td>\n",
       "      <td>5.00</td>\n",
       "      <td>14</td>\n",
       "    </tr>\n",
       "  </tbody>\n",
       "</table>\n",
       "</div>"
      ],
      "text/plain": [
       "   iso       countryname  year  value  rank\n",
       "0  IND             India  2004   7.15     1\n",
       "1  UGA            Uganda  2004   6.11     3\n",
       "2  KEN             Kenya  2004   6.32     2\n",
       "3  TZA          Tanzania  2004   6.11     4\n",
       "4  EGY  Egypt, Arab Rep.  2004   5.00    14"
      ]
     },
     "execution_count": 66,
     "metadata": {},
     "output_type": "execute_result"
    }
   ],
   "source": [
    "df.head()"
   ]
  },
  {
   "cell_type": "markdown",
   "metadata": {},
   "source": [
    "# TODO: generate data for download using this format\n",
    "<pre>\n",
    "rank,abbrv,country,eci_value,delta,year,growth_proj_annual_2023\n",
    "1,JPN,Japan,2.348182,0,2013,2.13\n",
    "2,CHE,Switzerland,2.331362,0,2013,3.62\n",
    "3,DEU,Germany,2.03559,0,2013,-1.33\n",
    "4,KOR,\"Korea, Rep.\",1.92968,1,2013,3.85\n",
    "5,SWE,Sweden,1.817256,-1,2013,2.6\n",
    "</pre>"
   ]
  },
  {
   "cell_type": "markdown",
   "metadata": {},
   "source": [
    "# Projections of GDP Growth to 2024 Rankings: Selected Top Countries"
   ]
  },
  {
   "cell_type": "code",
   "execution_count": 67,
   "metadata": {
    "collapsed": false
   },
   "outputs": [],
   "source": [
    "# from IPython.display import display, HTML\n",
    "# HTML(df.head().to_html())\n",
    "df.to_csv('/Users/rvuillemot/Dev/vis-toolkit-datasets/data/atlas_growth_projections_2024.csv')"
   ]
  },
  {
   "cell_type": "code",
   "execution_count": 68,
   "metadata": {
    "collapsed": false
   },
   "outputs": [
    {
     "data": {
      "text/html": [
       "<table border=\"1\" cellpadding=\"3\" cellspacing=\"0\"  style=\"border:1px solid black;border-collapse:collapse;\"><tr><td  style=\"background-color:LightGray;\"><b>Index</b></td><td  style=\"background-color:LightGray;\"><b>Country</b></td><td  style=\"background-color:LightGray;\"><b>countryname</b></td><td  style=\"background-color:LightGray;\"><b>year</b></td><td  style=\"background-color:LightGray;\"><b>value</b></td><td  style=\"background-color:LightGray;\"><b>rank</b></td></tr><tr><td  style=\"background-color:yellow;\">0</td><td  style=\"background-color:yellow;\">IND</td><td  style=\"background-color:yellow;\">India</td><td  style=\"background-color:yellow;\">2014</td><td  style=\"background-color:yellow;\">6.98</td><td  style=\"background-color:yellow;\">1</td></tr><tr><td  style=\"background-color:AliceBlue;\">1</td><td  style=\"background-color:AliceBlue;\">UGA</td><td  style=\"background-color:AliceBlue;\">Uganda</td><td  style=\"background-color:AliceBlue;\">2014</td><td  style=\"background-color:AliceBlue;\">6.04</td><td  style=\"background-color:AliceBlue;\">2</td></tr><tr><td  style=\"background-color:Ivory;\">2</td><td  style=\"background-color:Ivory;\">KEN</td><td  style=\"background-color:Ivory;\">Kenya</td><td  style=\"background-color:Ivory;\">2014</td><td  style=\"background-color:Ivory;\">6.0</td><td  style=\"background-color:Ivory;\">3</td></tr><tr><td  style=\"background-color:AliceBlue;\">3</td><td  style=\"background-color:AliceBlue;\">TZA</td><td  style=\"background-color:AliceBlue;\">Tanzania</td><td  style=\"background-color:AliceBlue;\">2014</td><td  style=\"background-color:AliceBlue;\">5.96</td><td  style=\"background-color:AliceBlue;\">4</td></tr><tr><td  style=\"background-color:Ivory;\">4</td><td  style=\"background-color:Ivory;\">EGY</td><td  style=\"background-color:Ivory;\">Egypt,&nbspArab&nbspRep.</td><td  style=\"background-color:Ivory;\">2014</td><td  style=\"background-color:Ivory;\">5.83</td><td  style=\"background-color:Ivory;\">5</td></tr><tr><td  style=\"background-color:AliceBlue;\">5</td><td  style=\"background-color:AliceBlue;\">MDG</td><td  style=\"background-color:AliceBlue;\">Madagascar</td><td  style=\"background-color:AliceBlue;\">2014</td><td  style=\"background-color:AliceBlue;\">5.78</td><td  style=\"background-color:AliceBlue;\">6</td></tr><tr><td  style=\"background-color:Ivory;\">6</td><td  style=\"background-color:Ivory;\">SEN</td><td  style=\"background-color:Ivory;\">Senegal</td><td  style=\"background-color:Ivory;\">2014</td><td  style=\"background-color:Ivory;\">5.77</td><td  style=\"background-color:Ivory;\">7</td></tr><tr><td  style=\"background-color:AliceBlue;\">7</td><td  style=\"background-color:AliceBlue;\">PHL</td><td  style=\"background-color:AliceBlue;\">Philippines</td><td  style=\"background-color:AliceBlue;\">2014</td><td  style=\"background-color:AliceBlue;\">5.68</td><td  style=\"background-color:AliceBlue;\">8</td></tr><tr><td  style=\"background-color:Ivory;\">8</td><td  style=\"background-color:Ivory;\">MWI</td><td  style=\"background-color:Ivory;\">Malawi</td><td  style=\"background-color:Ivory;\">2014</td><td  style=\"background-color:Ivory;\">5.66</td><td  style=\"background-color:Ivory;\">9</td></tr><tr><td  style=\"background-color:AliceBlue;\">9</td><td  style=\"background-color:AliceBlue;\">ZMB</td><td  style=\"background-color:AliceBlue;\">Zambia</td><td  style=\"background-color:AliceBlue;\">2014</td><td  style=\"background-color:AliceBlue;\">5.55</td><td  style=\"background-color:AliceBlue;\">10</td></tr></table>"
      ],
      "text/plain": [
       "<ipy_table.IpyTable at 0x10bf930f0>"
      ]
     },
     "execution_count": 68,
     "metadata": {},
     "output_type": "execute_result"
    }
   ],
   "source": [
    "from ipy_table import *\n",
    "import numpy as np\n",
    "\n",
    "df_table = df[(df['year'] == '2014')].head(10).reset_index(drop=True).reset_index()\n",
    "table = df_table.as_matrix()\n",
    "\n",
    "header = np.asarray(df_table.columns)\n",
    "header[0] = 'Index'\n",
    "header[1] = 'Country'\n",
    "# df.rename(columns=lambda x: x[1:], inplace=True)\n",
    "table_with_header = np.concatenate(([header], table))\n",
    "\n",
    "# Basic themes\n",
    "# Detais http://nbviewer.ipython.org/github/epmoyer/ipy_table/blob/master/ipy_table-Introduction.ipynb\n",
    "make_table(table_with_header)\n",
    "apply_theme('basic')\n",
    "# Only show the top-10\n",
    "set_row_style(1, color='yellow')"
   ]
  },
  {
   "cell_type": "markdown",
   "metadata": {},
   "source": [
    "# Economic Complexity Index: Rank of Expected GDP Growth to 2023\n"
   ]
  },
  {
   "cell_type": "code",
   "execution_count": 71,
   "metadata": {
    "collapsed": false
   },
   "outputs": [
    {
     "data": {
      "text/html": [
       "\n",
       "        <iframe\n",
       "            width=\"900\"\n",
       "            height=\"450\"\n",
       "            src=\"https://cid-harvard.github.io/vis-toolkit/examples/geomap_and_tick.html\"\n",
       "            frameborder=\"0\"\n",
       "            allowfullscreen\n",
       "        ></iframe>\n",
       "        "
      ],
      "text/plain": [
       "<IPython.lib.display.IFrame at 0x10bf99be0>"
      ]
     },
     "execution_count": 71,
     "metadata": {},
     "output_type": "execute_result"
    }
   ],
   "source": [
    "IFrame('https://cid-harvard.github.io/vis-toolkit/examples/geomap_and_tick.html', width=900, height=450)"
   ]
  },
  {
   "cell_type": "code",
   "execution_count": null,
   "metadata": {
    "collapsed": true
   },
   "outputs": [],
   "source": []
  },
  {
   "cell_type": "markdown",
   "metadata": {},
   "source": [
    "# Biggest Winners and Losers in Economic Complexity: 2004-2014\n"
   ]
  },
  {
   "cell_type": "code",
   "execution_count": 29,
   "metadata": {
    "collapsed": true
   },
   "outputs": [],
   "source": []
  },
  {
   "cell_type": "code",
   "execution_count": 30,
   "metadata": {
    "collapsed": false
   },
   "outputs": [
    {
     "data": {
      "text/html": [
       "\n",
       "        <iframe\n",
       "            width=\"900\"\n",
       "            height=\"350\"\n",
       "            src=\"https://cid-harvard.github.io/vis-toolkit/examples/slopegraph_projections.html\"\n",
       "            frameborder=\"0\"\n",
       "            allowfullscreen\n",
       "        ></iframe>\n",
       "        "
      ],
      "text/plain": [
       "<IPython.lib.display.IFrame at 0x10bf7e080>"
      ]
     },
     "execution_count": 30,
     "metadata": {},
     "output_type": "execute_result"
    }
   ],
   "source": [
    "IFrame('https://cid-harvard.github.io/vis-toolkit/examples/slopegraph_projections.html', width=900, height=350)"
   ]
  },
  {
   "cell_type": "markdown",
   "metadata": {},
   "source": [
    "# Economic Complexity Index: 2004-2014 Country Rankings – Top 25 Countries\n",
    "\n",
    "The graph below shows the changes in ECI between 2004 and"
   ]
  },
  {
   "cell_type": "code",
   "execution_count": 72,
   "metadata": {
    "collapsed": false
   },
   "outputs": [
    {
     "data": {
      "text/html": [
       "\n",
       "        <iframe\n",
       "            width=\"900\"\n",
       "            height=\"350\"\n",
       "            src=\"https://cid-harvard.github.io/vis-toolkit/examples/linechart_projections.html\"\n",
       "            frameborder=\"0\"\n",
       "            allowfullscreen\n",
       "        ></iframe>\n",
       "        "
      ],
      "text/plain": [
       "<IPython.lib.display.IFrame at 0x10bf99c88>"
      ]
     },
     "execution_count": 72,
     "metadata": {},
     "output_type": "execute_result"
    }
   ],
   "source": [
    "IFrame('https://cid-harvard.github.io/vis-toolkit/examples/linechart_projections.html', width=900, height=350)"
   ]
  },
  {
   "cell_type": "code",
   "execution_count": null,
   "metadata": {
    "collapsed": false
   },
   "outputs": [],
   "source": []
  },
  {
   "cell_type": "code",
   "execution_count": null,
   "metadata": {
    "collapsed": false
   },
   "outputs": [],
   "source": []
  },
  {
   "cell_type": "code",
   "execution_count": 28,
   "metadata": {
    "collapsed": false
   },
   "outputs": [
    {
     "data": {
      "text/html": [
       "\n",
       "        <iframe\n",
       "            width=\"900\"\n",
       "            height=\"550\"\n",
       "            src=\"https://cid-harvard.github.io/vis-toolkit/examples/barchart_vertical_projections.html\"\n",
       "            frameborder=\"0\"\n",
       "            allowfullscreen\n",
       "        ></iframe>\n",
       "        "
      ],
      "text/plain": [
       "<IPython.lib.display.IFrame at 0x10bf76630>"
      ]
     },
     "execution_count": 28,
     "metadata": {},
     "output_type": "execute_result"
    }
   ],
   "source": [
    "# Geomap of ECI by country and grid of countries\n",
    "IFrame('https://cid-harvard.github.io/vis-toolkit/examples/barchart_vertical_projections.html', width=900, height=550)"
   ]
  },
  {
   "cell_type": "code",
   "execution_count": null,
   "metadata": {
    "collapsed": true
   },
   "outputs": [],
   "source": []
  },
  {
   "cell_type": "markdown",
   "metadata": {
    "collapsed": true
   },
   "source": [
    "# How many countries report their data every year?"
   ]
  },
  {
   "cell_type": "code",
   "execution_count": 73,
   "metadata": {
    "collapsed": false
   },
   "outputs": [
    {
     "data": {
      "text/html": [
       "\n",
       "        <iframe\n",
       "            width=\"900\"\n",
       "            height=\"550\"\n",
       "            src=\"https://cid-harvard.github.io/vis-toolkit/examples/barchart_histogram.html\"\n",
       "            frameborder=\"0\"\n",
       "            allowfullscreen\n",
       "        ></iframe>\n",
       "        "
      ],
      "text/plain": [
       "<IPython.lib.display.IFrame at 0x10bee1400>"
      ]
     },
     "execution_count": 73,
     "metadata": {},
     "output_type": "execute_result"
    }
   ],
   "source": [
    "IFrame('https://cid-harvard.github.io/vis-toolkit/examples/barchart_histogram.html', width=900, height=550)"
   ]
  },
  {
   "cell_type": "code",
   "execution_count": null,
   "metadata": {
    "collapsed": true
   },
   "outputs": [],
   "source": []
  }
 ],
 "metadata": {
  "kernelspec": {
   "display_name": "Python 3",
   "language": "python",
   "name": "python3"
  },
  "language_info": {
   "codemirror_mode": {
    "name": "ipython",
    "version": 3
   },
   "file_extension": ".py",
   "mimetype": "text/x-python",
   "name": "python",
   "nbconvert_exporter": "python",
   "pygments_lexer": "ipython3",
   "version": "3.4.3"
  }
 },
 "nbformat": 4,
 "nbformat_minor": 0
}
