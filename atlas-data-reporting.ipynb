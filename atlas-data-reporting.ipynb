{
 "cells": [
  {
   "cell_type": "markdown",
   "metadata": {},
   "source": [
    "# Atlas data updates and growth projection notes\n",
    "\n",
    "Methodological notes, data sources and interactive visualization from http://atlas.cid.harvard.edu/rankings/growth-predictions/\n",
    "\n",
    "Important links\n",
    "* [U.N. Comtrade](http://comtrade.un.org) website\n",
    "* [Atlas Data](https://github.com/cid-harvard/atlas-data) processing"
   ]
  },
  {
   "cell_type": "code",
   "execution_count": 161,
   "metadata": {
    "collapsed": true
   },
   "outputs": [],
   "source": [
    "# Required modules to run this notebook\n",
    "from IPython.display import IFrame\n",
    "import pandas as pd\n",
    "import numexpr"
   ]
  },
  {
   "cell_type": "code",
   "execution_count": null,
   "metadata": {
    "collapsed": true
   },
   "outputs": [],
   "source": [
    "# Raw data files\n",
    "file_projections = 'sourceData/Growth_proj_rankings_2014.csv'\n",
    "file_rank_eci = 'sourceData/ECI_rankings_2014.csv'\n",
    "url_countries = 'https://raw.githubusercontent.com/mledoze/countries/master/dist/countries.json'"
   ]
  },
  {
   "cell_type": "markdown",
   "metadata": {},
   "source": [
    "# Load countries data"
   ]
  },
  {
   "cell_type": "code",
   "execution_count": 210,
   "metadata": {
    "collapsed": false
   },
   "outputs": [],
   "source": [
    "import json\n",
    "import urllib\n",
    "\n",
    "r = urllib.request.urlopen(url_countries)\n",
    "data = json.loads(r.read().decode(r.info().get_param('charset') or 'utf-8'))"
   ]
  },
  {
   "cell_type": "code",
   "execution_count": 211,
   "metadata": {
    "collapsed": false
   },
   "outputs": [],
   "source": [
    "# Flatten the countries dataset\n",
    "from pandas.io.json import json_normalize\n",
    "result = json_normalize(data)"
   ]
  },
  {
   "cell_type": "code",
   "execution_count": 213,
   "metadata": {
    "collapsed": false
   },
   "outputs": [
    {
     "data": {
      "text/html": [
       "<div>\n",
       "<table border=\"1\" class=\"dataframe\">\n",
       "  <thead>\n",
       "    <tr style=\"text-align: right;\">\n",
       "      <th></th>\n",
       "      <th>altSpellings</th>\n",
       "      <th>area</th>\n",
       "      <th>borders</th>\n",
       "      <th>callingCode</th>\n",
       "      <th>capital</th>\n",
       "      <th>cca2</th>\n",
       "      <th>cca3</th>\n",
       "      <th>ccn3</th>\n",
       "      <th>cioc</th>\n",
       "      <th>currency</th>\n",
       "      <th>...</th>\n",
       "      <th>translations.jpn.common</th>\n",
       "      <th>translations.jpn.official</th>\n",
       "      <th>translations.nld.common</th>\n",
       "      <th>translations.nld.official</th>\n",
       "      <th>translations.por.common</th>\n",
       "      <th>translations.por.official</th>\n",
       "      <th>translations.rus.common</th>\n",
       "      <th>translations.rus.official</th>\n",
       "      <th>translations.spa.common</th>\n",
       "      <th>translations.spa.official</th>\n",
       "    </tr>\n",
       "  </thead>\n",
       "  <tbody>\n",
       "    <tr>\n",
       "      <th>0</th>\n",
       "      <td>[AW]</td>\n",
       "      <td>180</td>\n",
       "      <td>[]</td>\n",
       "      <td>[297]</td>\n",
       "      <td>Oranjestad</td>\n",
       "      <td>AW</td>\n",
       "      <td>ABW</td>\n",
       "      <td>533</td>\n",
       "      <td>ARU</td>\n",
       "      <td>[AWG]</td>\n",
       "      <td>...</td>\n",
       "      <td>アルバ</td>\n",
       "      <td>アルバ</td>\n",
       "      <td>Aruba</td>\n",
       "      <td>Aruba</td>\n",
       "      <td>Aruba</td>\n",
       "      <td>Aruba</td>\n",
       "      <td>Аруба</td>\n",
       "      <td>Аруба</td>\n",
       "      <td>Aruba</td>\n",
       "      <td>Aruba</td>\n",
       "    </tr>\n",
       "    <tr>\n",
       "      <th>1</th>\n",
       "      <td>[AF, Afġānistān]</td>\n",
       "      <td>652230</td>\n",
       "      <td>[IRN, PAK, TKM, UZB, TJK, CHN]</td>\n",
       "      <td>[93]</td>\n",
       "      <td>Kabul</td>\n",
       "      <td>AF</td>\n",
       "      <td>AFG</td>\n",
       "      <td>004</td>\n",
       "      <td>AFG</td>\n",
       "      <td>[AFN]</td>\n",
       "      <td>...</td>\n",
       "      <td>アフガニスタン</td>\n",
       "      <td>アフガニスタン·イスラム共和国</td>\n",
       "      <td>Afghanistan</td>\n",
       "      <td>Islamitische Republiek Afghanistan</td>\n",
       "      <td>Afeganistão</td>\n",
       "      <td>República Islâmica do Afeganistão</td>\n",
       "      <td>Афганистан</td>\n",
       "      <td>Исламская Республика Афганистан</td>\n",
       "      <td>Afganistán</td>\n",
       "      <td>República Islámica de Afganistán</td>\n",
       "    </tr>\n",
       "    <tr>\n",
       "      <th>2</th>\n",
       "      <td>[AO, República de Angola, ʁɛpublika de an'ɡɔla]</td>\n",
       "      <td>1246700</td>\n",
       "      <td>[COG, COD, ZMB, NAM]</td>\n",
       "      <td>[244]</td>\n",
       "      <td>Luanda</td>\n",
       "      <td>AO</td>\n",
       "      <td>AGO</td>\n",
       "      <td>024</td>\n",
       "      <td>ANG</td>\n",
       "      <td>[AOA]</td>\n",
       "      <td>...</td>\n",
       "      <td>アンゴラ</td>\n",
       "      <td>アンゴラ共和国</td>\n",
       "      <td>Angola</td>\n",
       "      <td>Republiek Angola</td>\n",
       "      <td>Angola</td>\n",
       "      <td>República de Angola</td>\n",
       "      <td>Ангола</td>\n",
       "      <td>Республика Ангола</td>\n",
       "      <td>Angola</td>\n",
       "      <td>República de Angola</td>\n",
       "    </tr>\n",
       "    <tr>\n",
       "      <th>3</th>\n",
       "      <td>[AI]</td>\n",
       "      <td>91</td>\n",
       "      <td>[]</td>\n",
       "      <td>[1264]</td>\n",
       "      <td>The Valley</td>\n",
       "      <td>AI</td>\n",
       "      <td>AIA</td>\n",
       "      <td>660</td>\n",
       "      <td></td>\n",
       "      <td>[XCD]</td>\n",
       "      <td>...</td>\n",
       "      <td>アンギラ</td>\n",
       "      <td>アングィラ</td>\n",
       "      <td>Anguilla</td>\n",
       "      <td>Anguilla</td>\n",
       "      <td>Anguilla</td>\n",
       "      <td>Anguilla</td>\n",
       "      <td>Ангилья</td>\n",
       "      <td>Ангилья</td>\n",
       "      <td>Anguilla</td>\n",
       "      <td>Anguila</td>\n",
       "    </tr>\n",
       "    <tr>\n",
       "      <th>4</th>\n",
       "      <td>[AX, Aaland, Aland, Ahvenanmaa]</td>\n",
       "      <td>1580</td>\n",
       "      <td>[]</td>\n",
       "      <td>[358]</td>\n",
       "      <td>Mariehamn</td>\n",
       "      <td>AX</td>\n",
       "      <td>ALA</td>\n",
       "      <td>248</td>\n",
       "      <td></td>\n",
       "      <td>[EUR]</td>\n",
       "      <td>...</td>\n",
       "      <td>オーランド諸島</td>\n",
       "      <td>オーランド諸島</td>\n",
       "      <td>Ålandeilanden</td>\n",
       "      <td>Åland eilanden</td>\n",
       "      <td>Alândia</td>\n",
       "      <td>Ilhas Åland</td>\n",
       "      <td>Аландские острова</td>\n",
       "      <td>Аландские острова</td>\n",
       "      <td>Alandia</td>\n",
       "      <td>Islas Åland</td>\n",
       "    </tr>\n",
       "  </tbody>\n",
       "</table>\n",
       "<p>5 rows × 509 columns</p>\n",
       "</div>"
      ],
      "text/plain": [
       "                                      altSpellings     area  \\\n",
       "0                                             [AW]      180   \n",
       "1                                 [AF, Afġānistān]   652230   \n",
       "2  [AO, República de Angola, ʁɛpublika de an'ɡɔla]  1246700   \n",
       "3                                             [AI]       91   \n",
       "4                  [AX, Aaland, Aland, Ahvenanmaa]     1580   \n",
       "\n",
       "                          borders callingCode     capital cca2 cca3 ccn3 cioc  \\\n",
       "0                              []       [297]  Oranjestad   AW  ABW  533  ARU   \n",
       "1  [IRN, PAK, TKM, UZB, TJK, CHN]        [93]       Kabul   AF  AFG  004  AFG   \n",
       "2            [COG, COD, ZMB, NAM]       [244]      Luanda   AO  AGO  024  ANG   \n",
       "3                              []      [1264]  The Valley   AI  AIA  660        \n",
       "4                              []       [358]   Mariehamn   AX  ALA  248        \n",
       "\n",
       "  currency                ...                translations.jpn.common  \\\n",
       "0    [AWG]                ...                                    アルバ   \n",
       "1    [AFN]                ...                                アフガニスタン   \n",
       "2    [AOA]                ...                                   アンゴラ   \n",
       "3    [XCD]                ...                                   アンギラ   \n",
       "4    [EUR]                ...                                オーランド諸島   \n",
       "\n",
       "  translations.jpn.official translations.nld.common  \\\n",
       "0                       アルバ                   Aruba   \n",
       "1           アフガニスタン·イスラム共和国             Afghanistan   \n",
       "2                   アンゴラ共和国                  Angola   \n",
       "3                     アングィラ                Anguilla   \n",
       "4                   オーランド諸島           Ålandeilanden   \n",
       "\n",
       "            translations.nld.official translations.por.common  \\\n",
       "0                               Aruba                   Aruba   \n",
       "1  Islamitische Republiek Afghanistan             Afeganistão   \n",
       "2                    Republiek Angola                  Angola   \n",
       "3                            Anguilla                Anguilla   \n",
       "4                      Åland eilanden                 Alândia   \n",
       "\n",
       "           translations.por.official translations.rus.common  \\\n",
       "0                              Aruba                   Аруба   \n",
       "1  República Islâmica do Afeganistão              Афганистан   \n",
       "2                República de Angola                  Ангола   \n",
       "3                           Anguilla                 Ангилья   \n",
       "4                        Ilhas Åland       Аландские острова   \n",
       "\n",
       "         translations.rus.official translations.spa.common  \\\n",
       "0                            Аруба                   Aruba   \n",
       "1  Исламская Республика Афганистан              Afganistán   \n",
       "2                Республика Ангола                  Angola   \n",
       "3                          Ангилья                Anguilla   \n",
       "4                Аландские острова                 Alandia   \n",
       "\n",
       "          translations.spa.official  \n",
       "0                             Aruba  \n",
       "1  República Islámica de Afganistán  \n",
       "2               República de Angola  \n",
       "3                           Anguila  \n",
       "4                       Islas Åland  \n",
       "\n",
       "[5 rows x 509 columns]"
      ]
     },
     "execution_count": 213,
     "metadata": {},
     "output_type": "execute_result"
    }
   ],
   "source": [
    "df_countries = pd.DataFrame(result)\n",
    "df_countries.head()"
   ]
  },
  {
   "cell_type": "markdown",
   "metadata": {},
   "source": [
    "# Load growth prediction data"
   ]
  },
  {
   "cell_type": "code",
   "execution_count": 203,
   "metadata": {
    "collapsed": false
   },
   "outputs": [],
   "source": [
    "df = pd.read_csv(file_projections)\n",
    "# Removing ranking column (will be re-generated later on)\n",
    "df.pop('rank2014');"
   ]
  },
  {
   "cell_type": "code",
   "execution_count": 204,
   "metadata": {
    "collapsed": false
   },
   "outputs": [],
   "source": [
    "# Turning temporal columns into rows+year\n",
    "df = pd.melt(df, id_vars=[\"iso\", \"countryname\"], var_name=\"year\", value_name=\"value\")"
   ]
  },
  {
   "cell_type": "code",
   "execution_count": 205,
   "metadata": {
    "collapsed": false
   },
   "outputs": [],
   "source": [
    "# Formatting year (time) column\n",
    "for index, row in df.iterrows():\n",
    "    df.loc[index, \"year\"] = df.loc[index, \"year\"][2:]"
   ]
  },
  {
   "cell_type": "code",
   "execution_count": 206,
   "metadata": {
    "collapsed": false
   },
   "outputs": [],
   "source": [
    "# Adding countries ranks for each year\n",
    "df['rank'] = df.groupby('year')['value'].rank(ascending=False, method='first')"
   ]
  },
  {
   "cell_type": "code",
   "execution_count": 207,
   "metadata": {
    "collapsed": false
   },
   "outputs": [],
   "source": [
    "df.sort(['rank'], ascending=False);"
   ]
  },
  {
   "cell_type": "code",
   "execution_count": 208,
   "metadata": {
    "collapsed": false
   },
   "outputs": [
    {
     "data": {
      "text/html": [
       "<div>\n",
       "<table border=\"1\" class=\"dataframe\">\n",
       "  <thead>\n",
       "    <tr style=\"text-align: right;\">\n",
       "      <th></th>\n",
       "      <th>iso</th>\n",
       "      <th>countryname</th>\n",
       "      <th>year</th>\n",
       "      <th>value</th>\n",
       "      <th>rank</th>\n",
       "    </tr>\n",
       "  </thead>\n",
       "  <tbody>\n",
       "    <tr>\n",
       "      <th>38</th>\n",
       "      <td>SRB</td>\n",
       "      <td>Serbia</td>\n",
       "      <td>2004</td>\n",
       "      <td>NaN</td>\n",
       "      <td>NaN</td>\n",
       "    </tr>\n",
       "    <tr>\n",
       "      <th>614</th>\n",
       "      <td>SYR</td>\n",
       "      <td>Syrian Arab Republic</td>\n",
       "      <td>2008</td>\n",
       "      <td>NaN</td>\n",
       "      <td>NaN</td>\n",
       "    </tr>\n",
       "    <tr>\n",
       "      <th>737</th>\n",
       "      <td>SYR</td>\n",
       "      <td>Syrian Arab Republic</td>\n",
       "      <td>2009</td>\n",
       "      <td>NaN</td>\n",
       "      <td>NaN</td>\n",
       "    </tr>\n",
       "    <tr>\n",
       "      <th>860</th>\n",
       "      <td>SYR</td>\n",
       "      <td>Syrian Arab Republic</td>\n",
       "      <td>2010</td>\n",
       "      <td>NaN</td>\n",
       "      <td>NaN</td>\n",
       "    </tr>\n",
       "    <tr>\n",
       "      <th>983</th>\n",
       "      <td>SYR</td>\n",
       "      <td>Syrian Arab Republic</td>\n",
       "      <td>2011</td>\n",
       "      <td>NaN</td>\n",
       "      <td>NaN</td>\n",
       "    </tr>\n",
       "    <tr>\n",
       "      <th>1106</th>\n",
       "      <td>SYR</td>\n",
       "      <td>Syrian Arab Republic</td>\n",
       "      <td>2012</td>\n",
       "      <td>NaN</td>\n",
       "      <td>NaN</td>\n",
       "    </tr>\n",
       "    <tr>\n",
       "      <th>1229</th>\n",
       "      <td>SYR</td>\n",
       "      <td>Syrian Arab Republic</td>\n",
       "      <td>2013</td>\n",
       "      <td>NaN</td>\n",
       "      <td>NaN</td>\n",
       "    </tr>\n",
       "    <tr>\n",
       "      <th>1352</th>\n",
       "      <td>SYR</td>\n",
       "      <td>Syrian Arab Republic</td>\n",
       "      <td>2014</td>\n",
       "      <td>NaN</td>\n",
       "      <td>NaN</td>\n",
       "    </tr>\n",
       "  </tbody>\n",
       "</table>\n",
       "</div>"
      ],
      "text/plain": [
       "      iso           countryname  year  value  rank\n",
       "38    SRB                Serbia  2004    NaN   NaN\n",
       "614   SYR  Syrian Arab Republic  2008    NaN   NaN\n",
       "737   SYR  Syrian Arab Republic  2009    NaN   NaN\n",
       "860   SYR  Syrian Arab Republic  2010    NaN   NaN\n",
       "983   SYR  Syrian Arab Republic  2011    NaN   NaN\n",
       "1106  SYR  Syrian Arab Republic  2012    NaN   NaN\n",
       "1229  SYR  Syrian Arab Republic  2013    NaN   NaN\n",
       "1352  SYR  Syrian Arab Republic  2014    NaN   NaN"
      ]
     },
     "execution_count": 208,
     "metadata": {},
     "output_type": "execute_result"
    }
   ],
   "source": [
    "df[df['rank'].isnull()]"
   ]
  },
  {
   "cell_type": "code",
   "execution_count": 209,
   "metadata": {
    "collapsed": false
   },
   "outputs": [],
   "source": [
    "# Discard countries that don't have data for every time point between 2004 and 2014\n",
    "countries_null = list(set(df[df['rank'].isnull()]['iso']))"
   ]
  },
  {
   "cell_type": "code",
   "execution_count": 173,
   "metadata": {
    "collapsed": false
   },
   "outputs": [],
   "source": [
    "# TODO: use the countries_null variable\n",
    "df = df.query(\"iso not in ['SRB', 'SYR']\")"
   ]
  },
  {
   "cell_type": "code",
   "execution_count": 174,
   "metadata": {
    "collapsed": false
   },
   "outputs": [],
   "source": [
    "# Convert rank to integer\n",
    "df['rank'] = df['rank'].apply(lambda x: int(x))"
   ]
  },
  {
   "cell_type": "code",
   "execution_count": 175,
   "metadata": {
    "collapsed": false
   },
   "outputs": [
    {
     "data": {
      "text/html": [
       "<div>\n",
       "<table border=\"1\" class=\"dataframe\">\n",
       "  <thead>\n",
       "    <tr style=\"text-align: right;\">\n",
       "      <th></th>\n",
       "      <th>iso</th>\n",
       "      <th>countryname</th>\n",
       "      <th>year</th>\n",
       "      <th>value</th>\n",
       "      <th>rank</th>\n",
       "    </tr>\n",
       "  </thead>\n",
       "  <tbody>\n",
       "    <tr>\n",
       "      <th>0</th>\n",
       "      <td>IND</td>\n",
       "      <td>India</td>\n",
       "      <td>2004</td>\n",
       "      <td>7.15</td>\n",
       "      <td>1</td>\n",
       "    </tr>\n",
       "    <tr>\n",
       "      <th>1</th>\n",
       "      <td>UGA</td>\n",
       "      <td>Uganda</td>\n",
       "      <td>2004</td>\n",
       "      <td>6.11</td>\n",
       "      <td>3</td>\n",
       "    </tr>\n",
       "    <tr>\n",
       "      <th>2</th>\n",
       "      <td>KEN</td>\n",
       "      <td>Kenya</td>\n",
       "      <td>2004</td>\n",
       "      <td>6.32</td>\n",
       "      <td>2</td>\n",
       "    </tr>\n",
       "    <tr>\n",
       "      <th>3</th>\n",
       "      <td>TZA</td>\n",
       "      <td>Tanzania</td>\n",
       "      <td>2004</td>\n",
       "      <td>6.11</td>\n",
       "      <td>4</td>\n",
       "    </tr>\n",
       "    <tr>\n",
       "      <th>4</th>\n",
       "      <td>EGY</td>\n",
       "      <td>Egypt, Arab Rep.</td>\n",
       "      <td>2004</td>\n",
       "      <td>5.00</td>\n",
       "      <td>14</td>\n",
       "    </tr>\n",
       "  </tbody>\n",
       "</table>\n",
       "</div>"
      ],
      "text/plain": [
       "   iso       countryname  year  value  rank\n",
       "0  IND             India  2004   7.15     1\n",
       "1  UGA            Uganda  2004   6.11     3\n",
       "2  KEN             Kenya  2004   6.32     2\n",
       "3  TZA          Tanzania  2004   6.11     4\n",
       "4  EGY  Egypt, Arab Rep.  2004   5.00    14"
      ]
     },
     "execution_count": 175,
     "metadata": {},
     "output_type": "execute_result"
    }
   ],
   "source": [
    "# Preview of the resulting rankings\n",
    "df.head()"
   ]
  },
  {
   "cell_type": "markdown",
   "metadata": {},
   "source": [
    "## Load ECI data"
   ]
  },
  {
   "cell_type": "code",
   "execution_count": 260,
   "metadata": {
    "collapsed": false
   },
   "outputs": [
    {
     "data": {
      "text/html": [
       "<div>\n",
       "<table border=\"1\" class=\"dataframe\">\n",
       "  <thead>\n",
       "    <tr style=\"text-align: right;\">\n",
       "      <th></th>\n",
       "      <th>iso</th>\n",
       "      <th>rank_eci2003</th>\n",
       "      <th>rank_eci2004</th>\n",
       "      <th>rank_eci2005</th>\n",
       "      <th>rank_eci2006</th>\n",
       "      <th>rank_eci2007</th>\n",
       "      <th>rank_eci2008</th>\n",
       "      <th>rank_eci2009</th>\n",
       "      <th>rank_eci2010</th>\n",
       "      <th>rank_eci2011</th>\n",
       "      <th>rank_eci2012</th>\n",
       "      <th>rank_eci2013</th>\n",
       "      <th>rank_eci2014</th>\n",
       "    </tr>\n",
       "  </thead>\n",
       "  <tbody>\n",
       "    <tr>\n",
       "      <th>0</th>\n",
       "      <td>JPN</td>\n",
       "      <td>1</td>\n",
       "      <td>1</td>\n",
       "      <td>1</td>\n",
       "      <td>1</td>\n",
       "      <td>1</td>\n",
       "      <td>1</td>\n",
       "      <td>1</td>\n",
       "      <td>1</td>\n",
       "      <td>1</td>\n",
       "      <td>1</td>\n",
       "      <td>1</td>\n",
       "      <td>1</td>\n",
       "    </tr>\n",
       "    <tr>\n",
       "      <th>1</th>\n",
       "      <td>DEU</td>\n",
       "      <td>2</td>\n",
       "      <td>2</td>\n",
       "      <td>2</td>\n",
       "      <td>2</td>\n",
       "      <td>2</td>\n",
       "      <td>2</td>\n",
       "      <td>2</td>\n",
       "      <td>3</td>\n",
       "      <td>3</td>\n",
       "      <td>3</td>\n",
       "      <td>2</td>\n",
       "      <td>2</td>\n",
       "    </tr>\n",
       "    <tr>\n",
       "      <th>2</th>\n",
       "      <td>CHE</td>\n",
       "      <td>3</td>\n",
       "      <td>4</td>\n",
       "      <td>3</td>\n",
       "      <td>4</td>\n",
       "      <td>3</td>\n",
       "      <td>3</td>\n",
       "      <td>3</td>\n",
       "      <td>2</td>\n",
       "      <td>2</td>\n",
       "      <td>2</td>\n",
       "      <td>3</td>\n",
       "      <td>3</td>\n",
       "    </tr>\n",
       "    <tr>\n",
       "      <th>3</th>\n",
       "      <td>KOR</td>\n",
       "      <td>17</td>\n",
       "      <td>15</td>\n",
       "      <td>9</td>\n",
       "      <td>10</td>\n",
       "      <td>9</td>\n",
       "      <td>9</td>\n",
       "      <td>9</td>\n",
       "      <td>8</td>\n",
       "      <td>8</td>\n",
       "      <td>4</td>\n",
       "      <td>4</td>\n",
       "      <td>4</td>\n",
       "    </tr>\n",
       "    <tr>\n",
       "      <th>4</th>\n",
       "      <td>SWE</td>\n",
       "      <td>4</td>\n",
       "      <td>3</td>\n",
       "      <td>4</td>\n",
       "      <td>3</td>\n",
       "      <td>4</td>\n",
       "      <td>4</td>\n",
       "      <td>4</td>\n",
       "      <td>5</td>\n",
       "      <td>4</td>\n",
       "      <td>5</td>\n",
       "      <td>5</td>\n",
       "      <td>5</td>\n",
       "    </tr>\n",
       "  </tbody>\n",
       "</table>\n",
       "</div>"
      ],
      "text/plain": [
       "   iso  rank_eci2003  rank_eci2004  rank_eci2005  rank_eci2006  rank_eci2007  \\\n",
       "0  JPN             1             1             1             1             1   \n",
       "1  DEU             2             2             2             2             2   \n",
       "2  CHE             3             4             3             4             3   \n",
       "3  KOR            17            15             9            10             9   \n",
       "4  SWE             4             3             4             3             4   \n",
       "\n",
       "   rank_eci2008  rank_eci2009  rank_eci2010  rank_eci2011  rank_eci2012  \\\n",
       "0             1             1             1             1             1   \n",
       "1             2             2             3             3             3   \n",
       "2             3             3             2             2             2   \n",
       "3             9             9             8             8             4   \n",
       "4             4             4             5             4             5   \n",
       "\n",
       "   rank_eci2013  rank_eci2014  \n",
       "0             1             1  \n",
       "1             2             2  \n",
       "2             3             3  \n",
       "3             4             4  \n",
       "4             5             5  "
      ]
     },
     "execution_count": 260,
     "metadata": {},
     "output_type": "execute_result"
    }
   ],
   "source": [
    "df_eci = pd.read_csv(file_rank_eci)\n",
    "df_eci.head()"
   ]
  },
  {
   "cell_type": "code",
   "execution_count": 261,
   "metadata": {
    "collapsed": false
   },
   "outputs": [
    {
     "data": {
      "text/html": [
       "<div>\n",
       "<table border=\"1\" class=\"dataframe\">\n",
       "  <thead>\n",
       "    <tr style=\"text-align: right;\">\n",
       "      <th></th>\n",
       "      <th>iso</th>\n",
       "      <th>year</th>\n",
       "      <th>rank_eci</th>\n",
       "    </tr>\n",
       "  </thead>\n",
       "  <tbody>\n",
       "    <tr>\n",
       "      <th>0</th>\n",
       "      <td>JPN</td>\n",
       "      <td>rank_eci2003</td>\n",
       "      <td>1</td>\n",
       "    </tr>\n",
       "    <tr>\n",
       "      <th>1</th>\n",
       "      <td>DEU</td>\n",
       "      <td>rank_eci2003</td>\n",
       "      <td>2</td>\n",
       "    </tr>\n",
       "    <tr>\n",
       "      <th>2</th>\n",
       "      <td>CHE</td>\n",
       "      <td>rank_eci2003</td>\n",
       "      <td>3</td>\n",
       "    </tr>\n",
       "    <tr>\n",
       "      <th>3</th>\n",
       "      <td>KOR</td>\n",
       "      <td>rank_eci2003</td>\n",
       "      <td>17</td>\n",
       "    </tr>\n",
       "    <tr>\n",
       "      <th>4</th>\n",
       "      <td>SWE</td>\n",
       "      <td>rank_eci2003</td>\n",
       "      <td>4</td>\n",
       "    </tr>\n",
       "  </tbody>\n",
       "</table>\n",
       "</div>"
      ],
      "text/plain": [
       "   iso          year  rank_eci\n",
       "0  JPN  rank_eci2003         1\n",
       "1  DEU  rank_eci2003         2\n",
       "2  CHE  rank_eci2003         3\n",
       "3  KOR  rank_eci2003        17\n",
       "4  SWE  rank_eci2003         4"
      ]
     },
     "execution_count": 261,
     "metadata": {},
     "output_type": "execute_result"
    }
   ],
   "source": [
    "# Turning temporal columns into rows+year\n",
    "df_eci = pd.melt(df_eci, id_vars=[\"iso\"], var_name=\"year\", value_name=\"rank_eci\")\n",
    "df_eci.head()"
   ]
  },
  {
   "cell_type": "code",
   "execution_count": 262,
   "metadata": {
    "collapsed": false
   },
   "outputs": [
    {
     "data": {
      "text/html": [
       "<div>\n",
       "<table border=\"1\" class=\"dataframe\">\n",
       "  <thead>\n",
       "    <tr style=\"text-align: right;\">\n",
       "      <th></th>\n",
       "      <th>iso</th>\n",
       "      <th>year</th>\n",
       "      <th>rank_eci</th>\n",
       "    </tr>\n",
       "  </thead>\n",
       "  <tbody>\n",
       "    <tr>\n",
       "      <th>0</th>\n",
       "      <td>JPN</td>\n",
       "      <td>2003</td>\n",
       "      <td>1</td>\n",
       "    </tr>\n",
       "    <tr>\n",
       "      <th>1</th>\n",
       "      <td>DEU</td>\n",
       "      <td>2003</td>\n",
       "      <td>2</td>\n",
       "    </tr>\n",
       "    <tr>\n",
       "      <th>2</th>\n",
       "      <td>CHE</td>\n",
       "      <td>2003</td>\n",
       "      <td>3</td>\n",
       "    </tr>\n",
       "    <tr>\n",
       "      <th>3</th>\n",
       "      <td>KOR</td>\n",
       "      <td>2003</td>\n",
       "      <td>17</td>\n",
       "    </tr>\n",
       "    <tr>\n",
       "      <th>4</th>\n",
       "      <td>SWE</td>\n",
       "      <td>2003</td>\n",
       "      <td>4</td>\n",
       "    </tr>\n",
       "  </tbody>\n",
       "</table>\n",
       "</div>"
      ],
      "text/plain": [
       "   iso  year  rank_eci\n",
       "0  JPN  2003         1\n",
       "1  DEU  2003         2\n",
       "2  CHE  2003         3\n",
       "3  KOR  2003        17\n",
       "4  SWE  2003         4"
      ]
     },
     "execution_count": 262,
     "metadata": {},
     "output_type": "execute_result"
    }
   ],
   "source": [
    "# Formatting year (time) column\n",
    "for index, row in df_eci.iterrows():\n",
    "    df_eci.loc[index, \"year\"] = df_eci.loc[index, \"year\"][8:]\n",
    "df_eci.head()"
   ]
  },
  {
   "cell_type": "code",
   "execution_count": 263,
   "metadata": {
    "collapsed": false
   },
   "outputs": [],
   "source": [
    "# Merging with countries metadata\n",
    "df_eci_countries = pd.merge(df_eci, df_countries[['cca3', 'name.common']], how='left', left_on='iso', right_on='cca3')"
   ]
  },
  {
   "cell_type": "code",
   "execution_count": 264,
   "metadata": {
    "collapsed": false
   },
   "outputs": [],
   "source": [
    "df_eci_countries.pop('cca3');"
   ]
  },
  {
   "cell_type": "code",
   "execution_count": 265,
   "metadata": {
    "collapsed": true
   },
   "outputs": [],
   "source": [
    "df_eci_countries = df_eci_countries.rename(columns = {'name.common':'name'})"
   ]
  },
  {
   "cell_type": "code",
   "execution_count": 266,
   "metadata": {
    "collapsed": false
   },
   "outputs": [
    {
     "data": {
      "text/plain": [
       "['SRB']"
      ]
     },
     "execution_count": 266,
     "metadata": {},
     "output_type": "execute_result"
    }
   ],
   "source": [
    "# Discard countries that don't have data for every time point between 2004 and 2014\n",
    "countries_null = list(set(df_eci_countries[df_eci_countries['rank_eci'].isnull()]['iso']))\n",
    "countries_null"
   ]
  },
  {
   "cell_type": "code",
   "execution_count": 267,
   "metadata": {
    "collapsed": true
   },
   "outputs": [],
   "source": [
    "df_eci_countries = df_eci_countries.query(\"iso not in ['SRB']\")"
   ]
  },
  {
   "cell_type": "code",
   "execution_count": 268,
   "metadata": {
    "collapsed": false
   },
   "outputs": [
    {
     "data": {
      "text/html": [
       "<div>\n",
       "<table border=\"1\" class=\"dataframe\">\n",
       "  <thead>\n",
       "    <tr style=\"text-align: right;\">\n",
       "      <th></th>\n",
       "      <th>iso</th>\n",
       "      <th>year</th>\n",
       "      <th>rank_eci</th>\n",
       "      <th>name</th>\n",
       "    </tr>\n",
       "  </thead>\n",
       "  <tbody>\n",
       "    <tr>\n",
       "      <th>0</th>\n",
       "      <td>JPN</td>\n",
       "      <td>2003</td>\n",
       "      <td>1</td>\n",
       "      <td>Japan</td>\n",
       "    </tr>\n",
       "    <tr>\n",
       "      <th>1</th>\n",
       "      <td>DEU</td>\n",
       "      <td>2003</td>\n",
       "      <td>2</td>\n",
       "      <td>Germany</td>\n",
       "    </tr>\n",
       "    <tr>\n",
       "      <th>2</th>\n",
       "      <td>CHE</td>\n",
       "      <td>2003</td>\n",
       "      <td>3</td>\n",
       "      <td>Switzerland</td>\n",
       "    </tr>\n",
       "    <tr>\n",
       "      <th>3</th>\n",
       "      <td>KOR</td>\n",
       "      <td>2003</td>\n",
       "      <td>17</td>\n",
       "      <td>South Korea</td>\n",
       "    </tr>\n",
       "    <tr>\n",
       "      <th>4</th>\n",
       "      <td>SWE</td>\n",
       "      <td>2003</td>\n",
       "      <td>4</td>\n",
       "      <td>Sweden</td>\n",
       "    </tr>\n",
       "  </tbody>\n",
       "</table>\n",
       "</div>"
      ],
      "text/plain": [
       "   iso  year  rank_eci         name\n",
       "0  JPN  2003         1        Japan\n",
       "1  DEU  2003         2      Germany\n",
       "2  CHE  2003         3  Switzerland\n",
       "3  KOR  2003        17  South Korea\n",
       "4  SWE  2003         4       Sweden"
      ]
     },
     "execution_count": 268,
     "metadata": {},
     "output_type": "execute_result"
    }
   ],
   "source": [
    "df_eci_countries['rank_eci'] = df_eci_countries['rank_eci'].apply(lambda x: int(x))\n",
    "df_eci_countries.head()"
   ]
  },
  {
   "cell_type": "code",
   "execution_count": 269,
   "metadata": {
    "collapsed": true
   },
   "outputs": [],
   "source": [
    "# Save the file to generate visualizations later on\n",
    "df_eci_countries.to_csv('/Users/rvuillemot/Dev/vis-toolkit-datasets/data/atlas_eci_rankings_2004_2014.csv')"
   ]
  },
  {
   "cell_type": "markdown",
   "metadata": {},
   "source": [
    "# TODO: generate data for download using this format\n",
    "Will go on the sidebar for the page http://beta.atlas.cid.harvard.edu/rankings/\n",
    "<pre>\n",
    "rank,abbrv,country,eci_value,delta,year,growth_proj_annual_2024\n",
    "1,JPN,Japan,2.348182,0,2013,2.13\n",
    "2,CHE,Switzerland,2.331362,0,2013,3.62\n",
    "3,DEU,Germany,2.03559,0,2013,-1.33\n",
    "4,KOR,\"Korea, Rep.\",1.92968,1,2013,3.85\n",
    "5,SWE,Sweden,1.817256,-1,2013,2.6\n",
    "</pre>"
   ]
  },
  {
   "cell_type": "code",
   "execution_count": 155,
   "metadata": {
    "collapsed": false
   },
   "outputs": [],
   "source": [
    "df_export = df[['rank', 'countryname', 'iso']]\n",
    "url_rankings = '/Users/rvuillemot/Dev/atlas-economic-complexity/media/growth_projections/country_rankings_and_projections_2014.csv'\n",
    "df_export.to_csv(url_rankings, index = False)"
   ]
  },
  {
   "cell_type": "code",
   "execution_count": null,
   "metadata": {
    "collapsed": true
   },
   "outputs": [],
   "source": []
  },
  {
   "cell_type": "code",
   "execution_count": null,
   "metadata": {
    "collapsed": true
   },
   "outputs": [],
   "source": []
  },
  {
   "cell_type": "markdown",
   "metadata": {},
   "source": [
    "# Projections of GDP Growth to 2024 Rankings: Selected Top Countries"
   ]
  },
  {
   "cell_type": "code",
   "execution_count": 13,
   "metadata": {
    "collapsed": false
   },
   "outputs": [],
   "source": [
    "# from IPython.display import display, HTML\n",
    "# HTML(df.head().to_html())\n",
    "df['name'] = df['countryname']\n",
    "df.to_csv('/Users/rvuillemot/Dev/vis-toolkit-datasets/data/atlas_growth_projections_2024.csv')"
   ]
  },
  {
   "cell_type": "code",
   "execution_count": 14,
   "metadata": {
    "collapsed": false
   },
   "outputs": [
    {
     "data": {
      "text/html": [
       "<table border=\"1\" cellpadding=\"3\" cellspacing=\"0\"  style=\"border:1px solid black;border-collapse:collapse;\"><tr><td  style=\"background-color:LightGray;\"><b>Index</b></td><td  style=\"background-color:LightGray;\"><b>Country</b></td><td  style=\"background-color:LightGray;\"><b>countryname</b></td><td  style=\"background-color:LightGray;\"><b>year</b></td><td  style=\"background-color:LightGray;\"><b>value</b></td><td  style=\"background-color:LightGray;\"><b>rank</b></td><td  style=\"background-color:LightGray;\"><b>name</b></td></tr><tr><td  style=\"background-color:yellow;\">0</td><td  style=\"background-color:yellow;\">IND</td><td  style=\"background-color:yellow;\">India</td><td  style=\"background-color:yellow;\">2014</td><td  style=\"background-color:yellow;\">6.98</td><td  style=\"background-color:yellow;\">1</td><td  style=\"background-color:yellow;\">India</td></tr><tr><td  style=\"background-color:AliceBlue;\">1</td><td  style=\"background-color:AliceBlue;\">UGA</td><td  style=\"background-color:AliceBlue;\">Uganda</td><td  style=\"background-color:AliceBlue;\">2014</td><td  style=\"background-color:AliceBlue;\">6.04</td><td  style=\"background-color:AliceBlue;\">2</td><td  style=\"background-color:AliceBlue;\">Uganda</td></tr><tr><td  style=\"background-color:Ivory;\">2</td><td  style=\"background-color:Ivory;\">KEN</td><td  style=\"background-color:Ivory;\">Kenya</td><td  style=\"background-color:Ivory;\">2014</td><td  style=\"background-color:Ivory;\">6.0</td><td  style=\"background-color:Ivory;\">3</td><td  style=\"background-color:Ivory;\">Kenya</td></tr><tr><td  style=\"background-color:AliceBlue;\">3</td><td  style=\"background-color:AliceBlue;\">TZA</td><td  style=\"background-color:AliceBlue;\">Tanzania</td><td  style=\"background-color:AliceBlue;\">2014</td><td  style=\"background-color:AliceBlue;\">5.96</td><td  style=\"background-color:AliceBlue;\">4</td><td  style=\"background-color:AliceBlue;\">Tanzania</td></tr><tr><td  style=\"background-color:Ivory;\">4</td><td  style=\"background-color:Ivory;\">EGY</td><td  style=\"background-color:Ivory;\">Egypt,&nbspArab&nbspRep.</td><td  style=\"background-color:Ivory;\">2014</td><td  style=\"background-color:Ivory;\">5.83</td><td  style=\"background-color:Ivory;\">5</td><td  style=\"background-color:Ivory;\">Egypt,&nbspArab&nbspRep.</td></tr><tr><td  style=\"background-color:AliceBlue;\">5</td><td  style=\"background-color:AliceBlue;\">MDG</td><td  style=\"background-color:AliceBlue;\">Madagascar</td><td  style=\"background-color:AliceBlue;\">2014</td><td  style=\"background-color:AliceBlue;\">5.78</td><td  style=\"background-color:AliceBlue;\">6</td><td  style=\"background-color:AliceBlue;\">Madagascar</td></tr><tr><td  style=\"background-color:Ivory;\">6</td><td  style=\"background-color:Ivory;\">SEN</td><td  style=\"background-color:Ivory;\">Senegal</td><td  style=\"background-color:Ivory;\">2014</td><td  style=\"background-color:Ivory;\">5.77</td><td  style=\"background-color:Ivory;\">7</td><td  style=\"background-color:Ivory;\">Senegal</td></tr><tr><td  style=\"background-color:AliceBlue;\">7</td><td  style=\"background-color:AliceBlue;\">PHL</td><td  style=\"background-color:AliceBlue;\">Philippines</td><td  style=\"background-color:AliceBlue;\">2014</td><td  style=\"background-color:AliceBlue;\">5.68</td><td  style=\"background-color:AliceBlue;\">8</td><td  style=\"background-color:AliceBlue;\">Philippines</td></tr><tr><td  style=\"background-color:Ivory;\">8</td><td  style=\"background-color:Ivory;\">MWI</td><td  style=\"background-color:Ivory;\">Malawi</td><td  style=\"background-color:Ivory;\">2014</td><td  style=\"background-color:Ivory;\">5.66</td><td  style=\"background-color:Ivory;\">9</td><td  style=\"background-color:Ivory;\">Malawi</td></tr><tr><td  style=\"background-color:AliceBlue;\">9</td><td  style=\"background-color:AliceBlue;\">ZMB</td><td  style=\"background-color:AliceBlue;\">Zambia</td><td  style=\"background-color:AliceBlue;\">2014</td><td  style=\"background-color:AliceBlue;\">5.55</td><td  style=\"background-color:AliceBlue;\">10</td><td  style=\"background-color:AliceBlue;\">Zambia</td></tr></table>"
      ],
      "text/plain": [
       "<ipy_table.IpyTable at 0x10f23ee10>"
      ]
     },
     "execution_count": 14,
     "metadata": {},
     "output_type": "execute_result"
    }
   ],
   "source": [
    "# Generate a pretty table\n",
    "from ipy_table import *\n",
    "import numpy as np\n",
    "\n",
    "df_table = df[(df['year'] == '2014')].head(10).reset_index(drop=True).reset_index()\n",
    "table = df_table.as_matrix()\n",
    "\n",
    "header = np.asarray(df_table.columns)\n",
    "header[0] = 'Index'\n",
    "header[1] = 'Country'\n",
    "# df.rename(columns=lambda x: x[1:], inplace=True)\n",
    "table_with_header = np.concatenate(([header], table))\n",
    "\n",
    "# Basic themes\n",
    "# Detais http://nbviewer.ipython.org/github/epmoyer/ipy_table/blob/master/ipy_table-Introduction.ipynb\n",
    "make_table(table_with_header)\n",
    "apply_theme('basic')\n",
    "# Only show the top-10\n",
    "set_row_style(1, color='yellow')"
   ]
  },
  {
   "cell_type": "markdown",
   "metadata": {},
   "source": [
    "# Economic Complexity Index: Rank of Expected GDP Growth to 2024\n",
    "\n",
    "The geo-map below shows the expected GDP growth to 2024"
   ]
  },
  {
   "cell_type": "code",
   "execution_count": 21,
   "metadata": {
    "collapsed": false
   },
   "outputs": [
    {
     "data": {
      "text/html": [
       "\n",
       "        <iframe\n",
       "            width=\"900\"\n",
       "            height=\"450\"\n",
       "            src=\"https://cid-harvard.github.io/vis-toolkit/examples/geomap_and_tick.html\"\n",
       "            frameborder=\"0\"\n",
       "            allowfullscreen\n",
       "        ></iframe>\n",
       "        "
      ],
      "text/plain": [
       "<IPython.lib.display.IFrame at 0x10f23a240>"
      ]
     },
     "execution_count": 21,
     "metadata": {},
     "output_type": "execute_result"
    }
   ],
   "source": [
    "IFrame('https://cid-harvard.github.io/vis-toolkit/examples/geomap_and_tick.html', width=900, height=450)"
   ]
  },
  {
   "cell_type": "markdown",
   "metadata": {},
   "source": [
    "# Biggest Winners and Losers in Economic Complexity: 2004-2014\n"
   ]
  },
  {
   "cell_type": "code",
   "execution_count": null,
   "metadata": {
    "collapsed": true
   },
   "outputs": [],
   "source": []
  },
  {
   "cell_type": "code",
   "execution_count": 16,
   "metadata": {
    "collapsed": false
   },
   "outputs": [
    {
     "data": {
      "text/html": [
       "\n",
       "        <iframe\n",
       "            width=\"900\"\n",
       "            height=\"350\"\n",
       "            src=\"https://cid-harvard.github.io/vis-toolkit/examples/slopegraph_projections.html\"\n",
       "            frameborder=\"0\"\n",
       "            allowfullscreen\n",
       "        ></iframe>\n",
       "        "
      ],
      "text/plain": [
       "<IPython.lib.display.IFrame at 0x10f21e978>"
      ]
     },
     "execution_count": 16,
     "metadata": {},
     "output_type": "execute_result"
    }
   ],
   "source": [
    "IFrame('https://cid-harvard.github.io/vis-toolkit/examples/slopegraph_projections.html', width=900, height=350)"
   ]
  },
  {
   "cell_type": "markdown",
   "metadata": {},
   "source": [
    "# Economic Complexity Index: 2004-2014 Country Rankings\n",
    "\n",
    "The line chart below shows the changes in ECI between 2004 and"
   ]
  },
  {
   "cell_type": "code",
   "execution_count": 17,
   "metadata": {
    "collapsed": false
   },
   "outputs": [
    {
     "data": {
      "text/html": [
       "\n",
       "        <iframe\n",
       "            width=\"900\"\n",
       "            height=\"350\"\n",
       "            src=\"https://cid-harvard.github.io/vis-toolkit/examples/linechart_projections.html\"\n",
       "            frameborder=\"0\"\n",
       "            allowfullscreen\n",
       "        ></iframe>\n",
       "        "
      ],
      "text/plain": [
       "<IPython.lib.display.IFrame at 0x10f21e828>"
      ]
     },
     "execution_count": 17,
     "metadata": {},
     "output_type": "execute_result"
    }
   ],
   "source": [
    "IFrame('https://cid-harvard.github.io/vis-toolkit/examples/linechart_projections.html', width=900, height=350)"
   ]
  },
  {
   "cell_type": "markdown",
   "metadata": {
    "collapsed": false
   },
   "source": [
    "# Ranking of ECI by country and grid of countries"
   ]
  },
  {
   "cell_type": "code",
   "execution_count": 18,
   "metadata": {
    "collapsed": false
   },
   "outputs": [
    {
     "data": {
      "text/html": [
       "\n",
       "        <iframe\n",
       "            width=\"900\"\n",
       "            height=\"550\"\n",
       "            src=\"https://cid-harvard.github.io/vis-toolkit/examples/barchart_vertical_projections.html\"\n",
       "            frameborder=\"0\"\n",
       "            allowfullscreen\n",
       "        ></iframe>\n",
       "        "
      ],
      "text/plain": [
       "<IPython.lib.display.IFrame at 0x10f21ed30>"
      ]
     },
     "execution_count": 18,
     "metadata": {},
     "output_type": "execute_result"
    }
   ],
   "source": [
    "IFrame('https://cid-harvard.github.io/vis-toolkit/examples/barchart_vertical_projections.html', width=900, height=550)"
   ]
  },
  {
   "cell_type": "markdown",
   "metadata": {
    "collapsed": true
   },
   "source": [
    "# How many countries report their data every year?"
   ]
  },
  {
   "cell_type": "code",
   "execution_count": 19,
   "metadata": {
    "collapsed": false
   },
   "outputs": [
    {
     "data": {
      "text/html": [
       "\n",
       "        <iframe\n",
       "            width=\"900\"\n",
       "            height=\"550\"\n",
       "            src=\"https://cid-harvard.github.io/vis-toolkit/examples/barchart_histogram.html\"\n",
       "            frameborder=\"0\"\n",
       "            allowfullscreen\n",
       "        ></iframe>\n",
       "        "
      ],
      "text/plain": [
       "<IPython.lib.display.IFrame at 0x10f23a630>"
      ]
     },
     "execution_count": 19,
     "metadata": {},
     "output_type": "execute_result"
    }
   ],
   "source": [
    "IFrame('https://cid-harvard.github.io/vis-toolkit/examples/barchart_histogram.html', width=900, height=550)"
   ]
  },
  {
   "cell_type": "code",
   "execution_count": null,
   "metadata": {
    "collapsed": true
   },
   "outputs": [],
   "source": []
  },
  {
   "cell_type": "code",
   "execution_count": null,
   "metadata": {
    "collapsed": true
   },
   "outputs": [],
   "source": []
  },
  {
   "cell_type": "code",
   "execution_count": null,
   "metadata": {
    "collapsed": true
   },
   "outputs": [],
   "source": []
  }
 ],
 "metadata": {
  "kernelspec": {
   "display_name": "Python 3",
   "language": "python",
   "name": "python3"
  },
  "language_info": {
   "codemirror_mode": {
    "name": "ipython",
    "version": 3
   },
   "file_extension": ".py",
   "mimetype": "text/x-python",
   "name": "python",
   "nbconvert_exporter": "python",
   "pygments_lexer": "ipython3",
   "version": "3.4.3"
  }
 },
 "nbformat": 4,
 "nbformat_minor": 0
}
