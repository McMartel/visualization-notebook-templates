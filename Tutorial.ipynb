{
 "cells": [
  {
   "cell_type": "markdown",
   "metadata": {},
   "source": [
    "# Generating your own atlas-like interactive visualizations"
   ]
  },
  {
   "cell_type": "markdown",
   "metadata": {},
   "source": [
    "This guide will show you how to generate your own interactive visualizations. The idea is that you should be able to copy this notebook, remove the parts you don't need and modify it slightly to get the graphs you need.\n",
    "\n",
    "First you must follow the \"setup\" guide here to install what's necessary:\n",
    "https://github.com/cid-harvard/visualization-notebook-templates#setup"
   ]
  },
  {
   "cell_type": "markdown",
   "metadata": {},
   "source": [
    "### How to use this notebook"
   ]
  },
  {
   "cell_type": "markdown",
   "metadata": {},
   "source": [
    "This notebook is really a program - as you read through it, you can run a code snippet by clicking on a cell hitting the little play button on top. An easier way is to keep pressing `shift+Enter` as you read through to run every cell one by one - you should see the cell run and then the selection box advance to the next cell!"
   ]
  },
  {
   "cell_type": "markdown",
   "metadata": {},
   "source": [
    "A quick note, there's a small bug when viewing charts in a notebook specifically where when you run a new graph, the tooltips for the old ones stop working - you can get it to work again by simply running the cell containing the visualization again!"
   ]
  },
  {
   "cell_type": "markdown",
   "metadata": {},
   "source": [
    "### Getting started"
   ]
  },
  {
   "cell_type": "markdown",
   "metadata": {},
   "source": [
    "To start, we load the necessary libraries that do most of the heavy lifting:"
   ]
  },
  {
   "cell_type": "code",
   "execution_count": 1,
   "metadata": {
    "collapsed": true
   },
   "outputs": [],
   "source": [
    "import sys\n",
    "sys.path.append(\"./modules\")\n",
    "import d3plus2 as d3plus\n",
    "import pandas as pd"
   ]
  },
  {
   "cell_type": "markdown",
   "metadata": {},
   "source": [
    "### A quick teaser\n",
    "\n",
    "Before we start, here is a tiny self-contained example to show you how quick and easy it is. Then we'll dive in depth with a more complete example and many different variations. Here is all the code you need to draw a treemap:"
   ]
  },
  {
   "cell_type": "code",
   "execution_count": 2,
   "metadata": {
    "collapsed": false
   },
   "outputs": [
    {
     "data": {
      "text/html": [
       "<div id='d3plus_div_85207' style='height:600px;'></div>"
      ],
      "text/plain": [
       "<IPython.core.display.HTML object>"
      ]
     },
     "metadata": {},
     "output_type": "display_data"
    },
    {
     "data": {
      "application/javascript": [
       "$.getScript(\"http://www.d3plus.org/js/d3.js\", function () {\n",
       "$.getScript(\"http://www.d3plus.org/js/d3plus.js\", function () {\n",
       "\n",
       "        (function (){\n",
       "\n",
       "          debugger;\n",
       "\n",
       "          var viz_data = [{\"name\":111,\"share\":0.1430925,\"groups\":1,\"presence\":0,\"description\":\"Growing of cereals (except rice), leguminous crops and oil seeds\",\"color\":\"#F0411A\"},{\"name\":112,\"share\":0.1430925,\"groups\":1,\"presence\":0,\"description\":\"Growing of rice\",\"color\":\"#1FA454\"},{\"name\":113,\"share\":0.1906015,\"groups\":1,\"presence\":0,\"description\":\"Growing of vegetables and melons, roots and tubers\",\"color\":\"#F0411A\"},{\"name\":114,\"share\":0.1430925,\"groups\":1,\"presence\":0,\"description\":\"Growing of sugar cane\",\"color\":\"#1FA454\"},{\"name\":115,\"share\":0.1430925,\"groups\":1,\"presence\":0,\"description\":\"Growing of tobacco\",\"color\":\"#1FA454\"},{\"name\":116,\"share\":0.1430925,\"groups\":1,\"presence\":1,\"description\":\"Growing of fibre crops\",\"color\":\"#1FA454\"},{\"name\":119,\"share\":0.1906015,\"groups\":1,\"presence\":0,\"description\":\"Growing of other non-perennial crops\",\"color\":\"#1FA454\"},{\"name\":121,\"share\":0.4050238,\"groups\":1,\"presence\":0,\"description\":\"Growing of fruits\",\"color\":\"#F0411A\"},{\"name\":126,\"share\":0.2145955,\"groups\":1,\"presence\":0,\"description\":\"Growing of oleaginous fruits\",\"color\":\"#1FA454\"},{\"name\":127,\"share\":0.071503,\"groups\":1,\"presence\":0,\"description\":\"Growing of beverage crops\",\"color\":\"#F0411A\"},{\"name\":128,\"share\":0.2621044,\"groups\":1,\"presence\":0,\"description\":\"Growing of spices, aromatic, drug and pharmaceutical crops\",\"color\":\"#1FA454\"},{\"name\":129,\"share\":0.2229184,\"groups\":1,\"presence\":0,\"description\":\"Growing of other perennial crops\",\"color\":\"#F0411A\"},{\"name\":130,\"share\":0.0798259,\"groups\":1,\"presence\":0,\"description\":\"Plant propagation\",\"color\":\"#1FA454\"},{\"name\":141,\"share\":0.0284492,\"groups\":2,\"presence\":0,\"description\":\"Raising of cattle and buffaloes\",\"color\":\"#F0411A\"},{\"name\":142,\"share\":0.0284492,\"groups\":2,\"presence\":0,\"description\":\"Raising of horses and other equines\",\"color\":\"#F0411A\"},{\"name\":143,\"share\":0.0228033,\"groups\":2,\"presence\":0,\"description\":\"Raising of camels and camelids\",\"color\":\"#1FA454\"},{\"name\":145,\"share\":0.0228033,\"groups\":2,\"presence\":0,\"description\":\"Raising of swine\\/pigs\",\"color\":\"#F0411A\"},{\"name\":146,\"share\":0.0228033,\"groups\":2,\"presence\":0,\"description\":\"Raising of poultry\",\"color\":\"#1FA454\"},{\"name\":149,\"share\":0.0512525,\"groups\":2,\"presence\":0,\"description\":\"Raising of other animals\",\"color\":\"#F0411A\"},{\"name\":163,\"share\":0.1430925,\"groups\":3,\"presence\":0,\"description\":\"Post-harvest crop activities\",\"color\":\"#1FA454\"},{\"name\":210,\"share\":0.032317,\"groups\":3,\"presence\":0,\"description\":\"Silviculture and other forestry activities\",\"color\":\"#1FA454\"},{\"name\":220,\"share\":0.1836459,\"groups\":3,\"presence\":0,\"description\":\"Logging\",\"color\":\"#F0411A\"},{\"name\":240,\"share\":0.032317,\"groups\":3,\"presence\":0,\"description\":\"Support services to forestry\",\"color\":\"#F0411A\"},{\"name\":321,\"share\":0.0228033,\"groups\":4,\"presence\":0,\"description\":\"Marine aquaculture\",\"color\":\"#1FA454\"},{\"name\":322,\"share\":0.0228033,\"groups\":4,\"presence\":0,\"description\":\"Freshwater aquaculture\",\"color\":\"#F0411A\"},{\"name\":510,\"share\":0.2560535,\"groups\":5,\"presence\":0,\"description\":\"Mining of hard coal\",\"color\":\"#F0411A\"},{\"name\":520,\"share\":0.0075799,\"groups\":5,\"presence\":1,\"description\":\"Mining of lignite\",\"color\":\"#F0411A\"},{\"name\":610,\"share\":3.569337,\"groups\":6,\"presence\":0,\"description\":\"Extraction of crude petroleum\",\"color\":\"#1FA454\"},{\"name\":620,\"share\":3.569337,\"groups\":6,\"presence\":0,\"description\":\"Extraction of natural gas\",\"color\":\"#1FA454\"},{\"name\":710,\"share\":0.3029392,\"groups\":5,\"presence\":0,\"description\":\"Mining of iron ores\",\"color\":\"#1FA454\"},{\"name\":721,\"share\":0.0019663,\"groups\":5,\"presence\":1,\"description\":\"Mining of uranium and thorium ores\",\"color\":\"#1FA454\"},{\"name\":729,\"share\":0.3171549,\"groups\":5,\"presence\":0,\"description\":\"Mining of other non-ferrous metal ores\",\"color\":\"#F0411A\"},{\"name\":810,\"share\":0.2136381,\"groups\":5,\"presence\":0,\"description\":\"Quarrying of stone, sand and clay\",\"color\":\"#1FA454\"},{\"name\":891,\"share\":0.0515551,\"groups\":5,\"presence\":0,\"description\":\"Mining of chemical and fertilizer minerals\",\"color\":\"#F0411A\"},{\"name\":892,\"share\":0.0043267,\"groups\":5,\"presence\":0,\"description\":\"Extraction of peat\",\"color\":\"#F0411A\"},{\"name\":893,\"share\":0.0102442,\"groups\":5,\"presence\":0,\"description\":\"Extraction of salt\",\"color\":\"#F0411A\"},{\"name\":899,\"share\":0.1657352,\"groups\":5,\"presence\":0,\"description\":\"Other mining and quarrying n.e.c.\",\"color\":\"#F0411A\"},{\"name\":910,\"share\":3.56956,\"groups\":6,\"presence\":1,\"description\":\"Support activities for petroleum and natural gas extraction\",\"color\":\"#1FA454\"},{\"name\":990,\"share\":1.165681,\"groups\":6,\"presence\":1,\"description\":\"Support activities for other mining and quarrying\",\"color\":\"#1FA454\"},{\"name\":1010,\"share\":0.8708228,\"groups\":7,\"presence\":0,\"description\":\"Processing and preserving of meat\",\"color\":\"#1FA454\"},{\"name\":1020,\"share\":0.3500364,\"groups\":7,\"presence\":1,\"description\":\"Processing and preserving of fish, crustaceans and molluscs\",\"color\":\"#F0411A\"},{\"name\":1030,\"share\":0.3212544,\"groups\":7,\"presence\":0,\"description\":\"Processing and preserving of fruit and vegetables\",\"color\":\"#1FA454\"},{\"name\":1040,\"share\":0.8009267,\"groups\":7,\"presence\":0,\"description\":\"Manufacture of vegetable and animal oils and fats\",\"color\":\"#F0411A\"},{\"name\":1050,\"share\":0.4955234,\"groups\":7,\"presence\":0,\"description\":\"Manufacture of dairy products\",\"color\":\"#1FA454\"},{\"name\":1061,\"share\":0.2098756,\"groups\":7,\"presence\":0,\"description\":\"Manufacture of grain mill products\",\"color\":\"#1FA454\"},{\"name\":1062,\"share\":0.0720884,\"groups\":7,\"presence\":0,\"description\":\"Manufacture of starches and starch products\",\"color\":\"#1FA454\"},{\"name\":1071,\"share\":0.2861524,\"groups\":7,\"presence\":0,\"description\":\"Manufacture of bakery products\",\"color\":\"#F0411A\"},{\"name\":1072,\"share\":0.1926025,\"groups\":7,\"presence\":0,\"description\":\"Manufacture of sugar\",\"color\":\"#F0411A\"},{\"name\":1073,\"share\":0.2607698,\"groups\":7,\"presence\":0,\"description\":\"Manufacture of cocoa, chocolate and sugar confectionery\",\"color\":\"#1FA454\"},{\"name\":1074,\"share\":0.0236052,\"groups\":7,\"presence\":1,\"description\":\"Manufacture of macaroni, noodles, couscous and similar farinaceous products\",\"color\":\"#1FA454\"},{\"name\":1075,\"share\":0.694896,\"groups\":7,\"presence\":0,\"description\":\"Manufacture of prepared meals and dishes\",\"color\":\"#F0411A\"},{\"name\":1079,\"share\":0.2896914,\"groups\":7,\"presence\":0,\"description\":\"Manufacture of other food products n.e.c.\",\"color\":\"#1FA454\"},{\"name\":1080,\"share\":0.1438382,\"groups\":7,\"presence\":0,\"description\":\"Manufacture of prepared animal feeds\",\"color\":\"#F0411A\"},{\"name\":1101,\"share\":0.1107894,\"groups\":7,\"presence\":1,\"description\":\"Distilling, rectifying and blending of spirits\",\"color\":\"#1FA454\"},{\"name\":1102,\"share\":0.2848489,\"groups\":7,\"presence\":0,\"description\":\"Manufacture of wines\",\"color\":\"#F0411A\"},{\"name\":1103,\"share\":0.0995307,\"groups\":7,\"presence\":1,\"description\":\"Manufacture of malt liquors and malt\",\"color\":\"#F0411A\"},{\"name\":1104,\"share\":0.1119612,\"groups\":7,\"presence\":1,\"description\":\"Manufacture of soft drinks, production of mineral waters and other bottled waters\",\"color\":\"#F0411A\"},{\"name\":1200,\"share\":0.1779701,\"groups\":7,\"presence\":0,\"description\":\"Manufacture of tobacco products\",\"color\":\"#F0411A\"},{\"name\":1311,\"share\":0.3261331,\"groups\":8,\"presence\":0,\"description\":\"Preparation and spinning of textile fibres\",\"color\":\"#1FA454\"},{\"name\":1312,\"share\":0.3698157,\"groups\":8,\"presence\":0,\"description\":\"Weaving of textiles\",\"color\":\"#F0411A\"},{\"name\":1313,\"share\":0.6866623,\"groups\":8,\"presence\":1,\"description\":\"Finishing of textiles\",\"color\":\"#1FA454\"},{\"name\":1391,\"share\":0.361136,\"groups\":8,\"presence\":0,\"description\":\"Manufacture of knitted and crocheted fabrics\",\"color\":\"#1FA454\"},{\"name\":1392,\"share\":0.8748907,\"groups\":8,\"presence\":0,\"description\":\"Manufacture of made-up textile articles, except apparel\",\"color\":\"#F0411A\"},{\"name\":1393,\"share\":0.0816427,\"groups\":8,\"presence\":0,\"description\":\"Manufacture of carpets and rugs\",\"color\":\"#1FA454\"},{\"name\":1394,\"share\":0.0110925,\"groups\":8,\"presence\":0,\"description\":\"Manufacture of cordage, rope, twine and netting\",\"color\":\"#F0411A\"},{\"name\":1399,\"share\":0.1128592,\"groups\":8,\"presence\":0,\"description\":\"Manufacture of other textiles n.e.c.\",\"color\":\"#F0411A\"},{\"name\":1410,\"share\":0.6009338,\"groups\":8,\"presence\":0,\"description\":\"Manufacture of wearing apparel, except fur apparel\",\"color\":\"#1FA454\"},{\"name\":1420,\"share\":0.0160805,\"groups\":8,\"presence\":0,\"description\":\"Manufacture of articles of fur\",\"color\":\"#1FA454\"},{\"name\":1430,\"share\":0.361136,\"groups\":8,\"presence\":0,\"description\":\"Manufacture of knitted and crocheted apparel\",\"color\":\"#1FA454\"},{\"name\":1511,\"share\":0.1480537,\"groups\":8,\"presence\":0,\"description\":\"Tanning and dressing of leather, dressing and dyeing of fur\",\"color\":\"#1FA454\"},{\"name\":1512,\"share\":0.3182951,\"groups\":8,\"presence\":0,\"description\":\"Manufacture of luggage, handbags and the like, saddlery and harness\",\"color\":\"#F0411A\"},{\"name\":1520,\"share\":0.1183801,\"groups\":8,\"presence\":1,\"description\":\"Manufacture of footwear\",\"color\":\"#1FA454\"},{\"name\":1610,\"share\":0.2777735,\"groups\":9,\"presence\":1,\"description\":\"Sawmilling and planing of wood\",\"color\":\"#1FA454\"},{\"name\":1621,\"share\":0.1974246,\"groups\":9,\"presence\":0,\"description\":\"Manufacture of veneer sheets and wood-based panels\",\"color\":\"#F0411A\"},{\"name\":1622,\"share\":0.076048,\"groups\":9,\"presence\":0,\"description\":\"Manufacture of builders' carpentry and joinery\",\"color\":\"#1FA454\"},{\"name\":1623,\"share\":0.0101637,\"groups\":9,\"presence\":0,\"description\":\"Manufacture of wooden containers\",\"color\":\"#F0411A\"},{\"name\":1629,\"share\":0.1716431,\"groups\":9,\"presence\":0,\"description\":\"Manufacture of other products of wood, manufacture of articles of cork, straw and plaiting materials\",\"color\":\"#F0411A\"},{\"name\":1701,\"share\":0.867439,\"groups\":9,\"presence\":0,\"description\":\"Manufacture of pulp, paper and paperboard\",\"color\":\"#F0411A\"},{\"name\":1702,\"share\":0.1235005,\"groups\":9,\"presence\":0,\"description\":\"Manufacture of corrugated paper and paperboard and of containers of paper and paperboard\",\"color\":\"#F0411A\"},{\"name\":1709,\"share\":0.2261563,\"groups\":9,\"presence\":0,\"description\":\"Manufacture of other articles of paper and paperboard\",\"color\":\"#1FA454\"},{\"name\":1811,\"share\":0.1132971,\"groups\":9,\"presence\":0,\"description\":\"Printing\",\"color\":\"#1FA454\"},{\"name\":1812,\"share\":0.0027602,\"groups\":9,\"presence\":0,\"description\":\"Service activities related to printing\",\"color\":\"#1FA454\"},{\"name\":1910,\"share\":1.735898,\"groups\":10,\"presence\":1,\"description\":\"Manufacture of coke oven products\",\"color\":\"#1FA454\"},{\"name\":1920,\"share\":7.436335,\"groups\":10,\"presence\":0,\"description\":\"Manufacture of refined petroleum products\",\"color\":\"#F0411A\"},{\"name\":2011,\"share\":1.990155,\"groups\":10,\"presence\":0,\"description\":\"Manufacture of basic chemicals\",\"color\":\"#F0411A\"},{\"name\":2012,\"share\":0.2494286,\"groups\":10,\"presence\":0,\"description\":\"Manufacture of fertilizers and nitrogen compounds\",\"color\":\"#1FA454\"},{\"name\":2013,\"share\":1.75305,\"groups\":10,\"presence\":0,\"description\":\"Manufacture of plastics and synthetic rubber in primary forms\",\"color\":\"#1FA454\"},{\"name\":2021,\"share\":0.1859824,\"groups\":10,\"presence\":0,\"description\":\"Manufacture of pesticides and other agrochemical products\",\"color\":\"#F0411A\"},{\"name\":2022,\"share\":0.2755714,\"groups\":10,\"presence\":1,\"description\":\"Manufacture of paints, varnishes and similar coatings, printing ink and mastics\",\"color\":\"#F0411A\"},{\"name\":2023,\"share\":0.7085897,\"groups\":10,\"presence\":0,\"description\":\"Manufacture of soap and detergents, cleaning and polishing preparations, perfumes and toilet preparations\",\"color\":\"#F0411A\"},{\"name\":2029,\"share\":0.1985293,\"groups\":10,\"presence\":1,\"description\":\"Manufacture of other chemical products n.e.c.\",\"color\":\"#F0411A\"},{\"name\":2030,\"share\":0.1783456,\"groups\":10,\"presence\":0,\"description\":\"Manufacture of man-made fibres\",\"color\":\"#1FA454\"},{\"name\":2100,\"share\":1.67511,\"groups\":10,\"presence\":1,\"description\":\"Manufacture of pharmaceuticals, medicinal chemical and botanical products\",\"color\":\"#F0411A\"},{\"name\":2211,\"share\":0.5221991,\"groups\":10,\"presence\":0,\"description\":\"Manufacture of rubber tyres and tubes, retreading and rebuilding of rubber tyres\",\"color\":\"#1FA454\"},{\"name\":2219,\"share\":0.3200628,\"groups\":10,\"presence\":0,\"description\":\"Manufacture of other rubber products\",\"color\":\"#F0411A\"},{\"name\":2220,\"share\":0.6709752,\"groups\":10,\"presence\":0,\"description\":\"Manufacture of plastics products\",\"color\":\"#F0411A\"},{\"name\":2310,\"share\":0.197503,\"groups\":9,\"presence\":0,\"description\":\"Manufacture of glass and glass products\",\"color\":\"#F0411A\"},{\"name\":2391,\"share\":0.0588578,\"groups\":9,\"presence\":0,\"description\":\"Manufacture of refractory products\",\"color\":\"#1FA454\"},{\"name\":2392,\"share\":0.1770583,\"groups\":9,\"presence\":1,\"description\":\"Manufacture of clay building materials\",\"color\":\"#F0411A\"},{\"name\":2393,\"share\":0.0637549,\"groups\":9,\"presence\":0,\"description\":\"Manufacture of other porcelain and ceramic products\",\"color\":\"#F0411A\"},{\"name\":2394,\"share\":0.0742944,\"groups\":9,\"presence\":0,\"description\":\"Manufacture of cement, lime and plaster\",\"color\":\"#F0411A\"},{\"name\":2395,\"share\":0.0579211,\"groups\":9,\"presence\":0,\"description\":\"Manufacture of articles of concrete, cement and plaster\",\"color\":\"#F0411A\"},{\"name\":2396,\"share\":0.0762412,\"groups\":9,\"presence\":0,\"description\":\"Cutting, shaping and finishing of stone\",\"color\":\"#1FA454\"},{\"name\":2399,\"share\":0.0436826,\"groups\":9,\"presence\":0,\"description\":\"Manufacture of other non-metallic mineral products n.e.c.\",\"color\":\"#1FA454\"},{\"name\":2410,\"share\":1.308805,\"groups\":9,\"presence\":0,\"description\":\"Manufacture of basic iron and steel\",\"color\":\"#F0411A\"},{\"name\":2420,\"share\":4.197103,\"groups\":9,\"presence\":0,\"description\":\"Manufacture of basic precious and other non-ferrous metals\",\"color\":\"#F0411A\"},{\"name\":2431,\"share\":1.308805,\"groups\":9,\"presence\":0,\"description\":\"Casting of iron and steel\",\"color\":\"#1FA454\"},{\"name\":2511,\"share\":0.1804743,\"groups\":11,\"presence\":1,\"description\":\"Manufacture of structural metal products\",\"color\":\"#1FA454\"},{\"name\":2512,\"share\":0.028935,\"groups\":11,\"presence\":0,\"description\":\"Manufacture of tanks, reservoirs and containers of metal\",\"color\":\"#F0411A\"},{\"name\":2513,\"share\":0.0218223,\"groups\":11,\"presence\":0,\"description\":\"Manufacture of steam generators, except central heating hot water boilers\",\"color\":\"#1FA454\"},{\"name\":2520,\"share\":0.0186667,\"groups\":11,\"presence\":0,\"description\":\"Manufacture of weapons and ammunition\",\"color\":\"#F0411A\"},{\"name\":2593,\"share\":0.3328179,\"groups\":11,\"presence\":0,\"description\":\"Manufacture of cutlery, hand tools and general hardware\",\"color\":\"#1FA454\"},{\"name\":2599,\"share\":0.4066733,\"groups\":11,\"presence\":1,\"description\":\"Manufacture of other fabricated metal products n.e.c.\",\"color\":\"#F0411A\"},{\"name\":2610,\"share\":2.846527,\"groups\":12,\"presence\":1,\"description\":\"Manufacture of electronic components and boards\",\"color\":\"#1FA454\"},{\"name\":2620,\"share\":0.7310134,\"groups\":12,\"presence\":0,\"description\":\"Manufacture of computers and peripheral equipment\",\"color\":\"#1FA454\"},{\"name\":2630,\"share\":0.7390547,\"groups\":12,\"presence\":0,\"description\":\"Manufacture of communication equipment\",\"color\":\"#1FA454\"},{\"name\":2640,\"share\":0.2990181,\"groups\":12,\"presence\":0,\"description\":\"Manufacture of consumer electronics\",\"color\":\"#1FA454\"},{\"name\":2651,\"share\":0.7271011,\"groups\":12,\"presence\":1,\"description\":\"Manufacture of measuring, testing, navigating and control equipment\",\"color\":\"#1FA454\"},{\"name\":2652,\"share\":0.0674489,\"groups\":12,\"presence\":1,\"description\":\"Manufacture of watches and clocks\",\"color\":\"#1FA454\"},{\"name\":2660,\"share\":0.1844139,\"groups\":12,\"presence\":0,\"description\":\"Manufacture of irradiation, electromedical and electrotherapeutic equipment\",\"color\":\"#F0411A\"},{\"name\":2670,\"share\":0.5392951,\"groups\":12,\"presence\":0,\"description\":\"Manufacture of optical instruments and photographic equipment\",\"color\":\"#F0411A\"},{\"name\":2680,\"share\":0.1713986,\"groups\":12,\"presence\":0,\"description\":\"Manufacture of magnetic and optical media\",\"color\":\"#F0411A\"},{\"name\":2710,\"share\":0.3556138,\"groups\":12,\"presence\":0,\"description\":\"Manufacture of electric motors, generators, transformers and electricity distribution and control apparatus\",\"color\":\"#1FA454\"},{\"name\":2720,\"share\":0.1213941,\"groups\":12,\"presence\":0,\"description\":\"Manufacture of batteries and accumulators\",\"color\":\"#F0411A\"},{\"name\":2731,\"share\":0.2812103,\"groups\":12,\"presence\":0,\"description\":\"Manufacture of fibre optic cables\",\"color\":\"#F0411A\"},{\"name\":2732,\"share\":0.1106966,\"groups\":12,\"presence\":0,\"description\":\"Manufacture of other electronic and electric wires and cables\",\"color\":\"#F0411A\"},{\"name\":2733,\"share\":0.5363343,\"groups\":12,\"presence\":0,\"description\":\"Manufacture of wiring devices\",\"color\":\"#F0411A\"},{\"name\":2740,\"share\":0.1675674,\"groups\":12,\"presence\":1,\"description\":\"Manufacture of electric lighting equipment\",\"color\":\"#F0411A\"},{\"name\":2750,\"share\":0.2722255,\"groups\":12,\"presence\":0,\"description\":\"Manufacture of domestic appliances\",\"color\":\"#1FA454\"},{\"name\":2790,\"share\":1.854746,\"groups\":12,\"presence\":1,\"description\":\"Manufacture of other electrical equipment\",\"color\":\"#1FA454\"},{\"name\":2811,\"share\":1.869606,\"groups\":11,\"presence\":1,\"description\":\"Manufacture of engines and turbines, except aircraft, vehicle and cycle engines\",\"color\":\"#1FA454\"},{\"name\":2812,\"share\":0.4951934,\"groups\":11,\"presence\":1,\"description\":\"Manufacture of fluid power equipment\",\"color\":\"#1FA454\"},{\"name\":2813,\"share\":0.2483973,\"groups\":11,\"presence\":0,\"description\":\"Manufacture of other pumps, compressors, taps and valves\",\"color\":\"#1FA454\"},{\"name\":2814,\"share\":0.1688788,\"groups\":11,\"presence\":1,\"description\":\"Manufacture of bearings, gears, gearing and driving elements\",\"color\":\"#F0411A\"},{\"name\":2815,\"share\":0.2954737,\"groups\":11,\"presence\":0,\"description\":\"Manufacture of ovens, furnaces and furnace burners\",\"color\":\"#F0411A\"},{\"name\":2816,\"share\":0.20519,\"groups\":11,\"presence\":0,\"description\":\"Manufacture of lifting and handling equipment\",\"color\":\"#F0411A\"},{\"name\":2817,\"share\":1.532751,\"groups\":11,\"presence\":1,\"description\":\"Manufacture of office machinery and equipment (except computers and peripheral equipment)\",\"color\":\"#1FA454\"},{\"name\":2818,\"share\":0.0998262,\"groups\":11,\"presence\":0,\"description\":\"Manufacture of power-driven hand tools\",\"color\":\"#F0411A\"},{\"name\":2819,\"share\":0.784707,\"groups\":11,\"presence\":0,\"description\":\"Manufacture of other general-purpose machinery\",\"color\":\"#1FA454\"},{\"name\":2821,\"share\":0.1365795,\"groups\":11,\"presence\":0,\"description\":\"Manufacture of agricultural and forestry machinery\",\"color\":\"#F0411A\"},{\"name\":2822,\"share\":0.1691096,\"groups\":11,\"presence\":0,\"description\":\"Manufacture of metal-forming machinery and machine tools\",\"color\":\"#1FA454\"},{\"name\":2823,\"share\":0.0185065,\"groups\":11,\"presence\":0,\"description\":\"Manufacture of machinery for metallurgy\",\"color\":\"#F0411A\"},{\"name\":2824,\"share\":0.2559983,\"groups\":11,\"presence\":0,\"description\":\"Manufacture of machinery for mining, quarrying and construction\",\"color\":\"#F0411A\"},{\"name\":2825,\"share\":0.073414,\"groups\":11,\"presence\":0,\"description\":\"Manufacture of machinery for food, beverage and tobacco processing\",\"color\":\"#F0411A\"},{\"name\":2826,\"share\":0.188278,\"groups\":11,\"presence\":0,\"description\":\"Manufacture of machinery for textile, apparel and leather production\",\"color\":\"#1FA454\"},{\"name\":2829,\"share\":0.9947925,\"groups\":11,\"presence\":0,\"description\":\"Manufacture of other special-purpose machinery\",\"color\":\"#1FA454\"},{\"name\":2910,\"share\":5.128294,\"groups\":11,\"presence\":0,\"description\":\"Manufacture of motor vehicles\",\"color\":\"#F0411A\"},{\"name\":2920,\"share\":0.0931919,\"groups\":11,\"presence\":0,\"description\":\"Manufacture of bodies (coachwork) for motor vehicles, manufacture of trailers and semi-trailers\",\"color\":\"#F0411A\"},{\"name\":2930,\"share\":0.9347179,\"groups\":11,\"presence\":0,\"description\":\"Manufacture of parts and accessories for motor vehicles\",\"color\":\"#F0411A\"},{\"name\":3011,\"share\":0.4454988,\"groups\":11,\"presence\":0,\"description\":\"Building of ships and floating structures\",\"color\":\"#F0411A\"},{\"name\":3012,\"share\":0.0251099,\"groups\":11,\"presence\":0,\"description\":\"Building of pleasure and sporting boats\",\"color\":\"#F0411A\"},{\"name\":3020,\"share\":0.2613619,\"groups\":11,\"presence\":0,\"description\":\"Manufacture of railway locomotives and rolling stock\",\"color\":\"#1FA454\"},{\"name\":3030,\"share\":0.5636458,\"groups\":11,\"presence\":0,\"description\":\"Manufacture of air and spacecraft and related machinery\",\"color\":\"#1FA454\"},{\"name\":3040,\"share\":0.0186667,\"groups\":11,\"presence\":0,\"description\":\"Manufacture of military fighting vehicles\",\"color\":\"#F0411A\"},{\"name\":3091,\"share\":0.0626862,\"groups\":11,\"presence\":0,\"description\":\"Manufacture of motorcycles\",\"color\":\"#F0411A\"},{\"name\":3092,\"share\":0.1395551,\"groups\":11,\"presence\":0,\"description\":\"Manufacture of bicycles and invalid carriages\",\"color\":\"#F0411A\"},{\"name\":3099,\"share\":0.0038107,\"groups\":11,\"presence\":0,\"description\":\"Manufacture of other transport equipment n.e.c.\",\"color\":\"#F0411A\"},{\"name\":3100,\"share\":0.1004454,\"groups\":11,\"presence\":1,\"description\":\"Manufacture of furniture\",\"color\":\"#F0411A\"},{\"name\":3211,\"share\":0.8920283,\"groups\":11,\"presence\":0,\"description\":\"Manufacture of jewellery and related articles\",\"color\":\"#F0411A\"},{\"name\":3212,\"share\":0.0945797,\"groups\":11,\"presence\":0,\"description\":\"Manufacture of imitation jewellery and related articles\",\"color\":\"#1FA454\"},{\"name\":3220,\"share\":0.0190945,\"groups\":11,\"presence\":0,\"description\":\"Manufacture of musical instruments\",\"color\":\"#1FA454\"},{\"name\":3230,\"share\":0.1952664,\"groups\":11,\"presence\":1,\"description\":\"Manufacture of sports goods\",\"color\":\"#1FA454\"},{\"name\":3240,\"share\":0.075573,\"groups\":11,\"presence\":0,\"description\":\"Manufacture of games and toys\",\"color\":\"#F0411A\"},{\"name\":3250,\"share\":2.531026,\"groups\":11,\"presence\":0,\"description\":\"Manufacture of medical and dental instruments and supplies\",\"color\":\"#1FA454\"},{\"name\":3290,\"share\":1.81432,\"groups\":11,\"presence\":0,\"description\":\"Other manufacturing n.e.c.\",\"color\":\"#1FA454\"},{\"name\":3311,\"share\":0.9861673,\"groups\":11,\"presence\":0,\"description\":\"Repair of fabricated metal products\",\"color\":\"#F0411A\"},{\"name\":3312,\"share\":2.353162,\"groups\":11,\"presence\":0,\"description\":\"Repair of machinery\",\"color\":\"#F0411A\"},{\"name\":3313,\"share\":1.305474,\"groups\":11,\"presence\":0,\"description\":\"Repair of electronic and optical equipment\",\"color\":\"#F0411A\"},{\"name\":3314,\"share\":2.237351,\"groups\":11,\"presence\":0,\"description\":\"Repair of electrical equipment\",\"color\":\"#F0411A\"},{\"name\":3315,\"share\":0.921573,\"groups\":11,\"presence\":0,\"description\":\"Repair of transport equipment, except motor vehicles\",\"color\":\"#1FA454\"},{\"name\":3319,\"share\":1.22566,\"groups\":11,\"presence\":0,\"description\":\"Repair of other equipment\",\"color\":\"#1FA454\"},{\"name\":3320,\"share\":3.304055,\"groups\":11,\"presence\":1,\"description\":\"Installation of industrial machinery and equipment\",\"color\":\"#1FA454\"},{\"name\":3510,\"share\":0.2444732,\"groups\":13,\"presence\":0,\"description\":\"Electric power generation, transmission and distribution\",\"color\":\"#1FA454\"},{\"name\":3520,\"share\":0.0000838,\"groups\":13,\"presence\":1,\"description\":\"Manufacture of gas, distribution of gaseous fuels through mains\",\"color\":\"#1FA454\"},{\"name\":3530,\"share\":0.1182928,\"groups\":13,\"presence\":1,\"description\":\"Steam and air conditioning supply\",\"color\":\"#1FA454\"},{\"name\":3812,\"share\":0.0177584,\"groups\":13,\"presence\":0,\"description\":\"Collection of hazardous waste\",\"color\":\"#F0411A\"},{\"name\":3821,\"share\":0.2494286,\"groups\":13,\"presence\":0,\"description\":\"Treatment and disposal of non-hazardous waste\",\"color\":\"#F0411A\"},{\"name\":3822,\"share\":0.0177584,\"groups\":13,\"presence\":0,\"description\":\"Treatment and disposal of hazardous waste\",\"color\":\"#1FA454\"},{\"name\":5811,\"share\":0.0329692,\"groups\":13,\"presence\":0,\"description\":\"Book publishing\",\"color\":\"#1FA454\"},{\"name\":5812,\"share\":0.0329692,\"groups\":13,\"presence\":0,\"description\":\"Publishing of directories and mailing lists\",\"color\":\"#F0411A\"},{\"name\":5813,\"share\":0.0738677,\"groups\":13,\"presence\":0,\"description\":\"Publishing of newspapers, journals and periodicals\",\"color\":\"#F0411A\"},{\"name\":5819,\"share\":0.0407033,\"groups\":13,\"presence\":0,\"description\":\"Other publishing activities\",\"color\":\"#1FA454\"},{\"name\":5911,\"share\":0.0001745,\"groups\":13,\"presence\":0,\"description\":\"Motion picture, video and television programme production activities\",\"color\":\"#F0411A\"},{\"name\":5912,\"share\":0.0001745,\"groups\":13,\"presence\":0,\"description\":\"Motion picture, video and television programme post-production activities\",\"color\":\"#F0411A\"},{\"name\":5913,\"share\":0.0001745,\"groups\":13,\"presence\":0,\"description\":\"Motion picture, video and television programme distribution activities\",\"color\":\"#1FA454\"},{\"name\":5920,\"share\":0.1044162,\"groups\":13,\"presence\":0,\"description\":\"Sound recording and music publishing activities\",\"color\":\"#1FA454\"},{\"name\":7110,\"share\":0.0002233,\"groups\":13,\"presence\":1,\"description\":\"Architectural and engineering activities and related technical consultancy\",\"color\":\"#F0411A\"},{\"name\":7410,\"share\":0.0002233,\"groups\":13,\"presence\":0,\"description\":\"Specialized design activities\",\"color\":\"#1FA454\"},{\"name\":7420,\"share\":0.004846,\"groups\":13,\"presence\":1,\"description\":\"Photographic activities\",\"color\":\"#F0411A\"},{\"name\":7490,\"share\":0.0002233,\"groups\":13,\"presence\":0,\"description\":\"Other professional, scientific and technical activities n.e.c.\",\"color\":\"#F0411A\"},{\"name\":7990,\"share\":0.0722626,\"groups\":13,\"presence\":1,\"description\":\"Other reservation service and related activities\",\"color\":\"#F0411A\"},{\"name\":9000,\"share\":0.0722626,\"groups\":13,\"presence\":0,\"description\":\"Creative, arts and entertainment activities\",\"color\":\"#1FA454\"},{\"name\":9512,\"share\":0.4463263,\"groups\":13,\"presence\":0,\"description\":\"Repair of communication equipment\",\"color\":\"#1FA454\"},{\"name\":9521,\"share\":0.2234451,\"groups\":13,\"presence\":0,\"description\":\"Repair of consumer electronics\",\"color\":\"#F0411A\"},{\"name\":9524,\"share\":0.0966347,\"groups\":13,\"presence\":0,\"description\":\"Repair of furniture and home furnishings\",\"color\":\"#1FA454\"},{\"name\":9602,\"share\":0.0007988,\"groups\":13,\"presence\":1,\"description\":\"Hairdressing and other beauty treatment\",\"color\":\"#F0411A\"}];\n",
       "\n",
       "          var visualization = d3plus.viz()\n",
       "          .legend(false)\n",
       "          .container('#d3plus_div_85207')\n",
       "          .type(\"tree_map\")\n",
       "          .size({\n",
       "            'value': 'share',\n",
       "            'threshold': false\n",
       "          })\n",
       "          .id(['groups','name'])\n",
       "          .color('groups')\n",
       "          .text('description')\n",
       "          .tooltip(['name','groups','description'])\n",
       "          .depth(1)\n",
       "          .data(viz_data)\n",
       "          .draw();\n",
       "\n",
       "        })();\n",
       "        });\n",
       "});\n"
      ],
      "text/plain": [
       "<IPython.core.display.Javascript object>"
      ]
     },
     "metadata": {},
     "output_type": "display_data"
    }
   ],
   "source": [
    "viz = d3plus.Treemap(\n",
    "    id=[\"groups\", \"name\"],\n",
    "    value=\"share\",\n",
    "    name=\"description\",\n",
    "    color=\"groups\",\n",
    "    tooltip=[\"name\", \"groups\", \"description\"]\n",
    ")\n",
    "viz.draw(pd.read_table(\"./sourcedata/list_for_mali.csv\", sep=\";\"))"
   ]
  },
  {
   "cell_type": "markdown",
   "metadata": {},
   "source": [
    "## A full example and explanation"
   ]
  },
  {
   "cell_type": "markdown",
   "metadata": {},
   "source": [
    "### Loading data\n",
    "\n",
    "OK, now let's start at the beginning. First we must read in some data. Pandas is a data manipulation library that has many features for munging data in the way you want.\n",
    "\n",
    "Here, we mainly use it to read the data in quickly and easily - pandas supports many different formats, including CSVs, more generic delimited files and STATA .dta files (via `read_csv`, `read_table` and `read_stata`). For excel files, you need to install an additional package with pip (called `xlrd`), but that works just as well. Here is the  [documentation](http://pandas.pydata.org/pandas-docs/stable/io.html) for all the read functions.\n",
    "\n",
    "Pandas also includes many different options while reading for skipping rows, including the header, filling null values, converting data types, etc.\n",
    "\n",
    "Let's go ahead and try:"
   ]
  },
  {
   "cell_type": "code",
   "execution_count": 3,
   "metadata": {
    "collapsed": false
   },
   "outputs": [],
   "source": [
    "df = pd.read_table(\"./sourcedata/list_for_mali.csv\", sep=\";\")"
   ]
  },
  {
   "cell_type": "markdown",
   "metadata": {},
   "source": [
    "Pandas takes our file and reads it in, converting it into a table-like structure called a dataframe (hence the variable name `df`. Now let's take a peek at the beginning of the dataframe:"
   ]
  },
  {
   "cell_type": "code",
   "execution_count": 4,
   "metadata": {
    "collapsed": false
   },
   "outputs": [
    {
     "data": {
      "text/html": [
       "<div>\n",
       "<table border=\"1\" class=\"dataframe\">\n",
       "  <thead>\n",
       "    <tr style=\"text-align: right;\">\n",
       "      <th></th>\n",
       "      <th>name</th>\n",
       "      <th>share</th>\n",
       "      <th>groups</th>\n",
       "      <th>presence</th>\n",
       "      <th>description</th>\n",
       "      <th>color</th>\n",
       "    </tr>\n",
       "  </thead>\n",
       "  <tbody>\n",
       "    <tr>\n",
       "      <th>0</th>\n",
       "      <td>111</td>\n",
       "      <td>0.143092</td>\n",
       "      <td>1</td>\n",
       "      <td>0</td>\n",
       "      <td>Growing of cereals (except rice), leguminous c...</td>\n",
       "      <td>#F0411A</td>\n",
       "    </tr>\n",
       "    <tr>\n",
       "      <th>1</th>\n",
       "      <td>112</td>\n",
       "      <td>0.143092</td>\n",
       "      <td>1</td>\n",
       "      <td>0</td>\n",
       "      <td>Growing of rice</td>\n",
       "      <td>#1FA454</td>\n",
       "    </tr>\n",
       "    <tr>\n",
       "      <th>2</th>\n",
       "      <td>113</td>\n",
       "      <td>0.190602</td>\n",
       "      <td>1</td>\n",
       "      <td>0</td>\n",
       "      <td>Growing of vegetables and melons, roots and tu...</td>\n",
       "      <td>#F0411A</td>\n",
       "    </tr>\n",
       "    <tr>\n",
       "      <th>3</th>\n",
       "      <td>114</td>\n",
       "      <td>0.143092</td>\n",
       "      <td>1</td>\n",
       "      <td>0</td>\n",
       "      <td>Growing of sugar cane</td>\n",
       "      <td>#1FA454</td>\n",
       "    </tr>\n",
       "    <tr>\n",
       "      <th>4</th>\n",
       "      <td>115</td>\n",
       "      <td>0.143092</td>\n",
       "      <td>1</td>\n",
       "      <td>0</td>\n",
       "      <td>Growing of tobacco</td>\n",
       "      <td>#1FA454</td>\n",
       "    </tr>\n",
       "  </tbody>\n",
       "</table>\n",
       "</div>"
      ],
      "text/plain": [
       "   name     share  groups  presence  \\\n",
       "0   111  0.143092       1         0   \n",
       "1   112  0.143092       1         0   \n",
       "2   113  0.190602       1         0   \n",
       "3   114  0.143092       1         0   \n",
       "4   115  0.143092       1         0   \n",
       "\n",
       "                                         description    color  \n",
       "0  Growing of cereals (except rice), leguminous c...  #F0411A  \n",
       "1                                    Growing of rice  #1FA454  \n",
       "2  Growing of vegetables and melons, roots and tu...  #F0411A  \n",
       "3                              Growing of sugar cane  #1FA454  \n",
       "4                                 Growing of tobacco  #1FA454  "
      ]
     },
     "execution_count": 4,
     "metadata": {},
     "output_type": "execute_result"
    }
   ],
   "source": [
    "df.head()"
   ]
  },
  {
   "cell_type": "markdown",
   "metadata": {},
   "source": [
    "We can also view information on the data we got."
   ]
  },
  {
   "cell_type": "code",
   "execution_count": 5,
   "metadata": {
    "collapsed": false
   },
   "outputs": [
    {
     "data": {
      "text/html": [
       "<div>\n",
       "<table border=\"1\" class=\"dataframe\">\n",
       "  <thead>\n",
       "    <tr style=\"text-align: right;\">\n",
       "      <th></th>\n",
       "      <th>name</th>\n",
       "      <th>share</th>\n",
       "      <th>groups</th>\n",
       "      <th>presence</th>\n",
       "    </tr>\n",
       "  </thead>\n",
       "  <tbody>\n",
       "    <tr>\n",
       "      <th>count</th>\n",
       "      <td>196.000000</td>\n",
       "      <td>196.000000</td>\n",
       "      <td>196.000000</td>\n",
       "      <td>196.000000</td>\n",
       "    </tr>\n",
       "    <tr>\n",
       "      <th>mean</th>\n",
       "      <td>2389.408163</td>\n",
       "      <td>0.510204</td>\n",
       "      <td>8.862245</td>\n",
       "      <td>0.193878</td>\n",
       "    </tr>\n",
       "    <tr>\n",
       "      <th>std</th>\n",
       "      <td>1922.542317</td>\n",
       "      <td>0.945409</td>\n",
       "      <td>3.468008</td>\n",
       "      <td>0.396346</td>\n",
       "    </tr>\n",
       "    <tr>\n",
       "      <th>min</th>\n",
       "      <td>111.000000</td>\n",
       "      <td>0.000084</td>\n",
       "      <td>1.000000</td>\n",
       "      <td>0.000000</td>\n",
       "    </tr>\n",
       "    <tr>\n",
       "      <th>25%</th>\n",
       "      <td>1073.750000</td>\n",
       "      <td>0.071942</td>\n",
       "      <td>7.000000</td>\n",
       "      <td>0.000000</td>\n",
       "    </tr>\n",
       "    <tr>\n",
       "      <th>50%</th>\n",
       "      <td>2391.500000</td>\n",
       "      <td>0.185198</td>\n",
       "      <td>10.000000</td>\n",
       "      <td>0.000000</td>\n",
       "    </tr>\n",
       "    <tr>\n",
       "      <th>75%</th>\n",
       "      <td>2912.500000</td>\n",
       "      <td>0.445706</td>\n",
       "      <td>11.000000</td>\n",
       "      <td>0.000000</td>\n",
       "    </tr>\n",
       "    <tr>\n",
       "      <th>max</th>\n",
       "      <td>9602.000000</td>\n",
       "      <td>7.436335</td>\n",
       "      <td>13.000000</td>\n",
       "      <td>1.000000</td>\n",
       "    </tr>\n",
       "  </tbody>\n",
       "</table>\n",
       "</div>"
      ],
      "text/plain": [
       "              name       share      groups    presence\n",
       "count   196.000000  196.000000  196.000000  196.000000\n",
       "mean   2389.408163    0.510204    8.862245    0.193878\n",
       "std    1922.542317    0.945409    3.468008    0.396346\n",
       "min     111.000000    0.000084    1.000000    0.000000\n",
       "25%    1073.750000    0.071942    7.000000    0.000000\n",
       "50%    2391.500000    0.185198   10.000000    0.000000\n",
       "75%    2912.500000    0.445706   11.000000    0.000000\n",
       "max    9602.000000    7.436335   13.000000    1.000000"
      ]
     },
     "execution_count": 5,
     "metadata": {},
     "output_type": "execute_result"
    }
   ],
   "source": [
    "df.describe()"
   ]
  },
  {
   "cell_type": "code",
   "execution_count": 6,
   "metadata": {
    "collapsed": false
   },
   "outputs": [
    {
     "name": "stdout",
     "output_type": "stream",
     "text": [
      "<class 'pandas.core.frame.DataFrame'>\n",
      "RangeIndex: 196 entries, 0 to 195\n",
      "Data columns (total 6 columns):\n",
      "name           196 non-null int64\n",
      "share          196 non-null float64\n",
      "groups         196 non-null int64\n",
      "presence       196 non-null int64\n",
      "description    196 non-null object\n",
      "color          196 non-null object\n",
      "dtypes: float64(1), int64(3), object(2)\n",
      "memory usage: 9.3+ KB\n"
     ]
    }
   ],
   "source": [
    "df.info()"
   ]
  },
  {
   "cell_type": "markdown",
   "metadata": {},
   "source": [
    "### Manipulating data\n",
    "\n",
    "The \"name\" column is supposed to have 4-digit HS codes in it, but if we look we notice that instead it looks like it's a numeric (``info()`` says int64, for \"integer). This could cause issues in some visualizations like the network where this column has to match the codes. \n",
    "\n",
    "Ideally you would fix most issues in whatever other tool you're comfortable with and then import it here, but for the sake of providing example code, let's fix a few problems that come up often:"
   ]
  },
  {
   "cell_type": "code",
   "execution_count": 7,
   "metadata": {
    "collapsed": true
   },
   "outputs": [],
   "source": [
    "# Convert the column to string, left-pad it with zeros (zfill) up to 4 digits\n",
    "df.name = df.name.astype(str).str.zfill(4)"
   ]
  },
  {
   "cell_type": "code",
   "execution_count": 8,
   "metadata": {
    "collapsed": true
   },
   "outputs": [],
   "source": [
    "# Change the column names to something we're more comfortable with\n",
    "df.columns = [\"code\", \"percent_world_trade\", \"group\", \"M\", \"description\", \"color\"]"
   ]
  },
  {
   "cell_type": "code",
   "execution_count": 9,
   "metadata": {
    "collapsed": true
   },
   "outputs": [],
   "source": [
    "# Filter to only columns with M > 1\n",
    "df = df[df.M == 1]"
   ]
  },
  {
   "cell_type": "code",
   "execution_count": 10,
   "metadata": {
    "collapsed": false
   },
   "outputs": [
    {
     "data": {
      "text/html": [
       "<div>\n",
       "<table border=\"1\" class=\"dataframe\">\n",
       "  <thead>\n",
       "    <tr style=\"text-align: right;\">\n",
       "      <th></th>\n",
       "      <th>code</th>\n",
       "      <th>percent_world_trade</th>\n",
       "      <th>group</th>\n",
       "      <th>M</th>\n",
       "      <th>description</th>\n",
       "      <th>color</th>\n",
       "    </tr>\n",
       "  </thead>\n",
       "  <tbody>\n",
       "    <tr>\n",
       "      <th>5</th>\n",
       "      <td>0116</td>\n",
       "      <td>0.143092</td>\n",
       "      <td>1</td>\n",
       "      <td>1</td>\n",
       "      <td>Growing of fibre crops</td>\n",
       "      <td>#1FA454</td>\n",
       "    </tr>\n",
       "    <tr>\n",
       "      <th>26</th>\n",
       "      <td>0520</td>\n",
       "      <td>0.007580</td>\n",
       "      <td>5</td>\n",
       "      <td>1</td>\n",
       "      <td>Mining of lignite</td>\n",
       "      <td>#F0411A</td>\n",
       "    </tr>\n",
       "    <tr>\n",
       "      <th>30</th>\n",
       "      <td>0721</td>\n",
       "      <td>0.001966</td>\n",
       "      <td>5</td>\n",
       "      <td>1</td>\n",
       "      <td>Mining of uranium and thorium ores</td>\n",
       "      <td>#1FA454</td>\n",
       "    </tr>\n",
       "    <tr>\n",
       "      <th>37</th>\n",
       "      <td>0910</td>\n",
       "      <td>3.569560</td>\n",
       "      <td>6</td>\n",
       "      <td>1</td>\n",
       "      <td>Support activities for petroleum and natural g...</td>\n",
       "      <td>#1FA454</td>\n",
       "    </tr>\n",
       "    <tr>\n",
       "      <th>38</th>\n",
       "      <td>0990</td>\n",
       "      <td>1.165681</td>\n",
       "      <td>6</td>\n",
       "      <td>1</td>\n",
       "      <td>Support activities for other mining and quarrying</td>\n",
       "      <td>#1FA454</td>\n",
       "    </tr>\n",
       "  </tbody>\n",
       "</table>\n",
       "</div>"
      ],
      "text/plain": [
       "    code  percent_world_trade  group  M  \\\n",
       "5   0116             0.143092      1  1   \n",
       "26  0520             0.007580      5  1   \n",
       "30  0721             0.001966      5  1   \n",
       "37  0910             3.569560      6  1   \n",
       "38  0990             1.165681      6  1   \n",
       "\n",
       "                                          description    color  \n",
       "5                              Growing of fibre crops  #1FA454  \n",
       "26                                  Mining of lignite  #F0411A  \n",
       "30                 Mining of uranium and thorium ores  #1FA454  \n",
       "37  Support activities for petroleum and natural g...  #1FA454  \n",
       "38  Support activities for other mining and quarrying  #1FA454  "
      ]
     },
     "execution_count": 10,
     "metadata": {},
     "output_type": "execute_result"
    }
   ],
   "source": [
    "# see what we did\n",
    "df.head()"
   ]
  },
  {
   "cell_type": "markdown",
   "metadata": {},
   "source": [
    "There, done! Pandas is capable of much more complex data munging than this of course. If you want to learn more, consult this [quick crash course](http://pandas.pydata.org/pandas-docs/stable/10min.html)."
   ]
  },
  {
   "cell_type": "markdown",
   "metadata": {},
   "source": [
    "### Drawing things"
   ]
  },
  {
   "cell_type": "markdown",
   "metadata": {},
   "source": [
    "Now, let's do a simple treemap. First, we create a treemap object that takes some parameters:"
   ]
  },
  {
   "cell_type": "code",
   "execution_count": 11,
   "metadata": {
    "collapsed": false
   },
   "outputs": [],
   "source": [
    "tm1 = d3plus.Treemap(\n",
    "    id=\"code\",\n",
    "    value=\"percent_world_trade\"\n",
    ")"
   ]
  },
  {
   "cell_type": "markdown",
   "metadata": {},
   "source": [
    "We state that we want to use the `code` column as the unique identifier, meaning we'll draw a square of the treemap for each unique code. Then we set the `value` to the `percent_world_trade` column as the thing to size the squares by. This object in itself does nothing of significance, but just provides a definition for a specific kind of treemap. \n",
    "\n",
    "Now that we have this visualization definition object, we can tell it to draw according to the data in our dataframe, which will use the columns that we just specified:"
   ]
  },
  {
   "cell_type": "code",
   "execution_count": 12,
   "metadata": {
    "collapsed": false
   },
   "outputs": [
    {
     "data": {
      "text/html": [
       "<div id='d3plus_div_67072' style='height:600px;'></div>"
      ],
      "text/plain": [
       "<IPython.core.display.HTML object>"
      ]
     },
     "metadata": {},
     "output_type": "display_data"
    },
    {
     "data": {
      "application/javascript": [
       "$.getScript(\"http://www.d3plus.org/js/d3.js\", function () {\n",
       "$.getScript(\"http://www.d3plus.org/js/d3plus.js\", function () {\n",
       "\n",
       "        (function (){\n",
       "\n",
       "          debugger;\n",
       "\n",
       "          var viz_data = [{\"code\":\"0116\",\"percent_world_trade\":0.1430925,\"group\":1,\"M\":1,\"description\":\"Growing of fibre crops\",\"color\":\"#1FA454\"},{\"code\":\"0520\",\"percent_world_trade\":0.0075799,\"group\":5,\"M\":1,\"description\":\"Mining of lignite\",\"color\":\"#F0411A\"},{\"code\":\"0721\",\"percent_world_trade\":0.0019663,\"group\":5,\"M\":1,\"description\":\"Mining of uranium and thorium ores\",\"color\":\"#1FA454\"},{\"code\":\"0910\",\"percent_world_trade\":3.56956,\"group\":6,\"M\":1,\"description\":\"Support activities for petroleum and natural gas extraction\",\"color\":\"#1FA454\"},{\"code\":\"0990\",\"percent_world_trade\":1.165681,\"group\":6,\"M\":1,\"description\":\"Support activities for other mining and quarrying\",\"color\":\"#1FA454\"},{\"code\":\"1020\",\"percent_world_trade\":0.3500364,\"group\":7,\"M\":1,\"description\":\"Processing and preserving of fish, crustaceans and molluscs\",\"color\":\"#F0411A\"},{\"code\":\"1074\",\"percent_world_trade\":0.0236052,\"group\":7,\"M\":1,\"description\":\"Manufacture of macaroni, noodles, couscous and similar farinaceous products\",\"color\":\"#1FA454\"},{\"code\":\"1101\",\"percent_world_trade\":0.1107894,\"group\":7,\"M\":1,\"description\":\"Distilling, rectifying and blending of spirits\",\"color\":\"#1FA454\"},{\"code\":\"1103\",\"percent_world_trade\":0.0995307,\"group\":7,\"M\":1,\"description\":\"Manufacture of malt liquors and malt\",\"color\":\"#F0411A\"},{\"code\":\"1104\",\"percent_world_trade\":0.1119612,\"group\":7,\"M\":1,\"description\":\"Manufacture of soft drinks, production of mineral waters and other bottled waters\",\"color\":\"#F0411A\"},{\"code\":\"1313\",\"percent_world_trade\":0.6866623,\"group\":8,\"M\":1,\"description\":\"Finishing of textiles\",\"color\":\"#1FA454\"},{\"code\":\"1520\",\"percent_world_trade\":0.1183801,\"group\":8,\"M\":1,\"description\":\"Manufacture of footwear\",\"color\":\"#1FA454\"},{\"code\":\"1610\",\"percent_world_trade\":0.2777735,\"group\":9,\"M\":1,\"description\":\"Sawmilling and planing of wood\",\"color\":\"#1FA454\"},{\"code\":\"1910\",\"percent_world_trade\":1.735898,\"group\":10,\"M\":1,\"description\":\"Manufacture of coke oven products\",\"color\":\"#1FA454\"},{\"code\":\"2022\",\"percent_world_trade\":0.2755714,\"group\":10,\"M\":1,\"description\":\"Manufacture of paints, varnishes and similar coatings, printing ink and mastics\",\"color\":\"#F0411A\"},{\"code\":\"2029\",\"percent_world_trade\":0.1985293,\"group\":10,\"M\":1,\"description\":\"Manufacture of other chemical products n.e.c.\",\"color\":\"#F0411A\"},{\"code\":\"2100\",\"percent_world_trade\":1.67511,\"group\":10,\"M\":1,\"description\":\"Manufacture of pharmaceuticals, medicinal chemical and botanical products\",\"color\":\"#F0411A\"},{\"code\":\"2392\",\"percent_world_trade\":0.1770583,\"group\":9,\"M\":1,\"description\":\"Manufacture of clay building materials\",\"color\":\"#F0411A\"},{\"code\":\"2511\",\"percent_world_trade\":0.1804743,\"group\":11,\"M\":1,\"description\":\"Manufacture of structural metal products\",\"color\":\"#1FA454\"},{\"code\":\"2599\",\"percent_world_trade\":0.4066733,\"group\":11,\"M\":1,\"description\":\"Manufacture of other fabricated metal products n.e.c.\",\"color\":\"#F0411A\"},{\"code\":\"2610\",\"percent_world_trade\":2.846527,\"group\":12,\"M\":1,\"description\":\"Manufacture of electronic components and boards\",\"color\":\"#1FA454\"},{\"code\":\"2651\",\"percent_world_trade\":0.7271011,\"group\":12,\"M\":1,\"description\":\"Manufacture of measuring, testing, navigating and control equipment\",\"color\":\"#1FA454\"},{\"code\":\"2652\",\"percent_world_trade\":0.0674489,\"group\":12,\"M\":1,\"description\":\"Manufacture of watches and clocks\",\"color\":\"#1FA454\"},{\"code\":\"2740\",\"percent_world_trade\":0.1675674,\"group\":12,\"M\":1,\"description\":\"Manufacture of electric lighting equipment\",\"color\":\"#F0411A\"},{\"code\":\"2790\",\"percent_world_trade\":1.854746,\"group\":12,\"M\":1,\"description\":\"Manufacture of other electrical equipment\",\"color\":\"#1FA454\"},{\"code\":\"2811\",\"percent_world_trade\":1.869606,\"group\":11,\"M\":1,\"description\":\"Manufacture of engines and turbines, except aircraft, vehicle and cycle engines\",\"color\":\"#1FA454\"},{\"code\":\"2812\",\"percent_world_trade\":0.4951934,\"group\":11,\"M\":1,\"description\":\"Manufacture of fluid power equipment\",\"color\":\"#1FA454\"},{\"code\":\"2814\",\"percent_world_trade\":0.1688788,\"group\":11,\"M\":1,\"description\":\"Manufacture of bearings, gears, gearing and driving elements\",\"color\":\"#F0411A\"},{\"code\":\"2817\",\"percent_world_trade\":1.532751,\"group\":11,\"M\":1,\"description\":\"Manufacture of office machinery and equipment (except computers and peripheral equipment)\",\"color\":\"#1FA454\"},{\"code\":\"3100\",\"percent_world_trade\":0.1004454,\"group\":11,\"M\":1,\"description\":\"Manufacture of furniture\",\"color\":\"#F0411A\"},{\"code\":\"3230\",\"percent_world_trade\":0.1952664,\"group\":11,\"M\":1,\"description\":\"Manufacture of sports goods\",\"color\":\"#1FA454\"},{\"code\":\"3320\",\"percent_world_trade\":3.304055,\"group\":11,\"M\":1,\"description\":\"Installation of industrial machinery and equipment\",\"color\":\"#1FA454\"},{\"code\":\"3520\",\"percent_world_trade\":0.0000838,\"group\":13,\"M\":1,\"description\":\"Manufacture of gas, distribution of gaseous fuels through mains\",\"color\":\"#1FA454\"},{\"code\":\"3530\",\"percent_world_trade\":0.1182928,\"group\":13,\"M\":1,\"description\":\"Steam and air conditioning supply\",\"color\":\"#1FA454\"},{\"code\":\"7110\",\"percent_world_trade\":0.0002233,\"group\":13,\"M\":1,\"description\":\"Architectural and engineering activities and related technical consultancy\",\"color\":\"#F0411A\"},{\"code\":\"7420\",\"percent_world_trade\":0.004846,\"group\":13,\"M\":1,\"description\":\"Photographic activities\",\"color\":\"#F0411A\"},{\"code\":\"7990\",\"percent_world_trade\":0.0722626,\"group\":13,\"M\":1,\"description\":\"Other reservation service and related activities\",\"color\":\"#F0411A\"},{\"code\":\"9602\",\"percent_world_trade\":0.0007988,\"group\":13,\"M\":1,\"description\":\"Hairdressing and other beauty treatment\",\"color\":\"#F0411A\"}];\n",
       "\n",
       "          var visualization = d3plus.viz()\n",
       "          .legend(false)\n",
       "          .container('#d3plus_div_67072')\n",
       "          .type(\"tree_map\")\n",
       "          .size({\n",
       "            'value': 'percent_world_trade',\n",
       "            'threshold': false\n",
       "          })\n",
       "          .id('code')\n",
       "          .color('code')\n",
       "          .text('code')\n",
       "          .tooltip([])\n",
       "          .depth(1)\n",
       "          .data(viz_data)\n",
       "          .draw();\n",
       "\n",
       "        })();\n",
       "        });\n",
       "});\n"
      ],
      "text/plain": [
       "<IPython.core.display.Javascript object>"
      ]
     },
     "metadata": {},
     "output_type": "display_data"
    }
   ],
   "source": [
    "tm1.draw(df)"
   ]
  },
  {
   "cell_type": "markdown",
   "metadata": {},
   "source": [
    "Not quite there yet, but we still got pretty far with only two columns. Since we defined no colors, it automatically assigned some random ones. We also have no text in there, and no notion of categories, let alone grouping by category."
   ]
  },
  {
   "cell_type": "markdown",
   "metadata": {},
   "source": [
    "Let's try to add the names in first to see if it even makes sense:"
   ]
  },
  {
   "cell_type": "code",
   "execution_count": 13,
   "metadata": {
    "collapsed": false
   },
   "outputs": [
    {
     "data": {
      "text/html": [
       "<div id='d3plus_div_76398' style='height:600px;'></div>"
      ],
      "text/plain": [
       "<IPython.core.display.HTML object>"
      ]
     },
     "metadata": {},
     "output_type": "display_data"
    },
    {
     "data": {
      "application/javascript": [
       "$.getScript(\"http://www.d3plus.org/js/d3.js\", function () {\n",
       "$.getScript(\"http://www.d3plus.org/js/d3plus.js\", function () {\n",
       "\n",
       "        (function (){\n",
       "\n",
       "          debugger;\n",
       "\n",
       "          var viz_data = [{\"code\":\"0116\",\"percent_world_trade\":0.1430925,\"group\":1,\"M\":1,\"description\":\"Growing of fibre crops\",\"color\":\"#1FA454\"},{\"code\":\"0520\",\"percent_world_trade\":0.0075799,\"group\":5,\"M\":1,\"description\":\"Mining of lignite\",\"color\":\"#F0411A\"},{\"code\":\"0721\",\"percent_world_trade\":0.0019663,\"group\":5,\"M\":1,\"description\":\"Mining of uranium and thorium ores\",\"color\":\"#1FA454\"},{\"code\":\"0910\",\"percent_world_trade\":3.56956,\"group\":6,\"M\":1,\"description\":\"Support activities for petroleum and natural gas extraction\",\"color\":\"#1FA454\"},{\"code\":\"0990\",\"percent_world_trade\":1.165681,\"group\":6,\"M\":1,\"description\":\"Support activities for other mining and quarrying\",\"color\":\"#1FA454\"},{\"code\":\"1020\",\"percent_world_trade\":0.3500364,\"group\":7,\"M\":1,\"description\":\"Processing and preserving of fish, crustaceans and molluscs\",\"color\":\"#F0411A\"},{\"code\":\"1074\",\"percent_world_trade\":0.0236052,\"group\":7,\"M\":1,\"description\":\"Manufacture of macaroni, noodles, couscous and similar farinaceous products\",\"color\":\"#1FA454\"},{\"code\":\"1101\",\"percent_world_trade\":0.1107894,\"group\":7,\"M\":1,\"description\":\"Distilling, rectifying and blending of spirits\",\"color\":\"#1FA454\"},{\"code\":\"1103\",\"percent_world_trade\":0.0995307,\"group\":7,\"M\":1,\"description\":\"Manufacture of malt liquors and malt\",\"color\":\"#F0411A\"},{\"code\":\"1104\",\"percent_world_trade\":0.1119612,\"group\":7,\"M\":1,\"description\":\"Manufacture of soft drinks, production of mineral waters and other bottled waters\",\"color\":\"#F0411A\"},{\"code\":\"1313\",\"percent_world_trade\":0.6866623,\"group\":8,\"M\":1,\"description\":\"Finishing of textiles\",\"color\":\"#1FA454\"},{\"code\":\"1520\",\"percent_world_trade\":0.1183801,\"group\":8,\"M\":1,\"description\":\"Manufacture of footwear\",\"color\":\"#1FA454\"},{\"code\":\"1610\",\"percent_world_trade\":0.2777735,\"group\":9,\"M\":1,\"description\":\"Sawmilling and planing of wood\",\"color\":\"#1FA454\"},{\"code\":\"1910\",\"percent_world_trade\":1.735898,\"group\":10,\"M\":1,\"description\":\"Manufacture of coke oven products\",\"color\":\"#1FA454\"},{\"code\":\"2022\",\"percent_world_trade\":0.2755714,\"group\":10,\"M\":1,\"description\":\"Manufacture of paints, varnishes and similar coatings, printing ink and mastics\",\"color\":\"#F0411A\"},{\"code\":\"2029\",\"percent_world_trade\":0.1985293,\"group\":10,\"M\":1,\"description\":\"Manufacture of other chemical products n.e.c.\",\"color\":\"#F0411A\"},{\"code\":\"2100\",\"percent_world_trade\":1.67511,\"group\":10,\"M\":1,\"description\":\"Manufacture of pharmaceuticals, medicinal chemical and botanical products\",\"color\":\"#F0411A\"},{\"code\":\"2392\",\"percent_world_trade\":0.1770583,\"group\":9,\"M\":1,\"description\":\"Manufacture of clay building materials\",\"color\":\"#F0411A\"},{\"code\":\"2511\",\"percent_world_trade\":0.1804743,\"group\":11,\"M\":1,\"description\":\"Manufacture of structural metal products\",\"color\":\"#1FA454\"},{\"code\":\"2599\",\"percent_world_trade\":0.4066733,\"group\":11,\"M\":1,\"description\":\"Manufacture of other fabricated metal products n.e.c.\",\"color\":\"#F0411A\"},{\"code\":\"2610\",\"percent_world_trade\":2.846527,\"group\":12,\"M\":1,\"description\":\"Manufacture of electronic components and boards\",\"color\":\"#1FA454\"},{\"code\":\"2651\",\"percent_world_trade\":0.7271011,\"group\":12,\"M\":1,\"description\":\"Manufacture of measuring, testing, navigating and control equipment\",\"color\":\"#1FA454\"},{\"code\":\"2652\",\"percent_world_trade\":0.0674489,\"group\":12,\"M\":1,\"description\":\"Manufacture of watches and clocks\",\"color\":\"#1FA454\"},{\"code\":\"2740\",\"percent_world_trade\":0.1675674,\"group\":12,\"M\":1,\"description\":\"Manufacture of electric lighting equipment\",\"color\":\"#F0411A\"},{\"code\":\"2790\",\"percent_world_trade\":1.854746,\"group\":12,\"M\":1,\"description\":\"Manufacture of other electrical equipment\",\"color\":\"#1FA454\"},{\"code\":\"2811\",\"percent_world_trade\":1.869606,\"group\":11,\"M\":1,\"description\":\"Manufacture of engines and turbines, except aircraft, vehicle and cycle engines\",\"color\":\"#1FA454\"},{\"code\":\"2812\",\"percent_world_trade\":0.4951934,\"group\":11,\"M\":1,\"description\":\"Manufacture of fluid power equipment\",\"color\":\"#1FA454\"},{\"code\":\"2814\",\"percent_world_trade\":0.1688788,\"group\":11,\"M\":1,\"description\":\"Manufacture of bearings, gears, gearing and driving elements\",\"color\":\"#F0411A\"},{\"code\":\"2817\",\"percent_world_trade\":1.532751,\"group\":11,\"M\":1,\"description\":\"Manufacture of office machinery and equipment (except computers and peripheral equipment)\",\"color\":\"#1FA454\"},{\"code\":\"3100\",\"percent_world_trade\":0.1004454,\"group\":11,\"M\":1,\"description\":\"Manufacture of furniture\",\"color\":\"#F0411A\"},{\"code\":\"3230\",\"percent_world_trade\":0.1952664,\"group\":11,\"M\":1,\"description\":\"Manufacture of sports goods\",\"color\":\"#1FA454\"},{\"code\":\"3320\",\"percent_world_trade\":3.304055,\"group\":11,\"M\":1,\"description\":\"Installation of industrial machinery and equipment\",\"color\":\"#1FA454\"},{\"code\":\"3520\",\"percent_world_trade\":0.0000838,\"group\":13,\"M\":1,\"description\":\"Manufacture of gas, distribution of gaseous fuels through mains\",\"color\":\"#1FA454\"},{\"code\":\"3530\",\"percent_world_trade\":0.1182928,\"group\":13,\"M\":1,\"description\":\"Steam and air conditioning supply\",\"color\":\"#1FA454\"},{\"code\":\"7110\",\"percent_world_trade\":0.0002233,\"group\":13,\"M\":1,\"description\":\"Architectural and engineering activities and related technical consultancy\",\"color\":\"#F0411A\"},{\"code\":\"7420\",\"percent_world_trade\":0.004846,\"group\":13,\"M\":1,\"description\":\"Photographic activities\",\"color\":\"#F0411A\"},{\"code\":\"7990\",\"percent_world_trade\":0.0722626,\"group\":13,\"M\":1,\"description\":\"Other reservation service and related activities\",\"color\":\"#F0411A\"},{\"code\":\"9602\",\"percent_world_trade\":0.0007988,\"group\":13,\"M\":1,\"description\":\"Hairdressing and other beauty treatment\",\"color\":\"#F0411A\"}];\n",
       "\n",
       "          var visualization = d3plus.viz()\n",
       "          .legend(false)\n",
       "          .container('#d3plus_div_76398')\n",
       "          .type(\"tree_map\")\n",
       "          .size({\n",
       "            'value': 'percent_world_trade',\n",
       "            'threshold': false\n",
       "          })\n",
       "          .id('code')\n",
       "          .color('code')\n",
       "          .text('description')\n",
       "          .tooltip([])\n",
       "          .depth(1)\n",
       "          .data(viz_data)\n",
       "          .draw();\n",
       "\n",
       "        })();\n",
       "        });\n",
       "});\n"
      ],
      "text/plain": [
       "<IPython.core.display.Javascript object>"
      ]
     },
     "metadata": {},
     "output_type": "display_data"
    }
   ],
   "source": [
    "tm2 = d3plus.Treemap(\n",
    "    id=\"code\",\n",
    "    value=\"percent_world_trade\",\n",
    "    name=\"description\"\n",
    ")\n",
    "tm2.draw(df)"
   ]
  },
  {
   "cell_type": "markdown",
   "metadata": {},
   "source": [
    "Much better."
   ]
  },
  {
   "cell_type": "markdown",
   "metadata": {},
   "source": [
    "### Grouped treemaps\n",
    "\n",
    "Now we can add in groupings. The way we do this is that we specify that the `id` is not just a simple column, but a combination of columns - `group` being the higher level one and `id` being a lower level one. We pass those in together to the `id` parameter by turning them into a list:"
   ]
  },
  {
   "cell_type": "code",
   "execution_count": 14,
   "metadata": {
    "collapsed": false
   },
   "outputs": [
    {
     "data": {
      "text/html": [
       "<div id='d3plus_div_58257' style='height:600px;'></div>"
      ],
      "text/plain": [
       "<IPython.core.display.HTML object>"
      ]
     },
     "metadata": {},
     "output_type": "display_data"
    },
    {
     "data": {
      "application/javascript": [
       "$.getScript(\"http://www.d3plus.org/js/d3.js\", function () {\n",
       "$.getScript(\"http://www.d3plus.org/js/d3plus.js\", function () {\n",
       "\n",
       "        (function (){\n",
       "\n",
       "          debugger;\n",
       "\n",
       "          var viz_data = [{\"code\":\"0116\",\"percent_world_trade\":0.1430925,\"group\":1,\"M\":1,\"description\":\"Growing of fibre crops\",\"color\":\"#1FA454\"},{\"code\":\"0520\",\"percent_world_trade\":0.0075799,\"group\":5,\"M\":1,\"description\":\"Mining of lignite\",\"color\":\"#F0411A\"},{\"code\":\"0721\",\"percent_world_trade\":0.0019663,\"group\":5,\"M\":1,\"description\":\"Mining of uranium and thorium ores\",\"color\":\"#1FA454\"},{\"code\":\"0910\",\"percent_world_trade\":3.56956,\"group\":6,\"M\":1,\"description\":\"Support activities for petroleum and natural gas extraction\",\"color\":\"#1FA454\"},{\"code\":\"0990\",\"percent_world_trade\":1.165681,\"group\":6,\"M\":1,\"description\":\"Support activities for other mining and quarrying\",\"color\":\"#1FA454\"},{\"code\":\"1020\",\"percent_world_trade\":0.3500364,\"group\":7,\"M\":1,\"description\":\"Processing and preserving of fish, crustaceans and molluscs\",\"color\":\"#F0411A\"},{\"code\":\"1074\",\"percent_world_trade\":0.0236052,\"group\":7,\"M\":1,\"description\":\"Manufacture of macaroni, noodles, couscous and similar farinaceous products\",\"color\":\"#1FA454\"},{\"code\":\"1101\",\"percent_world_trade\":0.1107894,\"group\":7,\"M\":1,\"description\":\"Distilling, rectifying and blending of spirits\",\"color\":\"#1FA454\"},{\"code\":\"1103\",\"percent_world_trade\":0.0995307,\"group\":7,\"M\":1,\"description\":\"Manufacture of malt liquors and malt\",\"color\":\"#F0411A\"},{\"code\":\"1104\",\"percent_world_trade\":0.1119612,\"group\":7,\"M\":1,\"description\":\"Manufacture of soft drinks, production of mineral waters and other bottled waters\",\"color\":\"#F0411A\"},{\"code\":\"1313\",\"percent_world_trade\":0.6866623,\"group\":8,\"M\":1,\"description\":\"Finishing of textiles\",\"color\":\"#1FA454\"},{\"code\":\"1520\",\"percent_world_trade\":0.1183801,\"group\":8,\"M\":1,\"description\":\"Manufacture of footwear\",\"color\":\"#1FA454\"},{\"code\":\"1610\",\"percent_world_trade\":0.2777735,\"group\":9,\"M\":1,\"description\":\"Sawmilling and planing of wood\",\"color\":\"#1FA454\"},{\"code\":\"1910\",\"percent_world_trade\":1.735898,\"group\":10,\"M\":1,\"description\":\"Manufacture of coke oven products\",\"color\":\"#1FA454\"},{\"code\":\"2022\",\"percent_world_trade\":0.2755714,\"group\":10,\"M\":1,\"description\":\"Manufacture of paints, varnishes and similar coatings, printing ink and mastics\",\"color\":\"#F0411A\"},{\"code\":\"2029\",\"percent_world_trade\":0.1985293,\"group\":10,\"M\":1,\"description\":\"Manufacture of other chemical products n.e.c.\",\"color\":\"#F0411A\"},{\"code\":\"2100\",\"percent_world_trade\":1.67511,\"group\":10,\"M\":1,\"description\":\"Manufacture of pharmaceuticals, medicinal chemical and botanical products\",\"color\":\"#F0411A\"},{\"code\":\"2392\",\"percent_world_trade\":0.1770583,\"group\":9,\"M\":1,\"description\":\"Manufacture of clay building materials\",\"color\":\"#F0411A\"},{\"code\":\"2511\",\"percent_world_trade\":0.1804743,\"group\":11,\"M\":1,\"description\":\"Manufacture of structural metal products\",\"color\":\"#1FA454\"},{\"code\":\"2599\",\"percent_world_trade\":0.4066733,\"group\":11,\"M\":1,\"description\":\"Manufacture of other fabricated metal products n.e.c.\",\"color\":\"#F0411A\"},{\"code\":\"2610\",\"percent_world_trade\":2.846527,\"group\":12,\"M\":1,\"description\":\"Manufacture of electronic components and boards\",\"color\":\"#1FA454\"},{\"code\":\"2651\",\"percent_world_trade\":0.7271011,\"group\":12,\"M\":1,\"description\":\"Manufacture of measuring, testing, navigating and control equipment\",\"color\":\"#1FA454\"},{\"code\":\"2652\",\"percent_world_trade\":0.0674489,\"group\":12,\"M\":1,\"description\":\"Manufacture of watches and clocks\",\"color\":\"#1FA454\"},{\"code\":\"2740\",\"percent_world_trade\":0.1675674,\"group\":12,\"M\":1,\"description\":\"Manufacture of electric lighting equipment\",\"color\":\"#F0411A\"},{\"code\":\"2790\",\"percent_world_trade\":1.854746,\"group\":12,\"M\":1,\"description\":\"Manufacture of other electrical equipment\",\"color\":\"#1FA454\"},{\"code\":\"2811\",\"percent_world_trade\":1.869606,\"group\":11,\"M\":1,\"description\":\"Manufacture of engines and turbines, except aircraft, vehicle and cycle engines\",\"color\":\"#1FA454\"},{\"code\":\"2812\",\"percent_world_trade\":0.4951934,\"group\":11,\"M\":1,\"description\":\"Manufacture of fluid power equipment\",\"color\":\"#1FA454\"},{\"code\":\"2814\",\"percent_world_trade\":0.1688788,\"group\":11,\"M\":1,\"description\":\"Manufacture of bearings, gears, gearing and driving elements\",\"color\":\"#F0411A\"},{\"code\":\"2817\",\"percent_world_trade\":1.532751,\"group\":11,\"M\":1,\"description\":\"Manufacture of office machinery and equipment (except computers and peripheral equipment)\",\"color\":\"#1FA454\"},{\"code\":\"3100\",\"percent_world_trade\":0.1004454,\"group\":11,\"M\":1,\"description\":\"Manufacture of furniture\",\"color\":\"#F0411A\"},{\"code\":\"3230\",\"percent_world_trade\":0.1952664,\"group\":11,\"M\":1,\"description\":\"Manufacture of sports goods\",\"color\":\"#1FA454\"},{\"code\":\"3320\",\"percent_world_trade\":3.304055,\"group\":11,\"M\":1,\"description\":\"Installation of industrial machinery and equipment\",\"color\":\"#1FA454\"},{\"code\":\"3520\",\"percent_world_trade\":0.0000838,\"group\":13,\"M\":1,\"description\":\"Manufacture of gas, distribution of gaseous fuels through mains\",\"color\":\"#1FA454\"},{\"code\":\"3530\",\"percent_world_trade\":0.1182928,\"group\":13,\"M\":1,\"description\":\"Steam and air conditioning supply\",\"color\":\"#1FA454\"},{\"code\":\"7110\",\"percent_world_trade\":0.0002233,\"group\":13,\"M\":1,\"description\":\"Architectural and engineering activities and related technical consultancy\",\"color\":\"#F0411A\"},{\"code\":\"7420\",\"percent_world_trade\":0.004846,\"group\":13,\"M\":1,\"description\":\"Photographic activities\",\"color\":\"#F0411A\"},{\"code\":\"7990\",\"percent_world_trade\":0.0722626,\"group\":13,\"M\":1,\"description\":\"Other reservation service and related activities\",\"color\":\"#F0411A\"},{\"code\":\"9602\",\"percent_world_trade\":0.0007988,\"group\":13,\"M\":1,\"description\":\"Hairdressing and other beauty treatment\",\"color\":\"#F0411A\"}];\n",
       "\n",
       "          var visualization = d3plus.viz()\n",
       "          .legend(false)\n",
       "          .container('#d3plus_div_58257')\n",
       "          .type(\"tree_map\")\n",
       "          .size({\n",
       "            'value': 'percent_world_trade',\n",
       "            'threshold': false\n",
       "          })\n",
       "          .id(['group','code'])\n",
       "          .color(['group','code'])\n",
       "          .text('description')\n",
       "          .tooltip([])\n",
       "          .depth(1)\n",
       "          .data(viz_data)\n",
       "          .draw();\n",
       "\n",
       "        })();\n",
       "        });\n",
       "});\n"
      ],
      "text/plain": [
       "<IPython.core.display.Javascript object>"
      ]
     },
     "metadata": {},
     "output_type": "display_data"
    }
   ],
   "source": [
    "tm3 = d3plus.Treemap(\n",
    "    id=[\"group\", \"code\"],\n",
    "    value=\"percent_world_trade\",\n",
    "    name=\"description\"\n",
    ")\n",
    "tm3.draw(df)"
   ]
  },
  {
   "cell_type": "markdown",
   "metadata": {},
   "source": [
    "Now the items are grouped according to categories."
   ]
  },
  {
   "cell_type": "markdown",
   "metadata": {},
   "source": [
    "## Colors\n",
    "\n",
    "We notice that the automatic colors are now gone - the visualization library doesn't know what to do by default. We can give it a cue as to what to color by, by passing in a `color=` parameter.\n",
    "\n",
    "One way is to specify that we want to color by group. In this case, the visualization library will assign a categorical color to each `group` value we have automatically, like so:"
   ]
  },
  {
   "cell_type": "code",
   "execution_count": 15,
   "metadata": {
    "collapsed": false,
    "scrolled": false
   },
   "outputs": [
    {
     "data": {
      "text/html": [
       "<div id='d3plus_div_29686' style='height:600px;'></div>"
      ],
      "text/plain": [
       "<IPython.core.display.HTML object>"
      ]
     },
     "metadata": {},
     "output_type": "display_data"
    },
    {
     "data": {
      "application/javascript": [
       "$.getScript(\"http://www.d3plus.org/js/d3.js\", function () {\n",
       "$.getScript(\"http://www.d3plus.org/js/d3plus.js\", function () {\n",
       "\n",
       "        (function (){\n",
       "\n",
       "          debugger;\n",
       "\n",
       "          var viz_data = [{\"code\":\"0116\",\"percent_world_trade\":0.1430925,\"group\":1,\"M\":1,\"description\":\"Growing of fibre crops\",\"color\":\"#1FA454\"},{\"code\":\"0520\",\"percent_world_trade\":0.0075799,\"group\":5,\"M\":1,\"description\":\"Mining of lignite\",\"color\":\"#F0411A\"},{\"code\":\"0721\",\"percent_world_trade\":0.0019663,\"group\":5,\"M\":1,\"description\":\"Mining of uranium and thorium ores\",\"color\":\"#1FA454\"},{\"code\":\"0910\",\"percent_world_trade\":3.56956,\"group\":6,\"M\":1,\"description\":\"Support activities for petroleum and natural gas extraction\",\"color\":\"#1FA454\"},{\"code\":\"0990\",\"percent_world_trade\":1.165681,\"group\":6,\"M\":1,\"description\":\"Support activities for other mining and quarrying\",\"color\":\"#1FA454\"},{\"code\":\"1020\",\"percent_world_trade\":0.3500364,\"group\":7,\"M\":1,\"description\":\"Processing and preserving of fish, crustaceans and molluscs\",\"color\":\"#F0411A\"},{\"code\":\"1074\",\"percent_world_trade\":0.0236052,\"group\":7,\"M\":1,\"description\":\"Manufacture of macaroni, noodles, couscous and similar farinaceous products\",\"color\":\"#1FA454\"},{\"code\":\"1101\",\"percent_world_trade\":0.1107894,\"group\":7,\"M\":1,\"description\":\"Distilling, rectifying and blending of spirits\",\"color\":\"#1FA454\"},{\"code\":\"1103\",\"percent_world_trade\":0.0995307,\"group\":7,\"M\":1,\"description\":\"Manufacture of malt liquors and malt\",\"color\":\"#F0411A\"},{\"code\":\"1104\",\"percent_world_trade\":0.1119612,\"group\":7,\"M\":1,\"description\":\"Manufacture of soft drinks, production of mineral waters and other bottled waters\",\"color\":\"#F0411A\"},{\"code\":\"1313\",\"percent_world_trade\":0.6866623,\"group\":8,\"M\":1,\"description\":\"Finishing of textiles\",\"color\":\"#1FA454\"},{\"code\":\"1520\",\"percent_world_trade\":0.1183801,\"group\":8,\"M\":1,\"description\":\"Manufacture of footwear\",\"color\":\"#1FA454\"},{\"code\":\"1610\",\"percent_world_trade\":0.2777735,\"group\":9,\"M\":1,\"description\":\"Sawmilling and planing of wood\",\"color\":\"#1FA454\"},{\"code\":\"1910\",\"percent_world_trade\":1.735898,\"group\":10,\"M\":1,\"description\":\"Manufacture of coke oven products\",\"color\":\"#1FA454\"},{\"code\":\"2022\",\"percent_world_trade\":0.2755714,\"group\":10,\"M\":1,\"description\":\"Manufacture of paints, varnishes and similar coatings, printing ink and mastics\",\"color\":\"#F0411A\"},{\"code\":\"2029\",\"percent_world_trade\":0.1985293,\"group\":10,\"M\":1,\"description\":\"Manufacture of other chemical products n.e.c.\",\"color\":\"#F0411A\"},{\"code\":\"2100\",\"percent_world_trade\":1.67511,\"group\":10,\"M\":1,\"description\":\"Manufacture of pharmaceuticals, medicinal chemical and botanical products\",\"color\":\"#F0411A\"},{\"code\":\"2392\",\"percent_world_trade\":0.1770583,\"group\":9,\"M\":1,\"description\":\"Manufacture of clay building materials\",\"color\":\"#F0411A\"},{\"code\":\"2511\",\"percent_world_trade\":0.1804743,\"group\":11,\"M\":1,\"description\":\"Manufacture of structural metal products\",\"color\":\"#1FA454\"},{\"code\":\"2599\",\"percent_world_trade\":0.4066733,\"group\":11,\"M\":1,\"description\":\"Manufacture of other fabricated metal products n.e.c.\",\"color\":\"#F0411A\"},{\"code\":\"2610\",\"percent_world_trade\":2.846527,\"group\":12,\"M\":1,\"description\":\"Manufacture of electronic components and boards\",\"color\":\"#1FA454\"},{\"code\":\"2651\",\"percent_world_trade\":0.7271011,\"group\":12,\"M\":1,\"description\":\"Manufacture of measuring, testing, navigating and control equipment\",\"color\":\"#1FA454\"},{\"code\":\"2652\",\"percent_world_trade\":0.0674489,\"group\":12,\"M\":1,\"description\":\"Manufacture of watches and clocks\",\"color\":\"#1FA454\"},{\"code\":\"2740\",\"percent_world_trade\":0.1675674,\"group\":12,\"M\":1,\"description\":\"Manufacture of electric lighting equipment\",\"color\":\"#F0411A\"},{\"code\":\"2790\",\"percent_world_trade\":1.854746,\"group\":12,\"M\":1,\"description\":\"Manufacture of other electrical equipment\",\"color\":\"#1FA454\"},{\"code\":\"2811\",\"percent_world_trade\":1.869606,\"group\":11,\"M\":1,\"description\":\"Manufacture of engines and turbines, except aircraft, vehicle and cycle engines\",\"color\":\"#1FA454\"},{\"code\":\"2812\",\"percent_world_trade\":0.4951934,\"group\":11,\"M\":1,\"description\":\"Manufacture of fluid power equipment\",\"color\":\"#1FA454\"},{\"code\":\"2814\",\"percent_world_trade\":0.1688788,\"group\":11,\"M\":1,\"description\":\"Manufacture of bearings, gears, gearing and driving elements\",\"color\":\"#F0411A\"},{\"code\":\"2817\",\"percent_world_trade\":1.532751,\"group\":11,\"M\":1,\"description\":\"Manufacture of office machinery and equipment (except computers and peripheral equipment)\",\"color\":\"#1FA454\"},{\"code\":\"3100\",\"percent_world_trade\":0.1004454,\"group\":11,\"M\":1,\"description\":\"Manufacture of furniture\",\"color\":\"#F0411A\"},{\"code\":\"3230\",\"percent_world_trade\":0.1952664,\"group\":11,\"M\":1,\"description\":\"Manufacture of sports goods\",\"color\":\"#1FA454\"},{\"code\":\"3320\",\"percent_world_trade\":3.304055,\"group\":11,\"M\":1,\"description\":\"Installation of industrial machinery and equipment\",\"color\":\"#1FA454\"},{\"code\":\"3520\",\"percent_world_trade\":0.0000838,\"group\":13,\"M\":1,\"description\":\"Manufacture of gas, distribution of gaseous fuels through mains\",\"color\":\"#1FA454\"},{\"code\":\"3530\",\"percent_world_trade\":0.1182928,\"group\":13,\"M\":1,\"description\":\"Steam and air conditioning supply\",\"color\":\"#1FA454\"},{\"code\":\"7110\",\"percent_world_trade\":0.0002233,\"group\":13,\"M\":1,\"description\":\"Architectural and engineering activities and related technical consultancy\",\"color\":\"#F0411A\"},{\"code\":\"7420\",\"percent_world_trade\":0.004846,\"group\":13,\"M\":1,\"description\":\"Photographic activities\",\"color\":\"#F0411A\"},{\"code\":\"7990\",\"percent_world_trade\":0.0722626,\"group\":13,\"M\":1,\"description\":\"Other reservation service and related activities\",\"color\":\"#F0411A\"},{\"code\":\"9602\",\"percent_world_trade\":0.0007988,\"group\":13,\"M\":1,\"description\":\"Hairdressing and other beauty treatment\",\"color\":\"#F0411A\"}];\n",
       "\n",
       "          var visualization = d3plus.viz()\n",
       "          .legend(false)\n",
       "          .container('#d3plus_div_29686')\n",
       "          .type(\"tree_map\")\n",
       "          .size({\n",
       "            'value': 'percent_world_trade',\n",
       "            'threshold': false\n",
       "          })\n",
       "          .id(['group','code'])\n",
       "          .color('group')\n",
       "          .text('description')\n",
       "          .tooltip([])\n",
       "          .depth(1)\n",
       "          .data(viz_data)\n",
       "          .draw();\n",
       "\n",
       "        })();\n",
       "        });\n",
       "});\n"
      ],
      "text/plain": [
       "<IPython.core.display.Javascript object>"
      ]
     },
     "metadata": {},
     "output_type": "display_data"
    }
   ],
   "source": [
    "tm4 = d3plus.Treemap(\n",
    "    id=[\"group\", \"code\"],\n",
    "    value=\"percent_world_trade\",\n",
    "    name=\"description\",\n",
    "    color=\"group\"\n",
    ")\n",
    "tm4.draw(df)"
   ]
  },
  {
   "cell_type": "markdown",
   "metadata": {},
   "source": [
    "Not bad! Another idea is to pass in our own custom colors, from our `color` column earlier:"
   ]
  },
  {
   "cell_type": "code",
   "execution_count": 16,
   "metadata": {
    "collapsed": false
   },
   "outputs": [
    {
     "data": {
      "text/html": [
       "<div id='d3plus_div_65840' style='height:600px;'></div>"
      ],
      "text/plain": [
       "<IPython.core.display.HTML object>"
      ]
     },
     "metadata": {},
     "output_type": "display_data"
    },
    {
     "data": {
      "application/javascript": [
       "$.getScript(\"http://www.d3plus.org/js/d3.js\", function () {\n",
       "$.getScript(\"http://www.d3plus.org/js/d3plus.js\", function () {\n",
       "\n",
       "        (function (){\n",
       "\n",
       "          debugger;\n",
       "\n",
       "          var viz_data = [{\"code\":\"0116\",\"percent_world_trade\":0.1430925,\"group\":1,\"M\":1,\"description\":\"Growing of fibre crops\",\"color\":\"#1FA454\"},{\"code\":\"0520\",\"percent_world_trade\":0.0075799,\"group\":5,\"M\":1,\"description\":\"Mining of lignite\",\"color\":\"#F0411A\"},{\"code\":\"0721\",\"percent_world_trade\":0.0019663,\"group\":5,\"M\":1,\"description\":\"Mining of uranium and thorium ores\",\"color\":\"#1FA454\"},{\"code\":\"0910\",\"percent_world_trade\":3.56956,\"group\":6,\"M\":1,\"description\":\"Support activities for petroleum and natural gas extraction\",\"color\":\"#1FA454\"},{\"code\":\"0990\",\"percent_world_trade\":1.165681,\"group\":6,\"M\":1,\"description\":\"Support activities for other mining and quarrying\",\"color\":\"#1FA454\"},{\"code\":\"1020\",\"percent_world_trade\":0.3500364,\"group\":7,\"M\":1,\"description\":\"Processing and preserving of fish, crustaceans and molluscs\",\"color\":\"#F0411A\"},{\"code\":\"1074\",\"percent_world_trade\":0.0236052,\"group\":7,\"M\":1,\"description\":\"Manufacture of macaroni, noodles, couscous and similar farinaceous products\",\"color\":\"#1FA454\"},{\"code\":\"1101\",\"percent_world_trade\":0.1107894,\"group\":7,\"M\":1,\"description\":\"Distilling, rectifying and blending of spirits\",\"color\":\"#1FA454\"},{\"code\":\"1103\",\"percent_world_trade\":0.0995307,\"group\":7,\"M\":1,\"description\":\"Manufacture of malt liquors and malt\",\"color\":\"#F0411A\"},{\"code\":\"1104\",\"percent_world_trade\":0.1119612,\"group\":7,\"M\":1,\"description\":\"Manufacture of soft drinks, production of mineral waters and other bottled waters\",\"color\":\"#F0411A\"},{\"code\":\"1313\",\"percent_world_trade\":0.6866623,\"group\":8,\"M\":1,\"description\":\"Finishing of textiles\",\"color\":\"#1FA454\"},{\"code\":\"1520\",\"percent_world_trade\":0.1183801,\"group\":8,\"M\":1,\"description\":\"Manufacture of footwear\",\"color\":\"#1FA454\"},{\"code\":\"1610\",\"percent_world_trade\":0.2777735,\"group\":9,\"M\":1,\"description\":\"Sawmilling and planing of wood\",\"color\":\"#1FA454\"},{\"code\":\"1910\",\"percent_world_trade\":1.735898,\"group\":10,\"M\":1,\"description\":\"Manufacture of coke oven products\",\"color\":\"#1FA454\"},{\"code\":\"2022\",\"percent_world_trade\":0.2755714,\"group\":10,\"M\":1,\"description\":\"Manufacture of paints, varnishes and similar coatings, printing ink and mastics\",\"color\":\"#F0411A\"},{\"code\":\"2029\",\"percent_world_trade\":0.1985293,\"group\":10,\"M\":1,\"description\":\"Manufacture of other chemical products n.e.c.\",\"color\":\"#F0411A\"},{\"code\":\"2100\",\"percent_world_trade\":1.67511,\"group\":10,\"M\":1,\"description\":\"Manufacture of pharmaceuticals, medicinal chemical and botanical products\",\"color\":\"#F0411A\"},{\"code\":\"2392\",\"percent_world_trade\":0.1770583,\"group\":9,\"M\":1,\"description\":\"Manufacture of clay building materials\",\"color\":\"#F0411A\"},{\"code\":\"2511\",\"percent_world_trade\":0.1804743,\"group\":11,\"M\":1,\"description\":\"Manufacture of structural metal products\",\"color\":\"#1FA454\"},{\"code\":\"2599\",\"percent_world_trade\":0.4066733,\"group\":11,\"M\":1,\"description\":\"Manufacture of other fabricated metal products n.e.c.\",\"color\":\"#F0411A\"},{\"code\":\"2610\",\"percent_world_trade\":2.846527,\"group\":12,\"M\":1,\"description\":\"Manufacture of electronic components and boards\",\"color\":\"#1FA454\"},{\"code\":\"2651\",\"percent_world_trade\":0.7271011,\"group\":12,\"M\":1,\"description\":\"Manufacture of measuring, testing, navigating and control equipment\",\"color\":\"#1FA454\"},{\"code\":\"2652\",\"percent_world_trade\":0.0674489,\"group\":12,\"M\":1,\"description\":\"Manufacture of watches and clocks\",\"color\":\"#1FA454\"},{\"code\":\"2740\",\"percent_world_trade\":0.1675674,\"group\":12,\"M\":1,\"description\":\"Manufacture of electric lighting equipment\",\"color\":\"#F0411A\"},{\"code\":\"2790\",\"percent_world_trade\":1.854746,\"group\":12,\"M\":1,\"description\":\"Manufacture of other electrical equipment\",\"color\":\"#1FA454\"},{\"code\":\"2811\",\"percent_world_trade\":1.869606,\"group\":11,\"M\":1,\"description\":\"Manufacture of engines and turbines, except aircraft, vehicle and cycle engines\",\"color\":\"#1FA454\"},{\"code\":\"2812\",\"percent_world_trade\":0.4951934,\"group\":11,\"M\":1,\"description\":\"Manufacture of fluid power equipment\",\"color\":\"#1FA454\"},{\"code\":\"2814\",\"percent_world_trade\":0.1688788,\"group\":11,\"M\":1,\"description\":\"Manufacture of bearings, gears, gearing and driving elements\",\"color\":\"#F0411A\"},{\"code\":\"2817\",\"percent_world_trade\":1.532751,\"group\":11,\"M\":1,\"description\":\"Manufacture of office machinery and equipment (except computers and peripheral equipment)\",\"color\":\"#1FA454\"},{\"code\":\"3100\",\"percent_world_trade\":0.1004454,\"group\":11,\"M\":1,\"description\":\"Manufacture of furniture\",\"color\":\"#F0411A\"},{\"code\":\"3230\",\"percent_world_trade\":0.1952664,\"group\":11,\"M\":1,\"description\":\"Manufacture of sports goods\",\"color\":\"#1FA454\"},{\"code\":\"3320\",\"percent_world_trade\":3.304055,\"group\":11,\"M\":1,\"description\":\"Installation of industrial machinery and equipment\",\"color\":\"#1FA454\"},{\"code\":\"3520\",\"percent_world_trade\":0.0000838,\"group\":13,\"M\":1,\"description\":\"Manufacture of gas, distribution of gaseous fuels through mains\",\"color\":\"#1FA454\"},{\"code\":\"3530\",\"percent_world_trade\":0.1182928,\"group\":13,\"M\":1,\"description\":\"Steam and air conditioning supply\",\"color\":\"#1FA454\"},{\"code\":\"7110\",\"percent_world_trade\":0.0002233,\"group\":13,\"M\":1,\"description\":\"Architectural and engineering activities and related technical consultancy\",\"color\":\"#F0411A\"},{\"code\":\"7420\",\"percent_world_trade\":0.004846,\"group\":13,\"M\":1,\"description\":\"Photographic activities\",\"color\":\"#F0411A\"},{\"code\":\"7990\",\"percent_world_trade\":0.0722626,\"group\":13,\"M\":1,\"description\":\"Other reservation service and related activities\",\"color\":\"#F0411A\"},{\"code\":\"9602\",\"percent_world_trade\":0.0007988,\"group\":13,\"M\":1,\"description\":\"Hairdressing and other beauty treatment\",\"color\":\"#F0411A\"}];\n",
       "\n",
       "          var visualization = d3plus.viz()\n",
       "          .legend(false)\n",
       "          .container('#d3plus_div_65840')\n",
       "          .type(\"tree_map\")\n",
       "          .size({\n",
       "            'value': 'percent_world_trade',\n",
       "            'threshold': false\n",
       "          })\n",
       "          .id(['group','code'])\n",
       "          .color('color')\n",
       "          .text('description')\n",
       "          .tooltip([])\n",
       "          .depth(1)\n",
       "          .data(viz_data)\n",
       "          .draw();\n",
       "\n",
       "        })();\n",
       "        });\n",
       "});\n"
      ],
      "text/plain": [
       "<IPython.core.display.Javascript object>"
      ]
     },
     "metadata": {},
     "output_type": "display_data"
    }
   ],
   "source": [
    "tm4 = d3plus.Treemap(\n",
    "    id=[\"group\", \"code\"],\n",
    "    value=\"percent_world_trade\",\n",
    "    name=\"description\",\n",
    "    color=\"color\"\n",
    ")\n",
    "tm4.draw(df)"
   ]
  },
  {
   "cell_type": "markdown",
   "metadata": {},
   "source": [
    "This `color` column is a column that contains what we call \"hex color codes\". This is a common way of describing colors that's used across many kinds of software. Here's an example of what it looks like:"
   ]
  },
  {
   "cell_type": "code",
   "execution_count": 17,
   "metadata": {
    "collapsed": false
   },
   "outputs": [
    {
     "data": {
      "text/plain": [
       "5     #1FA454\n",
       "26    #F0411A\n",
       "30    #1FA454\n",
       "37    #1FA454\n",
       "38    #1FA454\n",
       "Name: color, dtype: object"
      ]
     },
     "execution_count": 17,
     "metadata": {},
     "output_type": "execute_result"
    }
   ],
   "source": [
    "df.color.head()"
   ]
  },
  {
   "cell_type": "markdown",
   "metadata": {},
   "source": [
    "You don't have to understand how this works, but you do need to be able to get your colors into this format. There are many tools an websites that do this, for example:\n",
    "\n",
    "http://www.color-hex.com/ or \n",
    "http://htmlcolorcodes.com/"
   ]
  },
  {
   "cell_type": "markdown",
   "metadata": {},
   "source": [
    "Picking the right kind of colors for the kind of data you're trying to show also matters. For that, take a look at:\n",
    "\n",
    "http://earthobservatory.nasa.gov/blogs/elegantfigures/2013/08/12/subtleties-of-color-part-3-of-6/\n",
    "and\n",
    "http://colorbrewer2.org/#"
   ]
  },
  {
   "cell_type": "markdown",
   "metadata": {},
   "source": [
    "### Tooltips\n",
    "\n",
    "Finally, we can change what we include in the tooltips by adding a `tooltip=` parameter and passing it a list with all the column names we want to include:"
   ]
  },
  {
   "cell_type": "code",
   "execution_count": 18,
   "metadata": {
    "collapsed": false
   },
   "outputs": [
    {
     "data": {
      "text/html": [
       "<div id='d3plus_div_62890' style='height:600px;'></div>"
      ],
      "text/plain": [
       "<IPython.core.display.HTML object>"
      ]
     },
     "metadata": {},
     "output_type": "display_data"
    },
    {
     "data": {
      "application/javascript": [
       "$.getScript(\"http://www.d3plus.org/js/d3.js\", function () {\n",
       "$.getScript(\"http://www.d3plus.org/js/d3plus.js\", function () {\n",
       "\n",
       "        (function (){\n",
       "\n",
       "          debugger;\n",
       "\n",
       "          var viz_data = [{\"code\":\"0116\",\"percent_world_trade\":0.1430925,\"group\":1,\"M\":1,\"description\":\"Growing of fibre crops\",\"color\":\"#1FA454\"},{\"code\":\"0520\",\"percent_world_trade\":0.0075799,\"group\":5,\"M\":1,\"description\":\"Mining of lignite\",\"color\":\"#F0411A\"},{\"code\":\"0721\",\"percent_world_trade\":0.0019663,\"group\":5,\"M\":1,\"description\":\"Mining of uranium and thorium ores\",\"color\":\"#1FA454\"},{\"code\":\"0910\",\"percent_world_trade\":3.56956,\"group\":6,\"M\":1,\"description\":\"Support activities for petroleum and natural gas extraction\",\"color\":\"#1FA454\"},{\"code\":\"0990\",\"percent_world_trade\":1.165681,\"group\":6,\"M\":1,\"description\":\"Support activities for other mining and quarrying\",\"color\":\"#1FA454\"},{\"code\":\"1020\",\"percent_world_trade\":0.3500364,\"group\":7,\"M\":1,\"description\":\"Processing and preserving of fish, crustaceans and molluscs\",\"color\":\"#F0411A\"},{\"code\":\"1074\",\"percent_world_trade\":0.0236052,\"group\":7,\"M\":1,\"description\":\"Manufacture of macaroni, noodles, couscous and similar farinaceous products\",\"color\":\"#1FA454\"},{\"code\":\"1101\",\"percent_world_trade\":0.1107894,\"group\":7,\"M\":1,\"description\":\"Distilling, rectifying and blending of spirits\",\"color\":\"#1FA454\"},{\"code\":\"1103\",\"percent_world_trade\":0.0995307,\"group\":7,\"M\":1,\"description\":\"Manufacture of malt liquors and malt\",\"color\":\"#F0411A\"},{\"code\":\"1104\",\"percent_world_trade\":0.1119612,\"group\":7,\"M\":1,\"description\":\"Manufacture of soft drinks, production of mineral waters and other bottled waters\",\"color\":\"#F0411A\"},{\"code\":\"1313\",\"percent_world_trade\":0.6866623,\"group\":8,\"M\":1,\"description\":\"Finishing of textiles\",\"color\":\"#1FA454\"},{\"code\":\"1520\",\"percent_world_trade\":0.1183801,\"group\":8,\"M\":1,\"description\":\"Manufacture of footwear\",\"color\":\"#1FA454\"},{\"code\":\"1610\",\"percent_world_trade\":0.2777735,\"group\":9,\"M\":1,\"description\":\"Sawmilling and planing of wood\",\"color\":\"#1FA454\"},{\"code\":\"1910\",\"percent_world_trade\":1.735898,\"group\":10,\"M\":1,\"description\":\"Manufacture of coke oven products\",\"color\":\"#1FA454\"},{\"code\":\"2022\",\"percent_world_trade\":0.2755714,\"group\":10,\"M\":1,\"description\":\"Manufacture of paints, varnishes and similar coatings, printing ink and mastics\",\"color\":\"#F0411A\"},{\"code\":\"2029\",\"percent_world_trade\":0.1985293,\"group\":10,\"M\":1,\"description\":\"Manufacture of other chemical products n.e.c.\",\"color\":\"#F0411A\"},{\"code\":\"2100\",\"percent_world_trade\":1.67511,\"group\":10,\"M\":1,\"description\":\"Manufacture of pharmaceuticals, medicinal chemical and botanical products\",\"color\":\"#F0411A\"},{\"code\":\"2392\",\"percent_world_trade\":0.1770583,\"group\":9,\"M\":1,\"description\":\"Manufacture of clay building materials\",\"color\":\"#F0411A\"},{\"code\":\"2511\",\"percent_world_trade\":0.1804743,\"group\":11,\"M\":1,\"description\":\"Manufacture of structural metal products\",\"color\":\"#1FA454\"},{\"code\":\"2599\",\"percent_world_trade\":0.4066733,\"group\":11,\"M\":1,\"description\":\"Manufacture of other fabricated metal products n.e.c.\",\"color\":\"#F0411A\"},{\"code\":\"2610\",\"percent_world_trade\":2.846527,\"group\":12,\"M\":1,\"description\":\"Manufacture of electronic components and boards\",\"color\":\"#1FA454\"},{\"code\":\"2651\",\"percent_world_trade\":0.7271011,\"group\":12,\"M\":1,\"description\":\"Manufacture of measuring, testing, navigating and control equipment\",\"color\":\"#1FA454\"},{\"code\":\"2652\",\"percent_world_trade\":0.0674489,\"group\":12,\"M\":1,\"description\":\"Manufacture of watches and clocks\",\"color\":\"#1FA454\"},{\"code\":\"2740\",\"percent_world_trade\":0.1675674,\"group\":12,\"M\":1,\"description\":\"Manufacture of electric lighting equipment\",\"color\":\"#F0411A\"},{\"code\":\"2790\",\"percent_world_trade\":1.854746,\"group\":12,\"M\":1,\"description\":\"Manufacture of other electrical equipment\",\"color\":\"#1FA454\"},{\"code\":\"2811\",\"percent_world_trade\":1.869606,\"group\":11,\"M\":1,\"description\":\"Manufacture of engines and turbines, except aircraft, vehicle and cycle engines\",\"color\":\"#1FA454\"},{\"code\":\"2812\",\"percent_world_trade\":0.4951934,\"group\":11,\"M\":1,\"description\":\"Manufacture of fluid power equipment\",\"color\":\"#1FA454\"},{\"code\":\"2814\",\"percent_world_trade\":0.1688788,\"group\":11,\"M\":1,\"description\":\"Manufacture of bearings, gears, gearing and driving elements\",\"color\":\"#F0411A\"},{\"code\":\"2817\",\"percent_world_trade\":1.532751,\"group\":11,\"M\":1,\"description\":\"Manufacture of office machinery and equipment (except computers and peripheral equipment)\",\"color\":\"#1FA454\"},{\"code\":\"3100\",\"percent_world_trade\":0.1004454,\"group\":11,\"M\":1,\"description\":\"Manufacture of furniture\",\"color\":\"#F0411A\"},{\"code\":\"3230\",\"percent_world_trade\":0.1952664,\"group\":11,\"M\":1,\"description\":\"Manufacture of sports goods\",\"color\":\"#1FA454\"},{\"code\":\"3320\",\"percent_world_trade\":3.304055,\"group\":11,\"M\":1,\"description\":\"Installation of industrial machinery and equipment\",\"color\":\"#1FA454\"},{\"code\":\"3520\",\"percent_world_trade\":0.0000838,\"group\":13,\"M\":1,\"description\":\"Manufacture of gas, distribution of gaseous fuels through mains\",\"color\":\"#1FA454\"},{\"code\":\"3530\",\"percent_world_trade\":0.1182928,\"group\":13,\"M\":1,\"description\":\"Steam and air conditioning supply\",\"color\":\"#1FA454\"},{\"code\":\"7110\",\"percent_world_trade\":0.0002233,\"group\":13,\"M\":1,\"description\":\"Architectural and engineering activities and related technical consultancy\",\"color\":\"#F0411A\"},{\"code\":\"7420\",\"percent_world_trade\":0.004846,\"group\":13,\"M\":1,\"description\":\"Photographic activities\",\"color\":\"#F0411A\"},{\"code\":\"7990\",\"percent_world_trade\":0.0722626,\"group\":13,\"M\":1,\"description\":\"Other reservation service and related activities\",\"color\":\"#F0411A\"},{\"code\":\"9602\",\"percent_world_trade\":0.0007988,\"group\":13,\"M\":1,\"description\":\"Hairdressing and other beauty treatment\",\"color\":\"#F0411A\"}];\n",
       "\n",
       "          var visualization = d3plus.viz()\n",
       "          .legend(false)\n",
       "          .container('#d3plus_div_62890')\n",
       "          .type(\"tree_map\")\n",
       "          .size({\n",
       "            'value': 'percent_world_trade',\n",
       "            'threshold': false\n",
       "          })\n",
       "          .id(['group','code'])\n",
       "          .color('color')\n",
       "          .text('description')\n",
       "          .tooltip(['code','group','description'])\n",
       "          .depth(1)\n",
       "          .data(viz_data)\n",
       "          .draw();\n",
       "\n",
       "        })();\n",
       "        });\n",
       "});\n"
      ],
      "text/plain": [
       "<IPython.core.display.Javascript object>"
      ]
     },
     "metadata": {},
     "output_type": "display_data"
    }
   ],
   "source": [
    "tm5 = d3plus.Treemap(\n",
    "    id=[\"group\", \"code\"],\n",
    "    value=\"percent_world_trade\",\n",
    "    name=\"description\",\n",
    "    color=\"color\",\n",
    "    tooltip=[\"code\", \"group\", \"description\"]\n",
    ")\n",
    "tm5.draw(df)"
   ]
  },
  {
   "cell_type": "markdown",
   "metadata": {},
   "source": [
    "The visualization library also adds in cells that it thinks is relevant, in this case the `percent_world_trade` variable that we're sizing the nodes by, as well as the share that that variable constitutes."
   ]
  },
  {
   "cell_type": "markdown",
   "metadata": {},
   "source": [
    "### Exporting an embeddable visualization \n",
    "\n",
    "One quick way to export the visualization is to take a screenshot. For more complicated situations, like when you need a large screenshot or when you want to embed the visualization in a website, you can export a .html file like so:\n",
    "\n"
   ]
  },
  {
   "cell_type": "code",
   "execution_count": 19,
   "metadata": {
    "collapsed": false
   },
   "outputs": [
    {
     "data": {
      "text/plain": [
       "6370"
      ]
     },
     "execution_count": 19,
     "metadata": {},
     "output_type": "execute_result"
    }
   ],
   "source": [
    "# Generate HTML\n",
    "visualization_html = tm5.dump_html(df)\n",
    "# Dump it out in my_treemap.html\n",
    "open(\"./my_treemap.html\", \"w+\").write(visualization_html)"
   ]
  },
  {
   "cell_type": "markdown",
   "metadata": {},
   "source": [
    "Now you should be able to open this file in a browser and it should contain the visualization above."
   ]
  },
  {
   "cell_type": "markdown",
   "metadata": {},
   "source": [
    "### Under the hood\n",
    "\n",
    "Under the hood, this library is just a thin wrapper around d3plus (http://d3plus.org/), an interactive charting library. You can browse through the documentation and the examples to see what's possible.\n",
    "\n",
    "The wrapper doesn't support every functionality that d3plus does, just the most common ones. But if you want more, one strategy could be to generate the output html file (as shown above) to give you a basic template, and then hand-edit the code in there.\n",
    "\n",
    "If you need help with this, talk to Mali!"
   ]
  },
  {
   "cell_type": "markdown",
   "metadata": {},
   "source": [
    "### Challenge!"
   ]
  },
  {
   "cell_type": "markdown",
   "metadata": {},
   "source": [
    "The file \"./sourcedata/Complexity and opportunity What industries have the most potential for this state.csv\" contains industry data for a state in Mexico.\n",
    "\n",
    "Draw a treemap of employment for each industry, grouped and colored by category!\n",
    "\n",
    "OR\n",
    "\n",
    "Try loading your own data!"
   ]
  },
  {
   "cell_type": "markdown",
   "metadata": {},
   "source": [
    "### The end!"
   ]
  },
  {
   "cell_type": "markdown",
   "metadata": {},
   "source": [
    "This is very much a work in progress and in need of suggestions - I want to make the most common tasks as easy as possible, so let me know!"
   ]
  },
  {
   "cell_type": "code",
   "execution_count": null,
   "metadata": {
    "collapsed": true
   },
   "outputs": [],
   "source": []
  }
 ],
 "metadata": {
  "kernelspec": {
   "display_name": "Python 3",
   "language": "python",
   "name": "python3"
  },
  "language_info": {
   "codemirror_mode": {
    "name": "ipython",
    "version": 3
   },
   "file_extension": ".py",
   "mimetype": "text/x-python",
   "name": "python",
   "nbconvert_exporter": "python",
   "pygments_lexer": "ipython3",
   "version": "3.5.1"
  }
 },
 "nbformat": 4,
 "nbformat_minor": 1
}
