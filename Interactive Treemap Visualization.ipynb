{
 "cells": [
  {
   "cell_type": "markdown",
   "metadata": {},
   "source": [
    "# Interactive Treemap Visualization \n",
    "\n",
    "This notebook can visualize export treemap interactively. A user can specify the country, year, quality and amount thresholds to control what comes up in the treemap. The file `complete.csv` is output from the original notebook template and contains the data needed. Requires vistk, pandas, seaborn and ipywidgets. "
   ]
  },
  {
   "cell_type": "code",
   "execution_count": 1,
   "metadata": {
    "collapsed": false
   },
   "outputs": [],
   "source": [
    "import sys\n",
    "sys.path.append(\"./modules\")\n",
    "import vistk\n",
    "import pandas as pd\n",
    "import seaborn as sns\n",
    "import numpy as np"
   ]
  },
  {
   "cell_type": "code",
   "execution_count": 2,
   "metadata": {
    "collapsed": true
   },
   "outputs": [],
   "source": [
    "from ipywidgets import interact\n",
    "from ipywidgets import widgets"
   ]
  },
  {
   "cell_type": "code",
   "execution_count": null,
   "metadata": {
    "collapsed": false
   },
   "outputs": [],
   "source": [
    "##inputText = widgets.Text()\n",
    "\n",
    "##def takename(sender):\n",
    "##    filename=inputText.value\n",
    "\n",
    "##inputText.on_submit(takename)\n",
    "##inputText"
   ]
  },
  {
   "cell_type": "code",
   "execution_count": null,
   "metadata": {
    "collapsed": false
   },
   "outputs": [],
   "source": [
    "##filename"
   ]
  },
  {
   "cell_type": "code",
   "execution_count": 3,
   "metadata": {
    "collapsed": false
   },
   "outputs": [
    {
     "data": {
      "text/html": [
       "<div>\n",
       "<table border=\"1\" class=\"dataframe\">\n",
       "  <thead>\n",
       "    <tr style=\"text-align: right;\">\n",
       "      <th></th>\n",
       "      <th>year</th>\n",
       "      <th>iso3</th>\n",
       "      <th>sitc4</th>\n",
       "      <th>exports</th>\n",
       "      <th>quality_exp</th>\n",
       "      <th>imports</th>\n",
       "      <th>quality_imp</th>\n",
       "      <th>code</th>\n",
       "      <th>color</th>\n",
       "      <th>community_id</th>\n",
       "      <th>name</th>\n",
       "      <th>category</th>\n",
       "      <th>continent</th>\n",
       "      <th>country</th>\n",
       "      <th>subcontinent</th>\n",
       "    </tr>\n",
       "  </thead>\n",
       "  <tbody>\n",
       "    <tr>\n",
       "      <th>0</th>\n",
       "      <td>1984</td>\n",
       "      <td>DOM</td>\n",
       "      <td>11</td>\n",
       "      <td>NaN</td>\n",
       "      <td>NaN</td>\n",
       "      <td>52.08442</td>\n",
       "      <td>0.702034</td>\n",
       "      <td>11</td>\n",
       "      <td>#ffe999</td>\n",
       "      <td>81</td>\n",
       "      <td>Live bovines</td>\n",
       "      <td>0</td>\n",
       "      <td>Americas</td>\n",
       "      <td>Dominican Republic</td>\n",
       "      <td>Caribbean</td>\n",
       "    </tr>\n",
       "    <tr>\n",
       "      <th>1</th>\n",
       "      <td>1984</td>\n",
       "      <td>JOR</td>\n",
       "      <td>7264</td>\n",
       "      <td>NaN</td>\n",
       "      <td>NaN</td>\n",
       "      <td>882.23070</td>\n",
       "      <td>1.248837</td>\n",
       "      <td>7264</td>\n",
       "      <td>#9edae5</td>\n",
       "      <td>10</td>\n",
       "      <td>Printing presses</td>\n",
       "      <td>7</td>\n",
       "      <td>Asia</td>\n",
       "      <td>Hashemite Kingdom of Jordan</td>\n",
       "      <td>Western Asia</td>\n",
       "    </tr>\n",
       "    <tr>\n",
       "      <th>2</th>\n",
       "      <td>1984</td>\n",
       "      <td>MLT</td>\n",
       "      <td>7264</td>\n",
       "      <td>33.6984</td>\n",
       "      <td>1.1567</td>\n",
       "      <td>338.30020</td>\n",
       "      <td>0.937385</td>\n",
       "      <td>7264</td>\n",
       "      <td>#9edae5</td>\n",
       "      <td>10</td>\n",
       "      <td>Printing presses</td>\n",
       "      <td>7</td>\n",
       "      <td>Europe</td>\n",
       "      <td>Republic of Malta</td>\n",
       "      <td>Southern Europe</td>\n",
       "    </tr>\n",
       "    <tr>\n",
       "      <th>3</th>\n",
       "      <td>1984</td>\n",
       "      <td>BGD</td>\n",
       "      <td>7264</td>\n",
       "      <td>NaN</td>\n",
       "      <td>NaN</td>\n",
       "      <td>1146.31800</td>\n",
       "      <td>0.902277</td>\n",
       "      <td>7264</td>\n",
       "      <td>#9edae5</td>\n",
       "      <td>10</td>\n",
       "      <td>Printing presses</td>\n",
       "      <td>7</td>\n",
       "      <td>Asia</td>\n",
       "      <td>People's Republic of Bangladesh</td>\n",
       "      <td>Southern Asia</td>\n",
       "    </tr>\n",
       "    <tr>\n",
       "      <th>4</th>\n",
       "      <td>1984</td>\n",
       "      <td>GHA</td>\n",
       "      <td>7264</td>\n",
       "      <td>NaN</td>\n",
       "      <td>NaN</td>\n",
       "      <td>31.46410</td>\n",
       "      <td>1.159864</td>\n",
       "      <td>7264</td>\n",
       "      <td>#9edae5</td>\n",
       "      <td>10</td>\n",
       "      <td>Printing presses</td>\n",
       "      <td>7</td>\n",
       "      <td>Africa</td>\n",
       "      <td>Republic of Ghana</td>\n",
       "      <td>Western Africa</td>\n",
       "    </tr>\n",
       "  </tbody>\n",
       "</table>\n",
       "</div>"
      ],
      "text/plain": [
       "   year iso3  sitc4  exports  quality_exp     imports  quality_imp  code  \\\n",
       "0  1984  DOM     11      NaN          NaN    52.08442     0.702034    11   \n",
       "1  1984  JOR   7264      NaN          NaN   882.23070     1.248837  7264   \n",
       "2  1984  MLT   7264  33.6984       1.1567   338.30020     0.937385  7264   \n",
       "3  1984  BGD   7264      NaN          NaN  1146.31800     0.902277  7264   \n",
       "4  1984  GHA   7264      NaN          NaN    31.46410     1.159864  7264   \n",
       "\n",
       "     color  community_id              name  category continent  \\\n",
       "0  #ffe999            81      Live bovines         0  Americas   \n",
       "1  #9edae5            10  Printing presses         7      Asia   \n",
       "2  #9edae5            10  Printing presses         7    Europe   \n",
       "3  #9edae5            10  Printing presses         7      Asia   \n",
       "4  #9edae5            10  Printing presses         7    Africa   \n",
       "\n",
       "                           country     subcontinent  \n",
       "0               Dominican Republic        Caribbean  \n",
       "1      Hashemite Kingdom of Jordan     Western Asia  \n",
       "2                Republic of Malta  Southern Europe  \n",
       "3  People's Republic of Bangladesh    Southern Asia  \n",
       "4                Republic of Ghana   Western Africa  "
      ]
     },
     "execution_count": 3,
     "metadata": {},
     "output_type": "execute_result"
    }
   ],
   "source": [
    "# Load complete.csv into a dataframe.\n",
    "completedf=pd.read_csv('complete.csv')\n",
    "completedf=completedf.drop(\"Unnamed: 0\", 1)\n",
    "completedf.head()"
   ]
  },
  {
   "cell_type": "code",
   "execution_count": 4,
   "metadata": {
    "collapsed": false
   },
   "outputs": [],
   "source": [
    "# Get a list of all unqiue country names. \n",
    "allcountries=[e.decode('utf-8') for e in list(set(completedf['country']))]\n",
    "allcountries.sort()"
   ]
  },
  {
   "cell_type": "markdown",
   "metadata": {},
   "source": [
    "#### Making a dictionary of sitc4 and product name"
   ]
  },
  {
   "cell_type": "code",
   "execution_count": 5,
   "metadata": {
    "collapsed": false
   },
   "outputs": [],
   "source": [
    "# Getting a dictionary of product names keyed by sitc4 code\n",
    "key={}\n",
    "for r in completedf.itertuples():\n",
    "    key[r[3]]=r[11]"
   ]
  },
  {
   "cell_type": "code",
   "execution_count": 6,
   "metadata": {
    "collapsed": false
   },
   "outputs": [],
   "source": [
    "# Getting a list of unique sitc4 code\n",
    "sitc4=[e for e in key.keys()]\n",
    "sitc4.sort()"
   ]
  },
  {
   "cell_type": "code",
   "execution_count": 7,
   "metadata": {
    "collapsed": false
   },
   "outputs": [],
   "source": [
    "# Getting a list of unique product names\n",
    "products=[e for e in key.values()] # Need to find a better way to drop NaN than this.\n",
    "products.sort()\n",
    "products=products[134:]"
   ]
  },
  {
   "cell_type": "markdown",
   "metadata": {},
   "source": [
    "#### A bunch of helper functions that will be used for making the treemap"
   ]
  },
  {
   "cell_type": "code",
   "execution_count": 8,
   "metadata": {
    "collapsed": true
   },
   "outputs": [],
   "source": [
    "# Create a range of colors based on the length of spectrum, which specifies how many colors are needed.\n",
    "def make_color(spectrum):\n",
    "    colors=sns.color_palette(\"Blues\", spectrum)\n",
    "    colors=['#%02x%02x%02x' % (a*256, b*256, c*256) for (a, b, c) in colors]\n",
    "    return colors"
   ]
  },
  {
   "cell_type": "code",
   "execution_count": 9,
   "metadata": {
    "collapsed": true
   },
   "outputs": [],
   "source": [
    "# Sorting and Adding a column of color values to the input dafaframe\n",
    "def sort_color(df, field='quality_exp'):\n",
    "    df=df.sort_values(by=field)\n",
    "    df[field+'_color']=make_color(len(df))\n",
    "    return df"
   ]
  },
  {
   "cell_type": "code",
   "execution_count": 10,
   "metadata": {
    "collapsed": true
   },
   "outputs": [],
   "source": [
    "# Filtering the data based on amount and quality threshold\n",
    "def threshold(df, quality_threshold=0.0, amount_threshold=0.0):\n",
    "    df=df[(df['quality_exp']>quality_threshold) & (df['exports']>amount_threshold)]\n",
    "    return df"
   ]
  },
  {
   "cell_type": "code",
   "execution_count": 11,
   "metadata": {
    "collapsed": false
   },
   "outputs": [],
   "source": [
    "# Defining the function that is called to make the treemap\n",
    "def make_product_treemap(country, year, quality_threshold, amount_threshold):\n",
    "    df=completedf[(completedf['country']==country) & (completedf['year']==year)].dropna(subset=['exports', 'quality_exp'])\n",
    "    df=threshold(df, quality_threshold, amount_threshold)\n",
    "    df=sort_color(df)\n",
    "    title='Export of %s in %s' % (country, year)\n",
    "    treemap=vistk.Treemap(id='sitc4', color='quality_exp_color', name='name', size='exports', sort='exports',\n",
    "                            year=year, title=title)\n",
    "    treemap.draw(df)"
   ]
  },
  {
   "cell_type": "code",
   "execution_count": 12,
   "metadata": {
    "collapsed": true
   },
   "outputs": [],
   "source": [
    "# Defining the function that is called to make the treemap\n",
    "def make_country_treemap(product, year, quality_threshold, amount_threshold):\n",
    "    df=completedf[(completedf['name']==product) & (completedf['year']==year)].dropna(subset=['exports', 'quality_exp'])\n",
    "    df=threshold(df, quality_threshold, amount_threshold)\n",
    "    df=sort_color(df)\n",
    "    title='Export of %s in %s' % (product, year)\n",
    "    treemap=vistk.Treemap(id='iso3', color='quality_exp_color', name='country', size='exports', sort='exports',\n",
    "                            year=year, title=title)\n",
    "    treemap.draw(df)"
   ]
  },
  {
   "cell_type": "markdown",
   "metadata": {},
   "source": [
    "## Visualizing Export Treemap (by Country)"
   ]
  },
  {
   "cell_type": "code",
   "execution_count": 13,
   "metadata": {
    "collapsed": false
   },
   "outputs": [
    {
     "data": {
      "text/html": [
       "<div id='vistk_div_6628' style='height:auto;'></div>"
      ],
      "text/plain": [
       "<IPython.core.display.HTML object>"
      ]
     },
     "metadata": {},
     "output_type": "display_data"
    },
    {
     "data": {
      "text/html": [
       "\n",
       "          <link href='https://cid-harvard.github.io/vis-toolkit/css/vistk.css' rel='stylesheet'>\n",
       "        "
      ],
      "text/plain": [
       "<IPython.core.display.HTML object>"
      ]
     },
     "metadata": {},
     "output_type": "display_data"
    },
    {
     "data": {
      "application/javascript": [
       "$.getScript(\"https://cdnjs.cloudflare.com/ajax/libs/d3/3.5.6/d3.min.js\", function () {\n",
       "$.getScript(\"http://cid-harvard.github.io/vis-toolkit/js/topojson.js\", function () {\n",
       "$.getScript(\"https://cid-harvard.github.io/vis-toolkit/build/vistk.js\", function () {\n",
       "\n",
       "        window.visualization = null;\n",
       "        (function (visualization){\n",
       "\n",
       "          var viz_data = [{\"year\":1995,\"iso3\":\"CAN\",\"sitc4\":7436,\"exports\":5500.213,\"quality_exp\":2.002526,\"imports\":677053.5,\"quality_imp\":1.0,\"code\":7436,\"color\":\"#9edae5\",\"community_id\":10.0,\"name\":\"Liquid & gas filters & purifiers\",\"category\":7,\"continent\":\"Americas\",\"country\":\"Canada\",\"subcontinent\":\"Northern America\",\"quality_exp_color\":\"#f5faff\"},{\"year\":1995,\"iso3\":\"CAN\",\"sitc4\":8441,\"exports\":22967.44,\"quality_exp\":2.01075,\"imports\":49790.43,\"quality_imp\":0.9737837,\"code\":8441,\"color\":\"#5493c9\",\"community_id\":61.0,\"name\":\"Men's undershirt\",\"category\":8,\"continent\":\"Americas\",\"country\":\"Canada\",\"subcontinent\":\"Northern America\",\"quality_exp_color\":\"#f3f8fe\"},{\"year\":1995,\"iso3\":\"CAN\",\"sitc4\":7428,\"exports\":8160.432,\"quality_exp\":2.034372,\"imports\":7478.798,\"quality_imp\":1.289413,\"code\":7428,\"color\":\"#9edae5\",\"community_id\":10.0,\"name\":\"Other pumps for liquids & liquid elevators\",\"category\":7,\"continent\":\"Americas\",\"country\":\"Canada\",\"subcontinent\":\"Northern America\",\"quality_exp_color\":\"#f0f6fd\"},{\"year\":1995,\"iso3\":\"CAN\",\"sitc4\":8429,\"exports\":41000.34,\"quality_exp\":2.062056,\"imports\":58263.83,\"quality_imp\":1.062121,\"code\":8429,\"color\":\"#5493c9\",\"community_id\":61.0,\"name\":\"Other men outerwear\",\"category\":8,\"continent\":\"Americas\",\"country\":\"Canada\",\"subcontinent\":\"Northern America\",\"quality_exp_color\":\"#edf5fc\"},{\"year\":1995,\"iso3\":\"CAN\",\"sitc4\":6575,\"exports\":17649.51,\"quality_exp\":2.091698,\"imports\":54687.89,\"quality_imp\":0.9148465,\"code\":6575,\"color\":\"red\",\"community_id\":61.0,\"name\":\"Ropes & cables\",\"category\":6,\"continent\":\"Americas\",\"country\":\"Canada\",\"subcontinent\":\"Northern America\",\"quality_exp_color\":\"#eaf3fb\"},{\"year\":1995,\"iso3\":\"CAN\",\"sitc4\":8439,\"exports\":90849.59,\"quality_exp\":2.109321,\"imports\":309932.3,\"quality_imp\":1.122555,\"code\":8439,\"color\":\"#5493c9\",\"community_id\":61.0,\"name\":\"Other women outerwear\",\"category\":8,\"continent\":\"Americas\",\"country\":\"Canada\",\"subcontinent\":\"Northern America\",\"quality_exp_color\":\"#e8f1fa\"},{\"year\":1995,\"iso3\":\"CAN\",\"sitc4\":7369,\"exports\":43689.22,\"quality_exp\":2.111464,\"imports\":180988.6,\"quality_imp\":1.02774,\"code\":7369,\"color\":\"#9edae5\",\"community_id\":10.0,\"name\":\"Metalworking machine-tools parts\",\"category\":7,\"continent\":\"Americas\",\"country\":\"Canada\",\"subcontinent\":\"Northern America\",\"quality_exp_color\":\"#e5f0fa\"},{\"year\":1995,\"iso3\":\"CAN\",\"sitc4\":7524,\"exports\":171241.5,\"quality_exp\":2.115825,\"imports\":1134105.0,\"quality_imp\":0.9611588,\"code\":7524,\"color\":\"#9edae5\",\"community_id\":null,\"name\":\"Digital storage units\",\"category\":7,\"continent\":\"Americas\",\"country\":\"Canada\",\"subcontinent\":\"Northern America\",\"quality_exp_color\":\"#e2eef9\"},{\"year\":1995,\"iso3\":\"CAN\",\"sitc4\":7642,\"exports\":88373.27,\"quality_exp\":2.12971,\"imports\":276343.0,\"quality_imp\":1.042547,\"code\":7642,\"color\":\"#9edae5\",\"community_id\":11.0,\"name\":\"Microphone, amplifiers & loudspeakers\",\"category\":7,\"continent\":\"Americas\",\"country\":\"Canada\",\"subcontinent\":\"Northern America\",\"quality_exp_color\":\"#e0ecf8\"},{\"year\":1995,\"iso3\":\"CAN\",\"sitc4\":8742,\"exports\":6200.659,\"quality_exp\":2.16021,\"imports\":4616.548,\"quality_imp\":0.4155748,\"code\":8742,\"color\":\"#5493c9\",\"community_id\":44.0,\"name\":\"Drawing & mathematical calculating instruments\",\"category\":8,\"continent\":\"Americas\",\"country\":\"Canada\",\"subcontinent\":\"Northern America\",\"quality_exp_color\":\"#ddeaf7\"},{\"year\":1995,\"iso3\":\"CAN\",\"sitc4\":7832,\"exports\":1596192.0,\"quality_exp\":2.169509,\"imports\":959379.8,\"quality_imp\":1.310581,\"code\":7832,\"color\":\"#9edae5\",\"community_id\":10.0,\"name\":\"Tractors for semi-trailers\",\"category\":7,\"continent\":\"Americas\",\"country\":\"Canada\",\"subcontinent\":\"Northern America\",\"quality_exp_color\":\"#dae9f6\"},{\"year\":1995,\"iso3\":\"CAN\",\"sitc4\":752,\"exports\":10222.13,\"quality_exp\":2.188166,\"imports\":26319.14,\"quality_imp\":1.041444,\"code\":752,\"color\":\"#ffe999\",\"community_id\":75.0,\"name\":\"Spices other than pepper\",\"category\":0,\"continent\":\"Americas\",\"country\":\"Canada\",\"subcontinent\":\"Northern America\",\"quality_exp_color\":\"#d8e7f5\"},{\"year\":1995,\"iso3\":\"CAN\",\"sitc4\":589,\"exports\":52988.91,\"quality_exp\":2.193345,\"imports\":105942.3,\"quality_imp\":0.9301868,\"code\":589,\"color\":\"#ffe999\",\"community_id\":31.0,\"name\":\"Prepared or preserved fruit\",\"category\":0,\"continent\":\"Americas\",\"country\":\"Canada\",\"subcontinent\":\"Northern America\",\"quality_exp_color\":\"#d5e5f4\"},{\"year\":1995,\"iso3\":\"CAN\",\"sitc4\":371,\"exports\":154646.9,\"quality_exp\":2.208219,\"imports\":170272.2,\"quality_imp\":0.6067887,\"code\":371,\"color\":\"#ffe999\",\"community_id\":80.0,\"name\":\"Fish N.E.S.\",\"category\":0,\"continent\":\"Americas\",\"country\":\"Canada\",\"subcontinent\":\"Northern America\",\"quality_exp_color\":\"#d3e4f4\"},{\"year\":1995,\"iso3\":\"CAN\",\"sitc4\":7622,\"exports\":7791.532,\"quality_exp\":2.209281,\"imports\":183612.1,\"quality_imp\":1.256222,\"code\":7622,\"color\":\"#9edae5\",\"community_id\":11.0,\"name\":\"Portable radio receivers\",\"category\":7,\"continent\":\"Americas\",\"country\":\"Canada\",\"subcontinent\":\"Northern America\",\"quality_exp_color\":\"#d0e2f3\"},{\"year\":1995,\"iso3\":\"CAN\",\"sitc4\":8983,\"exports\":119064.9,\"quality_exp\":2.228184,\"imports\":88397.85,\"quality_imp\":1.403117,\"code\":8983,\"color\":\"#5493c9\",\"community_id\":11.0,\"name\":\"Sound recording tapes & discs\",\"category\":8,\"continent\":\"Americas\",\"country\":\"Canada\",\"subcontinent\":\"Northern America\",\"quality_exp_color\":\"#cee0f2\"},{\"year\":1995,\"iso3\":\"CAN\",\"sitc4\":8219,\"exports\":6298.501,\"quality_exp\":2.242072,\"imports\":47212.41,\"quality_imp\":0.7389939,\"code\":8219,\"color\":\"#5493c9\",\"community_id\":20.0,\"name\":\"Furniture parts N.E.S.\",\"category\":8,\"continent\":\"Americas\",\"country\":\"Canada\",\"subcontinent\":\"Northern America\",\"quality_exp_color\":\"#cbdef1\"},{\"year\":1995,\"iso3\":\"CAN\",\"sitc4\":8741,\"exports\":49589.03,\"quality_exp\":2.255471,\"imports\":53165.34,\"quality_imp\":1.589403,\"code\":8741,\"color\":\"#5493c9\",\"community_id\":10.0,\"name\":\"Non-electrical navigating devices, compasses\",\"category\":8,\"continent\":\"Americas\",\"country\":\"Canada\",\"subcontinent\":\"Northern America\",\"quality_exp_color\":\"#c8ddf0\"},{\"year\":1995,\"iso3\":\"CAN\",\"sitc4\":8433,\"exports\":24836.94,\"quality_exp\":2.29019,\"imports\":68928.41,\"quality_imp\":1.123962,\"code\":8433,\"color\":\"#5493c9\",\"community_id\":61.0,\"name\":\"Dresses\",\"category\":8,\"continent\":\"Americas\",\"country\":\"Canada\",\"subcontinent\":\"Northern America\",\"quality_exp_color\":\"#c6dbef\"},{\"year\":1995,\"iso3\":\"CAN\",\"sitc4\":6354,\"exports\":9024.33,\"quality_exp\":2.323255,\"imports\":15542.62,\"quality_imp\":1.151101,\"code\":6354,\"color\":\"red\",\"community_id\":61.0,\"name\":\"Decorative manufactures of wood\",\"category\":6,\"continent\":\"Americas\",\"country\":\"Canada\",\"subcontinent\":\"Northern America\",\"quality_exp_color\":\"#c1d9ee\"},{\"year\":1995,\"iso3\":\"CAN\",\"sitc4\":6782,\"exports\":52548.36,\"quality_exp\":2.326531,\"imports\":225445.9,\"quality_imp\":1.099826,\"code\":6782,\"color\":\"red\",\"community_id\":10.0,\"name\":\"Seamless tubes, pipes of iron or steel\",\"category\":6,\"continent\":\"Americas\",\"country\":\"Canada\",\"subcontinent\":\"Northern America\",\"quality_exp_color\":\"#bdd7ec\"},{\"year\":1995,\"iso3\":\"CAN\",\"sitc4\":6725,\"exports\":240137.0,\"quality_exp\":2.368692,\"imports\":427517.5,\"quality_imp\":0.7491207,\"code\":6725,\"color\":\"red\",\"community_id\":15.0,\"name\":\"Iron\\/steel billets\",\"category\":6,\"continent\":\"Americas\",\"country\":\"Canada\",\"subcontinent\":\"Northern America\",\"quality_exp_color\":\"#b8d5ea\"},{\"year\":1995,\"iso3\":\"CAN\",\"sitc4\":7861,\"exports\":56981.81,\"quality_exp\":2.588761,\"imports\":434442.6,\"quality_imp\":1.16607,\"code\":7861,\"color\":\"#9edae5\",\"community_id\":20.0,\"name\":\"Containers for transportation\",\"category\":7,\"continent\":\"Americas\",\"country\":\"Canada\",\"subcontinent\":\"Northern America\",\"quality_exp_color\":\"#b4d4e9\"},{\"year\":1995,\"iso3\":\"CAN\",\"sitc4\":7428,\"exports\":11728.04,\"quality_exp\":2.627654,\"imports\":108904.4,\"quality_imp\":0.4765855,\"code\":7428,\"color\":\"#9edae5\",\"community_id\":10.0,\"name\":\"Other pumps for liquids & liquid elevators\",\"category\":7,\"continent\":\"Americas\",\"country\":\"Canada\",\"subcontinent\":\"Northern America\",\"quality_exp_color\":\"#b1d2e8\"},{\"year\":1995,\"iso3\":\"CAN\",\"sitc4\":8472,\"exports\":25332.12,\"quality_exp\":2.642551,\"imports\":83410.6,\"quality_imp\":1.401322,\"code\":8472,\"color\":\"#5493c9\",\"community_id\":61.0,\"name\":\"Knitted clothing accessories of textile fabrics\",\"category\":8,\"continent\":\"Americas\",\"country\":\"Canada\",\"subcontinent\":\"Northern America\",\"quality_exp_color\":\"#acd0e6\"},{\"year\":1995,\"iso3\":\"CAN\",\"sitc4\":3354,\"exports\":107932.9,\"quality_exp\":2.659672,\"imports\":166840.0,\"quality_imp\":0.9144223,\"code\":3354,\"color\":\"#330000\",\"community_id\":52.0,\"name\":\"Petroleum bitumen N.E.S.\",\"category\":3,\"continent\":\"Americas\",\"country\":\"Canada\",\"subcontinent\":\"Northern America\",\"quality_exp_color\":\"#a8cee5\"},{\"year\":1995,\"iso3\":\"CAN\",\"sitc4\":7638,\"exports\":36826.83,\"quality_exp\":2.689373,\"imports\":608141.0,\"quality_imp\":1.365081,\"code\":7638,\"color\":\"#9edae5\",\"community_id\":11.0,\"name\":\"Video & sound recorders N.E.S.\",\"category\":7,\"continent\":\"Americas\",\"country\":\"Canada\",\"subcontinent\":\"Northern America\",\"quality_exp_color\":\"#a3cce3\"},{\"year\":1995,\"iso3\":\"CAN\",\"sitc4\":7422,\"exports\":31965.09,\"quality_exp\":2.809278,\"imports\":93581.4,\"quality_imp\":0.8416029,\"code\":7422,\"color\":\"#9edae5\",\"community_id\":10.0,\"name\":\"Centrifugal pumps  \",\"category\":7,\"continent\":\"Americas\",\"country\":\"Canada\",\"subcontinent\":\"Northern America\",\"quality_exp_color\":\"#9fcbe2\"},{\"year\":1995,\"iso3\":\"CAN\",\"sitc4\":7611,\"exports\":72164.31,\"quality_exp\":2.837189,\"imports\":497702.7,\"quality_imp\":1.018529,\"code\":7611,\"color\":\"#9edae5\",\"community_id\":11.0,\"name\":\"Color T.V.\",\"category\":7,\"continent\":\"Americas\",\"country\":\"Canada\",\"subcontinent\":\"Northern America\",\"quality_exp_color\":\"#9ac8e1\"},{\"year\":1995,\"iso3\":\"CAN\",\"sitc4\":8462,\"exports\":48792.35,\"quality_exp\":2.923096,\"imports\":288001.8,\"quality_imp\":1.311872,\"code\":8462,\"color\":\"#5493c9\",\"community_id\":61.0,\"name\":\"Knitted undergarments of cotton\",\"category\":8,\"continent\":\"Americas\",\"country\":\"Canada\",\"subcontinent\":\"Northern America\",\"quality_exp_color\":\"#94c5df\"},{\"year\":1995,\"iso3\":\"CAN\",\"sitc4\":2873,\"exports\":38290.54,\"quality_exp\":2.936327,\"imports\":674483.9,\"quality_imp\":0.7059689,\"code\":2873,\"color\":\"#d66011\",\"community_id\":51.0,\"name\":\"Aluminium ore\",\"category\":2,\"continent\":\"Americas\",\"country\":\"Canada\",\"subcontinent\":\"Northern America\",\"quality_exp_color\":\"#8fc2de\"},{\"year\":1995,\"iso3\":\"CAN\",\"sitc4\":8424,\"exports\":36814.89,\"quality_exp\":2.949705,\"imports\":39601.42,\"quality_imp\":1.174922,\"code\":8424,\"color\":\"#5493c9\",\"community_id\":61.0,\"name\":\"Men's jackets\",\"category\":8,\"continent\":\"Americas\",\"country\":\"Canada\",\"subcontinent\":\"Northern America\",\"quality_exp_color\":\"#89bedd\"},{\"year\":1995,\"iso3\":\"CAN\",\"sitc4\":3224,\"exports\":156503.9,\"quality_exp\":2.949904,\"imports\":1221.297,\"quality_imp\":0.7409127,\"code\":3224,\"color\":\"#330000\",\"community_id\":90.0,\"name\":\"Peat\",\"category\":3,\"continent\":\"Americas\",\"country\":\"Canada\",\"subcontinent\":\"Northern America\",\"quality_exp_color\":\"#84bcdc\"},{\"year\":1995,\"iso3\":\"CAN\",\"sitc4\":7281,\"exports\":89517.67,\"quality_exp\":2.955019,\"imports\":266574.9,\"quality_imp\":1.02085,\"code\":7281,\"color\":\"#9edae5\",\"community_id\":10.0,\"name\":\"Specialized industry machinery tools & parts N.E.S\",\"category\":7,\"continent\":\"Americas\",\"country\":\"Canada\",\"subcontinent\":\"Northern America\",\"quality_exp_color\":\"#7db8da\"},{\"year\":1995,\"iso3\":\"CAN\",\"sitc4\":6954,\"exports\":10940.39,\"quality_exp\":2.956908,\"imports\":1157.304,\"quality_imp\":0.2960496,\"code\":6954,\"color\":\"red\",\"community_id\":10.0,\"name\":\"Interchangeable hand and machine tools\",\"category\":6,\"continent\":\"Americas\",\"country\":\"Canada\",\"subcontinent\":\"Northern America\",\"quality_exp_color\":\"#79b6d9\"},{\"year\":1995,\"iso3\":\"CAN\",\"sitc4\":7371,\"exports\":7802.426,\"quality_exp\":2.98071,\"imports\":12464.08,\"quality_imp\":1.410355,\"code\":7371,\"color\":\"#9edae5\",\"community_id\":10.0,\"name\":\"Metal foundry equipment & parts N.E.S.\",\"category\":7,\"continent\":\"Americas\",\"country\":\"Canada\",\"subcontinent\":\"Northern America\",\"quality_exp_color\":\"#74b3d8\"},{\"year\":1995,\"iso3\":\"CAN\",\"sitc4\":7263,\"exports\":5895.234,\"quality_exp\":2.989028,\"imports\":5555.946,\"quality_imp\":1.826226,\"code\":7263,\"color\":\"#9edae5\",\"community_id\":10.0,\"name\":\"Type-setting machines\",\"category\":7,\"continent\":\"Americas\",\"country\":\"Canada\",\"subcontinent\":\"Northern America\",\"quality_exp_color\":\"#6db0d7\"},{\"year\":1995,\"iso3\":\"CAN\",\"sitc4\":6633,\"exports\":19833.87,\"quality_exp\":3.05547,\"imports\":8055.545,\"quality_imp\":2.618358,\"code\":6633,\"color\":\"red\",\"community_id\":20.0,\"name\":\"Non ceramic mineral materials N.E.S.\",\"category\":6,\"continent\":\"Americas\",\"country\":\"Canada\",\"subcontinent\":\"Northern America\",\"quality_exp_color\":\"#69add6\"},{\"year\":1995,\"iso3\":\"CAN\",\"sitc4\":440,\"exports\":80820.55,\"quality_exp\":3.07195,\"imports\":155885.5,\"quality_imp\":0.9644531,\"code\":440,\"color\":\"#ffe999\",\"community_id\":70.0,\"name\":\"Unmilled maize\",\"category\":0,\"continent\":\"Americas\",\"country\":\"Canada\",\"subcontinent\":\"Northern America\",\"quality_exp_color\":\"#64a9d4\"},{\"year\":1995,\"iso3\":\"CAN\",\"sitc4\":7224,\"exports\":349284.6,\"quality_exp\":3.097736,\"imports\":558976.2,\"quality_imp\":1.03742,\"code\":7224,\"color\":\"#9edae5\",\"community_id\":10.0,\"name\":\"Wheeled tractors\",\"category\":7,\"continent\":\"Americas\",\"country\":\"Canada\",\"subcontinent\":\"Northern America\",\"quality_exp_color\":\"#60a7d2\"},{\"year\":1995,\"iso3\":\"CAN\",\"sitc4\":8211,\"exports\":871350.1,\"quality_exp\":3.098157,\"imports\":27609.66,\"quality_imp\":1.08954,\"code\":8211,\"color\":\"#5493c9\",\"community_id\":20.0,\"name\":\"Chairs & seats\",\"category\":8,\"continent\":\"Americas\",\"country\":\"Canada\",\"subcontinent\":\"Northern America\",\"quality_exp_color\":\"#5ca4d1\"},{\"year\":1995,\"iso3\":\"CAN\",\"sitc4\":451,\"exports\":22825.24,\"quality_exp\":3.112405,\"imports\":null,\"quality_imp\":null,\"code\":451,\"color\":\"#ffe999\",\"community_id\":83.0,\"name\":\"Unmilled rye\",\"category\":0,\"continent\":\"Americas\",\"country\":\"Canada\",\"subcontinent\":\"Northern America\",\"quality_exp_color\":\"#57a1cf\"},{\"year\":1995,\"iso3\":\"CAN\",\"sitc4\":8441,\"exports\":21129.08,\"quality_exp\":3.166521,\"imports\":181962.9,\"quality_imp\":0.9781675,\"code\":8441,\"color\":\"#5493c9\",\"community_id\":61.0,\"name\":\"Men's undershirt\",\"category\":8,\"continent\":\"Americas\",\"country\":\"Canada\",\"subcontinent\":\"Northern America\",\"quality_exp_color\":\"#539ecd\"},{\"year\":1995,\"iso3\":\"CAN\",\"sitc4\":6581,\"exports\":8516.852,\"quality_exp\":3.186487,\"imports\":11504.46,\"quality_imp\":0.9088619,\"code\":6581,\"color\":\"red\",\"community_id\":61.0,\"name\":\"Bags & sacks for packing\",\"category\":6,\"continent\":\"Americas\",\"country\":\"Canada\",\"subcontinent\":\"Northern America\",\"quality_exp_color\":\"#4e9acb\"},{\"year\":1995,\"iso3\":\"CAN\",\"sitc4\":7643,\"exports\":304634.3,\"quality_exp\":3.223139,\"imports\":547551.6,\"quality_imp\":1.34744,\"code\":7643,\"color\":\"#9edae5\",\"community_id\":11.0,\"name\":\"Television & radio transmitters\",\"category\":7,\"continent\":\"Americas\",\"country\":\"Canada\",\"subcontinent\":\"Northern America\",\"quality_exp_color\":\"#4a98c9\"},{\"year\":1995,\"iso3\":\"CAN\",\"sitc4\":8423,\"exports\":78541.18,\"quality_exp\":3.328999,\"imports\":196412.7,\"quality_imp\":1.081079,\"code\":8423,\"color\":\"#5493c9\",\"community_id\":61.0,\"name\":\"Men's trousers\",\"category\":8,\"continent\":\"Americas\",\"country\":\"Canada\",\"subcontinent\":\"Northern America\",\"quality_exp_color\":\"#4594c7\"},{\"year\":1995,\"iso3\":\"CAN\",\"sitc4\":6716,\"exports\":59526.03,\"quality_exp\":3.426551,\"imports\":208134.6,\"quality_imp\":1.14652,\"code\":6716,\"color\":\"red\",\"community_id\":15.0,\"name\":\"Ferro-alloys\",\"category\":6,\"continent\":\"Americas\",\"country\":\"Canada\",\"subcontinent\":\"Northern America\",\"quality_exp_color\":\"#4191c6\"},{\"year\":1995,\"iso3\":\"CAN\",\"sitc4\":7211,\"exports\":178052.2,\"quality_exp\":3.431538,\"imports\":124422.7,\"quality_imp\":1.069082,\"code\":7211,\"color\":\"#9edae5\",\"community_id\":10.0,\"name\":\"Machinery for soil preparation\",\"category\":7,\"continent\":\"Americas\",\"country\":\"Canada\",\"subcontinent\":\"Northern America\",\"quality_exp_color\":\"#3e8ec4\"},{\"year\":1995,\"iso3\":\"CAN\",\"sitc4\":6582,\"exports\":8566.26,\"quality_exp\":3.514454,\"imports\":12609.2,\"quality_imp\":1.084543,\"code\":6582,\"color\":\"red\",\"community_id\":20.0,\"name\":\"Textile camping goods\",\"category\":6,\"continent\":\"Americas\",\"country\":\"Canada\",\"subcontinent\":\"Northern America\",\"quality_exp_color\":\"#3a8ac2\"},{\"year\":1995,\"iso3\":\"CAN\",\"sitc4\":13,\"exports\":141974.1,\"quality_exp\":3.521105,\"imports\":1503.521,\"quality_imp\":1.336189,\"code\":13,\"color\":\"#ffe999\",\"community_id\":81.0,\"name\":\"Live swine\",\"category\":0,\"continent\":\"Americas\",\"country\":\"Canada\",\"subcontinent\":\"Northern America\",\"quality_exp_color\":\"#3787c1\"},{\"year\":1995,\"iso3\":\"CAN\",\"sitc4\":8124,\"exports\":7899.978,\"quality_exp\":3.626558,\"imports\":53580.37,\"quality_imp\":1.378914,\"code\":8124,\"color\":\"#5493c9\",\"community_id\":11.0,\"name\":\"Lighting fixture & lamp parts N.E.S.\",\"category\":8,\"continent\":\"Americas\",\"country\":\"Canada\",\"subcontinent\":\"Northern America\",\"quality_exp_color\":\"#3383be\"},{\"year\":1995,\"iso3\":\"CAN\",\"sitc4\":8452,\"exports\":12353.21,\"quality_exp\":3.725878,\"imports\":25851.05,\"quality_imp\":1.005247,\"code\":8452,\"color\":\"#5493c9\",\"community_id\":61.0,\"name\":\"Knitted women's suits & dresses\",\"category\":8,\"continent\":\"Americas\",\"country\":\"Canada\",\"subcontinent\":\"Northern America\",\"quality_exp_color\":\"#2f80bd\"},{\"year\":1995,\"iso3\":\"CAN\",\"sitc4\":8983,\"exports\":293649.6,\"quality_exp\":3.744828,\"imports\":19851.08,\"quality_imp\":0.9390349,\"code\":8983,\"color\":\"#5493c9\",\"community_id\":11.0,\"name\":\"Sound recording tapes & discs\",\"category\":8,\"continent\":\"Americas\",\"country\":\"Canada\",\"subcontinent\":\"Northern America\",\"quality_exp_color\":\"#2c7dbb\"},{\"year\":1995,\"iso3\":\"CAN\",\"sitc4\":8510,\"exports\":112038.3,\"quality_exp\":3.791453,\"imports\":1082189.0,\"quality_imp\":1.024165,\"code\":8510,\"color\":\"#5493c9\",\"community_id\":61.0,\"name\":\"Footwear\",\"category\":8,\"continent\":\"Americas\",\"country\":\"Canada\",\"subcontinent\":\"Northern America\",\"quality_exp_color\":\"#2878b9\"},{\"year\":1995,\"iso3\":\"CAN\",\"sitc4\":8812,\"exports\":8324.496,\"quality_exp\":3.815811,\"imports\":null,\"quality_imp\":null,\"code\":8812,\"color\":\"#5493c9\",\"community_id\":10.0,\"name\":\"Movie cameras, projectors & parts\",\"category\":8,\"continent\":\"Americas\",\"country\":\"Canada\",\"subcontinent\":\"Northern America\",\"quality_exp_color\":\"#2575b7\"},{\"year\":1995,\"iso3\":\"CAN\",\"sitc4\":6951,\"exports\":16510.56,\"quality_exp\":3.834487,\"imports\":4668.541,\"quality_imp\":0.8840508,\"code\":6951,\"color\":\"red\",\"community_id\":90.0,\"name\":\"Farming and forestry hand tools\",\"category\":6,\"continent\":\"Americas\",\"country\":\"Canada\",\"subcontinent\":\"Northern America\",\"quality_exp_color\":\"#2171b5\"},{\"year\":1995,\"iso3\":\"CAN\",\"sitc4\":8421,\"exports\":5678.033,\"quality_exp\":3.882052,\"imports\":11241.13,\"quality_imp\":0.8409087,\"code\":8421,\"color\":\"#5493c9\",\"community_id\":61.0,\"name\":\"Men's coats\",\"category\":8,\"continent\":\"Americas\",\"country\":\"Canada\",\"subcontinent\":\"Northern America\",\"quality_exp_color\":\"#1e6eb3\"},{\"year\":1995,\"iso3\":\"CAN\",\"sitc4\":8431,\"exports\":32921.67,\"quality_exp\":3.93527,\"imports\":104081.0,\"quality_imp\":1.045829,\"code\":8431,\"color\":\"#5493c9\",\"community_id\":61.0,\"name\":\"Women's coats & jackets\",\"category\":8,\"continent\":\"Americas\",\"country\":\"Canada\",\"subcontinent\":\"Northern America\",\"quality_exp_color\":\"#1c6bb1\"},{\"year\":1995,\"iso3\":\"CAN\",\"sitc4\":7758,\"exports\":114780.6,\"quality_exp\":3.948304,\"imports\":431652.5,\"quality_imp\":1.131238,\"code\":7758,\"color\":\"#9edae5\",\"community_id\":10.0,\"name\":\"Electro-thermal home appliances N.E.S.\",\"category\":7,\"continent\":\"Americas\",\"country\":\"Canada\",\"subcontinent\":\"Northern America\",\"quality_exp_color\":\"#1967ae\"},{\"year\":1995,\"iso3\":\"CAN\",\"sitc4\":8124,\"exports\":83868.97,\"quality_exp\":3.990765,\"imports\":362006.6,\"quality_imp\":0.9873407,\"code\":8124,\"color\":\"#5493c9\",\"community_id\":11.0,\"name\":\"Lighting fixture & lamp parts N.E.S.\",\"category\":8,\"continent\":\"Americas\",\"country\":\"Canada\",\"subcontinent\":\"Northern America\",\"quality_exp_color\":\"#1764ab\"},{\"year\":1995,\"iso3\":\"CAN\",\"sitc4\":251,\"exports\":17182.72,\"quality_exp\":4.062043,\"imports\":31166.22,\"quality_imp\":0.5363016,\"code\":251,\"color\":\"#ffe999\",\"community_id\":81.0,\"name\":\"Fresh, dried or preserved bird eggs in shell\",\"category\":0,\"continent\":\"Americas\",\"country\":\"Canada\",\"subcontinent\":\"Northern America\",\"quality_exp_color\":\"#1360a8\"},{\"year\":1995,\"iso3\":\"CAN\",\"sitc4\":7923,\"exports\":1207834.0,\"quality_exp\":4.323322,\"imports\":201515.0,\"quality_imp\":0.6808738,\"code\":7923,\"color\":\"#9edae5\",\"community_id\":12.0,\"name\":\"Aircrafts of between 2 and 15 tons\",\"category\":7,\"continent\":\"Americas\",\"country\":\"Canada\",\"subcontinent\":\"Northern America\",\"quality_exp_color\":\"#115da6\"},{\"year\":1995,\"iso3\":\"CAN\",\"sitc4\":7264,\"exports\":50923.31,\"quality_exp\":4.358706,\"imports\":47345.62,\"quality_imp\":1.256036,\"code\":7264,\"color\":\"#9edae5\",\"community_id\":10.0,\"name\":\"Printing presses\",\"category\":7,\"continent\":\"Americas\",\"country\":\"Canada\",\"subcontinent\":\"Northern America\",\"quality_exp_color\":\"#0e59a3\"},{\"year\":1995,\"iso3\":\"CAN\",\"sitc4\":7763,\"exports\":25764.96,\"quality_exp\":5.021179,\"imports\":418834.3,\"quality_imp\":1.073279,\"code\":7763,\"color\":\"#9edae5\",\"community_id\":11.0,\"name\":\"Diodes & transistors\",\"category\":7,\"continent\":\"Americas\",\"country\":\"Canada\",\"subcontinent\":\"Northern America\",\"quality_exp_color\":\"#0c56a0\"},{\"year\":1995,\"iso3\":\"CAN\",\"sitc4\":8432,\"exports\":6222.172,\"quality_exp\":5.359983,\"imports\":49882.78,\"quality_imp\":0.8708951,\"code\":8432,\"color\":\"#5493c9\",\"community_id\":61.0,\"name\":\"Women's suits\",\"category\":8,\"continent\":\"Americas\",\"country\":\"Canada\",\"subcontinent\":\"Northern America\",\"quality_exp_color\":\"#09539e\"},{\"year\":1995,\"iso3\":\"CAN\",\"sitc4\":2924,\"exports\":6763.04,\"quality_exp\":6.214955,\"imports\":26426.75,\"quality_imp\":1.652478,\"code\":2924,\"color\":\"#d66011\",\"community_id\":75.0,\"name\":\"Flora in pharmacy\",\"category\":2,\"continent\":\"Americas\",\"country\":\"Canada\",\"subcontinent\":\"Northern America\",\"quality_exp_color\":\"#084f99\"},{\"year\":1995,\"iso3\":\"CAN\",\"sitc4\":7452,\"exports\":321360.5,\"quality_exp\":6.28683,\"imports\":584.2437,\"quality_imp\":1.643172,\"code\":7452,\"color\":\"#9edae5\",\"community_id\":10.0,\"name\":\"Non-electrical machines parts N.E.S.\",\"category\":7,\"continent\":\"Americas\",\"country\":\"Canada\",\"subcontinent\":\"Northern America\",\"quality_exp_color\":\"#084c95\"},{\"year\":1995,\"iso3\":\"CAN\",\"sitc4\":8484,\"exports\":44376.45,\"quality_exp\":6.432757,\"imports\":131528.8,\"quality_imp\":2.066808,\"code\":8484,\"color\":\"#5493c9\",\"community_id\":61.0,\"name\":\"Headgear\",\"category\":8,\"continent\":\"Americas\",\"country\":\"Canada\",\"subcontinent\":\"Northern America\",\"quality_exp_color\":\"#08488e\"},{\"year\":1995,\"iso3\":\"CAN\",\"sitc4\":7757,\"exports\":88025.59,\"quality_exp\":7.598257,\"imports\":281697.6,\"quality_imp\":1.055331,\"code\":7757,\"color\":\"#9edae5\",\"community_id\":11.0,\"name\":\"Electro-mechanical home appliances N.E.S.\",\"category\":7,\"continent\":\"Americas\",\"country\":\"Canada\",\"subcontinent\":\"Northern America\",\"quality_exp_color\":\"#08448a\"},{\"year\":1995,\"iso3\":\"CAN\",\"sitc4\":6899,\"exports\":253806.5,\"quality_exp\":8.585458,\"imports\":81294.25,\"quality_imp\":1.098821,\"code\":6899,\"color\":\"red\",\"community_id\":51.0,\"name\":\"Waste of unwrought cermets & base metals\",\"category\":6,\"continent\":\"Americas\",\"country\":\"Canada\",\"subcontinent\":\"Northern America\",\"quality_exp_color\":\"#084185\"},{\"year\":1995,\"iso3\":\"CAN\",\"sitc4\":7492,\"exports\":11081.0,\"quality_exp\":10.37103,\"imports\":5415.696,\"quality_imp\":0.7797582,\"code\":7492,\"color\":\"#9edae5\",\"community_id\":10.0,\"name\":\"Valves\",\"category\":7,\"continent\":\"Americas\",\"country\":\"Canada\",\"subcontinent\":\"Northern America\",\"quality_exp_color\":\"#083d7f\"},{\"year\":1995,\"iso3\":\"CAN\",\"sitc4\":7912,\"exports\":460178.6,\"quality_exp\":18.81354,\"imports\":172929.6,\"quality_imp\":1.0,\"code\":7912,\"color\":\"#9edae5\",\"community_id\":90.0,\"name\":\"Rail tenders\",\"category\":7,\"continent\":\"Americas\",\"country\":\"Canada\",\"subcontinent\":\"Northern America\",\"quality_exp_color\":\"#083a7a\"},{\"year\":1995,\"iso3\":\"CAN\",\"sitc4\":7512,\"exports\":40246.21,\"quality_exp\":19.27132,\"imports\":112771.4,\"quality_imp\":1.553424,\"code\":7512,\"color\":\"#9edae5\",\"community_id\":11.0,\"name\":\"Calculating & ticketing machines\",\"category\":7,\"continent\":\"Americas\",\"country\":\"Canada\",\"subcontinent\":\"Northern America\",\"quality_exp_color\":\"#083674\"},{\"year\":1995,\"iso3\":\"CAN\",\"sitc4\":9410,\"exports\":11169.07,\"quality_exp\":25.77968,\"imports\":334.6482,\"quality_imp\":1.066425,\"code\":9410,\"color\":\"#9c9a87\",\"community_id\":90.0,\"name\":\"Live animals, N.E.S. (zoo animals, pets, insects, etc)\",\"category\":9,\"continent\":\"Americas\",\"country\":\"Canada\",\"subcontinent\":\"Northern America\",\"quality_exp_color\":\"#083370\"}];\n",
       "          var viz_container = '#vistk_div_6628';\n",
       "\n",
       "          visualization = vistk.viz()\n",
       "                .params({\n",
       "                  type: 'treemap',\n",
       "                  container: viz_container,\n",
       "                  height: 600,\n",
       "                  width: 900,\n",
       "                  margin: {top: 20, right: 10, bottom: 10, left: 10},\n",
       "                  data: viz_data,\n",
       "                  var_id: 'sitc4',\n",
       "                  var_sort: 'exports',\n",
       "                  var_group: 'group',\n",
       "                  var_color: 'quality_exp_color',\n",
       "                  var_size: 'exports',\n",
       "                  var_text: 'name',\n",
       "                  items: [{\n",
       "                    marks: [{\n",
       "                      type: \"div\",\n",
       "                      filter: function(d) { return d.depth == 1 && d.dx > 30 && d.dy > 30; },\n",
       "                      translate: [5, 0]\n",
       "                    }, {\n",
       "                      type: \"rect\",\n",
       "                      filter: function(d, i) { return d.depth == 2; },\n",
       "                      x: 0,\n",
       "                      y: 0,\n",
       "                      width: function(d) { return d.dx; },\n",
       "                      height: function(d) { return d.dy; },\n",
       "                      fill: function(d, i, vars) { return d[vars.var_color]; }\n",
       "                    }, {\n",
       "                      var_mark: '__highlighted',\n",
       "                      type: d3.scale.ordinal().domain([true, false]).range(['text', 'none']),\n",
       "                      translate: [10, 10]\n",
       "                    }]\n",
       "                  }],\n",
       "                  time: {\n",
       "                    var_time: 'year',\n",
       "                    current_time: 1995\n",
       "                  },\n",
       "                  title: 'Export of Canada in 1995'\n",
       "                });\n",
       "\n",
       "            d3.select(viz_container).call(visualization);\n",
       "        })(window.visualization);\n",
       "        });\n",
       "});\n",
       "});\n"
      ],
      "text/plain": [
       "<IPython.core.display.Javascript object>"
      ]
     },
     "metadata": {},
     "output_type": "display_data"
    }
   ],
   "source": [
    "# Let's see it! \n",
    "interact(make_product_treemap, country=allcountries, year=(1990, 2000, 1), \n",
    "         quality_threshold=(0.1, 4.0, 0.1), amount_threshold=(0, 10000, 100))"
   ]
  },
  {
   "cell_type": "markdown",
   "metadata": {},
   "source": [
    "## Visualizing Export Treemap (by Product)"
   ]
  },
  {
   "cell_type": "code",
   "execution_count": 14,
   "metadata": {
    "collapsed": false
   },
   "outputs": [
    {
     "data": {
      "text/html": [
       "<div id='vistk_div_49867' style='height:auto;'></div>"
      ],
      "text/plain": [
       "<IPython.core.display.HTML object>"
      ]
     },
     "metadata": {},
     "output_type": "display_data"
    },
    {
     "data": {
      "text/html": [
       "\n",
       "          <link href='https://cid-harvard.github.io/vis-toolkit/css/vistk.css' rel='stylesheet'>\n",
       "        "
      ],
      "text/plain": [
       "<IPython.core.display.HTML object>"
      ]
     },
     "metadata": {},
     "output_type": "display_data"
    },
    {
     "data": {
      "application/javascript": [
       "$.getScript(\"https://cdnjs.cloudflare.com/ajax/libs/d3/3.5.6/d3.min.js\", function () {\n",
       "$.getScript(\"http://cid-harvard.github.io/vis-toolkit/js/topojson.js\", function () {\n",
       "$.getScript(\"https://cid-harvard.github.io/vis-toolkit/build/vistk.js\", function () {\n",
       "\n",
       "        window.visualization = null;\n",
       "        (function (visualization){\n",
       "\n",
       "          var viz_data = [{\"year\":1995,\"iso3\":\"KAZ\",\"sitc4\":7415,\"exports\":40.23242,\"quality_exp\":0.1069867,\"imports\":null,\"quality_imp\":null,\"code\":7415,\"color\":\"#9edae5\",\"community_id\":11.0,\"name\":\"Air conditioning machines\",\"category\":7,\"continent\":\"Asia\",\"country\":\"Republic of Kazakhstan\",\"subcontinent\":\"Central Asia\",\"quality_exp_color\":\"#f7fbff\"},{\"year\":1995,\"iso3\":\"KAZ\",\"sitc4\":7415,\"exports\":198.199,\"quality_exp\":0.1970714,\"imports\":4096.877,\"quality_imp\":1.526085,\"code\":7415,\"color\":\"#9edae5\",\"community_id\":11.0,\"name\":\"Air conditioning machines\",\"category\":7,\"continent\":\"Asia\",\"country\":\"Republic of Kazakhstan\",\"subcontinent\":\"Central Asia\",\"quality_exp_color\":\"#f5faff\"},{\"year\":1995,\"iso3\":\"EST\",\"sitc4\":7415,\"exports\":80.23876,\"quality_exp\":0.2654354,\"imports\":null,\"quality_imp\":null,\"code\":7415,\"color\":\"#9edae5\",\"community_id\":11.0,\"name\":\"Air conditioning machines\",\"category\":7,\"continent\":\"Europe\",\"country\":\"Republic of Estonia\",\"subcontinent\":\"Northern Europe\",\"quality_exp_color\":\"#f4f9fe\"},{\"year\":1995,\"iso3\":\"SVK\",\"sitc4\":7415,\"exports\":4305.908,\"quality_exp\":0.2728481,\"imports\":21302.42,\"quality_imp\":1.305866,\"code\":7415,\"color\":\"#9edae5\",\"community_id\":11.0,\"name\":\"Air conditioning machines\",\"category\":7,\"continent\":\"Europe\",\"country\":\"Slovak Republic\",\"subcontinent\":\"Eastern Europe\",\"quality_exp_color\":\"#f3f8fe\"},{\"year\":1995,\"iso3\":\"ROU\",\"sitc4\":7415,\"exports\":434.0801,\"quality_exp\":0.2824154,\"imports\":31569.14,\"quality_imp\":1.42568,\"code\":7415,\"color\":\"#9edae5\",\"community_id\":11.0,\"name\":\"Air conditioning machines\",\"category\":7,\"continent\":\"Europe\",\"country\":\"Romania\",\"subcontinent\":\"Eastern Europe\",\"quality_exp_color\":\"#f1f7fd\"},{\"year\":1995,\"iso3\":\"SLV\",\"sitc4\":7415,\"exports\":45.07883,\"quality_exp\":0.2847974,\"imports\":6724.511,\"quality_imp\":1.297796,\"code\":7415,\"color\":\"#9edae5\",\"community_id\":11.0,\"name\":\"Air conditioning machines\",\"category\":7,\"continent\":\"Americas\",\"country\":\"Republic of El Salvador\",\"subcontinent\":\"Central America\",\"quality_exp_color\":\"#f0f6fd\"},{\"year\":1995,\"iso3\":\"HRV\",\"sitc4\":7415,\"exports\":1192.171,\"quality_exp\":0.2905084,\"imports\":20951.06,\"quality_imp\":1.298309,\"code\":7415,\"color\":\"#9edae5\",\"community_id\":11.0,\"name\":\"Air conditioning machines\",\"category\":7,\"continent\":\"Europe\",\"country\":\"Republic of Croatia\",\"subcontinent\":\"Southern Europe\",\"quality_exp_color\":\"#eef5fc\"},{\"year\":1995,\"iso3\":\"AZE\",\"sitc4\":7415,\"exports\":850.0743,\"quality_exp\":0.3004959,\"imports\":340.5468,\"quality_imp\":1.666683,\"code\":7415,\"color\":\"#9edae5\",\"community_id\":11.0,\"name\":\"Air conditioning machines\",\"category\":7,\"continent\":\"Asia\",\"country\":\"Republic of Azerbaijan\",\"subcontinent\":\"Western Asia\",\"quality_exp_color\":\"#edf5fc\"},{\"year\":1995,\"iso3\":\"IRN\",\"sitc4\":7415,\"exports\":409.8369,\"quality_exp\":0.3333988,\"imports\":11836.94,\"quality_imp\":1.384668,\"code\":7415,\"color\":\"#9edae5\",\"community_id\":11.0,\"name\":\"Air conditioning machines\",\"category\":7,\"continent\":\"Asia\",\"country\":\"Islamic Republic of Iran\",\"subcontinent\":\"Southern Asia\",\"quality_exp_color\":\"#ecf4fc\"},{\"year\":1995,\"iso3\":\"AZE\",\"sitc4\":7415,\"exports\":407.2022,\"quality_exp\":0.353753,\"imports\":null,\"quality_imp\":null,\"code\":7415,\"color\":\"#9edae5\",\"community_id\":11.0,\"name\":\"Air conditioning machines\",\"category\":7,\"continent\":\"Asia\",\"country\":\"Republic of Azerbaijan\",\"subcontinent\":\"Western Asia\",\"quality_exp_color\":\"#eaf3fb\"},{\"year\":1995,\"iso3\":\"RUS\",\"sitc4\":7415,\"exports\":656.3473,\"quality_exp\":0.3560889,\"imports\":84973.84,\"quality_imp\":0.9393017,\"code\":7415,\"color\":\"#9edae5\",\"community_id\":11.0,\"name\":\"Air conditioning machines\",\"category\":7,\"continent\":\"Europe\",\"country\":\"Russian Federation\",\"subcontinent\":\"Eastern Europe\",\"quality_exp_color\":\"#e9f2fb\"},{\"year\":1995,\"iso3\":\"PAK\",\"sitc4\":7415,\"exports\":469.4828,\"quality_exp\":0.4038604,\"imports\":8389.799,\"quality_imp\":1.194217,\"code\":7415,\"color\":\"#9edae5\",\"community_id\":11.0,\"name\":\"Air conditioning machines\",\"category\":7,\"continent\":\"Asia\",\"country\":\"Islamic Republic of Pakistan\",\"subcontinent\":\"Southern Asia\",\"quality_exp_color\":\"#e8f1fa\"},{\"year\":1995,\"iso3\":\"LCA\",\"sitc4\":7415,\"exports\":115.0103,\"quality_exp\":0.4398755,\"imports\":806.084,\"quality_imp\":1.108436,\"code\":7415,\"color\":\"#9edae5\",\"community_id\":11.0,\"name\":\"Air conditioning machines\",\"category\":7,\"continent\":\"Americas\",\"country\":\"Saint Lucia\",\"subcontinent\":\"Caribbean\",\"quality_exp_color\":\"#e6f0fa\"},{\"year\":1995,\"iso3\":\"URY\",\"sitc4\":7415,\"exports\":1409.762,\"quality_exp\":0.4535058,\"imports\":4204.423,\"quality_imp\":1.241748,\"code\":7415,\"color\":\"#9edae5\",\"community_id\":11.0,\"name\":\"Air conditioning machines\",\"category\":7,\"continent\":\"Americas\",\"country\":\"Oriental Republic of Uruguay\",\"subcontinent\":\"South America\",\"quality_exp_color\":\"#e5eff9\"},{\"year\":1995,\"iso3\":\"VCT\",\"sitc4\":7415,\"exports\":114.9454,\"quality_exp\":0.4807123,\"imports\":517.114,\"quality_imp\":1.692114,\"code\":7415,\"color\":\"#9edae5\",\"community_id\":11.0,\"name\":\"Air conditioning machines\",\"category\":7,\"continent\":\"Americas\",\"country\":\"Saint Vincent and the Grenadines\",\"subcontinent\":\"Caribbean\",\"quality_exp_color\":\"#e3eef9\"},{\"year\":1995,\"iso3\":\"MKD\",\"sitc4\":7415,\"exports\":231.009,\"quality_exp\":0.4910976,\"imports\":3970.593,\"quality_imp\":1.175701,\"code\":7415,\"color\":\"#9edae5\",\"community_id\":11.0,\"name\":\"Air conditioning machines\",\"category\":7,\"continent\":\"Europe\",\"country\":\"Republic of Macedonia\",\"subcontinent\":\"Southern Europe\",\"quality_exp_color\":\"#e2eef9\"},{\"year\":1995,\"iso3\":\"HUN\",\"sitc4\":7415,\"exports\":15705.64,\"quality_exp\":0.5070996,\"imports\":44647.0,\"quality_imp\":1.075595,\"code\":7415,\"color\":\"#9edae5\",\"community_id\":11.0,\"name\":\"Air conditioning machines\",\"category\":7,\"continent\":\"Europe\",\"country\":\"Hungary\",\"subcontinent\":\"Eastern Europe\",\"quality_exp_color\":\"#e1edf8\"},{\"year\":1995,\"iso3\":\"COL\",\"sitc4\":7415,\"exports\":242.7524,\"quality_exp\":0.5073356,\"imports\":910.4084,\"quality_imp\":1.611884,\"code\":7415,\"color\":\"#9edae5\",\"community_id\":11.0,\"name\":\"Air conditioning machines\",\"category\":7,\"continent\":\"Americas\",\"country\":\"Republic of Colombia\",\"subcontinent\":\"South America\",\"quality_exp_color\":\"#dfecf8\"},{\"year\":1995,\"iso3\":\"DMA\",\"sitc4\":7415,\"exports\":115.1198,\"quality_exp\":0.5082897,\"imports\":463.7684,\"quality_imp\":1.147579,\"code\":7415,\"color\":\"#9edae5\",\"community_id\":11.0,\"name\":\"Air conditioning machines\",\"category\":7,\"continent\":\"Americas\",\"country\":\"Commonwealth of Dominica\",\"subcontinent\":\"Caribbean\",\"quality_exp_color\":\"#deebf7\"},{\"year\":1995,\"iso3\":\"MAC\",\"sitc4\":7415,\"exports\":2695.215,\"quality_exp\":0.5175228,\"imports\":22305.49,\"quality_imp\":0.9890721,\"code\":7415,\"color\":\"#9edae5\",\"community_id\":11.0,\"name\":\"Air conditioning machines\",\"category\":7,\"continent\":\"Asia\",\"country\":\"Macao Special Administrative Region of the People's Republic of China\",\"subcontinent\":\"Eastern Asia\",\"quality_exp_color\":\"#ddeaf7\"},{\"year\":1995,\"iso3\":\"TTO\",\"sitc4\":7415,\"exports\":5155.548,\"quality_exp\":0.5187718,\"imports\":2193.872,\"quality_imp\":0.8481928,\"code\":7415,\"color\":\"#9edae5\",\"community_id\":11.0,\"name\":\"Air conditioning machines\",\"category\":7,\"continent\":\"Americas\",\"country\":\"Republic of Trinidad and Tobago\",\"subcontinent\":\"Caribbean\",\"quality_exp_color\":\"#dbe9f6\"},{\"year\":1995,\"iso3\":\"QAT\",\"sitc4\":7415,\"exports\":827.2037,\"quality_exp\":0.5246081,\"imports\":33128.68,\"quality_imp\":1.127329,\"code\":7415,\"color\":\"#9edae5\",\"community_id\":11.0,\"name\":\"Air conditioning machines\",\"category\":7,\"continent\":\"Asia\",\"country\":\"State of Qatar\",\"subcontinent\":\"Western Asia\",\"quality_exp_color\":\"#dae8f6\"},{\"year\":1995,\"iso3\":\"KNA\",\"sitc4\":7415,\"exports\":115.2967,\"quality_exp\":0.5320876,\"imports\":484.7108,\"quality_imp\":1.154469,\"code\":7415,\"color\":\"#9edae5\",\"community_id\":11.0,\"name\":\"Air conditioning machines\",\"category\":7,\"continent\":\"Americas\",\"country\":\"Federation of Saint Christopher and Nevisa\",\"subcontinent\":\"Caribbean\",\"quality_exp_color\":\"#d8e7f5\"},{\"year\":1995,\"iso3\":\"ATG\",\"sitc4\":7415,\"exports\":115.286,\"quality_exp\":0.5330966,\"imports\":270.1168,\"quality_imp\":1.09671,\"code\":7415,\"color\":\"#9edae5\",\"community_id\":11.0,\"name\":\"Air conditioning machines\",\"category\":7,\"continent\":\"Americas\",\"country\":\"Antigua and Barbuda\",\"subcontinent\":\"Caribbean\",\"quality_exp_color\":\"#d7e7f5\"},{\"year\":1995,\"iso3\":\"EGY\",\"sitc4\":7415,\"exports\":1443.373,\"quality_exp\":0.5392102,\"imports\":27833.36,\"quality_imp\":1.132146,\"code\":7415,\"color\":\"#9edae5\",\"community_id\":11.0,\"name\":\"Air conditioning machines\",\"category\":7,\"continent\":\"Africa\",\"country\":\"Arab Republic of Egypt\",\"subcontinent\":\"Northern Africa\",\"quality_exp_color\":\"#d6e6f5\"},{\"year\":1995,\"iso3\":\"GRD\",\"sitc4\":7415,\"exports\":114.8259,\"quality_exp\":0.5435606,\"imports\":482.5454,\"quality_imp\":0.9649282,\"code\":7415,\"color\":\"#9edae5\",\"community_id\":11.0,\"name\":\"Air conditioning machines\",\"category\":7,\"continent\":\"Americas\",\"country\":\"Grenada\",\"subcontinent\":\"Caribbean\",\"quality_exp_color\":\"#d4e5f4\"},{\"year\":1995,\"iso3\":\"THA\",\"sitc4\":7415,\"exports\":678064.4,\"quality_exp\":0.5476823,\"imports\":107086.7,\"quality_imp\":1.140167,\"code\":7415,\"color\":\"#9edae5\",\"community_id\":11.0,\"name\":\"Air conditioning machines\",\"category\":7,\"continent\":\"Asia\",\"country\":\"Kingdom of Thailand\",\"subcontinent\":\"South-Eastern Asia\",\"quality_exp_color\":\"#d3e4f4\"},{\"year\":1995,\"iso3\":\"SAU\",\"sitc4\":7415,\"exports\":85541.18,\"quality_exp\":0.550631,\"imports\":182197.0,\"quality_imp\":0.9525474,\"code\":7415,\"color\":\"#9edae5\",\"community_id\":11.0,\"name\":\"Air conditioning machines\",\"category\":7,\"continent\":\"Asia\",\"country\":\"Kingdom of Saudi Arabia\",\"subcontinent\":\"Western Asia\",\"quality_exp_color\":\"#d2e3f3\"},{\"year\":1995,\"iso3\":\"PAN\",\"sitc4\":7415,\"exports\":3854.808,\"quality_exp\":0.5555067,\"imports\":20138.81,\"quality_imp\":0.9349205,\"code\":7415,\"color\":\"#9edae5\",\"community_id\":11.0,\"name\":\"Air conditioning machines\",\"category\":7,\"continent\":\"Americas\",\"country\":\"Republic of Panama\",\"subcontinent\":\"Central America\",\"quality_exp_color\":\"#d1e2f3\"},{\"year\":1995,\"iso3\":\"GIN\",\"sitc4\":7415,\"exports\":52.466,\"quality_exp\":0.5562308,\"imports\":2095.799,\"quality_imp\":1.05541,\"code\":7415,\"color\":\"#9edae5\",\"community_id\":11.0,\"name\":\"Air conditioning machines\",\"category\":7,\"continent\":\"Africa\",\"country\":\"Republic of Guinea\",\"subcontinent\":\"Western Africa\",\"quality_exp_color\":\"#cfe1f2\"},{\"year\":1995,\"iso3\":\"ISL\",\"sitc4\":7415,\"exports\":1678.332,\"quality_exp\":0.5686345,\"imports\":489.7036,\"quality_imp\":1.3302,\"code\":7415,\"color\":\"#9edae5\",\"community_id\":11.0,\"name\":\"Air conditioning machines\",\"category\":7,\"continent\":\"Europe\",\"country\":\"Iceland\",\"subcontinent\":\"Northern Europe\",\"quality_exp_color\":\"#cee1f2\"},{\"year\":1995,\"iso3\":\"COL\",\"sitc4\":7415,\"exports\":3364.438,\"quality_exp\":0.5699043,\"imports\":12650.79,\"quality_imp\":1.231703,\"code\":7415,\"color\":\"#9edae5\",\"community_id\":11.0,\"name\":\"Air conditioning machines\",\"category\":7,\"continent\":\"Americas\",\"country\":\"Republic of Colombia\",\"subcontinent\":\"South America\",\"quality_exp_color\":\"#cde0f2\"},{\"year\":1995,\"iso3\":\"VNM\",\"sitc4\":7415,\"exports\":4750.711,\"quality_exp\":0.5758993,\"imports\":6295.012,\"quality_imp\":1.168183,\"code\":7415,\"color\":\"#9edae5\",\"community_id\":11.0,\"name\":\"Air conditioning machines\",\"category\":7,\"continent\":\"Asia\",\"country\":\"Socialist Republic of Vietnam\",\"subcontinent\":\"South-Eastern Asia\",\"quality_exp_color\":\"#cbdff1\"},{\"year\":1995,\"iso3\":\"EST\",\"sitc4\":7415,\"exports\":345.562,\"quality_exp\":0.5842786,\"imports\":5643.94,\"quality_imp\":1.086038,\"code\":7415,\"color\":\"#9edae5\",\"community_id\":11.0,\"name\":\"Air conditioning machines\",\"category\":7,\"continent\":\"Europe\",\"country\":\"Republic of Estonia\",\"subcontinent\":\"Northern Europe\",\"quality_exp_color\":\"#cadef1\"},{\"year\":1995,\"iso3\":\"BHR\",\"sitc4\":7415,\"exports\":4776.861,\"quality_exp\":0.5866168,\"imports\":34211.95,\"quality_imp\":1.242996,\"code\":7415,\"color\":\"#9edae5\",\"community_id\":11.0,\"name\":\"Air conditioning machines\",\"category\":7,\"continent\":\"Asia\",\"country\":\"Kingdom of Bahrain\",\"subcontinent\":\"Western Asia\",\"quality_exp_color\":\"#c9ddf0\"},{\"year\":1995,\"iso3\":\"TUN\",\"sitc4\":7415,\"exports\":699.3843,\"quality_exp\":0.6032959,\"imports\":26824.37,\"quality_imp\":1.044652,\"code\":7415,\"color\":\"#9edae5\",\"community_id\":11.0,\"name\":\"Air conditioning machines\",\"category\":7,\"continent\":\"Africa\",\"country\":\"Tunisian Republic\",\"subcontinent\":\"Northern Africa\",\"quality_exp_color\":\"#c8dcf0\"},{\"year\":1995,\"iso3\":\"PHL\",\"sitc4\":7415,\"exports\":8828.177,\"quality_exp\":0.6090856,\"imports\":46253.4,\"quality_imp\":0.9866165,\"code\":7415,\"color\":\"#9edae5\",\"community_id\":11.0,\"name\":\"Air conditioning machines\",\"category\":7,\"continent\":\"Asia\",\"country\":\"Republic of the Philippines\",\"subcontinent\":\"South-Eastern Asia\",\"quality_exp_color\":\"#c6dbef\"},{\"year\":1995,\"iso3\":\"LBN\",\"sitc4\":7415,\"exports\":126.9783,\"quality_exp\":0.6112133,\"imports\":5761.449,\"quality_imp\":1.156058,\"code\":7415,\"color\":\"#9edae5\",\"community_id\":11.0,\"name\":\"Air conditioning machines\",\"category\":7,\"continent\":\"Asia\",\"country\":\"Lebanese Republic\",\"subcontinent\":\"Western Asia\",\"quality_exp_color\":\"#c3daee\"},{\"year\":1995,\"iso3\":\"TUR\",\"sitc4\":7415,\"exports\":6498.389,\"quality_exp\":0.6180176,\"imports\":82946.57,\"quality_imp\":1.108696,\"code\":7415,\"color\":\"#9edae5\",\"community_id\":11.0,\"name\":\"Air conditioning machines\",\"category\":7,\"continent\":\"Asia\",\"country\":\"Republic of Turkey\",\"subcontinent\":\"Western Asia\",\"quality_exp_color\":\"#c2daee\"},{\"year\":1995,\"iso3\":\"IRL\",\"sitc4\":7415,\"exports\":24579.85,\"quality_exp\":0.621133,\"imports\":32782.5,\"quality_imp\":1.222182,\"code\":7415,\"color\":\"#9edae5\",\"community_id\":11.0,\"name\":\"Air conditioning machines\",\"category\":7,\"continent\":\"Europe\",\"country\":\"Republic of Ireland\",\"subcontinent\":\"Northern Europe\",\"quality_exp_color\":\"#c0d9ed\"},{\"year\":1995,\"iso3\":\"OMN\",\"sitc4\":7415,\"exports\":6836.028,\"quality_exp\":0.6240793,\"imports\":42582.92,\"quality_imp\":0.9112481,\"code\":7415,\"color\":\"#9edae5\",\"community_id\":11.0,\"name\":\"Air conditioning machines\",\"category\":7,\"continent\":\"Asia\",\"country\":\"Sultanate of Oman\",\"subcontinent\":\"Western Asia\",\"quality_exp_color\":\"#bdd7ec\"},{\"year\":1995,\"iso3\":\"ANT\",\"sitc4\":7415,\"exports\":334.7279,\"quality_exp\":0.6317833,\"imports\":166.6415,\"quality_imp\":1.613717,\"code\":7415,\"color\":\"#9edae5\",\"community_id\":11.0,\"name\":\"Air conditioning machines\",\"category\":7,\"continent\":\"Americas\",\"country\":\"Netherlands Antilles\",\"subcontinent\":\"Caribbean\",\"quality_exp_color\":\"#bbd6eb\"},{\"year\":1995,\"iso3\":\"CYP\",\"sitc4\":7415,\"exports\":4326.837,\"quality_exp\":0.6383799,\"imports\":31568.52,\"quality_imp\":1.168638,\"code\":7415,\"color\":\"#9edae5\",\"community_id\":11.0,\"name\":\"Air conditioning machines\",\"category\":7,\"continent\":\"Europe\",\"country\":\"Republic of Cyprus\",\"subcontinent\":\"Eastern Europe\",\"quality_exp_color\":\"#b9d6eb\"},{\"year\":1995,\"iso3\":\"MEX\",\"sitc4\":7415,\"exports\":322094.8,\"quality_exp\":0.6406283,\"imports\":6927.769,\"quality_imp\":1.333601,\"code\":7415,\"color\":\"#9edae5\",\"community_id\":11.0,\"name\":\"Air conditioning machines\",\"category\":7,\"continent\":\"Americas\",\"country\":\"United Mexican States\",\"subcontinent\":\"Central America\",\"quality_exp_color\":\"#b7d5ea\"},{\"year\":1995,\"iso3\":\"GTM\",\"sitc4\":7415,\"exports\":33.89835,\"quality_exp\":0.6439669,\"imports\":3868.704,\"quality_imp\":0.7951612,\"code\":7415,\"color\":\"#9edae5\",\"community_id\":11.0,\"name\":\"Air conditioning machines\",\"category\":7,\"continent\":\"Americas\",\"country\":\"Republic of Guatemala\",\"subcontinent\":\"Central America\",\"quality_exp_color\":\"#b4d4e9\"},{\"year\":1995,\"iso3\":\"KOR\",\"sitc4\":7415,\"exports\":389644.7,\"quality_exp\":0.6541236,\"imports\":27849.46,\"quality_imp\":1.32384,\"code\":7415,\"color\":\"#9edae5\",\"community_id\":11.0,\"name\":\"Air conditioning machines\",\"category\":7,\"continent\":\"Asia\",\"country\":\"Republic of Korea\",\"subcontinent\":\"Eastern Asia\",\"quality_exp_color\":\"#b2d3e8\"},{\"year\":1995,\"iso3\":\"COD\",\"sitc4\":7415,\"exports\":39.23482,\"quality_exp\":0.6576188,\"imports\":1076.603,\"quality_imp\":1.136491,\"code\":7415,\"color\":\"#9edae5\",\"community_id\":11.0,\"name\":\"Air conditioning machines\",\"category\":7,\"continent\":\"Africa\",\"country\":\"Democratic Republic of the Congo\",\"subcontinent\":\"Middle Africa\",\"quality_exp_color\":\"#b1d2e8\"},{\"year\":1995,\"iso3\":\"TWN\",\"sitc4\":7415,\"exports\":61172.31,\"quality_exp\":0.6664532,\"imports\":62076.76,\"quality_imp\":1.090325,\"code\":7415,\"color\":\"#9edae5\",\"community_id\":11.0,\"name\":\"Air conditioning machines\",\"category\":7,\"continent\":\"Asia\",\"country\":\"Republic of China (Taiwan)\",\"subcontinent\":\"Eastern Asia\",\"quality_exp_color\":\"#aed1e7\"},{\"year\":1995,\"iso3\":\"BGR\",\"sitc4\":7415,\"exports\":116.7448,\"quality_exp\":0.673875,\"imports\":10954.6,\"quality_imp\":1.242635,\"code\":7415,\"color\":\"#9edae5\",\"community_id\":11.0,\"name\":\"Air conditioning machines\",\"category\":7,\"continent\":\"Europe\",\"country\":\"Republic of Bulgaria\",\"subcontinent\":\"Eastern Europe\",\"quality_exp_color\":\"#acd0e6\"},{\"year\":1995,\"iso3\":\"MYS\",\"sitc4\":7415,\"exports\":167229.3,\"quality_exp\":0.6741164,\"imports\":10749.9,\"quality_imp\":1.365324,\"code\":7415,\"color\":\"#9edae5\",\"community_id\":11.0,\"name\":\"Air conditioning machines\",\"category\":7,\"continent\":\"Asia\",\"country\":\"Malaysia\",\"subcontinent\":\"South-Eastern Asia\",\"quality_exp_color\":\"#a9cfe5\"},{\"year\":1995,\"iso3\":\"CHN\",\"sitc4\":7415,\"exports\":42749.72,\"quality_exp\":0.67691,\"imports\":58150.79,\"quality_imp\":1.087344,\"code\":7415,\"color\":\"#9edae5\",\"community_id\":11.0,\"name\":\"Air conditioning machines\",\"category\":7,\"continent\":\"Asia\",\"country\":\"People's Republic of China\",\"subcontinent\":\"Eastern Asia\",\"quality_exp_color\":\"#a8cee5\"},{\"year\":1995,\"iso3\":\"POL\",\"sitc4\":7415,\"exports\":2040.491,\"quality_exp\":0.6773058,\"imports\":50887.45,\"quality_imp\":1.187977,\"code\":7415,\"color\":\"#9edae5\",\"community_id\":11.0,\"name\":\"Air conditioning machines\",\"category\":7,\"continent\":\"Europe\",\"country\":\"Republic of Poland\",\"subcontinent\":\"Eastern Europe\",\"quality_exp_color\":\"#a5cde4\"},{\"year\":1995,\"iso3\":\"CAN\",\"sitc4\":7415,\"exports\":82111.66,\"quality_exp\":0.6800973,\"imports\":7692.568,\"quality_imp\":1.200094,\"code\":7415,\"color\":\"#9edae5\",\"community_id\":11.0,\"name\":\"Air conditioning machines\",\"category\":7,\"continent\":\"Americas\",\"country\":\"Canada\",\"subcontinent\":\"Northern America\",\"quality_exp_color\":\"#a3cce3\"},{\"year\":1995,\"iso3\":\"CHN\",\"sitc4\":7415,\"exports\":155887.8,\"quality_exp\":0.6833089,\"imports\":386121.6,\"quality_imp\":1.646766,\"code\":7415,\"color\":\"#9edae5\",\"community_id\":11.0,\"name\":\"Air conditioning machines\",\"category\":7,\"continent\":\"Asia\",\"country\":\"People's Republic of China\",\"subcontinent\":\"Eastern Asia\",\"quality_exp_color\":\"#a0cbe2\"},{\"year\":1995,\"iso3\":\"ISR\",\"sitc4\":7415,\"exports\":100489.5,\"quality_exp\":0.6881229,\"imports\":25865.08,\"quality_imp\":1.243399,\"code\":7415,\"color\":\"#9edae5\",\"community_id\":11.0,\"name\":\"Air conditioning machines\",\"category\":7,\"continent\":\"Asia\",\"country\":\"State of Israel\",\"subcontinent\":\"Western Asia\",\"quality_exp_color\":\"#9fcbe2\"},{\"year\":1995,\"iso3\":\"PAK\",\"sitc4\":7415,\"exports\":833.4939,\"quality_exp\":0.6892067,\"imports\":19176.81,\"quality_imp\":1.178671,\"code\":7415,\"color\":\"#9edae5\",\"community_id\":11.0,\"name\":\"Air conditioning machines\",\"category\":7,\"continent\":\"Asia\",\"country\":\"Islamic Republic of Pakistan\",\"subcontinent\":\"Southern Asia\",\"quality_exp_color\":\"#9cc9e1\"},{\"year\":1995,\"iso3\":\"THA\",\"sitc4\":7415,\"exports\":170563.7,\"quality_exp\":0.6936986,\"imports\":104429.8,\"quality_imp\":1.352659,\"code\":7415,\"color\":\"#9edae5\",\"community_id\":11.0,\"name\":\"Air conditioning machines\",\"category\":7,\"continent\":\"Asia\",\"country\":\"Kingdom of Thailand\",\"subcontinent\":\"South-Eastern Asia\",\"quality_exp_color\":\"#99c7e0\"},{\"year\":1995,\"iso3\":\"MLT\",\"sitc4\":7415,\"exports\":4115.442,\"quality_exp\":0.6994389,\"imports\":14762.54,\"quality_imp\":1.54772,\"code\":7415,\"color\":\"#9edae5\",\"community_id\":11.0,\"name\":\"Air conditioning machines\",\"category\":7,\"continent\":\"Europe\",\"country\":\"Republic of Malta\",\"subcontinent\":\"Southern Europe\",\"quality_exp_color\":\"#95c6e0\"},{\"year\":1995,\"iso3\":\"TJK\",\"sitc4\":7415,\"exports\":264.8272,\"quality_exp\":0.7085329,\"imports\":null,\"quality_imp\":null,\"code\":7415,\"color\":\"#9edae5\",\"community_id\":11.0,\"name\":\"Air conditioning machines\",\"category\":7,\"continent\":\"Asia\",\"country\":\"Republic of Tajikistan\",\"subcontinent\":\"Central Asia\",\"quality_exp_color\":\"#94c5df\"},{\"year\":1995,\"iso3\":\"SVN\",\"sitc4\":7415,\"exports\":5655.418,\"quality_exp\":0.7119928,\"imports\":19950.05,\"quality_imp\":1.28652,\"code\":7415,\"color\":\"#9edae5\",\"community_id\":11.0,\"name\":\"Air conditioning machines\",\"category\":7,\"continent\":\"Europe\",\"country\":\"Republic of Slovenia\",\"subcontinent\":\"Southern Europe\",\"quality_exp_color\":\"#91c3de\"},{\"year\":1995,\"iso3\":\"JOR\",\"sitc4\":7415,\"exports\":2171.098,\"quality_exp\":0.7179827,\"imports\":5751.043,\"quality_imp\":1.286232,\"code\":7415,\"color\":\"#9edae5\",\"community_id\":11.0,\"name\":\"Air conditioning machines\",\"category\":7,\"continent\":\"Asia\",\"country\":\"Hashemite Kingdom of Jordan\",\"subcontinent\":\"Western Asia\",\"quality_exp_color\":\"#8dc1de\"},{\"year\":1995,\"iso3\":\"KOR\",\"sitc4\":7415,\"exports\":66718.65,\"quality_exp\":0.7229485,\"imports\":21292.4,\"quality_imp\":1.31583,\"code\":7415,\"color\":\"#9edae5\",\"community_id\":11.0,\"name\":\"Air conditioning machines\",\"category\":7,\"continent\":\"Asia\",\"country\":\"Republic of Korea\",\"subcontinent\":\"Eastern Asia\",\"quality_exp_color\":\"#8cc0dd\"},{\"year\":1995,\"iso3\":\"HKG\",\"sitc4\":7415,\"exports\":9939.9,\"quality_exp\":0.7310008,\"imports\":94831.74,\"quality_imp\":1.00827,\"code\":7415,\"color\":\"#9edae5\",\"community_id\":11.0,\"name\":\"Air conditioning machines\",\"category\":7,\"continent\":\"Asia\",\"country\":\"Hong Kong Special Administrative Region of the People's Republic of China\",\"subcontinent\":\"Eastern Asia\",\"quality_exp_color\":\"#89bedd\"},{\"year\":1995,\"iso3\":\"CZE\",\"sitc4\":7415,\"exports\":21190.94,\"quality_exp\":0.7343106,\"imports\":59803.64,\"quality_imp\":1.120009,\"code\":7415,\"color\":\"#9edae5\",\"community_id\":11.0,\"name\":\"Air conditioning machines\",\"category\":7,\"continent\":\"Europe\",\"country\":\"Czech Republic\",\"subcontinent\":\"Eastern Europe\",\"quality_exp_color\":\"#85bddc\"},{\"year\":1995,\"iso3\":\"USA\",\"sitc4\":7415,\"exports\":502140.0,\"quality_exp\":0.7366399,\"imports\":472209.0,\"quality_imp\":1.017913,\"code\":7415,\"color\":\"#9edae5\",\"community_id\":11.0,\"name\":\"Air conditioning machines\",\"category\":7,\"continent\":\"Americas\",\"country\":\"United States of America\",\"subcontinent\":\"Northern America\",\"quality_exp_color\":\"#82bbdb\"},{\"year\":1995,\"iso3\":\"DNK\",\"sitc4\":7415,\"exports\":2091.93,\"quality_exp\":0.747475,\"imports\":600.2109,\"quality_imp\":1.56224,\"code\":7415,\"color\":\"#9edae5\",\"community_id\":11.0,\"name\":\"Air conditioning machines\",\"category\":7,\"continent\":\"Europe\",\"country\":\"Kingdom of Denmark\",\"subcontinent\":\"Northern Europe\",\"quality_exp_color\":\"#81badb\"},{\"year\":1995,\"iso3\":\"CYP\",\"sitc4\":7415,\"exports\":1083.265,\"quality_exp\":0.7504874,\"imports\":9184.921,\"quality_imp\":1.214632,\"code\":7415,\"color\":\"#9edae5\",\"community_id\":11.0,\"name\":\"Air conditioning machines\",\"category\":7,\"continent\":\"Europe\",\"country\":\"Republic of Cyprus\",\"subcontinent\":\"Eastern Europe\",\"quality_exp_color\":\"#7db8da\"},{\"year\":1995,\"iso3\":\"AUS\",\"sitc4\":7415,\"exports\":64026.98,\"quality_exp\":0.7762312,\"imports\":29596.68,\"quality_imp\":1.147337,\"code\":7415,\"color\":\"#9edae5\",\"community_id\":11.0,\"name\":\"Air conditioning machines\",\"category\":7,\"continent\":\"Oceania\",\"country\":\"Commonwealth of Australia\",\"subcontinent\":\"Australia and New Zealand\",\"quality_exp_color\":\"#7ab7da\"},{\"year\":1995,\"iso3\":\"ABW\",\"sitc4\":7415,\"exports\":150.2123,\"quality_exp\":0.7771051,\"imports\":38.08539,\"quality_imp\":1.578278,\"code\":7415,\"color\":\"#9edae5\",\"community_id\":11.0,\"name\":\"Air conditioning machines\",\"category\":7,\"continent\":\"Americas\",\"country\":\"Aruba\",\"subcontinent\":\"Caribbean\",\"quality_exp_color\":\"#77b5d9\"},{\"year\":1995,\"iso3\":\"MYS\",\"sitc4\":7415,\"exports\":897747.5,\"quality_exp\":0.7808899,\"imports\":111980.4,\"quality_imp\":0.8540141,\"code\":7415,\"color\":\"#9edae5\",\"community_id\":11.0,\"name\":\"Air conditioning machines\",\"category\":7,\"continent\":\"Asia\",\"country\":\"Malaysia\",\"subcontinent\":\"South-Eastern Asia\",\"quality_exp_color\":\"#75b4d9\"},{\"year\":1995,\"iso3\":\"PHL\",\"sitc4\":7415,\"exports\":862.7684,\"quality_exp\":0.7876627,\"imports\":56435.47,\"quality_imp\":1.219906,\"code\":7415,\"color\":\"#9edae5\",\"community_id\":11.0,\"name\":\"Air conditioning machines\",\"category\":7,\"continent\":\"Asia\",\"country\":\"Republic of the Philippines\",\"subcontinent\":\"South-Eastern Asia\",\"quality_exp_color\":\"#72b2d8\"},{\"year\":1995,\"iso3\":\"SAU\",\"sitc4\":7415,\"exports\":416.468,\"quality_exp\":0.789243,\"imports\":78000.51,\"quality_imp\":1.217182,\"code\":7415,\"color\":\"#9edae5\",\"community_id\":11.0,\"name\":\"Air conditioning machines\",\"category\":7,\"continent\":\"Asia\",\"country\":\"Kingdom of Saudi Arabia\",\"subcontinent\":\"Western Asia\",\"quality_exp_color\":\"#6fb0d7\"},{\"year\":1995,\"iso3\":\"SGP\",\"sitc4\":7415,\"exports\":38115.38,\"quality_exp\":0.7943221,\"imports\":67794.51,\"quality_imp\":1.047854,\"code\":7415,\"color\":\"#9edae5\",\"community_id\":11.0,\"name\":\"Air conditioning machines\",\"category\":7,\"continent\":\"Asia\",\"country\":\"Republic of Singapore\",\"subcontinent\":\"South-Eastern Asia\",\"quality_exp_color\":\"#6cafd7\"},{\"year\":1995,\"iso3\":\"BRA\",\"sitc4\":7415,\"exports\":72286.57,\"quality_exp\":0.8016644,\"imports\":63161.38,\"quality_imp\":1.334883,\"code\":7415,\"color\":\"#9edae5\",\"community_id\":11.0,\"name\":\"Air conditioning machines\",\"category\":7,\"continent\":\"Americas\",\"country\":\"Federative Republic of Brazil\",\"subcontinent\":\"South America\",\"quality_exp_color\":\"#6aaed6\"},{\"year\":1995,\"iso3\":\"ESP\",\"sitc4\":7415,\"exports\":138102.3,\"quality_exp\":0.8027686,\"imports\":456895.9,\"quality_imp\":1.031657,\"code\":7415,\"color\":\"#9edae5\",\"community_id\":11.0,\"name\":\"Air conditioning machines\",\"category\":7,\"continent\":\"Europe\",\"country\":\"Kingdom of Spain\",\"subcontinent\":\"Southern Europe\",\"quality_exp_color\":\"#68acd5\"},{\"year\":1995,\"iso3\":\"HKG\",\"sitc4\":7415,\"exports\":37761.08,\"quality_exp\":0.8034469,\"imports\":937335.9,\"quality_imp\":0.9884489,\"code\":7415,\"color\":\"#9edae5\",\"community_id\":11.0,\"name\":\"Air conditioning machines\",\"category\":7,\"continent\":\"Asia\",\"country\":\"Hong Kong Special Administrative Region of the People's Republic of China\",\"subcontinent\":\"Eastern Asia\",\"quality_exp_color\":\"#65aad4\"},{\"year\":1995,\"iso3\":\"KWT\",\"sitc4\":7415,\"exports\":7507.705,\"quality_exp\":0.8092231,\"imports\":129548.4,\"quality_imp\":0.995173,\"code\":7415,\"color\":\"#9edae5\",\"community_id\":11.0,\"name\":\"Air conditioning machines\",\"category\":7,\"continent\":\"Asia\",\"country\":\"State of Kuwait\",\"subcontinent\":\"Western Asia\",\"quality_exp_color\":\"#63a8d3\"},{\"year\":1995,\"iso3\":\"EGY\",\"sitc4\":7415,\"exports\":277.2949,\"quality_exp\":0.8129436,\"imports\":5018.332,\"quality_imp\":1.275313,\"code\":7415,\"color\":\"#9edae5\",\"community_id\":11.0,\"name\":\"Air conditioning machines\",\"category\":7,\"continent\":\"Africa\",\"country\":\"Arab Republic of Egypt\",\"subcontinent\":\"Northern Africa\",\"quality_exp_color\":\"#61a8d3\"},{\"year\":1995,\"iso3\":\"MLT\",\"sitc4\":7415,\"exports\":3226.657,\"quality_exp\":0.8150849,\"imports\":12354.9,\"quality_imp\":1.127699,\"code\":7415,\"color\":\"#9edae5\",\"community_id\":11.0,\"name\":\"Air conditioning machines\",\"category\":7,\"continent\":\"Europe\",\"country\":\"Republic of Malta\",\"subcontinent\":\"Southern Europe\",\"quality_exp_color\":\"#5fa6d2\"},{\"year\":1995,\"iso3\":\"ARG\",\"sitc4\":7415,\"exports\":8550.373,\"quality_exp\":0.8218054,\"imports\":58188.58,\"quality_imp\":1.118333,\"code\":7415,\"color\":\"#9edae5\",\"community_id\":11.0,\"name\":\"Air conditioning machines\",\"category\":7,\"continent\":\"Americas\",\"country\":\"Argentine Republic\",\"subcontinent\":\"South America\",\"quality_exp_color\":\"#5ca4d1\"},{\"year\":1995,\"iso3\":\"ITA\",\"sitc4\":7415,\"exports\":646567.6,\"quality_exp\":0.8287241,\"imports\":428739.1,\"quality_imp\":1.040525,\"code\":7415,\"color\":\"#9edae5\",\"community_id\":11.0,\"name\":\"Air conditioning machines\",\"category\":7,\"continent\":\"Europe\",\"country\":\"Italian Republic\",\"subcontinent\":\"Southern Europe\",\"quality_exp_color\":\"#59a2d0\"},{\"year\":1995,\"iso3\":\"NZL\",\"sitc4\":7415,\"exports\":462.2846,\"quality_exp\":0.8288951,\"imports\":21380.6,\"quality_imp\":1.319195,\"code\":7415,\"color\":\"#9edae5\",\"community_id\":11.0,\"name\":\"Air conditioning machines\",\"category\":7,\"continent\":\"Oceania\",\"country\":\"New Zealand\",\"subcontinent\":\"Australia and New Zealand\",\"quality_exp_color\":\"#58a1cf\"},{\"year\":1995,\"iso3\":\"GRC\",\"sitc4\":7415,\"exports\":15867.78,\"quality_exp\":0.8328077,\"imports\":201368.0,\"quality_imp\":1.031636,\"code\":7415,\"color\":\"#9edae5\",\"community_id\":11.0,\"name\":\"Air conditioning machines\",\"category\":7,\"continent\":\"Europe\",\"country\":\"Hellenic Republic\",\"subcontinent\":\"Southern Europe\",\"quality_exp_color\":\"#56a0ce\"},{\"year\":1995,\"iso3\":\"NGA\",\"sitc4\":7415,\"exports\":241.6685,\"quality_exp\":0.8415651,\"imports\":9356.215,\"quality_imp\":1.204271,\"code\":7415,\"color\":\"#9edae5\",\"community_id\":11.0,\"name\":\"Air conditioning machines\",\"category\":7,\"continent\":\"Africa\",\"country\":\"Federal Republic of Nigeria\",\"subcontinent\":\"Western Africa\",\"quality_exp_color\":\"#539ecd\"},{\"year\":1995,\"iso3\":\"CIV\",\"sitc4\":7415,\"exports\":465.6075,\"quality_exp\":0.8478252,\"imports\":8626.295,\"quality_imp\":1.080075,\"code\":7415,\"color\":\"#9edae5\",\"community_id\":11.0,\"name\":\"Air conditioning machines\",\"category\":7,\"continent\":\"Africa\",\"country\":\"Republic of C\\u00f4te d'Ivoire\",\"subcontinent\":\"Western Africa\",\"quality_exp_color\":\"#509ccc\"},{\"year\":1995,\"iso3\":\"CHE\",\"sitc4\":7415,\"exports\":9981.282,\"quality_exp\":0.8530334,\"imports\":9351.84,\"quality_imp\":1.29259,\"code\":7415,\"color\":\"#9edae5\",\"community_id\":11.0,\"name\":\"Air conditioning machines\",\"category\":7,\"continent\":\"Europe\",\"country\":\"Swiss Confederation\",\"subcontinent\":\"Western Europe\",\"quality_exp_color\":\"#4f9bcc\"},{\"year\":1995,\"iso3\":\"PRK\",\"sitc4\":7415,\"exports\":883.1221,\"quality_exp\":0.8536067,\"imports\":null,\"quality_imp\":null,\"code\":7415,\"color\":\"#9edae5\",\"community_id\":11.0,\"name\":\"Air conditioning machines\",\"category\":7,\"continent\":\"Asia\",\"country\":\"Democratic People's Republic of Korea\",\"subcontinent\":\"Eastern Asia\",\"quality_exp_color\":\"#4d99ca\"},{\"year\":1995,\"iso3\":\"AUT\",\"sitc4\":7415,\"exports\":97589.85,\"quality_exp\":0.8776226,\"imports\":120096.3,\"quality_imp\":1.044271,\"code\":7415,\"color\":\"#9edae5\",\"community_id\":11.0,\"name\":\"Air conditioning machines\",\"category\":7,\"continent\":\"Europe\",\"country\":\"Republic of Austria\",\"subcontinent\":\"Western Europe\",\"quality_exp_color\":\"#4a98c9\"},{\"year\":1995,\"iso3\":\"CAN\",\"sitc4\":7415,\"exports\":12559.93,\"quality_exp\":0.8781762,\"imports\":15901.02,\"quality_imp\":1.341997,\"code\":7415,\"color\":\"#9edae5\",\"community_id\":11.0,\"name\":\"Air conditioning machines\",\"category\":7,\"continent\":\"Americas\",\"country\":\"Canada\",\"subcontinent\":\"Northern America\",\"quality_exp_color\":\"#4997c9\"},{\"year\":1995,\"iso3\":\"ARE\",\"sitc4\":7415,\"exports\":18809.8,\"quality_exp\":0.8924835,\"imports\":81416.11,\"quality_imp\":0.9897171,\"code\":7415,\"color\":\"#9edae5\",\"community_id\":11.0,\"name\":\"Air conditioning machines\",\"category\":7,\"continent\":\"Asia\",\"country\":\"United Arab Emirates\",\"subcontinent\":\"Western Asia\",\"quality_exp_color\":\"#4695c8\"},{\"year\":1995,\"iso3\":\"ZWE\",\"sitc4\":7415,\"exports\":178.071,\"quality_exp\":0.8968481,\"imports\":4786.059,\"quality_imp\":1.137996,\"code\":7415,\"color\":\"#9edae5\",\"community_id\":11.0,\"name\":\"Air conditioning machines\",\"category\":7,\"continent\":\"Africa\",\"country\":\"Republic of Zimbabwe\",\"subcontinent\":\"Eastern Africa\",\"quality_exp_color\":\"#4493c7\"},{\"year\":1995,\"iso3\":\"VEN\",\"sitc4\":7415,\"exports\":1856.982,\"quality_exp\":0.900072,\"imports\":36889.81,\"quality_imp\":1.19942,\"code\":7415,\"color\":\"#9edae5\",\"community_id\":11.0,\"name\":\"Air conditioning machines\",\"category\":7,\"continent\":\"Americas\",\"country\":\"Bolivarian Republic of Venezuela\",\"subcontinent\":\"South America\",\"quality_exp_color\":\"#4191c6\"},{\"year\":1995,\"iso3\":\"FRA\",\"sitc4\":7415,\"exports\":457409.7,\"quality_exp\":0.9058868,\"imports\":504414.8,\"quality_imp\":0.9010958,\"code\":7415,\"color\":\"#9edae5\",\"community_id\":11.0,\"name\":\"Air conditioning machines\",\"category\":7,\"continent\":\"Europe\",\"country\":\"French Republic\",\"subcontinent\":\"Western Europe\",\"quality_exp_color\":\"#4090c5\"},{\"year\":1995,\"iso3\":\"PRT\",\"sitc4\":7415,\"exports\":11719.62,\"quality_exp\":0.9072699,\"imports\":92988.94,\"quality_imp\":1.069758,\"code\":7415,\"color\":\"#9edae5\",\"community_id\":11.0,\"name\":\"Air conditioning machines\",\"category\":7,\"continent\":\"Europe\",\"country\":\"Portuguese Republic\",\"subcontinent\":\"Southern Europe\",\"quality_exp_color\":\"#3e8ec4\"},{\"year\":1995,\"iso3\":\"FIN\",\"sitc4\":7415,\"exports\":26011.04,\"quality_exp\":0.9139454,\"imports\":36183.84,\"quality_imp\":1.212966,\"code\":7415,\"color\":\"#9edae5\",\"community_id\":11.0,\"name\":\"Air conditioning machines\",\"category\":7,\"continent\":\"Europe\",\"country\":\"Republic of Finland\",\"subcontinent\":\"Northern Europe\",\"quality_exp_color\":\"#3c8cc3\"},{\"year\":1995,\"iso3\":\"IDN\",\"sitc4\":7415,\"exports\":6261.561,\"quality_exp\":0.9199187,\"imports\":143695.1,\"quality_imp\":0.9962439,\"code\":7415,\"color\":\"#9edae5\",\"community_id\":11.0,\"name\":\"Air conditioning machines\",\"category\":7,\"continent\":\"Asia\",\"country\":\"Republic of Indonesia\",\"subcontinent\":\"South-Eastern Asia\",\"quality_exp_color\":\"#3a8ac2\"},{\"year\":1995,\"iso3\":\"GRC\",\"sitc4\":7415,\"exports\":988.0527,\"quality_exp\":0.9262186,\"imports\":97534.51,\"quality_imp\":1.10885,\"code\":7415,\"color\":\"#9edae5\",\"community_id\":11.0,\"name\":\"Air conditioning machines\",\"category\":7,\"continent\":\"Europe\",\"country\":\"Hellenic Republic\",\"subcontinent\":\"Southern Europe\",\"quality_exp_color\":\"#3989c2\"},{\"year\":1995,\"iso3\":\"ZAF\",\"sitc4\":7415,\"exports\":6919.213,\"quality_exp\":0.9326613,\"imports\":26834.87,\"quality_imp\":1.013235,\"code\":7415,\"color\":\"#9edae5\",\"community_id\":11.0,\"name\":\"Air conditioning machines\",\"category\":7,\"continent\":\"Africa\",\"country\":\"Republic of South Africa\",\"subcontinent\":\"Southern Africa\",\"quality_exp_color\":\"#3787c1\"},{\"year\":1995,\"iso3\":\"BRA\",\"sitc4\":7415,\"exports\":248.8681,\"quality_exp\":0.9404034,\"imports\":20295.95,\"quality_imp\":1.230988,\"code\":7415,\"color\":\"#9edae5\",\"community_id\":11.0,\"name\":\"Air conditioning machines\",\"category\":7,\"continent\":\"Americas\",\"country\":\"Federative Republic of Brazil\",\"subcontinent\":\"South America\",\"quality_exp_color\":\"#3585c0\"},{\"year\":1995,\"iso3\":\"IND\",\"sitc4\":7415,\"exports\":3426.513,\"quality_exp\":0.9440991,\"imports\":37789.71,\"quality_imp\":1.189491,\"code\":7415,\"color\":\"#9edae5\",\"community_id\":11.0,\"name\":\"Air conditioning machines\",\"category\":7,\"continent\":\"Asia\",\"country\":\"Republic of India\",\"subcontinent\":\"Southern Asia\",\"quality_exp_color\":\"#3383be\"},{\"year\":1995,\"iso3\":\"SWE\",\"sitc4\":7415,\"exports\":88374.31,\"quality_exp\":0.9441259,\"imports\":111501.6,\"quality_imp\":1.187371,\"code\":7415,\"color\":\"#9edae5\",\"community_id\":11.0,\"name\":\"Air conditioning machines\",\"category\":7,\"continent\":\"Europe\",\"country\":\"Kingdom of Sweden\",\"subcontinent\":\"Northern Europe\",\"quality_exp_color\":\"#3282be\"},{\"year\":1995,\"iso3\":\"ZAF\",\"sitc4\":7415,\"exports\":293.0144,\"quality_exp\":0.9442146,\"imports\":61241.07,\"quality_imp\":1.178619,\"code\":7415,\"color\":\"#9edae5\",\"community_id\":11.0,\"name\":\"Air conditioning machines\",\"category\":7,\"continent\":\"Africa\",\"country\":\"Republic of South Africa\",\"subcontinent\":\"Southern Africa\",\"quality_exp_color\":\"#2f80bd\"},{\"year\":1995,\"iso3\":\"GBR\",\"sitc4\":7415,\"exports\":256928.9,\"quality_exp\":0.9493764,\"imports\":337421.1,\"quality_imp\":1.079233,\"code\":7415,\"color\":\"#9edae5\",\"community_id\":11.0,\"name\":\"Air conditioning machines\",\"category\":7,\"continent\":\"Europe\",\"country\":\"United Kingdom of Great Britain and Northern Ireland\",\"subcontinent\":\"Northern Europe\",\"quality_exp_color\":\"#2d7ebc\"},{\"year\":1995,\"iso3\":\"SGP\",\"sitc4\":7415,\"exports\":410938.0,\"quality_exp\":0.9581646,\"imports\":596360.9,\"quality_imp\":1.0,\"code\":7415,\"color\":\"#9edae5\",\"community_id\":11.0,\"name\":\"Air conditioning machines\",\"category\":7,\"continent\":\"Asia\",\"country\":\"Republic of Singapore\",\"subcontinent\":\"South-Eastern Asia\",\"quality_exp_color\":\"#2b7cbb\"},{\"year\":1995,\"iso3\":\"LTU\",\"sitc4\":7415,\"exports\":45.55904,\"quality_exp\":0.9870303,\"imports\":2752.884,\"quality_imp\":1.345457,\"code\":7415,\"color\":\"#9edae5\",\"community_id\":11.0,\"name\":\"Air conditioning machines\",\"category\":7,\"continent\":\"Europe\",\"country\":\"Republic of Lithuania\",\"subcontinent\":\"Northern Europe\",\"quality_exp_color\":\"#2a7bba\"},{\"year\":1995,\"iso3\":\"JPN\",\"sitc4\":7415,\"exports\":1017475.0,\"quality_exp\":1.0,\"imports\":16389.78,\"quality_imp\":1.441411,\"code\":7415,\"color\":\"#9edae5\",\"community_id\":11.0,\"name\":\"Air conditioning machines\",\"category\":7,\"continent\":\"Asia\",\"country\":\"Japan\",\"subcontinent\":\"Eastern Asia\",\"quality_exp_color\":\"#2878b9\"},{\"year\":1995,\"iso3\":\"JPN\",\"sitc4\":7415,\"exports\":2110595.0,\"quality_exp\":1.0,\"imports\":311702.7,\"quality_imp\":0.9447411,\"code\":7415,\"color\":\"#9edae5\",\"community_id\":11.0,\"name\":\"Air conditioning machines\",\"category\":7,\"continent\":\"Asia\",\"country\":\"Japan\",\"subcontinent\":\"Eastern Asia\",\"quality_exp_color\":\"#2676b8\"},{\"year\":1995,\"iso3\":\"BLR\",\"sitc4\":7415,\"exports\":218.636,\"quality_exp\":1.004208,\"imports\":641.1378,\"quality_imp\":1.574193,\"code\":7415,\"color\":\"#9edae5\",\"community_id\":11.0,\"name\":\"Air conditioning machines\",\"category\":7,\"continent\":\"Europe\",\"country\":\"Republic of Belarus\",\"subcontinent\":\"Eastern Europe\",\"quality_exp_color\":\"#2474b7\"},{\"year\":1995,\"iso3\":\"FRA\",\"sitc4\":7415,\"exports\":14933.53,\"quality_exp\":1.009434,\"imports\":36611.45,\"quality_imp\":1.171501,\"code\":7415,\"color\":\"#9edae5\",\"community_id\":11.0,\"name\":\"Air conditioning machines\",\"category\":7,\"continent\":\"Europe\",\"country\":\"French Republic\",\"subcontinent\":\"Western Europe\",\"quality_exp_color\":\"#2373b6\"},{\"year\":1995,\"iso3\":\"DNK\",\"sitc4\":7415,\"exports\":64294.1,\"quality_exp\":1.03567,\"imports\":25541.43,\"quality_imp\":1.093517,\"code\":7415,\"color\":\"#9edae5\",\"community_id\":11.0,\"name\":\"Air conditioning machines\",\"category\":7,\"continent\":\"Europe\",\"country\":\"Kingdom of Denmark\",\"subcontinent\":\"Northern Europe\",\"quality_exp_color\":\"#2171b5\"},{\"year\":1995,\"iso3\":\"SWE\",\"sitc4\":7415,\"exports\":5573.82,\"quality_exp\":1.038179,\"imports\":14612.0,\"quality_imp\":1.238286,\"code\":7415,\"color\":\"#9edae5\",\"community_id\":11.0,\"name\":\"Air conditioning machines\",\"category\":7,\"continent\":\"Europe\",\"country\":\"Kingdom of Sweden\",\"subcontinent\":\"Northern Europe\",\"quality_exp_color\":\"#1f6fb4\"},{\"year\":1995,\"iso3\":\"NLD\",\"sitc4\":7415,\"exports\":118123.2,\"quality_exp\":1.060146,\"imports\":211262.9,\"quality_imp\":0.9983625,\"code\":7415,\"color\":\"#9edae5\",\"community_id\":11.0,\"name\":\"Air conditioning machines\",\"category\":7,\"continent\":\"Europe\",\"country\":\"Netherlands\",\"subcontinent\":\"Western Europe\",\"quality_exp_color\":\"#1e6db2\"},{\"year\":1995,\"iso3\":\"MEX\",\"sitc4\":7415,\"exports\":2166.31,\"quality_exp\":1.109635,\"imports\":139831.0,\"quality_imp\":1.029073,\"code\":7415,\"color\":\"#9edae5\",\"community_id\":11.0,\"name\":\"Air conditioning machines\",\"category\":7,\"continent\":\"Americas\",\"country\":\"United Mexican States\",\"subcontinent\":\"Central America\",\"quality_exp_color\":\"#1d6cb1\"},{\"year\":1995,\"iso3\":\"ARE\",\"sitc4\":7415,\"exports\":2569.752,\"quality_exp\":1.12344,\"imports\":90954.21,\"quality_imp\":1.147906,\"code\":7415,\"color\":\"#9edae5\",\"community_id\":11.0,\"name\":\"Air conditioning machines\",\"category\":7,\"continent\":\"Asia\",\"country\":\"United Arab Emirates\",\"subcontinent\":\"Western Asia\",\"quality_exp_color\":\"#1b6ab0\"},{\"year\":1995,\"iso3\":\"IND\",\"sitc4\":7415,\"exports\":6439.184,\"quality_exp\":1.134738,\"imports\":21687.04,\"quality_imp\":1.152046,\"code\":7415,\"color\":\"#9edae5\",\"community_id\":11.0,\"name\":\"Air conditioning machines\",\"category\":7,\"continent\":\"Asia\",\"country\":\"Republic of India\",\"subcontinent\":\"Southern Asia\",\"quality_exp_color\":\"#1a68ae\"},{\"year\":1995,\"iso3\":\"TWN\",\"sitc4\":7415,\"exports\":70625.91,\"quality_exp\":1.164761,\"imports\":124552.5,\"quality_imp\":0.9957849,\"code\":7415,\"color\":\"#9edae5\",\"community_id\":11.0,\"name\":\"Air conditioning machines\",\"category\":7,\"continent\":\"Asia\",\"country\":\"Republic of China (Taiwan)\",\"subcontinent\":\"Eastern Asia\",\"quality_exp_color\":\"#1866ad\"},{\"year\":1995,\"iso3\":\"USA\",\"sitc4\":7415,\"exports\":279007.8,\"quality_exp\":1.167346,\"imports\":533461.1,\"quality_imp\":0.9495657,\"code\":7415,\"color\":\"#9edae5\",\"community_id\":11.0,\"name\":\"Air conditioning machines\",\"category\":7,\"continent\":\"Americas\",\"country\":\"United States of America\",\"subcontinent\":\"Northern America\",\"quality_exp_color\":\"#1765ac\"},{\"year\":1995,\"iso3\":\"BEN\",\"sitc4\":7415,\"exports\":42.864,\"quality_exp\":1.18961,\"imports\":3342.996,\"quality_imp\":1.182331,\"code\":7415,\"color\":\"#9edae5\",\"community_id\":11.0,\"name\":\"Air conditioning machines\",\"category\":7,\"continent\":\"Africa\",\"country\":\"Republic of Benin\",\"subcontinent\":\"Western Africa\",\"quality_exp_color\":\"#1663aa\"},{\"year\":1995,\"iso3\":\"ISL\",\"sitc4\":7415,\"exports\":64.29317,\"quality_exp\":1.193921,\"imports\":null,\"quality_imp\":null,\"code\":7415,\"color\":\"#9edae5\",\"community_id\":11.0,\"name\":\"Air conditioning machines\",\"category\":7,\"continent\":\"Europe\",\"country\":\"Iceland\",\"subcontinent\":\"Northern Europe\",\"quality_exp_color\":\"#1461a9\"},{\"year\":1995,\"iso3\":\"ESP\",\"sitc4\":7415,\"exports\":3232.852,\"quality_exp\":1.210279,\"imports\":162390.7,\"quality_imp\":1.093447,\"code\":7415,\"color\":\"#9edae5\",\"community_id\":11.0,\"name\":\"Air conditioning machines\",\"category\":7,\"continent\":\"Europe\",\"country\":\"Kingdom of Spain\",\"subcontinent\":\"Southern Europe\",\"quality_exp_color\":\"#1360a8\"},{\"year\":1995,\"iso3\":\"DEU\",\"sitc4\":7415,\"exports\":548487.7,\"quality_exp\":1.211067,\"imports\":512608.8,\"quality_imp\":1.0,\"code\":7415,\"color\":\"#9edae5\",\"community_id\":11.0,\"name\":\"Air conditioning machines\",\"category\":7,\"continent\":\"Europe\",\"country\":\"Federal Republic of Germany\",\"subcontinent\":\"Western Europe\",\"quality_exp_color\":\"#125ea6\"},{\"year\":1995,\"iso3\":\"HND\",\"sitc4\":7415,\"exports\":135.987,\"quality_exp\":1.215858,\"imports\":4326.972,\"quality_imp\":0.7206685,\"code\":7415,\"color\":\"#9edae5\",\"community_id\":11.0,\"name\":\"Air conditioning machines\",\"category\":7,\"continent\":\"Americas\",\"country\":\"Republic of Honduras\",\"subcontinent\":\"Central America\",\"quality_exp_color\":\"#105ca5\"},{\"year\":1995,\"iso3\":\"NLD\",\"sitc4\":7415,\"exports\":2760.921,\"quality_exp\":1.221791,\"imports\":95327.56,\"quality_imp\":1.171807,\"code\":7415,\"color\":\"#9edae5\",\"community_id\":11.0,\"name\":\"Air conditioning machines\",\"category\":7,\"continent\":\"Europe\",\"country\":\"Netherlands\",\"subcontinent\":\"Western Europe\",\"quality_exp_color\":\"#0f5aa3\"},{\"year\":1995,\"iso3\":\"ITA\",\"sitc4\":7415,\"exports\":20110.85,\"quality_exp\":1.222459,\"imports\":131157.4,\"quality_imp\":1.054106,\"code\":7415,\"color\":\"#9edae5\",\"community_id\":11.0,\"name\":\"Air conditioning machines\",\"category\":7,\"continent\":\"Europe\",\"country\":\"Italian Republic\",\"subcontinent\":\"Southern Europe\",\"quality_exp_color\":\"#0e59a3\"},{\"year\":1995,\"iso3\":\"AUS\",\"sitc4\":7415,\"exports\":24161.31,\"quality_exp\":1.223348,\"imports\":179729.5,\"quality_imp\":0.9987893,\"code\":7415,\"color\":\"#9edae5\",\"community_id\":11.0,\"name\":\"Air conditioning machines\",\"category\":7,\"continent\":\"Oceania\",\"country\":\"Commonwealth of Australia\",\"subcontinent\":\"Australia and New Zealand\",\"quality_exp_color\":\"#0c57a1\"},{\"year\":1995,\"iso3\":\"BLX\",\"sitc4\":7415,\"exports\":200483.9,\"quality_exp\":1.263833,\"imports\":181474.1,\"quality_imp\":0.9982263,\"code\":7415,\"color\":\"#9edae5\",\"community_id\":11.0,\"name\":\"Air conditioning machines\",\"category\":7,\"continent\":\"Europe\",\"country\":\"Belgium-Luxembourg\",\"subcontinent\":\"Eastern Europe\",\"quality_exp_color\":\"#0b559f\"},{\"year\":1995,\"iso3\":\"CRI\",\"sitc4\":7415,\"exports\":104.404,\"quality_exp\":1.30736,\"imports\":4957.713,\"quality_imp\":1.297765,\"code\":7415,\"color\":\"#9edae5\",\"community_id\":11.0,\"name\":\"Air conditioning machines\",\"category\":7,\"continent\":\"Americas\",\"country\":\"Republic of Costa Rica\",\"subcontinent\":\"Central America\",\"quality_exp_color\":\"#09539e\"},{\"year\":1995,\"iso3\":\"CHL\",\"sitc4\":7415,\"exports\":81.965,\"quality_exp\":1.337999,\"imports\":30718.72,\"quality_imp\":1.352471,\"code\":7415,\"color\":\"#9edae5\",\"community_id\":11.0,\"name\":\"Air conditioning machines\",\"category\":7,\"continent\":\"Americas\",\"country\":\"Republic of Chile\",\"subcontinent\":\"South America\",\"quality_exp_color\":\"#08529d\"},{\"year\":1995,\"iso3\":\"CHE\",\"sitc4\":7415,\"exports\":55638.81,\"quality_exp\":1.342457,\"imports\":78229.44,\"quality_imp\":1.256485,\"code\":7415,\"color\":\"#9edae5\",\"community_id\":11.0,\"name\":\"Air conditioning machines\",\"category\":7,\"continent\":\"Europe\",\"country\":\"Swiss Confederation\",\"subcontinent\":\"Western Europe\",\"quality_exp_color\":\"#08509b\"},{\"year\":1995,\"iso3\":\"PRK\",\"sitc4\":7415,\"exports\":42.14538,\"quality_exp\":1.381592,\"imports\":532.2674,\"quality_imp\":2.733849,\"code\":7415,\"color\":\"#9edae5\",\"community_id\":11.0,\"name\":\"Air conditioning machines\",\"category\":7,\"continent\":\"Asia\",\"country\":\"Democratic People's Republic of Korea\",\"subcontinent\":\"Eastern Asia\",\"quality_exp_color\":\"#084e98\"},{\"year\":1995,\"iso3\":\"NOR\",\"sitc4\":7415,\"exports\":6336.423,\"quality_exp\":1.410755,\"imports\":49122.41,\"quality_imp\":1.194524,\"code\":7415,\"color\":\"#9edae5\",\"community_id\":11.0,\"name\":\"Air conditioning machines\",\"category\":7,\"continent\":\"Europe\",\"country\":\"Kingdom of Norway\",\"subcontinent\":\"Northern Europe\",\"quality_exp_color\":\"#084c95\"},{\"year\":1995,\"iso3\":\"LTU\",\"sitc4\":7415,\"exports\":124.698,\"quality_exp\":1.509834,\"imports\":2980.682,\"quality_imp\":1.290653,\"code\":7415,\"color\":\"#9edae5\",\"community_id\":11.0,\"name\":\"Air conditioning machines\",\"category\":7,\"continent\":\"Europe\",\"country\":\"Republic of Lithuania\",\"subcontinent\":\"Northern Europe\",\"quality_exp_color\":\"#084b93\"},{\"year\":1995,\"iso3\":\"FIN\",\"sitc4\":7415,\"exports\":247.5977,\"quality_exp\":1.515093,\"imports\":3393.068,\"quality_imp\":1.297055,\"code\":7415,\"color\":\"#9edae5\",\"community_id\":11.0,\"name\":\"Air conditioning machines\",\"category\":7,\"continent\":\"Europe\",\"country\":\"Republic of Finland\",\"subcontinent\":\"Northern Europe\",\"quality_exp_color\":\"#084990\"},{\"year\":1995,\"iso3\":\"SYR\",\"sitc4\":7415,\"exports\":969.3418,\"quality_exp\":1.520612,\"imports\":18156.12,\"quality_imp\":1.063899,\"code\":7415,\"color\":\"#9edae5\",\"community_id\":11.0,\"name\":\"Air conditioning machines\",\"category\":7,\"continent\":\"Asia\",\"country\":\"Syrian Arab Republic\",\"subcontinent\":\"Western Asia\",\"quality_exp_color\":\"#08478d\"},{\"year\":1995,\"iso3\":\"DEU\",\"sitc4\":7415,\"exports\":42834.05,\"quality_exp\":1.616276,\"imports\":101296.8,\"quality_imp\":1.158635,\"code\":7415,\"color\":\"#9edae5\",\"community_id\":11.0,\"name\":\"Air conditioning machines\",\"category\":7,\"continent\":\"Europe\",\"country\":\"Federal Republic of Germany\",\"subcontinent\":\"Western Europe\",\"quality_exp_color\":\"#08448a\"},{\"year\":1995,\"iso3\":\"IDN\",\"sitc4\":7415,\"exports\":1514.182,\"quality_exp\":1.656252,\"imports\":94584.56,\"quality_imp\":1.161553,\"code\":7415,\"color\":\"#9edae5\",\"community_id\":11.0,\"name\":\"Air conditioning machines\",\"category\":7,\"continent\":\"Asia\",\"country\":\"Republic of Indonesia\",\"subcontinent\":\"South-Eastern Asia\",\"quality_exp_color\":\"#084388\"},{\"year\":1995,\"iso3\":\"ISR\",\"sitc4\":7415,\"exports\":6969.426,\"quality_exp\":1.911565,\"imports\":31084.65,\"quality_imp\":1.615838,\"code\":7415,\"color\":\"#9edae5\",\"community_id\":11.0,\"name\":\"Air conditioning machines\",\"category\":7,\"continent\":\"Asia\",\"country\":\"State of Israel\",\"subcontinent\":\"Western Asia\",\"quality_exp_color\":\"#084185\"},{\"year\":1995,\"iso3\":\"IRL\",\"sitc4\":7415,\"exports\":70.52394,\"quality_exp\":1.92009,\"imports\":null,\"quality_imp\":null,\"code\":7415,\"color\":\"#9edae5\",\"community_id\":11.0,\"name\":\"Air conditioning machines\",\"category\":7,\"continent\":\"Europe\",\"country\":\"Republic of Ireland\",\"subcontinent\":\"Northern Europe\",\"quality_exp_color\":\"#083f82\"},{\"year\":1995,\"iso3\":\"NZL\",\"sitc4\":7415,\"exports\":9958.591,\"quality_exp\":1.949802,\"imports\":31359.33,\"quality_imp\":1.31227,\"code\":7415,\"color\":\"#9edae5\",\"community_id\":11.0,\"name\":\"Air conditioning machines\",\"category\":7,\"continent\":\"Oceania\",\"country\":\"New Zealand\",\"subcontinent\":\"Australia and New Zealand\",\"quality_exp_color\":\"#083d7f\"},{\"year\":1995,\"iso3\":\"AUT\",\"sitc4\":7415,\"exports\":275.833,\"quality_exp\":2.090284,\"imports\":8217.541,\"quality_imp\":1.267723,\"code\":7415,\"color\":\"#9edae5\",\"community_id\":11.0,\"name\":\"Air conditioning machines\",\"category\":7,\"continent\":\"Europe\",\"country\":\"Republic of Austria\",\"subcontinent\":\"Western Europe\",\"quality_exp_color\":\"#083c7d\"},{\"year\":1995,\"iso3\":\"GBR\",\"sitc4\":7415,\"exports\":14101.25,\"quality_exp\":2.332871,\"imports\":100219.0,\"quality_imp\":1.204524,\"code\":7415,\"color\":\"#9edae5\",\"community_id\":11.0,\"name\":\"Air conditioning machines\",\"category\":7,\"continent\":\"Europe\",\"country\":\"United Kingdom of Great Britain and Northern Ireland\",\"subcontinent\":\"Northern Europe\",\"quality_exp_color\":\"#083a7a\"},{\"year\":1995,\"iso3\":\"BHR\",\"sitc4\":7415,\"exports\":119.1022,\"quality_exp\":2.631044,\"imports\":8851.489,\"quality_imp\":1.284179,\"code\":7415,\"color\":\"#9edae5\",\"community_id\":11.0,\"name\":\"Air conditioning machines\",\"category\":7,\"continent\":\"Asia\",\"country\":\"Kingdom of Bahrain\",\"subcontinent\":\"Western Asia\",\"quality_exp_color\":\"#083877\"},{\"year\":1995,\"iso3\":\"BLX\",\"sitc4\":7415,\"exports\":708.1061,\"quality_exp\":2.637715,\"imports\":122628.9,\"quality_imp\":1.11814,\"code\":7415,\"color\":\"#9edae5\",\"community_id\":11.0,\"name\":\"Air conditioning machines\",\"category\":7,\"continent\":\"Europe\",\"country\":\"Belgium-Luxembourg\",\"subcontinent\":\"Eastern Europe\",\"quality_exp_color\":\"#083674\"},{\"year\":1995,\"iso3\":\"CZE\",\"sitc4\":7415,\"exports\":53.56984,\"quality_exp\":5.563905,\"imports\":664.2696,\"quality_imp\":1.310951,\"code\":7415,\"color\":\"#9edae5\",\"community_id\":11.0,\"name\":\"Air conditioning machines\",\"category\":7,\"continent\":\"Europe\",\"country\":\"Czech Republic\",\"subcontinent\":\"Eastern Europe\",\"quality_exp_color\":\"#083573\"},{\"year\":1995,\"iso3\":\"NOR\",\"sitc4\":7415,\"exports\":233.9428,\"quality_exp\":6.433709,\"imports\":434.0535,\"quality_imp\":1.713407,\"code\":7415,\"color\":\"#9edae5\",\"community_id\":11.0,\"name\":\"Air conditioning machines\",\"category\":7,\"continent\":\"Europe\",\"country\":\"Kingdom of Norway\",\"subcontinent\":\"Northern Europe\",\"quality_exp_color\":\"#083370\"},{\"year\":1995,\"iso3\":\"HUN\",\"sitc4\":7415,\"exports\":101.2972,\"quality_exp\":11.88019,\"imports\":3530.01,\"quality_imp\":1.329427,\"code\":7415,\"color\":\"#9edae5\",\"community_id\":11.0,\"name\":\"Air conditioning machines\",\"category\":7,\"continent\":\"Europe\",\"country\":\"Hungary\",\"subcontinent\":\"Eastern Europe\",\"quality_exp_color\":\"#08316c\"}];\n",
       "          var viz_container = '#vistk_div_49867';\n",
       "\n",
       "          visualization = vistk.viz()\n",
       "                .params({\n",
       "                  type: 'treemap',\n",
       "                  container: viz_container,\n",
       "                  height: 600,\n",
       "                  width: 900,\n",
       "                  margin: {top: 20, right: 10, bottom: 10, left: 10},\n",
       "                  data: viz_data,\n",
       "                  var_id: 'iso3',\n",
       "                  var_sort: 'exports',\n",
       "                  var_group: 'group',\n",
       "                  var_color: 'quality_exp_color',\n",
       "                  var_size: 'exports',\n",
       "                  var_text: 'country',\n",
       "                  items: [{\n",
       "                    marks: [{\n",
       "                      type: \"div\",\n",
       "                      filter: function(d) { return d.depth == 1 && d.dx > 30 && d.dy > 30; },\n",
       "                      translate: [5, 0]\n",
       "                    }, {\n",
       "                      type: \"rect\",\n",
       "                      filter: function(d, i) { return d.depth == 2; },\n",
       "                      x: 0,\n",
       "                      y: 0,\n",
       "                      width: function(d) { return d.dx; },\n",
       "                      height: function(d) { return d.dy; },\n",
       "                      fill: function(d, i, vars) { return d[vars.var_color]; }\n",
       "                    }, {\n",
       "                      var_mark: '__highlighted',\n",
       "                      type: d3.scale.ordinal().domain([true, false]).range(['text', 'none']),\n",
       "                      translate: [10, 10]\n",
       "                    }]\n",
       "                  }],\n",
       "                  time: {\n",
       "                    var_time: 'year',\n",
       "                    current_time: 1995\n",
       "                  },\n",
       "                  title: 'Export of Air conditioning machines in 1995'\n",
       "                });\n",
       "\n",
       "            d3.select(viz_container).call(visualization);\n",
       "        })(window.visualization);\n",
       "        });\n",
       "});\n",
       "});\n"
      ],
      "text/plain": [
       "<IPython.core.display.Javascript object>"
      ]
     },
     "metadata": {},
     "output_type": "display_data"
    }
   ],
   "source": [
    "# Let's see it! \n",
    "interact(make_country_treemap, product=products, year=(1990, 2000, 1), \n",
    "         quality_threshold=(0.1, 4.0, 0.1), amount_threshold=(0, 10000, 100))"
   ]
  },
  {
   "cell_type": "code",
   "execution_count": null,
   "metadata": {
    "collapsed": true
   },
   "outputs": [],
   "source": []
  },
  {
   "cell_type": "code",
   "execution_count": null,
   "metadata": {
    "collapsed": true
   },
   "outputs": [],
   "source": []
  },
  {
   "cell_type": "code",
   "execution_count": null,
   "metadata": {
    "collapsed": true
   },
   "outputs": [],
   "source": []
  },
  {
   "cell_type": "code",
   "execution_count": null,
   "metadata": {
    "collapsed": true
   },
   "outputs": [],
   "source": []
  }
 ],
 "metadata": {
  "kernelspec": {
   "display_name": "Python 2",
   "language": "python",
   "name": "python2"
  },
  "language_info": {
   "codemirror_mode": {
    "name": "ipython",
    "version": 2
   },
   "file_extension": ".py",
   "mimetype": "text/x-python",
   "name": "python",
   "nbconvert_exporter": "python",
   "pygments_lexer": "ipython2",
   "version": "2.7.11"
  }
 },
 "nbformat": 4,
 "nbformat_minor": 0
}
