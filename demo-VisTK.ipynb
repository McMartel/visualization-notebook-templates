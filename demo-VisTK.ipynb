{
 "cells": [
  {
   "cell_type": "code",
   "execution_count": 1,
   "metadata": {
    "collapsed": false
   },
   "outputs": [],
   "source": [
    "import sys\n",
    "sys.path.append(\"./modules\")\n",
    "import vistk\n",
    "import pandas as pd\n",
    "from linnaeus import classification\n",
    "import json"
   ]
  },
  {
   "cell_type": "markdown",
   "metadata": {},
   "source": [
    "Data source: Nigeria imports\n",
    "[http://atlas.cid.harvard.edu/explore/tree_map/export/nga/all/show/2013/](http://atlas.cid.harvard.edu/explore/tree_map/export/nga/all/show/2013/)"
   ]
  },
  {
   "cell_type": "code",
   "execution_count": 2,
   "metadata": {
    "collapsed": false
   },
   "outputs": [],
   "source": [
    "with open(\"sourceData/nigeria_exports_2013.json\") as data_file:    \n",
    "    data = json.load(data_file)"
   ]
  },
  {
   "cell_type": "code",
   "execution_count": null,
   "metadata": {
    "collapsed": false
   },
   "outputs": [],
   "source": [
    "#data = pd.read_json(\"sourceData/nigeria_exports_2013.json\")\n",
    "df = pd.DataFrame(data['data'])\n",
    "df.tail()"
   ]
  },
  {
   "cell_type": "markdown",
   "metadata": {},
   "source": [
    "# Dotplot"
   ]
  },
  {
   "cell_type": "code",
   "execution_count": null,
   "metadata": {
    "collapsed": false
   },
   "outputs": [],
   "source": [
    "dotplot = vistk.Dotplot(id='code', name='name', x='distance', year=1995, color='color', \n",
    "                        group='community_id', selection=['8422'])\n",
    "dotplot.draw(df)"
   ]
  },
  {
   "cell_type": "markdown",
   "metadata": {},
   "source": [
    "# Sparkline"
   ]
  },
  {
   "cell_type": "code",
   "execution_count": null,
   "metadata": {
    "collapsed": false
   },
   "outputs": [],
   "source": [
    "sparkline = vistk.Sparkline(id='code', name='name', y='value', year=2013)\n",
    "sparkline.draw(df)"
   ]
  },
  {
   "cell_type": "markdown",
   "metadata": {},
   "source": [
    "# Scatterplot\n",
    "TODO\n",
    "* Filter function\n",
    "* RCA > 1 function to color"
   ]
  },
  {
   "cell_type": "code",
   "execution_count": null,
   "metadata": {
    "collapsed": false
   },
   "outputs": [],
   "source": [
    "scatterplot = vistk.Scatterplot(id='code', color='color', name='name', x='value', \n",
    "                                y='opp_gain', r='rca', year=2013)\n",
    "scatterplot.draw(df)"
   ]
  },
  {
   "cell_type": "code",
   "execution_count": null,
   "metadata": {
    "collapsed": false
   },
   "outputs": [],
   "source": [
    "# Test with matplotlib\n",
    "%matplotlib inline\n",
    "import matplotlib.pylab as plt\n",
    "df_sub = df[(df.year == 2013)]\n",
    "plt.scatter(df_sub.distance, df_sub.opp_gain, c=df_sub.color)"
   ]
  },
  {
   "cell_type": "code",
   "execution_count": null,
   "metadata": {
    "collapsed": false
   },
   "outputs": [],
   "source": [
    "scatterplot = vistk.Scatterplot(id='code', color='color', name='name', x='distance', \n",
    "                                y='opp_gain', r='rca', year=2013)\n",
    "scatterplot.draw(df)"
   ]
  },
  {
   "cell_type": "code",
   "execution_count": null,
   "metadata": {
    "collapsed": false
   },
   "outputs": [],
   "source": [
    "with open(\"sourceData/kuwait_exports_2013.json\") as data_file:    \n",
    "    data = json.load(data_file)\n",
    "\n",
    "df_kuwait = pd.DataFrame(data['data'])\n",
    "df_kuwait.head()"
   ]
  },
  {
   "cell_type": "code",
   "execution_count": null,
   "metadata": {
    "collapsed": false
   },
   "outputs": [],
   "source": [
    "scatterplot = vistk.Scatterplot(id='code', color='color', name='name', x='distance', \n",
    "                                y='pci', r='value', year=2013)\n",
    "scatterplot.draw(df_kuwait)"
   ]
  },
  {
   "cell_type": "markdown",
   "metadata": {},
   "source": [
    "# Treemap"
   ]
  },
  {
   "cell_type": "code",
   "execution_count": null,
   "metadata": {
    "collapsed": false
   },
   "outputs": [],
   "source": [
    "treemap = vistk.Treemap(id='abbrv', color='color', name='name', size='value', sort='value',\n",
    "                        group='community_id', year=2013)\n",
    "treemap.draw(df)"
   ]
  },
  {
   "cell_type": "code",
   "execution_count": null,
   "metadata": {
    "collapsed": false
   },
   "outputs": [],
   "source": [
    "productspace = vistk.Productspace(id='name', year=2013, color='color', name='name')\n",
    "productspace.draw(df)"
   ]
  },
  {
   "cell_type": "markdown",
   "metadata": {
    "collapsed": false
   },
   "source": [
    "# Geomap"
   ]
  },
  {
   "cell_type": "code",
   "execution_count": null,
   "metadata": {
    "collapsed": false
   },
   "outputs": [],
   "source": [
    "import json\n",
    "import pandas as pd\n",
    "import sys\n",
    "sys.path.append(\"./modules\")\n",
    "import vistk\n",
    "\n",
    "with open(\"sourceData/countries_wdi.json\") as data_file:    \n",
    "    countries_wdi = json.load(data_file)\n",
    "\n",
    "# Temporal data are nested under the 'years' attribtue\n",
    "# Only retrieve the first year (1995)\n",
    "countries_wdi_flat = []\n",
    "i = 0\n",
    "for index, item in enumerate(countries_wdi):\n",
    "    for x, m in enumerate(item['years']):\n",
    "        m['name'] = item['name'];        \n",
    "        m['continent'] = item['continent'];\n",
    "        m['country_id'] = item['country_id'];\n",
    "        m['id_topo'] = item['id_topo'];\n",
    "        m['longitude'] = item['longitude'];\n",
    "        m['latitude'] = item['latitude'];\n",
    "        m['name_3char'] = item['name_3char'];\n",
    "        countries_wdi_flat.append(m)\n",
    "\n",
    "df = pd.DataFrame(countries_wdi_flat)"
   ]
  },
  {
   "cell_type": "code",
   "execution_count": null,
   "metadata": {
    "collapsed": false
   },
   "outputs": [],
   "source": [
    "geomap = vistk.Geomap(id='name', color='total_export_value', name='name', year=1995)\n",
    "geomap.draw(df)"
   ]
  },
  {
   "cell_type": "markdown",
   "metadata": {
    "collapsed": false
   },
   "source": [
    "# Linechart"
   ]
  },
  {
   "cell_type": "code",
   "execution_count": null,
   "metadata": {
    "collapsed": false
   },
   "outputs": [],
   "source": [
    "linechart = vistk.Linechart(id='name', x='year', y='eci', color='continent', name='name', selection=['Japan', 'Nigeria'])\n",
    "linechart.draw(df)"
   ]
  },
  {
   "cell_type": "code",
   "execution_count": null,
   "metadata": {
    "collapsed": false
   },
   "outputs": [],
   "source": [
    "linechart = vistk.Linechart(id='name', x='year', y='gdp', color='continent', name='name', selection=['Japan', 'Nigeria'])\n",
    "linechart.draw(df)"
   ]
  },
  {
   "cell_type": "markdown",
   "metadata": {},
   "source": [
    "### TODO\n",
    "* Ranking chart with vertical ordinal axid"
   ]
  },
  {
   "cell_type": "markdown",
   "metadata": {},
   "source": []
  },
  {
   "cell_type": "code",
   "execution_count": null,
   "metadata": {
    "collapsed": false
   },
   "outputs": [],
   "source": []
  },
  {
   "cell_type": "code",
   "execution_count": null,
   "metadata": {
    "collapsed": false
   },
   "outputs": [],
   "source": []
  },
  {
   "cell_type": "code",
   "execution_count": null,
   "metadata": {
    "collapsed": false
   },
   "outputs": [],
   "source": [
    "df.tail()"
   ]
  },
  {
   "cell_type": "markdown",
   "metadata": {},
   "source": [
    "# Grid"
   ]
  },
  {
   "cell_type": "code",
   "execution_count": null,
   "metadata": {
    "collapsed": false
   },
   "outputs": [],
   "source": [
    "grid = vistk.Grid(id='name_3char', sort='eci', color='continent', name='name', group='continent', year=2012)\n",
    "grid.draw(df)"
   ]
  },
  {
   "cell_type": "markdown",
   "metadata": {
    "collapsed": true
   },
   "source": [
    "# Stacked graph"
   ]
  },
  {
   "cell_type": "code",
   "execution_count": null,
   "metadata": {
    "collapsed": false
   },
   "outputs": [],
   "source": [
    "stackedgraph = vistk.Stackedgraph(id='name', x='year', y='gdp', color='continent', name='name', selection=['Japan', 'Nigeria'])\n",
    "stackedgraph.draw(df)"
   ]
  },
  {
   "cell_type": "code",
   "execution_count": null,
   "metadata": {
    "collapsed": true
   },
   "outputs": [],
   "source": []
  },
  {
   "cell_type": "markdown",
   "metadata": {
    "collapsed": false
   },
   "source": [
    "# TODO\n",
    "\n",
    "To match the current atlas online's portfolio\n",
    "* Pie scatter\n",
    "* Bipartite graph\n",
    "* Radial/rings\n",
    "* Table (simple or with nested bars)\n",
    "\n",
    "Others\n",
    "* Bar chart (distributions)\n",
    "* Pie chart\n",
    "* Matrix\n",
    "* Record time to generate the charts and compare with matlibplot\n",
    "\n",
    "Interactions\n",
    "* Focus on elements in sparlines, dotplots, ..\n",
    "* Multiple views\n",
    "* Corrdinated views\n",
    "* Selection / interaction"
   ]
  },
  {
   "cell_type": "code",
   "execution_count": null,
   "metadata": {
    "collapsed": true
   },
   "outputs": [],
   "source": []
  },
  {
   "cell_type": "code",
   "execution_count": null,
   "metadata": {
    "collapsed": false
   },
   "outputs": [],
   "source": [
    "with open(\"sourceData/world_gdp_0_1998.json\") as data_file:    \n",
    "    countries_gdp = json.load(data_file)\n",
    "\n",
    "countries_gdp_flat = []\n",
    "i = 0\n",
    "for index, item in enumerate(countries_gdp):\n",
    "    for x, m in enumerate(item['years']):\n",
    "        m['name'] = item['name']\n",
    "        countries_gdp_flat.append(m)\n",
    "\n",
    "df = pd.DataFrame(countries_gdp_flat)\n",
    "df.head()"
   ]
  },
  {
   "cell_type": "code",
   "execution_count": null,
   "metadata": {
    "collapsed": false
   },
   "outputs": [],
   "source": [
    "linechart = vistk.Linechart(id='name', x='year', y='value', color='name', name='name')\n",
    "linechart.draw(df)"
   ]
  },
  {
   "cell_type": "code",
   "execution_count": null,
   "metadata": {
    "collapsed": false
   },
   "outputs": [],
   "source": []
  },
  {
   "cell_type": "code",
   "execution_count": null,
   "metadata": {
    "collapsed": true
   },
   "outputs": [],
   "source": []
  },
  {
   "cell_type": "code",
   "execution_count": null,
   "metadata": {
    "collapsed": false
   },
   "outputs": [],
   "source": []
  }
 ],
 "metadata": {
  "kernelspec": {
   "display_name": "Python 3",
   "language": "python",
   "name": "python3"
  },
  "language_info": {
   "codemirror_mode": {
    "name": "ipython",
    "version": 3
   },
   "file_extension": ".py",
   "mimetype": "text/x-python",
   "name": "python",
   "nbconvert_exporter": "python",
   "pygments_lexer": "ipython3",
   "version": "3.4.3"
  }
 },
 "nbformat": 4,
 "nbformat_minor": 0
}
