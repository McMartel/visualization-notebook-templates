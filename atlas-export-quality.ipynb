{
 "cells": [
  {
   "cell_type": "markdown",
   "metadata": {},
   "source": [
    "TODO\n",
    "* ~~Load products quality dataset~~\n",
    " * Drop some unused columns\n",
    " * Add the description of the quality dataset (e.g role of variables, ..)\n",
    "* Generate descriptive statistics\n",
    " * Use matlibplot\n",
    "* Load and merge atlas datasets\n",
    " * List of countries\n",
    " * List of products (SITC4)\n",
    " * Countries and products metadata\n",
    "  * Color\n",
    "  * Full / short names\n",
    "* ~~Load `vistk.py`~~\n",
    "* Generate visualizations we find on The Atlas\n",
    " * Country treemap\n",
    " * Geo-maps\n",
    " * Products treemap\n",
    " * Stacked graph\n",
    " * ~~Scatterplot~~\n",
    " * Product space\n",
    "* Generate new visualizations\n",
    " * Caterplot\n",
    "* Include the product quality in the above visualizations"
   ]
  },
  {
   "cell_type": "code",
   "execution_count": null,
   "metadata": {
    "collapsed": false
   },
   "outputs": [],
   "source": [
    "import sys\n",
    "sys.path.append(\"./modules\")\n",
    "import vistk\n",
    "import pandas as pd\n",
    "import json"
   ]
  },
  {
   "cell_type": "code",
   "execution_count": null,
   "metadata": {
    "collapsed": false
   },
   "outputs": [],
   "source": [
    "df = pd.read_csv('/Users/rvuillemot/Downloads/master_data.csv').sort(columns='year')"
   ]
  },
  {
   "cell_type": "code",
   "execution_count": null,
   "metadata": {
    "collapsed": false
   },
   "outputs": [],
   "source": [
    "df.head()"
   ]
  },
  {
   "cell_type": "code",
   "execution_count": null,
   "metadata": {
    "collapsed": false
   },
   "outputs": [],
   "source": [
    "dotplot = vistk.Dotplot(id='sitc4u', name='sitc4u', x='quality_exp', year=1984, color='color', \n",
    "                        group='community_id')\n",
    "dotplot.draw(df[df['year'] == 1984])"
   ]
  },
  {
   "cell_type": "code",
   "execution_count": null,
   "metadata": {
    "collapsed": false
   },
   "outputs": [],
   "source": [
    "scatterplot = vistk.Scatterplot(id='sitc4u', color='color', name='sitc4u', x='imports', \n",
    "                                y='exports', r='quality_exp', year=1984)\n",
    "scatterplot.draw(df[df['year'] == 1984])"
   ]
  },
  {
   "cell_type": "code",
   "execution_count": null,
   "metadata": {
    "collapsed": false
   },
   "outputs": [],
   "source": []
  },
  {
   "cell_type": "code",
   "execution_count": null,
   "metadata": {
    "collapsed": true
   },
   "outputs": [],
   "source": []
  }
 ],
 "metadata": {
  "kernelspec": {
   "display_name": "Python 3",
   "language": "python",
   "name": "python3"
  },
  "language_info": {
   "codemirror_mode": {
    "name": "ipython",
    "version": 3
   },
   "file_extension": ".py",
   "mimetype": "text/x-python",
   "name": "python",
   "nbconvert_exporter": "python",
   "pygments_lexer": "ipython3",
   "version": "3.4.3"
  }
 },
 "nbformat": 4,
 "nbformat_minor": 0
}
