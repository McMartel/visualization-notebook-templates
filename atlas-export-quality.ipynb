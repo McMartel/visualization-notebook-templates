{
 "cells": [
  {
   "cell_type": "markdown",
   "metadata": {},
   "source": [
    "TODO\n",
    "* Load products quality dataset\n",
    "* Generate descriptive statistics\n",
    "* Load and merge atlas datasets (countries and products)\n",
    "* Load vistk.py\n",
    "* Generate visualizations we find on The Atlas\n",
    " * Country treemap\n",
    " * Products treemap\n",
    " * Stacked graph\n",
    " * Scatterplot\n",
    " * Product space\n",
    "* Include th"
   ]
  }
 ],
 "metadata": {
  "kernelspec": {
   "display_name": "Python 3",
   "language": "python",
   "name": "python3"
  },
  "language_info": {
   "codemirror_mode": {
    "name": "ipython",
    "version": 3
   },
   "file_extension": ".py",
   "mimetype": "text/x-python",
   "name": "python",
   "nbconvert_exporter": "python",
   "pygments_lexer": "ipython3",
   "version": "3.4.3"
  }
 },
 "nbformat": 4,
 "nbformat_minor": 0
}
