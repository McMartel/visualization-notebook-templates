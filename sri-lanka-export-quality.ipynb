{
 "cells": [
  {
   "cell_type": "markdown",
   "metadata": {},
   "source": [
    "# Sri Lanka – Quality of Exports\n",
    "\n",
    "Here I look at: \n",
    "\n",
    "1.\tSri Lanka’s quality of exports in a given period (by sector) in comparison to the world\n",
    "2.\tSri Lanka’s quality of exports (at the national level) in comparison to the world, through time\n",
    "3.\tSri Lanka’s quality of exports in a given period (by product) , categorized by sector \n",
    "4.\tSri Lanka’s quality of exports (for key products) in comparison the rest of its exports, through time\n",
    "\n",
    "Overall, Sri Lanka seems to be experiencing significant progress on its national-level quality of exports, which is also the case of Sri Lanka’s textile-related exports. In general, textile-related exports are very well positioned in terms of quality in comparison to the rest of its exports. Internationally, garment products are positioned on the mid-range distribution in terms of quality, whereas other products from fabrics and fibres are on the lower range of the international distribution of quality. Nevertheless, most products under study evinced positive evolutions in their levels of quality.\n",
    "\n"
   ]
  },
  {
   "cell_type": "markdown",
   "metadata": {},
   "source": [
    "## Sri Lanka and the World:  Quality of exports"
   ]
  },
  {
   "cell_type": "markdown",
   "metadata": {},
   "source": [
    "\n",
    "### Sri Lanka Quality Ladder\n",
    "TODO: TWO CATERPLOTS\n",
    "* Compare two years side by side\n",
    "* Widgets to change years\n",
    "* Highight Sri-Lanka in both charts\n",
    "* Select by countries\n",
    "* Titles\n",
    "* Legends"
   ]
  },
  {
   "cell_type": "code",
   "execution_count": null,
   "metadata": {
    "collapsed": true
   },
   "outputs": [],
   "source": []
  },
  {
   "cell_type": "markdown",
   "metadata": {},
   "source": [
    "Here we are looking at the sector-level quality of exports for the world and for Sri Lanka (in red). We can see that there is some dispersion on quality levels for Sri Lanka, although an improvement form 1970 to 2010 is evident. Also, no need to worry for recommendations on “miscellaneous” since there are no exports reported under “other” for Sri Lanka.\n",
    "\n",
    "An important note here is that this dataset (for which we did most our quality work) is with a trade data which is revision 1 trade data (and not rev. 2 like we use for the atlas).\n"
   ]
  },
  {
   "cell_type": "markdown",
   "metadata": {},
   "source": [
    "## Sri Lanka and the World over time:  Quality of exports"
   ]
  },
  {
   "cell_type": "markdown",
   "metadata": {},
   "source": [
    "Here we see how Sri Lanka’s country-level quality of exports compare to its neighbors. They are coming on top of the entire distribution by 2010. One caveat is that you “national-level” quality of exports is a weighted average of what you already export, so countries with small export baskets can have misleading indicators on quality.\n",
    "\n",
    "Graph N16: Quality distribution by country through time: South Asia\n"
   ]
  },
  {
   "cell_type": "markdown",
   "metadata": {},
   "source": [
    "### Quality Distribution by country through time: East Asia & The Pacific\n",
    "\n",
    "TODO: TIME PLOT\n",
    "* X-axis is a time period\n",
    "* Y-axis is quality\n",
    "* Select data for south-asia\n",
    "* Highight Srki-lanka\n",
    "* Title\n",
    "* Legend"
   ]
  },
  {
   "cell_type": "markdown",
   "metadata": {},
   "source": [
    "### Quality Distribution by country through time: MIddle-Income Countries\n",
    "\n",
    "TODO: TIME PLOT\n",
    "* Filter countries by income level"
   ]
  },
  {
   "cell_type": "markdown",
   "metadata": {},
   "source": [
    "### Quality Distribution by country through time: RCA>1 in 8414\n",
    "\n",
    "TODO: TIME PLOT\n",
    "* 8414 is \"Clothing and accessories, knitted or crocheted\""
   ]
  },
  {
   "cell_type": "markdown",
   "metadata": {},
   "source": [
    "## Inside Sri Lanka: Quality Ladder by sectors\n",
    "\n",
    "### Sri Lanka Quality Ladder\n",
    "\n",
    "TODO: CATERPLOT\n",
    "* \n",
    "\n",
    "TODO: CATERPLOT with highlighted products"
   ]
  },
  {
   "cell_type": "markdown",
   "metadata": {},
   "source": [
    "## Sri Lanka in time: how has quality of key sectors evolved?"
   ]
  },
  {
   "cell_type": "markdown",
   "metadata": {},
   "source": [
    "### Top-10 Products Quality in Sri Lanka"
   ]
  },
  {
   "cell_type": "markdown",
   "metadata": {},
   "source": [
    "### Full list of \"key\" sectors"
   ]
  }
 ],
 "metadata": {
  "kernelspec": {
   "display_name": "Python 3",
   "language": "python",
   "name": "python3"
  },
  "language_info": {
   "codemirror_mode": {
    "name": "ipython",
    "version": 3
   },
   "file_extension": ".py",
   "mimetype": "text/x-python",
   "name": "python",
   "nbconvert_exporter": "python",
   "pygments_lexer": "ipython3",
   "version": "3.4.3"
  }
 },
 "nbformat": 4,
 "nbformat_minor": 0
}
