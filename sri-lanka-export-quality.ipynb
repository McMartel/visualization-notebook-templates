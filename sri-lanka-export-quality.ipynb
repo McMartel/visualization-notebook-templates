{
 "cells": [
  {
   "cell_type": "markdown",
   "metadata": {},
   "source": [
    "# Sri Lanka – Quality of Exports\n",
    "\n",
    "Here I look at: \n",
    "\n",
    "1.\tSri Lanka’s quality of exports in a given period (by sector) in comparison to the world\n",
    "2.\tSri Lanka’s quality of exports (at the national level) in comparison to the world, through time\n",
    "3.\tSri Lanka’s quality of exports in a given period (by product) , categorized by sector \n",
    "4.\tSri Lanka’s quality of exports (for key products) in comparison the rest of its exports, through time\n",
    "\n",
    "Overall, Sri Lanka seems to be experiencing significant progress on its national-level quality of exports, which is also the case of Sri Lanka’s textile-related exports. In general, textile-related exports are very well positioned in terms of quality in comparison to the rest of its exports. Internationally, garment products are positioned on the mid-range distribution in terms of quality, whereas other products from fabrics and fibres are on the lower range of the international distribution of quality. Nevertheless, most products under study evinced positive evolutions in their levels of quality."
   ]
  },
  {
   "cell_type": "code",
   "execution_count": 4,
   "metadata": {
    "collapsed": false
   },
   "outputs": [
    {
     "data": {
      "text/html": [
       "<div>\n",
       "<table border=\"1\" class=\"dataframe\">\n",
       "  <thead>\n",
       "    <tr style=\"text-align: right;\">\n",
       "      <th></th>\n",
       "      <th>year</th>\n",
       "      <th>iso3</th>\n",
       "      <th>sitc4</th>\n",
       "      <th>exports</th>\n",
       "      <th>quality_exp</th>\n",
       "      <th>imports</th>\n",
       "      <th>quality_imp</th>\n",
       "      <th>code</th>\n",
       "      <th>color</th>\n",
       "      <th>community_id</th>\n",
       "      <th>name</th>\n",
       "    </tr>\n",
       "  </thead>\n",
       "  <tbody>\n",
       "    <tr>\n",
       "      <th>0</th>\n",
       "      <td>1984</td>\n",
       "      <td>DOM</td>\n",
       "      <td>0011</td>\n",
       "      <td>NaN</td>\n",
       "      <td>NaN</td>\n",
       "      <td>52.08442</td>\n",
       "      <td>0.702034</td>\n",
       "      <td>0011</td>\n",
       "      <td>#ffe999</td>\n",
       "      <td>81</td>\n",
       "      <td>Live bovines</td>\n",
       "    </tr>\n",
       "    <tr>\n",
       "      <th>1</th>\n",
       "      <td>1984</td>\n",
       "      <td>JOR</td>\n",
       "      <td>7264</td>\n",
       "      <td>NaN</td>\n",
       "      <td>NaN</td>\n",
       "      <td>882.23070</td>\n",
       "      <td>1.248837</td>\n",
       "      <td>7264</td>\n",
       "      <td>#9edae5</td>\n",
       "      <td>10</td>\n",
       "      <td>Printing presses</td>\n",
       "    </tr>\n",
       "    <tr>\n",
       "      <th>2</th>\n",
       "      <td>1984</td>\n",
       "      <td>MLT</td>\n",
       "      <td>7264</td>\n",
       "      <td>33.6984</td>\n",
       "      <td>1.1567</td>\n",
       "      <td>338.30020</td>\n",
       "      <td>0.937385</td>\n",
       "      <td>7264</td>\n",
       "      <td>#9edae5</td>\n",
       "      <td>10</td>\n",
       "      <td>Printing presses</td>\n",
       "    </tr>\n",
       "    <tr>\n",
       "      <th>3</th>\n",
       "      <td>1984</td>\n",
       "      <td>BGD</td>\n",
       "      <td>7264</td>\n",
       "      <td>NaN</td>\n",
       "      <td>NaN</td>\n",
       "      <td>1146.31800</td>\n",
       "      <td>0.902277</td>\n",
       "      <td>7264</td>\n",
       "      <td>#9edae5</td>\n",
       "      <td>10</td>\n",
       "      <td>Printing presses</td>\n",
       "    </tr>\n",
       "    <tr>\n",
       "      <th>4</th>\n",
       "      <td>1984</td>\n",
       "      <td>GHA</td>\n",
       "      <td>7264</td>\n",
       "      <td>NaN</td>\n",
       "      <td>NaN</td>\n",
       "      <td>31.46410</td>\n",
       "      <td>1.159864</td>\n",
       "      <td>7264</td>\n",
       "      <td>#9edae5</td>\n",
       "      <td>10</td>\n",
       "      <td>Printing presses</td>\n",
       "    </tr>\n",
       "  </tbody>\n",
       "</table>\n",
       "</div>"
      ],
      "text/plain": [
       "   year iso3 sitc4  exports  quality_exp     imports  quality_imp  code  \\\n",
       "0  1984  DOM  0011      NaN          NaN    52.08442     0.702034  0011   \n",
       "1  1984  JOR  7264      NaN          NaN   882.23070     1.248837  7264   \n",
       "2  1984  MLT  7264  33.6984       1.1567   338.30020     0.937385  7264   \n",
       "3  1984  BGD  7264      NaN          NaN  1146.31800     0.902277  7264   \n",
       "4  1984  GHA  7264      NaN          NaN    31.46410     1.159864  7264   \n",
       "\n",
       "     color  community_id              name  \n",
       "0  #ffe999            81      Live bovines  \n",
       "1  #9edae5            10  Printing presses  \n",
       "2  #9edae5            10  Printing presses  \n",
       "3  #9edae5            10  Printing presses  \n",
       "4  #9edae5            10  Printing presses  "
      ]
     },
     "execution_count": 4,
     "metadata": {},
     "output_type": "execute_result"
    }
   ],
   "source": [
    "import sys\n",
    "sys.path.append(\"./modules\")\n",
    "import vistk\n",
    "import pandas as pd\n",
    "import json\n",
    "import numpy as np\n",
    "\n",
    "# Loading metadata files\n",
    "metadata = pd.read_json('sourceData/sitc_metadata_int_atlas.csv')\n",
    "metadata.code = metadata.code.astype(int).astype(str).str.zfill(4)\n",
    "data = pd.read_csv('sourceData/master_data.csv', \n",
    "                 usecols=[\"year\", \"iso3\", \"sitc4\", \"imports\", \"exports\", \"quality_imp\", \"quality_exp\"]).sort(columns='year')\n",
    "data.sitc4 = data.sitc4.astype(int).astype(str).str.zfill(4)\n",
    "df = pd.merge(data, metadata, how='left', left_on='sitc4', right_on='code')\n",
    "df.head()"
   ]
  },
  {
   "cell_type": "markdown",
   "metadata": {},
   "source": [
    "## Sri Lanka and the World:  Quality of exports"
   ]
  },
  {
   "cell_type": "markdown",
   "metadata": {},
   "source": [
    "\n",
    "### Sri Lanka Quality Ladder\n",
    "TODO: TWO CATERPLOTS\n",
    "* Compare two years side by side\n",
    "* Widgets to change years\n",
    "* Highight Sri-Lanka in both charts\n",
    "* Select by countries\n",
    "* Titles\n",
    "* Legends"
   ]
  },
  {
   "cell_type": "code",
   "execution_count": null,
   "metadata": {
    "collapsed": true
   },
   "outputs": [],
   "source": []
  },
  {
   "cell_type": "markdown",
   "metadata": {},
   "source": [
    "Here we are looking at the sector-level quality of exports for the world and for Sri Lanka (in red). We can see that there is some dispersion on quality levels for Sri Lanka, although an improvement form 1970 to 2010 is evident. Also, no need to worry for recommendations on “miscellaneous” since there are no exports reported under “other” for Sri Lanka.\n",
    "\n",
    "An important note here is that this dataset (for which we did most our quality work) is with a trade data which is revision 1 trade data (and not rev. 2 like we use for the atlas).\n"
   ]
  },
  {
   "cell_type": "markdown",
   "metadata": {},
   "source": [
    "## Sri Lanka and the World over time:  Quality of exports"
   ]
  },
  {
   "cell_type": "markdown",
   "metadata": {},
   "source": [
    "Here we see how Sri Lanka’s country-level quality of exports compare to its neighbors. They are coming on top of the entire distribution by 2010. One caveat is that you “national-level” quality of exports is a weighted average of what you already export, so countries with small export baskets can have misleading indicators on quality.\n",
    "\n",
    "Graph N16: Quality distribution by country through time: South Asia\n"
   ]
  },
  {
   "cell_type": "markdown",
   "metadata": {},
   "source": [
    "### Quality Distribution by country through time: East Asia & The Pacific\n",
    "\n",
    "TODO: TIME PLOT\n",
    "* X-axis is a time period\n",
    "* Y-axis is quality\n",
    "* Select data for south-asia\n",
    "* Highight Srki-lanka\n",
    "* Title\n",
    "* Legend"
   ]
  },
  {
   "cell_type": "markdown",
   "metadata": {},
   "source": [
    "### Quality Distribution by country through time: MIddle-Income Countries\n",
    "\n",
    "TODO: TIME PLOT\n",
    "* Filter countries by income level"
   ]
  },
  {
   "cell_type": "markdown",
   "metadata": {},
   "source": [
    "### Quality Distribution by country through time: RCA>1 in 8414\n",
    "\n",
    "TODO: TIME PLOT\n",
    "* 8414 is \"Clothing and accessories, knitted or crocheted\""
   ]
  },
  {
   "cell_type": "markdown",
   "metadata": {},
   "source": [
    "## Inside Sri Lanka: Quality Ladder by sectors\n",
    "\n",
    "### Sri Lanka Quality Ladder\n",
    "\n",
    "TODO: CATERPLOT\n",
    "* \n",
    "\n",
    "TODO: CATERPLOT with highlighted products"
   ]
  },
  {
   "cell_type": "markdown",
   "metadata": {},
   "source": [
    "## Sri Lanka in time: how has quality of key sectors evolved?"
   ]
  },
  {
   "cell_type": "markdown",
   "metadata": {},
   "source": [
    "### Top-10 Products Quality in Sri Lanka"
   ]
  },
  {
   "cell_type": "code",
   "execution_count": 11,
   "metadata": {
    "collapsed": false
   },
   "outputs": [
    {
     "data": {
      "text/html": [
       "<table border=\"1\" cellpadding=\"3\" cellspacing=\"0\"  style=\"border:1px solid black;border-collapse:collapse;\"><tr><td  style=\"background-color:LightGray;\"><b>Description</b></td><td  style=\"background-color:LightGray;\"><b>name</b></td></tr><tr><td  style=\"background-color:yellow;\">0011</td><td  style=\"background-color:yellow;\">Live&nbspbovines</td></tr><tr><td  style=\"background-color:AliceBlue;\">7264</td><td  style=\"background-color:AliceBlue;\">Printing&nbsppresses</td></tr><tr><td  style=\"background-color:Ivory;\">7264</td><td  style=\"background-color:Ivory;\">Printing&nbsppresses</td></tr><tr><td  style=\"background-color:AliceBlue;\">7264</td><td  style=\"background-color:AliceBlue;\">Printing&nbsppresses</td></tr><tr><td  style=\"background-color:Ivory;\">7264</td><td  style=\"background-color:Ivory;\">Printing&nbsppresses</td></tr><tr><td  style=\"background-color:AliceBlue;\">7264</td><td  style=\"background-color:AliceBlue;\">Printing&nbsppresses</td></tr><tr><td  style=\"background-color:Ivory;\">7264</td><td  style=\"background-color:Ivory;\">Printing&nbsppresses</td></tr><tr><td  style=\"background-color:AliceBlue;\">7264</td><td  style=\"background-color:AliceBlue;\">Printing&nbsppresses</td></tr><tr><td  style=\"background-color:Ivory;\">7264</td><td  style=\"background-color:Ivory;\">Printing&nbsppresses</td></tr><tr><td  style=\"background-color:AliceBlue;\">7264</td><td  style=\"background-color:AliceBlue;\">Printing&nbsppresses</td></tr></table>"
      ],
      "text/plain": [
       "<ipy_table.IpyTable at 0x13e6a30b8>"
      ]
     },
     "execution_count": 11,
     "metadata": {},
     "output_type": "execute_result"
    }
   ],
   "source": [
    "# Generate a pretty table\n",
    "from ipy_table import *\n",
    "import numpy as np\n",
    "\n",
    "df_table = df[(df['year'] == 1984)].head(10).reset_index(drop=True).reset_index()\n",
    "df_table = df_table[['sitc4', 'name']]\n",
    "table = df_table.as_matrix()\n",
    "\n",
    "header = np.asarray(df_table.columns)\n",
    "header[0] = 'Code'\n",
    "header[0] = 'Description'\n",
    "# df.rename(columns=lambda x: x[1:], inplace=True)\n",
    "table_with_header = np.concatenate(([header], table))\n",
    "\n",
    "# Basic themes\n",
    "# Detais http://nbviewer.ipython.org/github/epmoyer/ipy_table/blob/master/ipy_table-Introduction.ipynb\n",
    "make_table(table_with_header)\n",
    "apply_theme('basic')\n",
    "# Only show the top-10\n",
    "set_row_style(1, color='yellow')"
   ]
  },
  {
   "cell_type": "markdown",
   "metadata": {},
   "source": [
    "### Full list of \"key\" sectors"
   ]
  }
 ],
 "metadata": {
  "kernelspec": {
   "display_name": "Python 3",
   "language": "python",
   "name": "python3"
  },
  "language_info": {
   "codemirror_mode": {
    "name": "ipython",
    "version": 3
   },
   "file_extension": ".py",
   "mimetype": "text/x-python",
   "name": "python",
   "nbconvert_exporter": "python",
   "pygments_lexer": "ipython3",
   "version": "3.4.3"
  }
 },
 "nbformat": 4,
 "nbformat_minor": 0
}
